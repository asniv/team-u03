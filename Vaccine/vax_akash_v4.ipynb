{
 "cells": [
  {
   "cell_type": "code",
   "execution_count": 7,
   "id": "94dfc3b7",
   "metadata": {},
   "outputs": [],
   "source": [
    "import pandas as pd\n",
    "import matplotlib.pyplot as plt\n",
    "import numpy as np"
   ]
  },
  {
   "cell_type": "code",
   "execution_count": 8,
   "id": "9c83e170",
   "metadata": {},
   "outputs": [],
   "source": [
    "def df_cleaner(df_orig):\n",
    "\n",
    "    df = df_orig.copy()\n",
    "    \n",
    "    df.sort_values(by=['location', 'date'])\n",
    "    df.loc[:, 'datetime'] = pd.to_datetime(df.loc[:, 'date'])\n",
    "    df = df.set_index(['location', 'datetime'], drop=False)\n",
    "    df.rename_axis(['location_index', 'datetime_index'], axis='index', inplace=True)\n",
    "    # owid_vpop_USA.asfreq(freq='D')\n",
    "    \n",
    "    # df.fillna(method='ffill', inplace=True)\n",
    "    # df.dropna(inplace=True)\n",
    "    \n",
    "    return df"
   ]
  },
  {
   "cell_type": "code",
   "execution_count": 9,
   "id": "4eb672e0",
   "metadata": {},
   "outputs": [],
   "source": [
    "df_owid_orig = pd.read_csv('https://raw.githubusercontent.com/owid/covid-19-data/master/public/data/vaccinations/us_state_vaccinations.csv')"
   ]
  },
  {
   "cell_type": "code",
   "execution_count": 10,
   "id": "a1669169",
   "metadata": {},
   "outputs": [],
   "source": [
    "df_owid = df_owid_orig.copy()\n",
    "\n",
    "df_owid.sort_values(by=['location', 'date'])\n",
    "df_owid.loc[:, 'datetime'] = pd.to_datetime(df_owid.loc[:, 'date'])\n",
    "df_owid = df_owid.set_index(['location', 'datetime'], drop=False)\n",
    "df_owid.rename_axis(['location_index', 'datetime_index'], axis='index', inplace=True)\n",
    "# owid_vpop_USA.asfreq(freq='D')\n",
    "\n",
    "# df.fillna(method='ffill', inplace=True)\n",
    "# df.dropna(inplace=True)"
   ]
  },
  {
   "cell_type": "code",
   "execution_count": 11,
   "id": "0fef3079",
   "metadata": {},
   "outputs": [],
   "source": [
    "def getStateData(df, ListofStates, dates):\n",
    "    for Stateidx, State in enumerate(ListofStates):\n",
    "        TrainData = df.loc[State][dates[0]:dates[1]]\n",
    "        TestData = df.loc[State][dates[2]:dates[3]]"
   ]
  },
  {
   "cell_type": "code",
   "execution_count": 12,
   "id": "a4b9e286",
   "metadata": {},
   "outputs": [
    {
     "ename": "SyntaxError",
     "evalue": "invalid syntax (<ipython-input-12-c56dfebd2cc4>, line 1)",
     "output_type": "error",
     "traceback": [
      "\u001b[1;36m  File \u001b[1;32m\"<ipython-input-12-c56dfebd2cc4>\"\u001b[1;36m, line \u001b[1;32m1\u001b[0m\n\u001b[1;33m    def train_test_dates:\u001b[0m\n\u001b[1;37m                        ^\u001b[0m\n\u001b[1;31mSyntaxError\u001b[0m\u001b[1;31m:\u001b[0m invalid syntax\n"
     ]
    }
   ],
   "source": [
    "def train_test_dates:\n",
    "\n",
    "    print('Please insert dates in \"YYYY-MM-DD\" format:\\ne.g. \"January 4, 2005\" is \"2005-01-04\"')\n",
    "\n",
    "    dates = [[]]*4\n",
    "    date_input_str = ['Train data from:',\n",
    "                      'Train data to  :',\n",
    "                      'Test  data from:',\n",
    "                      'Test  data to  :']\n",
    "\n",
    "    for idx, val in enumerate(train_test_dates):\n",
    "        while True:\n",
    "            try:\n",
    "                train_test_dates[idx] = datetime.datetime.strptime(input(date_input_str[idx]), '%Y-%m-%d')\n",
    "            except ValueError:\n",
    "                print('Please provide a date in \"YYYY-MM-DD\" format')\n",
    "            else:\n",
    "                break\n",
    "    \n",
    "    return dates"
   ]
  },
  {
   "cell_type": "code",
   "execution_count": 13,
   "id": "7bb124f9",
   "metadata": {},
   "outputs": [
    {
     "name": "stdin",
     "output_type": "stream",
     "text": [
      "Please enter a state:  dat\n"
     ]
    },
    {
     "name": "stdout",
     "output_type": "stream",
     "text": [
      "Please provide a date in \"YYYY-MM-DD\" format\n"
     ]
    },
    {
     "name": "stdin",
     "output_type": "stream",
     "text": [
      "Please enter a state:  catty\n"
     ]
    },
    {
     "name": "stdout",
     "output_type": "stream",
     "text": [
      "Please provide a date in \"YYYY-MM-DD\" format\n"
     ]
    },
    {
     "name": "stdin",
     "output_type": "stream",
     "text": [
      "Please enter a state:  texas\n"
     ]
    },
    {
     "name": "stdout",
     "output_type": "stream",
     "text": [
      "Please provide a date in \"YYYY-MM-DD\" format\n"
     ]
    },
    {
     "name": "stdin",
     "output_type": "stream",
     "text": [
      "Please enter a state:  done\n"
     ]
    },
    {
     "name": "stdout",
     "output_type": "stream",
     "text": [
      "Please provide a date in \"YYYY-MM-DD\" format\n"
     ]
    },
    {
     "ename": "NameError",
     "evalue": "name 'ListofStates' is not defined",
     "output_type": "error",
     "traceback": [
      "\u001b[1;31m---------------------------------------------------------------------------\u001b[0m",
      "\u001b[1;31mNameError\u001b[0m                                 Traceback (most recent call last)",
      "\u001b[1;32m<ipython-input-13-dd59c6b76887>\u001b[0m in \u001b[0;36m<module>\u001b[1;34m\u001b[0m\n\u001b[0;32m     10\u001b[0m             \u001b[1;32mbreak\u001b[0m\u001b[1;33m\u001b[0m\u001b[1;33m\u001b[0m\u001b[0m\n\u001b[0;32m     11\u001b[0m     \u001b[1;32mif\u001b[0m \u001b[0mstate\u001b[0m \u001b[1;33m==\u001b[0m \u001b[1;34m'done'\u001b[0m\u001b[1;33m:\u001b[0m\u001b[1;33m\u001b[0m\u001b[1;33m\u001b[0m\u001b[0m\n\u001b[1;32m---> 12\u001b[1;33m         \u001b[1;32mif\u001b[0m \u001b[0mlen\u001b[0m\u001b[1;33m(\u001b[0m\u001b[0mListofStates\u001b[0m\u001b[1;33m)\u001b[0m \u001b[1;33m<\u001b[0m \u001b[1;36m1\u001b[0m\u001b[1;33m:\u001b[0m\u001b[1;33m\u001b[0m\u001b[1;33m\u001b[0m\u001b[0m\n\u001b[0m\u001b[0;32m     13\u001b[0m             \u001b[0mprint\u001b[0m\u001b[1;33m(\u001b[0m\u001b[1;34m'You have not yet selected a state.'\u001b[0m\u001b[1;33m)\u001b[0m\u001b[1;33m\u001b[0m\u001b[1;33m\u001b[0m\u001b[0m\n",
      "\u001b[1;31mNameError\u001b[0m: name 'ListofStates' is not defined"
     ]
    }
   ],
   "source": [
    "while True:\n",
    "    try:\n",
    "        state = input('Please enter a state: ')\n",
    "        df_owid.loc[state]\n",
    "    except KeyError:\n",
    "        print('Please provide a date in \"YYYY-MM-DD\" format')\n",
    "    else:\n",
    "        if state in df_owid.index.levels[0]:\n",
    "            ListofStates.append(state)\n",
    "            break\n",
    "    if state == 'done':\n",
    "        if len(ListofStates) < 1:\n",
    "            print('You have not yet selected a state.')"
   ]
  },
  {
   "cell_type": "code",
   "execution_count": 14,
   "id": "7bcb2541",
   "metadata": {},
   "outputs": [
    {
     "name": "stdin",
     "output_type": "stream",
     "text": [
      "Please enter a state:  d\n"
     ]
    },
    {
     "name": "stdout",
     "output_type": "stream",
     "text": [
      "\"d\" is not a valid state. Please enter a valid state.\n"
     ]
    },
    {
     "name": "stdin",
     "output_type": "stream",
     "text": [
      "Please enter a state:  qq\n"
     ]
    },
    {
     "name": "stdout",
     "output_type": "stream",
     "text": [
      "\"qq\" is not a valid state. Please enter a valid state.\n"
     ]
    },
    {
     "name": "stdin",
     "output_type": "stream",
     "text": [
      "Please enter a state:  ha\n"
     ]
    },
    {
     "name": "stdout",
     "output_type": "stream",
     "text": [
      "\"ha\" is not a valid state. Please enter a valid state.\n"
     ]
    },
    {
     "name": "stdin",
     "output_type": "stream",
     "text": [
      "Please enter a state:  texas\n",
      "Please enter a state:  Washington\n"
     ]
    },
    {
     "name": "stdout",
     "output_type": "stream",
     "text": [
      "\"Washington\" is not a valid state. Please enter a valid state.\n"
     ]
    },
    {
     "name": "stdin",
     "output_type": "stream",
     "text": [
      "Please enter a state:  done\n"
     ]
    },
    {
     "name": "stdout",
     "output_type": "stream",
     "text": [
      "\n",
      "Done. List of States: texas\n"
     ]
    }
   ],
   "source": [
    "ListofStates = []\n",
    "state = ''\n",
    "AllStates_lower = [ df_owid.index.levels[0][state_idx].lower() for state_idx, state in enumerate(df_owid.index.levels[0]) ]\n",
    "\n",
    "while state != 'done':\n",
    "    state = input('Please enter a state: ')\n",
    "    if state in AllStates_lower:\n",
    "        ListofStates.append(state)\n",
    "    elif state == 'done':\n",
    "        if len(ListofStates) < 1:\n",
    "            print('You have not selected a state yet.')\n",
    "        else:\n",
    "            print('\\nDone. List of States:', ', '.join(ListofStates))\n",
    "            break\n",
    "    else:\n",
    "        print('\"{}\" is not a valid state. Please enter a valid state.'.format(state))"
   ]
  },
  {
   "cell_type": "code",
   "execution_count": 15,
   "id": "923e97f9",
   "metadata": {},
   "outputs": [
    {
     "data": {
      "text/plain": [
       "['texas']"
      ]
     },
     "execution_count": 15,
     "metadata": {},
     "output_type": "execute_result"
    }
   ],
   "source": [
    "ListofStates"
   ]
  },
  {
   "cell_type": "code",
   "execution_count": null,
   "id": "d328e74d",
   "metadata": {},
   "outputs": [],
   "source": [
    "'texas'.upper()"
   ]
  },
  {
   "cell_type": "code",
   "execution_count": null,
   "id": "0232878b",
   "metadata": {},
   "outputs": [],
   "source": [
    "AllStates_lower.index('Texas')"
   ]
  },
  {
   "cell_type": "code",
   "execution_count": null,
   "id": "cc84d23d",
   "metadata": {},
   "outputs": [],
   "source": [
    "df_owid.index.levels[0][state].lower"
   ]
  },
  {
   "cell_type": "code",
   "execution_count": 661,
   "id": "247555b4",
   "metadata": {},
   "outputs": [
    {
     "data": {
      "text/plain": [
       "Index(['Alabama', 'Alaska', 'American Samoa', 'Arizona', 'Arkansas',\n",
       "       'Bureau of Prisons', 'California', 'Colorado', 'Connecticut',\n",
       "       'Delaware', 'Dept of Defense', 'District of Columbia',\n",
       "       'Federated States of Micronesia', 'Florida', 'Georgia', 'Guam',\n",
       "       'Hawaii', 'Idaho', 'Illinois', 'Indian Health Svc', 'Indiana', 'Iowa',\n",
       "       'Kansas', 'Kentucky', 'Long Term Care', 'Louisiana', 'Maine',\n",
       "       'Marshall Islands', 'Maryland', 'Massachusetts', 'Michigan',\n",
       "       'Minnesota', 'Mississippi', 'Missouri', 'Montana', 'Nebraska', 'Nevada',\n",
       "       'New Hampshire', 'New Jersey', 'New Mexico', 'New York State',\n",
       "       'North Carolina', 'North Dakota', 'Northern Mariana Islands', 'Ohio',\n",
       "       'Oklahoma', 'Oregon', 'Pennsylvania', 'Puerto Rico',\n",
       "       'Republic of Palau', 'Rhode Island', 'South Carolina', 'South Dakota',\n",
       "       'Tennessee', 'Texas', 'United States', 'Utah', 'Vermont',\n",
       "       'Veterans Health', 'Virgin Islands', 'Virginia', 'Washington',\n",
       "       'West Virginia', 'Wisconsin', 'Wyoming'],\n",
       "      dtype='object', name='location_index')"
      ]
     },
     "execution_count": 661,
     "metadata": {},
     "output_type": "execute_result"
    }
   ],
   "source": [
    "df_owid.index.levels[0]"
   ]
  },
  {
   "cell_type": "code",
   "execution_count": 654,
   "id": "7cd34217",
   "metadata": {},
   "outputs": [
    {
     "data": {
      "text/plain": [
       "'done'"
      ]
     },
     "execution_count": 654,
     "metadata": {},
     "output_type": "execute_result"
    }
   ],
   "source": [
    "state"
   ]
  },
  {
   "cell_type": "code",
   "execution_count": 648,
   "id": "5d12878c",
   "metadata": {},
   "outputs": [],
   "source": [
    "state = 3"
   ]
  },
  {
   "cell_type": "code",
   "execution_count": 615,
   "id": "8db0399e",
   "metadata": {},
   "outputs": [
    {
     "data": {
      "text/plain": [
       "('Alabama', Timestamp('2021-01-12 00:00:00'))"
      ]
     },
     "execution_count": 615,
     "metadata": {},
     "output_type": "execute_result"
    }
   ],
   "source": [
    "df_owid.index[0]"
   ]
  },
  {
   "cell_type": "code",
   "execution_count": null,
   "id": "a78478f2",
   "metadata": {},
   "outputs": [],
   "source": [
    "def split_date_range(X, y, dates):\n",
    "    X_train = (df.index.levels[1] - df.index.levels[1][0]).days.values.reshape(-1, 1)"
   ]
  },
  {
   "cell_type": "code",
   "execution_count": 88,
   "id": "ed128c5b",
   "metadata": {},
   "outputs": [
    {
     "ename": "TypeError",
     "evalue": "Index(...) must be called with a collection of some kind, 'people_vaccinated_per_hundred' was passed",
     "output_type": "error",
     "traceback": [
      "\u001b[1;31m---------------------------------------------------------------------------\u001b[0m",
      "\u001b[1;31mTypeError\u001b[0m                                 Traceback (most recent call last)",
      "\u001b[1;32m<ipython-input-88-d603ec1d391c>\u001b[0m in \u001b[0;36m<module>\u001b[1;34m\u001b[0m\n\u001b[1;32m----> 1\u001b[1;33m \u001b[0mdf_state\u001b[0m \u001b[1;33m=\u001b[0m \u001b[0mdf_owid\u001b[0m\u001b[1;33m.\u001b[0m\u001b[0mloc\u001b[0m\u001b[1;33m[\u001b[0m\u001b[1;34m'Alabama'\u001b[0m\u001b[1;33m]\u001b[0m\u001b[1;33m.\u001b[0m\u001b[0mdropna\u001b[0m\u001b[1;33m(\u001b[0m\u001b[0msubset\u001b[0m\u001b[1;33m=\u001b[0m\u001b[1;34m'people_vaccinated_per_hundred'\u001b[0m\u001b[1;33m)\u001b[0m\u001b[1;33m\u001b[0m\u001b[1;33m\u001b[0m\u001b[0m\n\u001b[0m",
      "\u001b[1;32m~\\anaconda3\\lib\\site-packages\\pandas\\core\\frame.py\u001b[0m in \u001b[0;36mdropna\u001b[1;34m(self, axis, how, thresh, subset, inplace)\u001b[0m\n\u001b[0;32m   5154\u001b[0m         \u001b[1;32mif\u001b[0m \u001b[0msubset\u001b[0m \u001b[1;32mis\u001b[0m \u001b[1;32mnot\u001b[0m \u001b[1;32mNone\u001b[0m\u001b[1;33m:\u001b[0m\u001b[1;33m\u001b[0m\u001b[1;33m\u001b[0m\u001b[0m\n\u001b[0;32m   5155\u001b[0m             \u001b[0max\u001b[0m \u001b[1;33m=\u001b[0m \u001b[0mself\u001b[0m\u001b[1;33m.\u001b[0m\u001b[0m_get_axis\u001b[0m\u001b[1;33m(\u001b[0m\u001b[0magg_axis\u001b[0m\u001b[1;33m)\u001b[0m\u001b[1;33m\u001b[0m\u001b[1;33m\u001b[0m\u001b[0m\n\u001b[1;32m-> 5156\u001b[1;33m             \u001b[0mindices\u001b[0m \u001b[1;33m=\u001b[0m \u001b[0max\u001b[0m\u001b[1;33m.\u001b[0m\u001b[0mget_indexer_for\u001b[0m\u001b[1;33m(\u001b[0m\u001b[0msubset\u001b[0m\u001b[1;33m)\u001b[0m\u001b[1;33m\u001b[0m\u001b[1;33m\u001b[0m\u001b[0m\n\u001b[0m\u001b[0;32m   5157\u001b[0m             \u001b[0mcheck\u001b[0m \u001b[1;33m=\u001b[0m \u001b[0mindices\u001b[0m \u001b[1;33m==\u001b[0m \u001b[1;33m-\u001b[0m\u001b[1;36m1\u001b[0m\u001b[1;33m\u001b[0m\u001b[1;33m\u001b[0m\u001b[0m\n\u001b[0;32m   5158\u001b[0m             \u001b[1;32mif\u001b[0m \u001b[0mcheck\u001b[0m\u001b[1;33m.\u001b[0m\u001b[0many\u001b[0m\u001b[1;33m(\u001b[0m\u001b[1;33m)\u001b[0m\u001b[1;33m:\u001b[0m\u001b[1;33m\u001b[0m\u001b[1;33m\u001b[0m\u001b[0m\n",
      "\u001b[1;32m~\\anaconda3\\lib\\site-packages\\pandas\\core\\indexes\\base.py\u001b[0m in \u001b[0;36mget_indexer_for\u001b[1;34m(self, target, **kwargs)\u001b[0m\n\u001b[0;32m   4958\u001b[0m         \"\"\"\n\u001b[0;32m   4959\u001b[0m         \u001b[1;32mif\u001b[0m \u001b[0mself\u001b[0m\u001b[1;33m.\u001b[0m\u001b[0m_index_as_unique\u001b[0m\u001b[1;33m:\u001b[0m\u001b[1;33m\u001b[0m\u001b[1;33m\u001b[0m\u001b[0m\n\u001b[1;32m-> 4960\u001b[1;33m             \u001b[1;32mreturn\u001b[0m \u001b[0mself\u001b[0m\u001b[1;33m.\u001b[0m\u001b[0mget_indexer\u001b[0m\u001b[1;33m(\u001b[0m\u001b[0mtarget\u001b[0m\u001b[1;33m,\u001b[0m \u001b[1;33m**\u001b[0m\u001b[0mkwargs\u001b[0m\u001b[1;33m)\u001b[0m\u001b[1;33m\u001b[0m\u001b[1;33m\u001b[0m\u001b[0m\n\u001b[0m\u001b[0;32m   4961\u001b[0m         \u001b[0mindexer\u001b[0m\u001b[1;33m,\u001b[0m \u001b[0m_\u001b[0m \u001b[1;33m=\u001b[0m \u001b[0mself\u001b[0m\u001b[1;33m.\u001b[0m\u001b[0mget_indexer_non_unique\u001b[0m\u001b[1;33m(\u001b[0m\u001b[0mtarget\u001b[0m\u001b[1;33m)\u001b[0m\u001b[1;33m\u001b[0m\u001b[1;33m\u001b[0m\u001b[0m\n\u001b[0;32m   4962\u001b[0m         \u001b[1;32mreturn\u001b[0m \u001b[0mindexer\u001b[0m\u001b[1;33m\u001b[0m\u001b[1;33m\u001b[0m\u001b[0m\n",
      "\u001b[1;32m~\\anaconda3\\lib\\site-packages\\pandas\\core\\indexes\\base.py\u001b[0m in \u001b[0;36mget_indexer\u001b[1;34m(self, target, method, limit, tolerance)\u001b[0m\n\u001b[0;32m   3145\u001b[0m     ) -> np.ndarray:\n\u001b[0;32m   3146\u001b[0m         \u001b[0mmethod\u001b[0m \u001b[1;33m=\u001b[0m \u001b[0mmissing\u001b[0m\u001b[1;33m.\u001b[0m\u001b[0mclean_reindex_fill_method\u001b[0m\u001b[1;33m(\u001b[0m\u001b[0mmethod\u001b[0m\u001b[1;33m)\u001b[0m\u001b[1;33m\u001b[0m\u001b[1;33m\u001b[0m\u001b[0m\n\u001b[1;32m-> 3147\u001b[1;33m         \u001b[0mtarget\u001b[0m \u001b[1;33m=\u001b[0m \u001b[0mensure_index\u001b[0m\u001b[1;33m(\u001b[0m\u001b[0mtarget\u001b[0m\u001b[1;33m)\u001b[0m\u001b[1;33m\u001b[0m\u001b[1;33m\u001b[0m\u001b[0m\n\u001b[0m\u001b[0;32m   3148\u001b[0m         \u001b[1;32mif\u001b[0m \u001b[0mtolerance\u001b[0m \u001b[1;32mis\u001b[0m \u001b[1;32mnot\u001b[0m \u001b[1;32mNone\u001b[0m\u001b[1;33m:\u001b[0m\u001b[1;33m\u001b[0m\u001b[1;33m\u001b[0m\u001b[0m\n\u001b[0;32m   3149\u001b[0m             \u001b[0mtolerance\u001b[0m \u001b[1;33m=\u001b[0m \u001b[0mself\u001b[0m\u001b[1;33m.\u001b[0m\u001b[0m_convert_tolerance\u001b[0m\u001b[1;33m(\u001b[0m\u001b[0mtolerance\u001b[0m\u001b[1;33m,\u001b[0m \u001b[0mtarget\u001b[0m\u001b[1;33m)\u001b[0m\u001b[1;33m\u001b[0m\u001b[1;33m\u001b[0m\u001b[0m\n",
      "\u001b[1;32m~\\anaconda3\\lib\\site-packages\\pandas\\core\\indexes\\base.py\u001b[0m in \u001b[0;36mensure_index\u001b[1;34m(index_like, copy)\u001b[0m\n\u001b[0;32m   5915\u001b[0m             \u001b[0mindex_like\u001b[0m \u001b[1;33m=\u001b[0m \u001b[0mcopy_func\u001b[0m\u001b[1;33m(\u001b[0m\u001b[0mindex_like\u001b[0m\u001b[1;33m)\u001b[0m\u001b[1;33m\u001b[0m\u001b[1;33m\u001b[0m\u001b[0m\n\u001b[0;32m   5916\u001b[0m \u001b[1;33m\u001b[0m\u001b[0m\n\u001b[1;32m-> 5917\u001b[1;33m     \u001b[1;32mreturn\u001b[0m \u001b[0mIndex\u001b[0m\u001b[1;33m(\u001b[0m\u001b[0mindex_like\u001b[0m\u001b[1;33m)\u001b[0m\u001b[1;33m\u001b[0m\u001b[1;33m\u001b[0m\u001b[0m\n\u001b[0m\u001b[0;32m   5918\u001b[0m \u001b[1;33m\u001b[0m\u001b[0m\n\u001b[0;32m   5919\u001b[0m \u001b[1;33m\u001b[0m\u001b[0m\n",
      "\u001b[1;32m~\\anaconda3\\lib\\site-packages\\pandas\\core\\indexes\\base.py\u001b[0m in \u001b[0;36m__new__\u001b[1;34m(cls, data, dtype, copy, name, tupleize_cols, **kwargs)\u001b[0m\n\u001b[0;32m    370\u001b[0m \u001b[1;33m\u001b[0m\u001b[0m\n\u001b[0;32m    371\u001b[0m         \u001b[1;32melif\u001b[0m \u001b[0mdata\u001b[0m \u001b[1;32mis\u001b[0m \u001b[1;32mNone\u001b[0m \u001b[1;32mor\u001b[0m \u001b[0mis_scalar\u001b[0m\u001b[1;33m(\u001b[0m\u001b[0mdata\u001b[0m\u001b[1;33m)\u001b[0m\u001b[1;33m:\u001b[0m\u001b[1;33m\u001b[0m\u001b[1;33m\u001b[0m\u001b[0m\n\u001b[1;32m--> 372\u001b[1;33m             \u001b[1;32mraise\u001b[0m \u001b[0mcls\u001b[0m\u001b[1;33m.\u001b[0m\u001b[0m_scalar_data_error\u001b[0m\u001b[1;33m(\u001b[0m\u001b[0mdata\u001b[0m\u001b[1;33m)\u001b[0m\u001b[1;33m\u001b[0m\u001b[1;33m\u001b[0m\u001b[0m\n\u001b[0m\u001b[0;32m    373\u001b[0m         \u001b[1;32melif\u001b[0m \u001b[0mhasattr\u001b[0m\u001b[1;33m(\u001b[0m\u001b[0mdata\u001b[0m\u001b[1;33m,\u001b[0m \u001b[1;34m\"__array__\"\u001b[0m\u001b[1;33m)\u001b[0m\u001b[1;33m:\u001b[0m\u001b[1;33m\u001b[0m\u001b[1;33m\u001b[0m\u001b[0m\n\u001b[0;32m    374\u001b[0m             \u001b[1;32mreturn\u001b[0m \u001b[0mIndex\u001b[0m\u001b[1;33m(\u001b[0m\u001b[0mnp\u001b[0m\u001b[1;33m.\u001b[0m\u001b[0masarray\u001b[0m\u001b[1;33m(\u001b[0m\u001b[0mdata\u001b[0m\u001b[1;33m)\u001b[0m\u001b[1;33m,\u001b[0m \u001b[0mdtype\u001b[0m\u001b[1;33m=\u001b[0m\u001b[0mdtype\u001b[0m\u001b[1;33m,\u001b[0m \u001b[0mcopy\u001b[0m\u001b[1;33m=\u001b[0m\u001b[0mcopy\u001b[0m\u001b[1;33m,\u001b[0m \u001b[0mname\u001b[0m\u001b[1;33m=\u001b[0m\u001b[0mname\u001b[0m\u001b[1;33m,\u001b[0m \u001b[1;33m**\u001b[0m\u001b[0mkwargs\u001b[0m\u001b[1;33m)\u001b[0m\u001b[1;33m\u001b[0m\u001b[1;33m\u001b[0m\u001b[0m\n",
      "\u001b[1;31mTypeError\u001b[0m: Index(...) must be called with a collection of some kind, 'people_vaccinated_per_hundred' was passed"
     ]
    }
   ],
   "source": [
    "df_state = df_owid.loc['Alabama'].dropna(subset='people_vaccinated_per_hundred')"
   ]
  },
  {
   "cell_type": "code",
   "execution_count": 202,
   "id": "364100c5",
   "metadata": {},
   "outputs": [],
   "source": [
    "# y = \n",
    "X_ind = df_state.index"
   ]
  },
  {
   "cell_type": "code",
   "execution_count": 303,
   "id": "38143699",
   "metadata": {},
   "outputs": [],
   "source": [
    "from sklearn.linear_model import LinearRegression\n",
    "\n",
    "def getLr(X_trn, X_tst, y_trn, y_tst):\n",
    "    mdl = LinearRegression()\n",
    "    mdl.fit(X_trn, y_trn)\n",
    "    y_prd = mdl.predict(X_tst)\n",
    "    y_prd = pd.Series(y_prd, index=y_tst.index)\n",
    "    \n",
    "    return y_prd, mdl"
   ]
  },
  {
   "cell_type": "code",
   "execution_count": null,
   "id": "af3d4b78",
   "metadata": {},
   "outputs": [],
   "source": [
    "from sklearn.ensemble import RandomForestRegressor\n",
    "\n",
    "def getRf(X_trn, X_tst, y_trn, y_tst):\n",
    "    mdl = RandomForestRegressor()\n",
    "    mdl.fit(X_trn, y_trn)\n",
    "    y_prd = mdl.predict(X_tst)\n",
    "    y_prd = pd.Series(y_prd, index=y_tst.index)\n",
    "    \n",
    "    return y_prd"
   ]
  },
  {
   "cell_type": "code",
   "execution_count": 230,
   "id": "dd471711",
   "metadata": {},
   "outputs": [
    {
     "name": "stderr",
     "output_type": "stream",
     "text": [
      "<ipython-input-230-3985a5529523>:2: SettingWithCopyWarning: \n",
      "A value is trying to be set on a copy of a slice from a DataFrame.\n",
      "Try using .loc[row_indexer,col_indexer] = value instead\n",
      "\n",
      "See the caveats in the documentation: https://pandas.pydata.org/pandas-docs/stable/user_guide/indexing.html#returning-a-view-versus-a-copy\n",
      "  df_state['days_since'] = (df_state['datetime'] - df_state['datetime'].iloc[0]).dt.days\n"
     ]
    }
   ],
   "source": [
    "df_state = df_owid.loc['Alabama']\n",
    "df_state['days_since'] = (df_state['datetime'] - df_state['datetime'].iloc[0]).dt.days\n",
    "df_state = df_state.dropna(subset=['people_vaccinated_per_hundred']).dropna()"
   ]
  },
  {
   "cell_type": "code",
   "execution_count": 453,
   "id": "ed71d542",
   "metadata": {},
   "outputs": [],
   "source": [
    "Y = df_state['people_vaccinated_per_hundred', 'share_doses_used']\n",
    "X = df_state[['total_distributed', 'days_since']] # df_state.drop(columns=['people_vaccinated_per_hundred', 'date', 'location', 'datetime'])"
   ]
  },
  {
   "cell_type": "code",
   "execution_count": 454,
   "id": "5b07bb05",
   "metadata": {},
   "outputs": [],
   "source": [
    "from sklearn.model_selection import train_test_split # to split data into training and testing data\n",
    "\n",
    "X_train, X_test, y_train, y_test = train_test_split(X, y, test_size=0.2, random_state=1)"
   ]
  },
  {
   "cell_type": "code",
   "execution_count": 455,
   "id": "eb582392",
   "metadata": {},
   "outputs": [],
   "source": [
    "# X_train = X.loc['2021-01-01':'2021-03-31']\n",
    "# X_test = X.loc['2021-04-01':'2021-04-30']\n",
    "# y_train = y.loc['2021-01-01':'2021-03-31']\n",
    "# y_test = y.loc['2021-04-01':'2021-04-30']"
   ]
  },
  {
   "cell_type": "code",
   "execution_count": 456,
   "id": "11ef3894",
   "metadata": {},
   "outputs": [],
   "source": [
    "y_pred = getRf(X_train, X_test, y_train, y_test)"
   ]
  },
  {
   "cell_type": "code",
   "execution_count": 457,
   "id": "855f8a1f",
   "metadata": {},
   "outputs": [
    {
     "data": {
      "text/plain": [
       "0.008655454545454582"
      ]
     },
     "execution_count": 457,
     "metadata": {},
     "output_type": "execute_result"
    }
   ],
   "source": [
    "from sklearn.metrics import mean_absolute_error\n",
    "\n",
    "mean_absolute_error(y_test, y_pred)"
   ]
  },
  {
   "cell_type": "code",
   "execution_count": 458,
   "id": "77e81ab1",
   "metadata": {},
   "outputs": [
    {
     "data": {
      "text/plain": [
       "<matplotlib.collections.PathCollection at 0x217556c90d0>"
      ]
     },
     "execution_count": 458,
     "metadata": {},
     "output_type": "execute_result"
    },
    {
     "data": {
      "image/png": "[encoded data removed]",
      "text/plain": [
       "<Figure size 432x288 with 1 Axes>"
      ]
     },
     "metadata": {
      "needs_background": "light"
     },
     "output_type": "display_data"
    }
   ],
   "source": [
    "# hara.plot()\n",
    "y_train_n_pred = pd.concat([y_train, y_pred]).sort_values()\n",
    "y.plot()\n",
    "plt.scatter(y_pred.index, y_pred, color='orange')"
   ]
  },
  {
   "cell_type": "code",
   "execution_count": 459,
   "id": "3d5b7f9e",
   "metadata": {},
   "outputs": [],
   "source": [
    "# X"
   ]
  },
  {
   "cell_type": "code",
   "execution_count": 352,
   "id": "5d959fa1",
   "metadata": {},
   "outputs": [],
   "source": [
    "from sklearn.linear_model import LinearRegression\n",
    "\n",
    "def getLinReg(X, y):\n",
    "    mdl = LinearRegression()\n",
    "    mdl.fit(X_trn, y_trn)\n",
    "    y_prd = mdl.predict(X_tst)\n",
    "    \n",
    "    return y_prd"
   ]
  },
  {
   "cell_type": "code",
   "execution_count": 353,
   "id": "02af901c",
   "metadata": {},
   "outputs": [
    {
     "data": {
      "text/plain": [
       "Index(['date', 'location', 'total_vaccinations', 'total_distributed',\n",
       "       'people_vaccinated', 'people_fully_vaccinated_per_hundred',\n",
       "       'total_vaccinations_per_hundred', 'people_fully_vaccinated',\n",
       "       'people_vaccinated_per_hundred', 'distributed_per_hundred',\n",
       "       'daily_vaccinations_raw', 'daily_vaccinations',\n",
       "       'daily_vaccinations_per_million', 'share_doses_used', 'datetime',\n",
       "       'days_since'],\n",
       "      dtype='object')"
      ]
     },
     "execution_count": 353,
     "metadata": {},
     "output_type": "execute_result"
    }
   ],
   "source": [
    "df_state.columns"
   ]
  },
  {
   "cell_type": "code",
   "execution_count": 397,
   "id": "2a88f8de",
   "metadata": {},
   "outputs": [
    {
     "data": {
      "text/html": [
       "<div>\n",
       "<style scoped>\n",
       "    .dataframe tbody tr th:only-of-type {\n",
       "        vertical-align: middle;\n",
       "    }\n",
       "\n",
       "    .dataframe tbody tr th {\n",
       "        vertical-align: top;\n",
       "    }\n",
       "\n",
       "    .dataframe thead th {\n",
       "        text-align: right;\n",
       "    }\n",
       "</style>\n",
       "<table border=\"1\" class=\"dataframe\">\n",
       "  <thead>\n",
       "    <tr style=\"text-align: right;\">\n",
       "      <th></th>\n",
       "      <th>days_since</th>\n",
       "    </tr>\n",
       "    <tr>\n",
       "      <th>datetime_index</th>\n",
       "      <th></th>\n",
       "    </tr>\n",
       "  </thead>\n",
       "  <tbody>\n",
       "    <tr>\n",
       "      <th>2021-01-13</th>\n",
       "      <td>1</td>\n",
       "    </tr>\n",
       "    <tr>\n",
       "      <th>2021-01-15</th>\n",
       "      <td>3</td>\n",
       "    </tr>\n",
       "    <tr>\n",
       "      <th>2021-01-19</th>\n",
       "      <td>7</td>\n",
       "    </tr>\n",
       "    <tr>\n",
       "      <th>2021-01-20</th>\n",
       "      <td>8</td>\n",
       "    </tr>\n",
       "    <tr>\n",
       "      <th>2021-01-21</th>\n",
       "      <td>9</td>\n",
       "    </tr>\n",
       "    <tr>\n",
       "      <th>...</th>\n",
       "      <td>...</td>\n",
       "    </tr>\n",
       "    <tr>\n",
       "      <th>2021-04-30</th>\n",
       "      <td>108</td>\n",
       "    </tr>\n",
       "    <tr>\n",
       "      <th>2021-05-01</th>\n",
       "      <td>109</td>\n",
       "    </tr>\n",
       "    <tr>\n",
       "      <th>2021-05-02</th>\n",
       "      <td>110</td>\n",
       "    </tr>\n",
       "    <tr>\n",
       "      <th>2021-05-03</th>\n",
       "      <td>111</td>\n",
       "    </tr>\n",
       "    <tr>\n",
       "      <th>2021-05-04</th>\n",
       "      <td>112</td>\n",
       "    </tr>\n",
       "  </tbody>\n",
       "</table>\n",
       "<p>107 rows × 1 columns</p>\n",
       "</div>"
      ],
      "text/plain": [
       "                days_since\n",
       "datetime_index            \n",
       "2021-01-13               1\n",
       "2021-01-15               3\n",
       "2021-01-19               7\n",
       "2021-01-20               8\n",
       "2021-01-21               9\n",
       "...                    ...\n",
       "2021-04-30             108\n",
       "2021-05-01             109\n",
       "2021-05-02             110\n",
       "2021-05-03             111\n",
       "2021-05-04             112\n",
       "\n",
       "[107 rows x 1 columns]"
      ]
     },
     "execution_count": 397,
     "metadata": {},
     "output_type": "execute_result"
    }
   ],
   "source": [
    "Xd = df_state[['days_since']]\n",
    "Xd"
   ]
  },
  {
   "cell_type": "code",
   "execution_count": 425,
   "id": "8ac4efa4",
   "metadata": {},
   "outputs": [],
   "source": [
    "X_train = Xd.loc['2021-04-01':'2021-04-15']\n",
    "X_test = Xd.loc['2021-04-15':'2021-04-30']\n",
    "y_train = y.loc['2021-04-01':'2021-04-15']\n",
    "y_test = y.loc['2021-04-15':'2021-04-30']"
   ]
  },
  {
   "cell_type": "code",
   "execution_count": 438,
   "id": "98e79c06",
   "metadata": {},
   "outputs": [
    {
     "data": {
      "text/plain": [
       "Timestamp('2021-05-04 00:00:00')"
      ]
     },
     "execution_count": 438,
     "metadata": {},
     "output_type": "execute_result"
    }
   ],
   "source": [
    "y.index[-1]"
   ]
  },
  {
   "cell_type": "code",
   "execution_count": 592,
   "id": "d9a85fe0",
   "metadata": {},
   "outputs": [],
   "source": [
    "y_pred, lin_reg = getLr(X_train, X_test, y_train, y_test)"
   ]
  },
  {
   "cell_type": "code",
   "execution_count": 593,
   "id": "4691464f",
   "metadata": {},
   "outputs": [
    {
     "data": {
      "text/plain": [
       "0.023314663274029"
      ]
     },
     "execution_count": 593,
     "metadata": {},
     "output_type": "execute_result"
    }
   ],
   "source": [
    "from sklearn.metrics import mean_absolute_error\n",
    "\n",
    "mean_absolute_error(y_test, y_pred)"
   ]
  },
  {
   "cell_type": "code",
   "execution_count": 594,
   "id": "421a62a9",
   "metadata": {},
   "outputs": [
    {
     "data": {
      "text/plain": [
       "array([-4.02887058e-07,  1.70784950e-02])"
      ]
     },
     "execution_count": 594,
     "metadata": {},
     "output_type": "execute_result"
    }
   ],
   "source": [
    "lin_reg.coef_"
   ]
  },
  {
   "cell_type": "code",
   "execution_count": 595,
   "id": "c9838644",
   "metadata": {},
   "outputs": [],
   "source": [
    "import pandas as pd\n",
    "\n",
    "start = df_state.index[0] # pd.Timestamp('2015-07-01')\n",
    "end = pd.Timestamp('2021-06-01')\n",
    "t = np.linspace(start.value, end.value, 100)\n",
    "t = pd.to_datetime(t)"
   ]
  },
  {
   "cell_type": "code",
   "execution_count": 596,
   "id": "96fd75b9",
   "metadata": {},
   "outputs": [],
   "source": [
    "import pandas as pd\n",
    "# xdic={'X': {11: 300, 12: 170, 13: 288, 14: 360, 15: 319, 16: 330, 17: 520, 18: 345, 19: 399, 20: 479}}\n",
    "# ydic={'y': {11: 305000, 12: 270000, 13: 360000, 14: 370000, 15: 379000, 16: 405000, 17: 407500, 18: 450000, 19: 450000, 20: 485000}}\n",
    "# X=pd.DataFrame.from_dict(xdic)\n",
    "# y=pd.DataFrame.from_dict(ydic)\n",
    "import numpy as np\n",
    "# X_seq = t\n",
    "X_seq = np.linspace(Xd.min(),Xd.max(),300).reshape(-1,1)"
   ]
  },
  {
   "cell_type": "code",
   "execution_count": 597,
   "id": "1b585259",
   "metadata": {},
   "outputs": [
    {
     "data": {
      "text/plain": [
       "Pipeline(steps=[('polynomialfeatures', PolynomialFeatures(degree=7)),\n",
       "                ('linearregression', LinearRegression())])"
      ]
     },
     "execution_count": 597,
     "metadata": {},
     "output_type": "execute_result"
    }
   ],
   "source": [
    "from sklearn.preprocessing import PolynomialFeatures\n",
    "from sklearn.pipeline import make_pipeline\n",
    "from sklearn.linear_model import LinearRegression\n",
    "degree=7\n",
    "polyreg=make_pipeline(PolynomialFeatures(degree),LinearRegression())\n",
    "polyreg.fit(Xd,y)"
   ]
  },
  {
   "cell_type": "code",
   "execution_count": 605,
   "id": "12ba63b7",
   "metadata": {},
   "outputs": [
    {
     "data": {
      "text/plain": [
       "<Figure size 432x288 with 0 Axes>"
      ]
     },
     "metadata": {},
     "output_type": "display_data"
    },
    {
     "data": {
      "image/png": "[encoded data removed]",
      "text/plain": [
       "<Figure size 432x288 with 1 Axes>"
      ]
     },
     "metadata": {
      "needs_background": "light"
     },
     "output_type": "display_data"
    }
   ],
   "source": [
    "import matplotlib.pyplot as plt\n",
    "plt.figure()\n",
    "pd.concat([Xd,y]).plot('days_since')\n",
    "plt.plot(X_seq,polyreg.predict(X_seq),color=\"black\")\n",
    "plt.title(\"Polynomial regression with degree \"+str(degree))\n",
    "plt.show()"
   ]
  },
  {
   "cell_type": "code",
   "execution_count": 599,
   "id": "6868bf66",
   "metadata": {},
   "outputs": [
    {
     "data": {
      "text/html": [
       "<div>\n",
       "<style scoped>\n",
       "    .dataframe tbody tr th:only-of-type {\n",
       "        vertical-align: middle;\n",
       "    }\n",
       "\n",
       "    .dataframe tbody tr th {\n",
       "        vertical-align: top;\n",
       "    }\n",
       "\n",
       "    .dataframe thead th {\n",
       "        text-align: right;\n",
       "    }\n",
       "</style>\n",
       "<table border=\"1\" class=\"dataframe\">\n",
       "  <thead>\n",
       "    <tr style=\"text-align: right;\">\n",
       "      <th></th>\n",
       "      <th>days_since</th>\n",
       "      <th>0</th>\n",
       "    </tr>\n",
       "    <tr>\n",
       "      <th>datetime_index</th>\n",
       "      <th></th>\n",
       "      <th></th>\n",
       "    </tr>\n",
       "  </thead>\n",
       "  <tbody>\n",
       "    <tr>\n",
       "      <th>2021-01-13</th>\n",
       "      <td>1.0</td>\n",
       "      <td>NaN</td>\n",
       "    </tr>\n",
       "    <tr>\n",
       "      <th>2021-01-15</th>\n",
       "      <td>3.0</td>\n",
       "      <td>NaN</td>\n",
       "    </tr>\n",
       "    <tr>\n",
       "      <th>2021-01-19</th>\n",
       "      <td>7.0</td>\n",
       "      <td>NaN</td>\n",
       "    </tr>\n",
       "    <tr>\n",
       "      <th>2021-01-20</th>\n",
       "      <td>8.0</td>\n",
       "      <td>NaN</td>\n",
       "    </tr>\n",
       "    <tr>\n",
       "      <th>2021-01-21</th>\n",
       "      <td>9.0</td>\n",
       "      <td>NaN</td>\n",
       "    </tr>\n",
       "    <tr>\n",
       "      <th>...</th>\n",
       "      <td>...</td>\n",
       "      <td>...</td>\n",
       "    </tr>\n",
       "    <tr>\n",
       "      <th>2021-04-30</th>\n",
       "      <td>NaN</td>\n",
       "      <td>0.634</td>\n",
       "    </tr>\n",
       "    <tr>\n",
       "      <th>2021-05-01</th>\n",
       "      <td>NaN</td>\n",
       "      <td>0.634</td>\n",
       "    </tr>\n",
       "    <tr>\n",
       "      <th>2021-05-02</th>\n",
       "      <td>NaN</td>\n",
       "      <td>0.635</td>\n",
       "    </tr>\n",
       "    <tr>\n",
       "      <th>2021-05-03</th>\n",
       "      <td>NaN</td>\n",
       "      <td>0.636</td>\n",
       "    </tr>\n",
       "    <tr>\n",
       "      <th>2021-05-04</th>\n",
       "      <td>NaN</td>\n",
       "      <td>0.638</td>\n",
       "    </tr>\n",
       "  </tbody>\n",
       "</table>\n",
       "<p>214 rows × 2 columns</p>\n",
       "</div>"
      ],
      "text/plain": [
       "                days_since      0\n",
       "datetime_index                   \n",
       "2021-01-13             1.0    NaN\n",
       "2021-01-15             3.0    NaN\n",
       "2021-01-19             7.0    NaN\n",
       "2021-01-20             8.0    NaN\n",
       "2021-01-21             9.0    NaN\n",
       "...                    ...    ...\n",
       "2021-04-30             NaN  0.634\n",
       "2021-05-01             NaN  0.634\n",
       "2021-05-02             NaN  0.635\n",
       "2021-05-03             NaN  0.636\n",
       "2021-05-04             NaN  0.638\n",
       "\n",
       "[214 rows x 2 columns]"
      ]
     },
     "execution_count": 599,
     "metadata": {},
     "output_type": "execute_result"
    }
   ],
   "source": [
    "pd.concat([Xd,y])"
   ]
  },
  {
   "cell_type": "code",
   "execution_count": null,
   "id": "a18af2b6",
   "metadata": {},
   "outputs": [],
   "source": []
  },
  {
   "cell_type": "code",
   "execution_count": null,
   "id": "7a52d2db",
   "metadata": {},
   "outputs": [],
   "source": []
  },
  {
   "cell_type": "code",
   "execution_count": 590,
   "id": "2efa68c0",
   "metadata": {},
   "outputs": [
    {
     "ename": "ValueError",
     "evalue": "x and y must be the same size",
     "output_type": "error",
     "traceback": [
      "\u001b[1;31m---------------------------------------------------------------------------\u001b[0m",
      "\u001b[1;31mValueError\u001b[0m                                Traceback (most recent call last)",
      "\u001b[1;32m<ipython-input-590-d2095961d60c>\u001b[0m in \u001b[0;36m<module>\u001b[1;34m\u001b[0m\n\u001b[0;32m      5\u001b[0m \u001b[0mplt\u001b[0m\u001b[1;33m.\u001b[0m\u001b[0mplot\u001b[0m\u001b[1;33m(\u001b[0m\u001b[0mX_seq\u001b[0m\u001b[1;33m,\u001b[0m \u001b[0mnp\u001b[0m\u001b[1;33m.\u001b[0m\u001b[0mpolyval\u001b[0m\u001b[1;33m(\u001b[0m\u001b[0mcoefs\u001b[0m\u001b[1;33m,\u001b[0m \u001b[0mX_seq\u001b[0m\u001b[1;33m)\u001b[0m\u001b[1;33m,\u001b[0m \u001b[0mcolor\u001b[0m\u001b[1;33m=\u001b[0m\u001b[1;34m\"black\"\u001b[0m\u001b[1;33m)\u001b[0m\u001b[1;33m\u001b[0m\u001b[1;33m\u001b[0m\u001b[0m\n\u001b[0;32m      6\u001b[0m \u001b[0mplt\u001b[0m\u001b[1;33m.\u001b[0m\u001b[0mtitle\u001b[0m\u001b[1;33m(\u001b[0m\u001b[1;34m\"Polyfit degree \"\u001b[0m\u001b[1;33m+\u001b[0m\u001b[0mstr\u001b[0m\u001b[1;33m(\u001b[0m\u001b[0mdegree\u001b[0m\u001b[1;33m)\u001b[0m\u001b[1;33m)\u001b[0m\u001b[1;33m\u001b[0m\u001b[1;33m\u001b[0m\u001b[0m\n\u001b[1;32m----> 7\u001b[1;33m \u001b[0mplt\u001b[0m\u001b[1;33m.\u001b[0m\u001b[0mscatter\u001b[0m\u001b[1;33m(\u001b[0m\u001b[0mX\u001b[0m\u001b[1;33m,\u001b[0m\u001b[0my\u001b[0m\u001b[1;33m)\u001b[0m\u001b[1;33m\u001b[0m\u001b[1;33m\u001b[0m\u001b[0m\n\u001b[0m\u001b[0;32m      8\u001b[0m \u001b[0mplt\u001b[0m\u001b[1;33m.\u001b[0m\u001b[0mshow\u001b[0m\u001b[1;33m(\u001b[0m\u001b[1;33m)\u001b[0m\u001b[1;33m\u001b[0m\u001b[1;33m\u001b[0m\u001b[0m\n",
      "\u001b[1;32m~\\anaconda3\\lib\\site-packages\\matplotlib\\pyplot.py\u001b[0m in \u001b[0;36mscatter\u001b[1;34m(x, y, s, c, marker, cmap, norm, vmin, vmax, alpha, linewidths, verts, edgecolors, plotnonfinite, data, **kwargs)\u001b[0m\n\u001b[0;32m   2888\u001b[0m         \u001b[0mverts\u001b[0m\u001b[1;33m=\u001b[0m\u001b[0mcbook\u001b[0m\u001b[1;33m.\u001b[0m\u001b[0mdeprecation\u001b[0m\u001b[1;33m.\u001b[0m\u001b[0m_deprecated_parameter\u001b[0m\u001b[1;33m,\u001b[0m\u001b[1;33m\u001b[0m\u001b[1;33m\u001b[0m\u001b[0m\n\u001b[0;32m   2889\u001b[0m         edgecolors=None, *, plotnonfinite=False, data=None, **kwargs):\n\u001b[1;32m-> 2890\u001b[1;33m     __ret = gca().scatter(\n\u001b[0m\u001b[0;32m   2891\u001b[0m         \u001b[0mx\u001b[0m\u001b[1;33m,\u001b[0m \u001b[0my\u001b[0m\u001b[1;33m,\u001b[0m \u001b[0ms\u001b[0m\u001b[1;33m=\u001b[0m\u001b[0ms\u001b[0m\u001b[1;33m,\u001b[0m \u001b[0mc\u001b[0m\u001b[1;33m=\u001b[0m\u001b[0mc\u001b[0m\u001b[1;33m,\u001b[0m \u001b[0mmarker\u001b[0m\u001b[1;33m=\u001b[0m\u001b[0mmarker\u001b[0m\u001b[1;33m,\u001b[0m \u001b[0mcmap\u001b[0m\u001b[1;33m=\u001b[0m\u001b[0mcmap\u001b[0m\u001b[1;33m,\u001b[0m \u001b[0mnorm\u001b[0m\u001b[1;33m=\u001b[0m\u001b[0mnorm\u001b[0m\u001b[1;33m,\u001b[0m\u001b[1;33m\u001b[0m\u001b[1;33m\u001b[0m\u001b[0m\n\u001b[0;32m   2892\u001b[0m         \u001b[0mvmin\u001b[0m\u001b[1;33m=\u001b[0m\u001b[0mvmin\u001b[0m\u001b[1;33m,\u001b[0m \u001b[0mvmax\u001b[0m\u001b[1;33m=\u001b[0m\u001b[0mvmax\u001b[0m\u001b[1;33m,\u001b[0m \u001b[0malpha\u001b[0m\u001b[1;33m=\u001b[0m\u001b[0malpha\u001b[0m\u001b[1;33m,\u001b[0m \u001b[0mlinewidths\u001b[0m\u001b[1;33m=\u001b[0m\u001b[0mlinewidths\u001b[0m\u001b[1;33m,\u001b[0m\u001b[1;33m\u001b[0m\u001b[1;33m\u001b[0m\u001b[0m\n",
      "\u001b[1;32m~\\anaconda3\\lib\\site-packages\\matplotlib\\__init__.py\u001b[0m in \u001b[0;36minner\u001b[1;34m(ax, data, *args, **kwargs)\u001b[0m\n\u001b[0;32m   1436\u001b[0m     \u001b[1;32mdef\u001b[0m \u001b[0minner\u001b[0m\u001b[1;33m(\u001b[0m\u001b[0max\u001b[0m\u001b[1;33m,\u001b[0m \u001b[1;33m*\u001b[0m\u001b[0margs\u001b[0m\u001b[1;33m,\u001b[0m \u001b[0mdata\u001b[0m\u001b[1;33m=\u001b[0m\u001b[1;32mNone\u001b[0m\u001b[1;33m,\u001b[0m \u001b[1;33m**\u001b[0m\u001b[0mkwargs\u001b[0m\u001b[1;33m)\u001b[0m\u001b[1;33m:\u001b[0m\u001b[1;33m\u001b[0m\u001b[1;33m\u001b[0m\u001b[0m\n\u001b[0;32m   1437\u001b[0m         \u001b[1;32mif\u001b[0m \u001b[0mdata\u001b[0m \u001b[1;32mis\u001b[0m \u001b[1;32mNone\u001b[0m\u001b[1;33m:\u001b[0m\u001b[1;33m\u001b[0m\u001b[1;33m\u001b[0m\u001b[0m\n\u001b[1;32m-> 1438\u001b[1;33m             \u001b[1;32mreturn\u001b[0m \u001b[0mfunc\u001b[0m\u001b[1;33m(\u001b[0m\u001b[0max\u001b[0m\u001b[1;33m,\u001b[0m \u001b[1;33m*\u001b[0m\u001b[0mmap\u001b[0m\u001b[1;33m(\u001b[0m\u001b[0msanitize_sequence\u001b[0m\u001b[1;33m,\u001b[0m \u001b[0margs\u001b[0m\u001b[1;33m)\u001b[0m\u001b[1;33m,\u001b[0m \u001b[1;33m**\u001b[0m\u001b[0mkwargs\u001b[0m\u001b[1;33m)\u001b[0m\u001b[1;33m\u001b[0m\u001b[1;33m\u001b[0m\u001b[0m\n\u001b[0m\u001b[0;32m   1439\u001b[0m \u001b[1;33m\u001b[0m\u001b[0m\n\u001b[0;32m   1440\u001b[0m         \u001b[0mbound\u001b[0m \u001b[1;33m=\u001b[0m \u001b[0mnew_sig\u001b[0m\u001b[1;33m.\u001b[0m\u001b[0mbind\u001b[0m\u001b[1;33m(\u001b[0m\u001b[0max\u001b[0m\u001b[1;33m,\u001b[0m \u001b[1;33m*\u001b[0m\u001b[0margs\u001b[0m\u001b[1;33m,\u001b[0m \u001b[1;33m**\u001b[0m\u001b[0mkwargs\u001b[0m\u001b[1;33m)\u001b[0m\u001b[1;33m\u001b[0m\u001b[1;33m\u001b[0m\u001b[0m\n",
      "\u001b[1;32m~\\anaconda3\\lib\\site-packages\\matplotlib\\cbook\\deprecation.py\u001b[0m in \u001b[0;36mwrapper\u001b[1;34m(*inner_args, **inner_kwargs)\u001b[0m\n\u001b[0;32m    409\u001b[0m                          \u001b[1;32melse\u001b[0m \u001b[0mdeprecation_addendum\u001b[0m\u001b[1;33m,\u001b[0m\u001b[1;33m\u001b[0m\u001b[1;33m\u001b[0m\u001b[0m\n\u001b[0;32m    410\u001b[0m                 **kwargs)\n\u001b[1;32m--> 411\u001b[1;33m         \u001b[1;32mreturn\u001b[0m \u001b[0mfunc\u001b[0m\u001b[1;33m(\u001b[0m\u001b[1;33m*\u001b[0m\u001b[0minner_args\u001b[0m\u001b[1;33m,\u001b[0m \u001b[1;33m**\u001b[0m\u001b[0minner_kwargs\u001b[0m\u001b[1;33m)\u001b[0m\u001b[1;33m\u001b[0m\u001b[1;33m\u001b[0m\u001b[0m\n\u001b[0m\u001b[0;32m    412\u001b[0m \u001b[1;33m\u001b[0m\u001b[0m\n\u001b[0;32m    413\u001b[0m     \u001b[1;32mreturn\u001b[0m \u001b[0mwrapper\u001b[0m\u001b[1;33m\u001b[0m\u001b[1;33m\u001b[0m\u001b[0m\n",
      "\u001b[1;32m~\\anaconda3\\lib\\site-packages\\matplotlib\\axes\\_axes.py\u001b[0m in \u001b[0;36mscatter\u001b[1;34m(self, x, y, s, c, marker, cmap, norm, vmin, vmax, alpha, linewidths, verts, edgecolors, plotnonfinite, **kwargs)\u001b[0m\n\u001b[0;32m   4439\u001b[0m         \u001b[0my\u001b[0m \u001b[1;33m=\u001b[0m \u001b[0mnp\u001b[0m\u001b[1;33m.\u001b[0m\u001b[0mma\u001b[0m\u001b[1;33m.\u001b[0m\u001b[0mravel\u001b[0m\u001b[1;33m(\u001b[0m\u001b[0my\u001b[0m\u001b[1;33m)\u001b[0m\u001b[1;33m\u001b[0m\u001b[1;33m\u001b[0m\u001b[0m\n\u001b[0;32m   4440\u001b[0m         \u001b[1;32mif\u001b[0m \u001b[0mx\u001b[0m\u001b[1;33m.\u001b[0m\u001b[0msize\u001b[0m \u001b[1;33m!=\u001b[0m \u001b[0my\u001b[0m\u001b[1;33m.\u001b[0m\u001b[0msize\u001b[0m\u001b[1;33m:\u001b[0m\u001b[1;33m\u001b[0m\u001b[1;33m\u001b[0m\u001b[0m\n\u001b[1;32m-> 4441\u001b[1;33m             \u001b[1;32mraise\u001b[0m \u001b[0mValueError\u001b[0m\u001b[1;33m(\u001b[0m\u001b[1;34m\"x and y must be the same size\"\u001b[0m\u001b[1;33m)\u001b[0m\u001b[1;33m\u001b[0m\u001b[1;33m\u001b[0m\u001b[0m\n\u001b[0m\u001b[0;32m   4442\u001b[0m \u001b[1;33m\u001b[0m\u001b[0m\n\u001b[0;32m   4443\u001b[0m         \u001b[1;32mif\u001b[0m \u001b[0ms\u001b[0m \u001b[1;32mis\u001b[0m \u001b[1;32mNone\u001b[0m\u001b[1;33m:\u001b[0m\u001b[1;33m\u001b[0m\u001b[1;33m\u001b[0m\u001b[0m\n",
      "\u001b[1;31mValueError\u001b[0m: x and y must be the same size"
     ]
    },
    {
     "data": {
      "image/png": "[encoded data removed]",
      "text/plain": [
       "<Figure size 432x288 with 1 Axes>"
      ]
     },
     "metadata": {
      "needs_background": "light"
     },
     "output_type": "display_data"
    }
   ],
   "source": [
    "import numpy as np\n",
    "\n",
    "coefs = np.polyfit(Xd.values.flatten(), y.values.flatten(), 9)\n",
    "plt.figure()\n",
    "plt.plot(X_seq, np.polyval(coefs, X_seq), color=\"black\")\n",
    "plt.title(\"Polyfit degree \"+str(degree))\n",
    "plt.scatter(X,y)\n",
    "plt.show()"
   ]
  },
  {
   "cell_type": "code",
   "execution_count": 429,
   "id": "61eb3d14",
   "metadata": {},
   "outputs": [
    {
     "data": {
      "text/plain": [
       "<matplotlib.collections.PathCollection at 0x2175555ac40>"
      ]
     },
     "execution_count": 429,
     "metadata": {},
     "output_type": "execute_result"
    },
    {
     "data": {
      "image/png": "[encoded data removed]",
      "text/plain": [
       "<Figure size 432x288 with 1 Axes>"
      ]
     },
     "metadata": {
      "needs_background": "light"
     },
     "output_type": "display_data"
    }
   ],
   "source": [
    "# hara.plot()\n",
    "y_train_n_pred = pd.concat([y_train, y_pred]).sort_values()\n",
    "y.plot()\n",
    "plt.scatter(y_pred.index, y_pred, color='orange')"
   ]
  },
  {
   "cell_type": "code",
   "execution_count": null,
   "id": "4ab4fda4",
   "metadata": {},
   "outputs": [],
   "source": []
  },
  {
   "cell_type": "code",
   "execution_count": null,
   "id": "4c822fd5",
   "metadata": {},
   "outputs": [],
   "source": []
  },
  {
   "cell_type": "code",
   "execution_count": 120,
   "id": "7cc5dae2",
   "metadata": {},
   "outputs": [],
   "source": [
    "# LinearRegression().fit()"
   ]
  },
  {
   "cell_type": "code",
   "execution_count": null,
   "id": "25874a9f",
   "metadata": {},
   "outputs": [],
   "source": []
  },
  {
   "cell_type": "code",
   "execution_count": 49,
   "id": "8dcb84e7",
   "metadata": {},
   "outputs": [],
   "source": [
    "df_owid = df_cleaner(df_owid_orig)"
   ]
  },
  {
   "cell_type": "code",
   "execution_count": 75,
   "id": "7dc12170",
   "metadata": {},
   "outputs": [],
   "source": [
    "X = "
   ]
  },
  {
   "cell_type": "code",
   "execution_count": 70,
   "id": "f365a8fa",
   "metadata": {},
   "outputs": [
    {
     "data": {
      "text/plain": [
       "DatetimeIndex(['2020-12-20', '2020-12-21', '2020-12-22', '2020-12-23',\n",
       "               '2020-12-24', '2020-12-25', '2020-12-26', '2020-12-27',\n",
       "               '2020-12-28', '2020-12-29',\n",
       "               ...\n",
       "               '2021-04-25', '2021-04-26', '2021-04-27', '2021-04-28',\n",
       "               '2021-04-29', '2021-04-30', '2021-05-01', '2021-05-02',\n",
       "               '2021-05-03', '2021-05-04'],\n",
       "              dtype='datetime64[ns]', name='datetime_index', length=136, freq=None)"
      ]
     },
     "execution_count": 70,
     "metadata": {},
     "output_type": "execute_result"
    }
   ],
   "source": [
    "df_owid.index.levels[1]"
   ]
  },
  {
   "cell_type": "code",
   "execution_count": 56,
   "id": "9ee538a1",
   "metadata": {},
   "outputs": [
    {
     "ename": "NameError",
     "evalue": "name 'df' is not defined",
     "output_type": "error",
     "traceback": [
      "\u001b[1;31m---------------------------------------------------------------------------\u001b[0m",
      "\u001b[1;31mNameError\u001b[0m                                 Traceback (most recent call last)",
      "\u001b[1;32m<ipython-input-56-4cdf7d01701d>\u001b[0m in \u001b[0;36m<module>\u001b[1;34m\u001b[0m\n\u001b[1;32m----> 1\u001b[1;33m \u001b[0mX\u001b[0m \u001b[1;33m=\u001b[0m \u001b[1;33m(\u001b[0m\u001b[0mdf\u001b[0m\u001b[1;33m.\u001b[0m\u001b[0mindex\u001b[0m \u001b[1;33m-\u001b[0m  \u001b[0mdf\u001b[0m\u001b[1;33m.\u001b[0m\u001b[0mindex\u001b[0m\u001b[1;33m[\u001b[0m\u001b[1;36m0\u001b[0m\u001b[1;33m]\u001b[0m\u001b[1;33m)\u001b[0m\u001b[1;33m.\u001b[0m\u001b[0mdays\u001b[0m\u001b[1;33m.\u001b[0m\u001b[0mreshape\u001b[0m\u001b[1;33m(\u001b[0m\u001b[1;33m-\u001b[0m\u001b[1;36m1\u001b[0m\u001b[1;33m,\u001b[0m \u001b[1;36m1\u001b[0m\u001b[1;33m)\u001b[0m\u001b[1;33m\u001b[0m\u001b[1;33m\u001b[0m\u001b[0m\n\u001b[0m\u001b[0;32m      2\u001b[0m \u001b[1;33m\u001b[0m\u001b[0m\n\u001b[0;32m      3\u001b[0m \u001b[0my\u001b[0m \u001b[1;33m=\u001b[0m \u001b[0mdf\u001b[0m\u001b[1;33m[\u001b[0m\u001b[1;34m'value'\u001b[0m\u001b[1;33m]\u001b[0m\u001b[1;33m.\u001b[0m\u001b[0mvalues\u001b[0m\u001b[1;33m\u001b[0m\u001b[1;33m\u001b[0m\u001b[0m\n\u001b[0;32m      4\u001b[0m \u001b[1;33m\u001b[0m\u001b[0m\n\u001b[0;32m      5\u001b[0m \u001b[0mlinear_model\u001b[0m\u001b[1;33m.\u001b[0m\u001b[0mLinearRegression\u001b[0m\u001b[1;33m(\u001b[0m\u001b[1;33m)\u001b[0m\u001b[1;33m.\u001b[0m\u001b[0mfit\u001b[0m\u001b[1;33m(\u001b[0m\u001b[0mX\u001b[0m\u001b[1;33m,\u001b[0m \u001b[0my\u001b[0m\u001b[1;33m)\u001b[0m\u001b[1;33m\u001b[0m\u001b[1;33m\u001b[0m\u001b[0m\n",
      "\u001b[1;31mNameError\u001b[0m: name 'df' is not defined"
     ]
    }
   ],
   "source": [
    "def getLinRegpred(X, y, ):\n",
    "\n",
    "    X = (df.index -  df.index[0]).days.reshape(-1, 1)\n",
    "\n",
    "    y = df['value'].values\n",
    "\n",
    "    linear_model.LinearRegression().fit(X, y)\n",
    "    LinearRegression(copy_X=True, fit_intercept=True, n_jobs=1, normalize=False)"
   ]
  },
  {
   "cell_type": "code",
   "execution_count": null,
   "id": "9a7c024f",
   "metadata": {},
   "outputs": [],
   "source": []
  },
  {
   "cell_type": "code",
   "execution_count": 52,
   "id": "d74f06b8",
   "metadata": {},
   "outputs": [
    {
     "data": {
      "text/html": [
       "<div>\n",
       "<style scoped>\n",
       "    .dataframe tbody tr th:only-of-type {\n",
       "        vertical-align: middle;\n",
       "    }\n",
       "\n",
       "    .dataframe tbody tr th {\n",
       "        vertical-align: top;\n",
       "    }\n",
       "\n",
       "    .dataframe thead th {\n",
       "        text-align: right;\n",
       "    }\n",
       "</style>\n",
       "<table border=\"1\" class=\"dataframe\">\n",
       "  <thead>\n",
       "    <tr style=\"text-align: right;\">\n",
       "      <th></th>\n",
       "      <th>date</th>\n",
       "      <th>location</th>\n",
       "      <th>total_vaccinations</th>\n",
       "      <th>total_distributed</th>\n",
       "      <th>people_vaccinated</th>\n",
       "      <th>people_fully_vaccinated_per_hundred</th>\n",
       "      <th>total_vaccinations_per_hundred</th>\n",
       "      <th>people_fully_vaccinated</th>\n",
       "      <th>people_vaccinated_per_hundred</th>\n",
       "      <th>distributed_per_hundred</th>\n",
       "      <th>daily_vaccinations_raw</th>\n",
       "      <th>daily_vaccinations</th>\n",
       "      <th>daily_vaccinations_per_million</th>\n",
       "      <th>share_doses_used</th>\n",
       "      <th>datetime</th>\n",
       "    </tr>\n",
       "    <tr>\n",
       "      <th>datetime_index</th>\n",
       "      <th></th>\n",
       "      <th></th>\n",
       "      <th></th>\n",
       "      <th></th>\n",
       "      <th></th>\n",
       "      <th></th>\n",
       "      <th></th>\n",
       "      <th></th>\n",
       "      <th></th>\n",
       "      <th></th>\n",
       "      <th></th>\n",
       "      <th></th>\n",
       "      <th></th>\n",
       "      <th></th>\n",
       "      <th></th>\n",
       "    </tr>\n",
       "  </thead>\n",
       "  <tbody>\n",
       "    <tr>\n",
       "      <th>2021-01-12</th>\n",
       "      <td>2021-01-12</td>\n",
       "      <td>Alabama</td>\n",
       "      <td>78134.0</td>\n",
       "      <td>377025.0</td>\n",
       "      <td>70861.0</td>\n",
       "      <td>0.15</td>\n",
       "      <td>1.59</td>\n",
       "      <td>7270.0</td>\n",
       "      <td>1.45</td>\n",
       "      <td>7.69</td>\n",
       "      <td>NaN</td>\n",
       "      <td>NaN</td>\n",
       "      <td>NaN</td>\n",
       "      <td>0.207</td>\n",
       "      <td>2021-01-12</td>\n",
       "    </tr>\n",
       "    <tr>\n",
       "      <th>2021-01-13</th>\n",
       "      <td>2021-01-13</td>\n",
       "      <td>Alabama</td>\n",
       "      <td>84040.0</td>\n",
       "      <td>378975.0</td>\n",
       "      <td>74792.0</td>\n",
       "      <td>0.19</td>\n",
       "      <td>1.71</td>\n",
       "      <td>9245.0</td>\n",
       "      <td>1.53</td>\n",
       "      <td>7.73</td>\n",
       "      <td>5906.0</td>\n",
       "      <td>5906.0</td>\n",
       "      <td>1205.0</td>\n",
       "      <td>0.222</td>\n",
       "      <td>2021-01-13</td>\n",
       "    </tr>\n",
       "    <tr>\n",
       "      <th>2021-01-14</th>\n",
       "      <td>2021-01-14</td>\n",
       "      <td>Alabama</td>\n",
       "      <td>92300.0</td>\n",
       "      <td>435350.0</td>\n",
       "      <td>80480.0</td>\n",
       "      <td>NaN</td>\n",
       "      <td>1.88</td>\n",
       "      <td>NaN</td>\n",
       "      <td>1.64</td>\n",
       "      <td>8.88</td>\n",
       "      <td>8260.0</td>\n",
       "      <td>7083.0</td>\n",
       "      <td>1445.0</td>\n",
       "      <td>0.212</td>\n",
       "      <td>2021-01-14</td>\n",
       "    </tr>\n",
       "    <tr>\n",
       "      <th>2021-01-15</th>\n",
       "      <td>2021-01-15</td>\n",
       "      <td>Alabama</td>\n",
       "      <td>100567.0</td>\n",
       "      <td>444650.0</td>\n",
       "      <td>86956.0</td>\n",
       "      <td>0.28</td>\n",
       "      <td>2.05</td>\n",
       "      <td>13488.0</td>\n",
       "      <td>1.77</td>\n",
       "      <td>9.07</td>\n",
       "      <td>8267.0</td>\n",
       "      <td>7478.0</td>\n",
       "      <td>1525.0</td>\n",
       "      <td>0.226</td>\n",
       "      <td>2021-01-15</td>\n",
       "    </tr>\n",
       "    <tr>\n",
       "      <th>2021-01-16</th>\n",
       "      <td>2021-01-16</td>\n",
       "      <td>Alabama</td>\n",
       "      <td>NaN</td>\n",
       "      <td>NaN</td>\n",
       "      <td>NaN</td>\n",
       "      <td>NaN</td>\n",
       "      <td>NaN</td>\n",
       "      <td>NaN</td>\n",
       "      <td>NaN</td>\n",
       "      <td>NaN</td>\n",
       "      <td>7557.0</td>\n",
       "      <td>7498.0</td>\n",
       "      <td>1529.0</td>\n",
       "      <td>NaN</td>\n",
       "      <td>2021-01-16</td>\n",
       "    </tr>\n",
       "    <tr>\n",
       "      <th>...</th>\n",
       "      <td>...</td>\n",
       "      <td>...</td>\n",
       "      <td>...</td>\n",
       "      <td>...</td>\n",
       "      <td>...</td>\n",
       "      <td>...</td>\n",
       "      <td>...</td>\n",
       "      <td>...</td>\n",
       "      <td>...</td>\n",
       "      <td>...</td>\n",
       "      <td>...</td>\n",
       "      <td>...</td>\n",
       "      <td>...</td>\n",
       "      <td>...</td>\n",
       "      <td>...</td>\n",
       "    </tr>\n",
       "    <tr>\n",
       "      <th>2021-04-30</th>\n",
       "      <td>2021-04-30</td>\n",
       "      <td>Alabama</td>\n",
       "      <td>2591163.0</td>\n",
       "      <td>4088030.0</td>\n",
       "      <td>1589518.0</td>\n",
       "      <td>23.32</td>\n",
       "      <td>52.85</td>\n",
       "      <td>1143488.0</td>\n",
       "      <td>32.42</td>\n",
       "      <td>83.37</td>\n",
       "      <td>31225.0</td>\n",
       "      <td>23076.0</td>\n",
       "      <td>4706.0</td>\n",
       "      <td>0.634</td>\n",
       "      <td>2021-04-30</td>\n",
       "    </tr>\n",
       "    <tr>\n",
       "      <th>2021-05-01</th>\n",
       "      <td>2021-05-01</td>\n",
       "      <td>Alabama</td>\n",
       "      <td>2617405.0</td>\n",
       "      <td>4130550.0</td>\n",
       "      <td>1599130.0</td>\n",
       "      <td>23.69</td>\n",
       "      <td>53.38</td>\n",
       "      <td>1161725.0</td>\n",
       "      <td>32.61</td>\n",
       "      <td>84.24</td>\n",
       "      <td>26242.0</td>\n",
       "      <td>22271.0</td>\n",
       "      <td>4542.0</td>\n",
       "      <td>0.634</td>\n",
       "      <td>2021-05-01</td>\n",
       "    </tr>\n",
       "    <tr>\n",
       "      <th>2021-05-02</th>\n",
       "      <td>2021-05-02</td>\n",
       "      <td>Alabama</td>\n",
       "      <td>2622717.0</td>\n",
       "      <td>4130550.0</td>\n",
       "      <td>1601433.0</td>\n",
       "      <td>23.77</td>\n",
       "      <td>53.49</td>\n",
       "      <td>1165479.0</td>\n",
       "      <td>32.66</td>\n",
       "      <td>84.24</td>\n",
       "      <td>5312.0</td>\n",
       "      <td>21615.0</td>\n",
       "      <td>4408.0</td>\n",
       "      <td>0.635</td>\n",
       "      <td>2021-05-02</td>\n",
       "    </tr>\n",
       "    <tr>\n",
       "      <th>2021-05-03</th>\n",
       "      <td>2021-05-03</td>\n",
       "      <td>Alabama</td>\n",
       "      <td>2627322.0</td>\n",
       "      <td>4130550.0</td>\n",
       "      <td>1603454.0</td>\n",
       "      <td>23.83</td>\n",
       "      <td>53.58</td>\n",
       "      <td>1168235.0</td>\n",
       "      <td>32.70</td>\n",
       "      <td>84.24</td>\n",
       "      <td>4605.0</td>\n",
       "      <td>21299.0</td>\n",
       "      <td>4344.0</td>\n",
       "      <td>0.636</td>\n",
       "      <td>2021-05-03</td>\n",
       "    </tr>\n",
       "    <tr>\n",
       "      <th>2021-05-04</th>\n",
       "      <td>2021-05-04</td>\n",
       "      <td>Alabama</td>\n",
       "      <td>2644674.0</td>\n",
       "      <td>4145390.0</td>\n",
       "      <td>1609919.0</td>\n",
       "      <td>24.06</td>\n",
       "      <td>53.94</td>\n",
       "      <td>1179793.0</td>\n",
       "      <td>32.83</td>\n",
       "      <td>84.54</td>\n",
       "      <td>17352.0</td>\n",
       "      <td>20711.0</td>\n",
       "      <td>4224.0</td>\n",
       "      <td>0.638</td>\n",
       "      <td>2021-05-04</td>\n",
       "    </tr>\n",
       "  </tbody>\n",
       "</table>\n",
       "<p>113 rows × 15 columns</p>\n",
       "</div>"
      ],
      "text/plain": [
       "                      date location  total_vaccinations  total_distributed  \\\n",
       "datetime_index                                                               \n",
       "2021-01-12      2021-01-12  Alabama             78134.0           377025.0   \n",
       "2021-01-13      2021-01-13  Alabama             84040.0           378975.0   \n",
       "2021-01-14      2021-01-14  Alabama             92300.0           435350.0   \n",
       "2021-01-15      2021-01-15  Alabama            100567.0           444650.0   \n",
       "2021-01-16      2021-01-16  Alabama                 NaN                NaN   \n",
       "...                    ...      ...                 ...                ...   \n",
       "2021-04-30      2021-04-30  Alabama           2591163.0          4088030.0   \n",
       "2021-05-01      2021-05-01  Alabama           2617405.0          4130550.0   \n",
       "2021-05-02      2021-05-02  Alabama           2622717.0          4130550.0   \n",
       "2021-05-03      2021-05-03  Alabama           2627322.0          4130550.0   \n",
       "2021-05-04      2021-05-04  Alabama           2644674.0          4145390.0   \n",
       "\n",
       "                people_vaccinated  people_fully_vaccinated_per_hundred  \\\n",
       "datetime_index                                                           \n",
       "2021-01-12                70861.0                                 0.15   \n",
       "2021-01-13                74792.0                                 0.19   \n",
       "2021-01-14                80480.0                                  NaN   \n",
       "2021-01-15                86956.0                                 0.28   \n",
       "2021-01-16                    NaN                                  NaN   \n",
       "...                           ...                                  ...   \n",
       "2021-04-30              1589518.0                                23.32   \n",
       "2021-05-01              1599130.0                                23.69   \n",
       "2021-05-02              1601433.0                                23.77   \n",
       "2021-05-03              1603454.0                                23.83   \n",
       "2021-05-04              1609919.0                                24.06   \n",
       "\n",
       "                total_vaccinations_per_hundred  people_fully_vaccinated  \\\n",
       "datetime_index                                                            \n",
       "2021-01-12                                1.59                   7270.0   \n",
       "2021-01-13                                1.71                   9245.0   \n",
       "2021-01-14                                1.88                      NaN   \n",
       "2021-01-15                                2.05                  13488.0   \n",
       "2021-01-16                                 NaN                      NaN   \n",
       "...                                        ...                      ...   \n",
       "2021-04-30                               52.85                1143488.0   \n",
       "2021-05-01                               53.38                1161725.0   \n",
       "2021-05-02                               53.49                1165479.0   \n",
       "2021-05-03                               53.58                1168235.0   \n",
       "2021-05-04                               53.94                1179793.0   \n",
       "\n",
       "                people_vaccinated_per_hundred  distributed_per_hundred  \\\n",
       "datetime_index                                                           \n",
       "2021-01-12                               1.45                     7.69   \n",
       "2021-01-13                               1.53                     7.73   \n",
       "2021-01-14                               1.64                     8.88   \n",
       "2021-01-15                               1.77                     9.07   \n",
       "2021-01-16                                NaN                      NaN   \n",
       "...                                       ...                      ...   \n",
       "2021-04-30                              32.42                    83.37   \n",
       "2021-05-01                              32.61                    84.24   \n",
       "2021-05-02                              32.66                    84.24   \n",
       "2021-05-03                              32.70                    84.24   \n",
       "2021-05-04                              32.83                    84.54   \n",
       "\n",
       "                daily_vaccinations_raw  daily_vaccinations  \\\n",
       "datetime_index                                               \n",
       "2021-01-12                         NaN                 NaN   \n",
       "2021-01-13                      5906.0              5906.0   \n",
       "2021-01-14                      8260.0              7083.0   \n",
       "2021-01-15                      8267.0              7478.0   \n",
       "2021-01-16                      7557.0              7498.0   \n",
       "...                                ...                 ...   \n",
       "2021-04-30                     31225.0             23076.0   \n",
       "2021-05-01                     26242.0             22271.0   \n",
       "2021-05-02                      5312.0             21615.0   \n",
       "2021-05-03                      4605.0             21299.0   \n",
       "2021-05-04                     17352.0             20711.0   \n",
       "\n",
       "                daily_vaccinations_per_million  share_doses_used   datetime  \n",
       "datetime_index                                                               \n",
       "2021-01-12                                 NaN             0.207 2021-01-12  \n",
       "2021-01-13                              1205.0             0.222 2021-01-13  \n",
       "2021-01-14                              1445.0             0.212 2021-01-14  \n",
       "2021-01-15                              1525.0             0.226 2021-01-15  \n",
       "2021-01-16                              1529.0               NaN 2021-01-16  \n",
       "...                                        ...               ...        ...  \n",
       "2021-04-30                              4706.0             0.634 2021-04-30  \n",
       "2021-05-01                              4542.0             0.634 2021-05-01  \n",
       "2021-05-02                              4408.0             0.635 2021-05-02  \n",
       "2021-05-03                              4344.0             0.636 2021-05-03  \n",
       "2021-05-04                              4224.0             0.638 2021-05-04  \n",
       "\n",
       "[113 rows x 15 columns]"
      ]
     },
     "execution_count": 52,
     "metadata": {},
     "output_type": "execute_result"
    }
   ],
   "source": [
    "df_owid.loc['Alabama']"
   ]
  },
  {
   "cell_type": "code",
   "execution_count": 43,
   "id": "23387ddd",
   "metadata": {},
   "outputs": [],
   "source": [
    "dates = train_test_dates"
   ]
  },
  {
   "cell_type": "code",
   "execution_count": 44,
   "id": "a22d6f14",
   "metadata": {},
   "outputs": [
    {
     "data": {
      "text/plain": [
       "[datetime.datetime(2021, 1, 14, 0, 0),\n",
       " datetime.datetime(2021, 3, 15, 0, 0),\n",
       " datetime.datetime(2021, 4, 1, 0, 0),\n",
       " datetime.datetime(2021, 4, 21, 0, 0)]"
      ]
     },
     "execution_count": 44,
     "metadata": {},
     "output_type": "execute_result"
    }
   ],
   "source": [
    "dates"
   ]
  },
  {
   "cell_type": "code",
   "execution_count": 8,
   "id": "f3efbeb3",
   "metadata": {},
   "outputs": [
    {
     "data": {
      "text/plain": [
       "'2021-01-03'"
      ]
     },
     "execution_count": 8,
     "metadata": {},
     "output_type": "execute_result"
    }
   ],
   "source": [
    "train_date1"
   ]
  },
  {
   "cell_type": "code",
   "execution_count": 24,
   "id": "041778e6",
   "metadata": {},
   "outputs": [
    {
     "data": {
      "text/plain": [
       "datetime.datetime(2021, 1, 3, 0, 0)"
      ]
     },
     "execution_count": 24,
     "metadata": {},
     "output_type": "execute_result"
    }
   ],
   "source": [
    "import datetime\n",
    "\n",
    "datetime.datetime.strptime('2021-01-03', '%Y-%m-%d')"
   ]
  },
  {
   "cell_type": "code",
   "execution_count": 26,
   "id": "71c05760",
   "metadata": {},
   "outputs": [
    {
     "data": {
      "text/plain": [
       "datetime.datetime(2005, 1, 3, 0, 0)"
      ]
     },
     "execution_count": 26,
     "metadata": {},
     "output_type": "execute_result"
    }
   ],
   "source": [
    "datetime.datetime.strptime('January 3, 2005', '%B %d, %Y')"
   ]
  },
  {
   "cell_type": "code",
   "execution_count": 9,
   "id": "c8876d23",
   "metadata": {},
   "outputs": [
    {
     "data": {
      "text/plain": [
       "'2021-03-05'"
      ]
     },
     "execution_count": 9,
     "metadata": {},
     "output_type": "execute_result"
    }
   ],
   "source": [
    "train_date2"
   ]
  },
  {
   "cell_type": "code",
   "execution_count": 4,
   "id": "93dc8b2a",
   "metadata": {},
   "outputs": [
    {
     "name": "stdin",
     "output_type": "stream",
     "text": [
      "naan roar\n"
     ]
    },
    {
     "ename": "NameError",
     "evalue": "name 'hela' is not defined",
     "output_type": "error",
     "traceback": [
      "\u001b[1;31m---------------------------------------------------------------------------\u001b[0m",
      "\u001b[1;31mNameError\u001b[0m                                 Traceback (most recent call last)",
      "\u001b[1;32m<ipython-input-4-df2680bc431f>\u001b[0m in \u001b[0;36m<module>\u001b[1;34m\u001b[0m\n\u001b[1;32m----> 1\u001b[1;33m \u001b[0mhela\u001b[0m\u001b[1;33m[\u001b[0m\u001b[1;36m0\u001b[0m\u001b[1;33m]\u001b[0m \u001b[1;33m=\u001b[0m \u001b[0minput\u001b[0m\u001b[1;33m(\u001b[0m\u001b[1;34m'naan'\u001b[0m\u001b[1;33m)\u001b[0m\u001b[1;33m\u001b[0m\u001b[1;33m\u001b[0m\u001b[0m\n\u001b[0m",
      "\u001b[1;31mNameError\u001b[0m: name 'hela' is not defined"
     ]
    }
   ],
   "source": [
    "hela[0] = input('naan')"
   ]
  },
  {
   "cell_type": "code",
   "execution_count": 656,
   "id": "cd5404ce",
   "metadata": {},
   "outputs": [
    {
     "data": {
      "text/html": [
       "<div>\n",
       "<style scoped>\n",
       "    .dataframe tbody tr th:only-of-type {\n",
       "        vertical-align: middle;\n",
       "    }\n",
       "\n",
       "    .dataframe tbody tr th {\n",
       "        vertical-align: top;\n",
       "    }\n",
       "\n",
       "    .dataframe thead th {\n",
       "        text-align: right;\n",
       "    }\n",
       "</style>\n",
       "<table border=\"1\" class=\"dataframe\">\n",
       "  <thead>\n",
       "    <tr style=\"text-align: right;\">\n",
       "      <th></th>\n",
       "      <th></th>\n",
       "      <th>date</th>\n",
       "      <th>location</th>\n",
       "      <th>total_vaccinations</th>\n",
       "      <th>total_distributed</th>\n",
       "      <th>people_vaccinated</th>\n",
       "      <th>people_fully_vaccinated_per_hundred</th>\n",
       "      <th>total_vaccinations_per_hundred</th>\n",
       "      <th>people_fully_vaccinated</th>\n",
       "      <th>people_vaccinated_per_hundred</th>\n",
       "      <th>distributed_per_hundred</th>\n",
       "      <th>daily_vaccinations_raw</th>\n",
       "      <th>daily_vaccinations</th>\n",
       "      <th>daily_vaccinations_per_million</th>\n",
       "      <th>share_doses_used</th>\n",
       "      <th>datetime</th>\n",
       "    </tr>\n",
       "    <tr>\n",
       "      <th>location_index</th>\n",
       "      <th>datetime_index</th>\n",
       "      <th></th>\n",
       "      <th></th>\n",
       "      <th></th>\n",
       "      <th></th>\n",
       "      <th></th>\n",
       "      <th></th>\n",
       "      <th></th>\n",
       "      <th></th>\n",
       "      <th></th>\n",
       "      <th></th>\n",
       "      <th></th>\n",
       "      <th></th>\n",
       "      <th></th>\n",
       "      <th></th>\n",
       "      <th></th>\n",
       "    </tr>\n",
       "  </thead>\n",
       "  <tbody>\n",
       "    <tr>\n",
       "      <th rowspan=\"5\" valign=\"top\">Alabama</th>\n",
       "      <th>2021-01-12</th>\n",
       "      <td>2021-01-12</td>\n",
       "      <td>Alabama</td>\n",
       "      <td>78134.0</td>\n",
       "      <td>377025.0</td>\n",
       "      <td>70861.0</td>\n",
       "      <td>0.15</td>\n",
       "      <td>1.59</td>\n",
       "      <td>7270.0</td>\n",
       "      <td>1.45</td>\n",
       "      <td>7.69</td>\n",
       "      <td>NaN</td>\n",
       "      <td>NaN</td>\n",
       "      <td>NaN</td>\n",
       "      <td>0.207</td>\n",
       "      <td>2021-01-12</td>\n",
       "    </tr>\n",
       "    <tr>\n",
       "      <th>2021-01-13</th>\n",
       "      <td>2021-01-13</td>\n",
       "      <td>Alabama</td>\n",
       "      <td>84040.0</td>\n",
       "      <td>378975.0</td>\n",
       "      <td>74792.0</td>\n",
       "      <td>0.19</td>\n",
       "      <td>1.71</td>\n",
       "      <td>9245.0</td>\n",
       "      <td>1.53</td>\n",
       "      <td>7.73</td>\n",
       "      <td>5906.0</td>\n",
       "      <td>5906.0</td>\n",
       "      <td>1205.0</td>\n",
       "      <td>0.222</td>\n",
       "      <td>2021-01-13</td>\n",
       "    </tr>\n",
       "    <tr>\n",
       "      <th>2021-01-14</th>\n",
       "      <td>2021-01-14</td>\n",
       "      <td>Alabama</td>\n",
       "      <td>92300.0</td>\n",
       "      <td>435350.0</td>\n",
       "      <td>80480.0</td>\n",
       "      <td>NaN</td>\n",
       "      <td>1.88</td>\n",
       "      <td>NaN</td>\n",
       "      <td>1.64</td>\n",
       "      <td>8.88</td>\n",
       "      <td>8260.0</td>\n",
       "      <td>7083.0</td>\n",
       "      <td>1445.0</td>\n",
       "      <td>0.212</td>\n",
       "      <td>2021-01-14</td>\n",
       "    </tr>\n",
       "    <tr>\n",
       "      <th>2021-01-15</th>\n",
       "      <td>2021-01-15</td>\n",
       "      <td>Alabama</td>\n",
       "      <td>100567.0</td>\n",
       "      <td>444650.0</td>\n",
       "      <td>86956.0</td>\n",
       "      <td>0.28</td>\n",
       "      <td>2.05</td>\n",
       "      <td>13488.0</td>\n",
       "      <td>1.77</td>\n",
       "      <td>9.07</td>\n",
       "      <td>8267.0</td>\n",
       "      <td>7478.0</td>\n",
       "      <td>1525.0</td>\n",
       "      <td>0.226</td>\n",
       "      <td>2021-01-15</td>\n",
       "    </tr>\n",
       "    <tr>\n",
       "      <th>2021-01-16</th>\n",
       "      <td>2021-01-16</td>\n",
       "      <td>Alabama</td>\n",
       "      <td>NaN</td>\n",
       "      <td>NaN</td>\n",
       "      <td>NaN</td>\n",
       "      <td>NaN</td>\n",
       "      <td>NaN</td>\n",
       "      <td>NaN</td>\n",
       "      <td>NaN</td>\n",
       "      <td>NaN</td>\n",
       "      <td>7557.0</td>\n",
       "      <td>7498.0</td>\n",
       "      <td>1529.0</td>\n",
       "      <td>NaN</td>\n",
       "      <td>2021-01-16</td>\n",
       "    </tr>\n",
       "  </tbody>\n",
       "</table>\n",
       "</div>"
      ],
      "text/plain": [
       "                                     date location  total_vaccinations  \\\n",
       "location_index datetime_index                                            \n",
       "Alabama        2021-01-12      2021-01-12  Alabama             78134.0   \n",
       "               2021-01-13      2021-01-13  Alabama             84040.0   \n",
       "               2021-01-14      2021-01-14  Alabama             92300.0   \n",
       "               2021-01-15      2021-01-15  Alabama            100567.0   \n",
       "               2021-01-16      2021-01-16  Alabama                 NaN   \n",
       "\n",
       "                               total_distributed  people_vaccinated  \\\n",
       "location_index datetime_index                                         \n",
       "Alabama        2021-01-12               377025.0            70861.0   \n",
       "               2021-01-13               378975.0            74792.0   \n",
       "               2021-01-14               435350.0            80480.0   \n",
       "               2021-01-15               444650.0            86956.0   \n",
       "               2021-01-16                    NaN                NaN   \n",
       "\n",
       "                               people_fully_vaccinated_per_hundred  \\\n",
       "location_index datetime_index                                        \n",
       "Alabama        2021-01-12                                     0.15   \n",
       "               2021-01-13                                     0.19   \n",
       "               2021-01-14                                      NaN   \n",
       "               2021-01-15                                     0.28   \n",
       "               2021-01-16                                      NaN   \n",
       "\n",
       "                               total_vaccinations_per_hundred  \\\n",
       "location_index datetime_index                                   \n",
       "Alabama        2021-01-12                                1.59   \n",
       "               2021-01-13                                1.71   \n",
       "               2021-01-14                                1.88   \n",
       "               2021-01-15                                2.05   \n",
       "               2021-01-16                                 NaN   \n",
       "\n",
       "                               people_fully_vaccinated  \\\n",
       "location_index datetime_index                            \n",
       "Alabama        2021-01-12                       7270.0   \n",
       "               2021-01-13                       9245.0   \n",
       "               2021-01-14                          NaN   \n",
       "               2021-01-15                      13488.0   \n",
       "               2021-01-16                          NaN   \n",
       "\n",
       "                               people_vaccinated_per_hundred  \\\n",
       "location_index datetime_index                                  \n",
       "Alabama        2021-01-12                               1.45   \n",
       "               2021-01-13                               1.53   \n",
       "               2021-01-14                               1.64   \n",
       "               2021-01-15                               1.77   \n",
       "               2021-01-16                                NaN   \n",
       "\n",
       "                               distributed_per_hundred  \\\n",
       "location_index datetime_index                            \n",
       "Alabama        2021-01-12                         7.69   \n",
       "               2021-01-13                         7.73   \n",
       "               2021-01-14                         8.88   \n",
       "               2021-01-15                         9.07   \n",
       "               2021-01-16                          NaN   \n",
       "\n",
       "                               daily_vaccinations_raw  daily_vaccinations  \\\n",
       "location_index datetime_index                                               \n",
       "Alabama        2021-01-12                         NaN                 NaN   \n",
       "               2021-01-13                      5906.0              5906.0   \n",
       "               2021-01-14                      8260.0              7083.0   \n",
       "               2021-01-15                      8267.0              7478.0   \n",
       "               2021-01-16                      7557.0              7498.0   \n",
       "\n",
       "                               daily_vaccinations_per_million  \\\n",
       "location_index datetime_index                                   \n",
       "Alabama        2021-01-12                                 NaN   \n",
       "               2021-01-13                              1205.0   \n",
       "               2021-01-14                              1445.0   \n",
       "               2021-01-15                              1525.0   \n",
       "               2021-01-16                              1529.0   \n",
       "\n",
       "                               share_doses_used   datetime  \n",
       "location_index datetime_index                               \n",
       "Alabama        2021-01-12                 0.207 2021-01-12  \n",
       "               2021-01-13                 0.222 2021-01-13  \n",
       "               2021-01-14                 0.212 2021-01-14  \n",
       "               2021-01-15                 0.226 2021-01-15  \n",
       "               2021-01-16                   NaN 2021-01-16  "
      ]
     },
     "execution_count": 656,
     "metadata": {},
     "output_type": "execute_result"
    }
   ],
   "source": [
    "owid_vpop_USA = pd.read_csv('https://raw.githubusercontent.com/owid/covid-19-data/master/public/data/vaccinations/us_state_vaccinations.csv')\n",
    "owid_vpop_USA.sort_values(by=['location', 'date'])\n",
    "owid_vpop_USA.loc[:, 'datetime'] = pd.to_datetime(owid_vpop_USA.loc[:, 'date'])\n",
    "owid_vpop_USA = owid_vpop_USA.set_index(['location', 'datetime'], drop=False)\n",
    "owid_vpop_USA.rename_axis(['location_index', 'datetime_index'], axis='index', inplace=True)\n",
    "# owid_vpop_USA.asfreq(freq='D')\n",
    "\n",
    "owid_vpop_USA.head()"
   ]
  },
  {
   "cell_type": "code",
   "execution_count": null,
   "id": "6dcc24b9",
   "metadata": {},
   "outputs": [],
   "source": []
  },
  {
   "cell_type": "code",
   "execution_count": 657,
   "id": "2ee6153d",
   "metadata": {},
   "outputs": [],
   "source": [
    "owid_vpop_USA.index.levels[1].freq='D'"
   ]
  },
  {
   "cell_type": "code",
   "execution_count": 658,
   "id": "b3533711",
   "metadata": {},
   "outputs": [],
   "source": [
    "StateNames = ['Washington', 'Alabama', 'Texas']\n",
    "StateList = [ owid_vpop_USA.loc[State] for State in StateNames ]"
   ]
  },
  {
   "cell_type": "code",
   "execution_count": 659,
   "id": "29c5e684",
   "metadata": {},
   "outputs": [
    {
     "data": {
      "text/plain": [
       "Text(0.5, 1.0, 'Vaccination Rate in US States')"
      ]
     },
     "execution_count": 659,
     "metadata": {},
     "output_type": "execute_result"
    },
    {
     "data": {
      "image/png": "[encoded data removed]",
      "text/plain": [
       "<Figure size 648x504 with 1 Axes>"
      ]
     },
     "metadata": {
      "needs_background": "light"
     },
     "output_type": "display_data"
    }
   ],
   "source": [
    "for State in StateNames:\n",
    "    pc_full_fig = owid_vpop_USA.loc[State, 'people_vaccinated_per_hundred'].plot(figsize=(9,7))\n",
    "plt.legend(StateNames, fontsize=12)\n",
    "# pc_full_fig.axis_params(labelsize=12)\n",
    "pc_full_fig.tick_params(labelsize=12)\n",
    "plt.xlabel('Date', fontdict={'size': 12})\n",
    "plt.ylabel('% of State Population with at Least One Dose', fontdict={'size': 12})\n",
    "plt.title('Vaccination Rate in US States', fontdict={'size': 14})"
   ]
  },
  {
   "cell_type": "code",
   "execution_count": 660,
   "id": "5d4bd1fb",
   "metadata": {},
   "outputs": [],
   "source": [
    "# Random Forest model function\n",
    "\n",
    "from sklearn.ensemble import RandomForestRegressor\n",
    "\n",
    "def get_random_forest_mae(X_trn, X_tst, y_trn, y_tst):\n",
    "    vax_model = RandomForestRegressor(random_state=1)\n",
    "    vax_model.fit(X_trn, y_trn)\n",
    "    y_tst_prd = vax_model.predict(X_tst)\n",
    "    mae = mean_absolute_error(y_tst, y_tst_prd)\n",
    "    return(y_tst_prd, mae)"
   ]
  },
  {
   "cell_type": "code",
   "execution_count": 661,
   "id": "f46c3306",
   "metadata": {},
   "outputs": [],
   "source": [
    "# def rf_pred(State):\n",
    "\n",
    "#     y = owid_vpop_USA.loc[State, 'people_vaccinated_per_hundred'].asfreq('D') # use percent of population with >= 1 vaccine as y-variable\n",
    "#     X = owid_vpop_USA.loc[State].index # use datetime as x-variable\n",
    "#     X_train, X_test, y_train, y_test = train_test_split(X, y, test_size=0.2, random_state=1)\n",
    "\n",
    "#     y_test_pred, mae = get_random_forest_mae(X_train, X_test, y_train, y_test)\n",
    "    \n",
    "#     plt.plot(pd.concat([X_train, X_test]), pd.concat([y_train, y_test]))\n",
    "#     plt.plot(pd.concat([X_train, X_test]), pd.concat([y_train, y_test_pred]))\n",
    "    \n",
    "#     vax_model = RandomForestRegressor(random_state=1)\n",
    "#     vax_model.fit(X_trainn, y_train)\n",
    "#     y_test_pred = vax_model.predict(X_test)\n",
    "#     mae = mean_absolute_error(y_test, y_test_pred)\n",
    "    \n",
    "#     return(y_test_pred, mae)\n",
    "\n",
    "# #     Y_list.append()\n",
    "# #     X_list.append()\n",
    "# #     X_train_list.append(x_train)"
   ]
  },
  {
   "cell_type": "code",
   "execution_count": 662,
   "id": "841bd82e",
   "metadata": {},
   "outputs": [
    {
     "data": {
      "text/plain": [
       "location_index  datetime_index\n",
       "Alabama         2021-01-12         1.45\n",
       "                2021-01-13         1.53\n",
       "                2021-01-14         1.64\n",
       "                2021-01-15         1.77\n",
       "                2021-01-16          NaN\n",
       "                                  ...  \n",
       "Wyoming         2021-04-29        33.85\n",
       "                2021-04-30        33.94\n",
       "                2021-05-01        34.07\n",
       "                2021-05-02        34.10\n",
       "                2021-05-03        34.10\n",
       "Name: people_vaccinated_per_hundred, Length: 7303, dtype: float64"
      ]
     },
     "execution_count": 662,
     "metadata": {},
     "output_type": "execute_result"
    }
   ],
   "source": [
    "owid_vpop_USA['people_vaccinated_per_hundred']"
   ]
  },
  {
   "cell_type": "code",
   "execution_count": 663,
   "id": "6e417ec9",
   "metadata": {},
   "outputs": [
    {
     "data": {
      "text/plain": [
       "total_vaccinations    float64\n",
       "total_distributed     float64\n",
       "dtype: object"
      ]
     },
     "execution_count": 663,
     "metadata": {},
     "output_type": "execute_result"
    }
   ],
   "source": [
    "X_train.dtypes"
   ]
  },
  {
   "cell_type": "code",
   "execution_count": 606,
   "id": "10ffad52",
   "metadata": {},
   "outputs": [],
   "source": [
    "# df_test_pred[y_col].values"
   ]
  },
  {
   "cell_type": "code",
   "execution_count": null,
   "id": "44f8cf13",
   "metadata": {},
   "outputs": [],
   "source": [
    "y.asfreq(freq='D')"
   ]
  },
  {
   "cell_type": "code",
   "execution_count": null,
   "id": "d2bb10be",
   "metadata": {},
   "outputs": [],
   "source": [
    "y = owid_vpop_USA_clean.loc[State, y_col].asfreq('D').fillna(method='ffill') # use percent of population with >= 1 vaccine as y-variable\n",
    "X = owid_vpop_USA_clean.loc[State, X_cols] # use datetime as x-variable\n",
    "# X_train, X_test, y_train, y_test = train_test_split(X, y, test_size=0.2, random_state=1)\n",
    "\n",
    "# y_test_pred_df = y_test.copy()\n",
    "\n",
    "# vax_model = RandomForestRegressor(random_state=1)\n",
    "# vax_model.fit(X_train, y_train)\n",
    "# y_test_pred_ar = vax_model.predict(X_test)\n",
    "\n",
    "# y_test_pred_df = pd.DataFrame(y_test_pred, index=y_test.index)\n",
    "\n",
    "# mae = mean_absolute_error(y_test, y_test_pred)\n",
    "\n",
    "# # y_real_df = \n",
    "# # y_pred_df = \n",
    "\n",
    "# df_real = pd.concat([X_train, X_test]).join(pd.concat([y_train, y_test]))\n",
    "# df_test_pred = X_test.join(y_test_pred_df)\n",
    "\n",
    "# df_real[y_col].plot(figsize=(9,7))\n",
    "# df_test_pred[y_col].plot(figsize=(9,7))\n",
    "# plt.plot(df_test_pred[X_cols], df_test_pred['people_vaccinated_per_hundred'])\n",
    "# plt.plot(, )\n",
    "# plt.plot(np.concatenate([X_train, X_test]), np.concatenate([y_train, y_test_pred]))\n",
    "\n"
   ]
  },
  {
   "cell_type": "code",
   "execution_count": null,
   "id": "f787de4c",
   "metadata": {},
   "outputs": [],
   "source": [
    "X.index.freq"
   ]
  },
  {
   "cell_type": "code",
   "execution_count": 522,
   "id": "c5765b89",
   "metadata": {},
   "outputs": [
    {
     "data": {
      "text/plain": [
       "datetime_index\n",
       "2021-01-12     2.79\n",
       "2021-01-13     2.97\n",
       "2021-01-14     3.16\n",
       "2021-01-15     3.46\n",
       "2021-01-19     4.22\n",
       "              ...  \n",
       "2021-04-27    37.42\n",
       "2021-04-28    37.65\n",
       "2021-04-29    37.93\n",
       "2021-04-30    38.26\n",
       "2021-05-01    38.50\n",
       "Name: people_vaccinated_per_hundred, Length: 106, dtype: float64"
      ]
     },
     "execution_count": 522,
     "metadata": {},
     "output_type": "execute_result"
    }
   ],
   "source": [
    "owid_vpop_USA_clean.loc[State, y_col]"
   ]
  },
  {
   "cell_type": "code",
   "execution_count": 823,
   "id": "74e65ee8",
   "metadata": {},
   "outputs": [],
   "source": [
    "X_cols = ['total_vaccinations', 'total_distributed']\n",
    "y_col = 'people_vaccinated_per_hundred'\n",
    "owid_vpop_USA_clean = owid_vpop_USA.dropna(subset=X_cols+[y_col])"
   ]
  },
  {
   "cell_type": "code",
   "execution_count": 513,
   "id": "175b0149",
   "metadata": {},
   "outputs": [
    {
     "data": {
      "text/plain": [
       "total_vaccinations               0\n",
       "total_distributed                0\n",
       "people_vaccinated_per_hundred    0\n",
       "dtype: int64"
      ]
     },
     "execution_count": 513,
     "metadata": {},
     "output_type": "execute_result"
    }
   ],
   "source": [
    "owid_vpop_USA_clean[X_cols+[y_col]].isna().sum()"
   ]
  },
  {
   "cell_type": "code",
   "execution_count": 556,
   "id": "719e5269",
   "metadata": {},
   "outputs": [
    {
     "data": {
      "text/plain": [
       "datetime_index\n",
       "2021-01-12     2.79\n",
       "2021-01-13     2.97\n",
       "2021-01-14     3.16\n",
       "2021-01-15     3.46\n",
       "2021-01-16     3.46\n",
       "              ...  \n",
       "2021-04-27    37.42\n",
       "2021-04-28    37.65\n",
       "2021-04-29    37.93\n",
       "2021-04-30    38.26\n",
       "2021-05-01    38.50\n",
       "Freq: D, Name: people_vaccinated_per_hundred, Length: 110, dtype: float64"
      ]
     },
     "execution_count": 556,
     "metadata": {},
     "output_type": "execute_result"
    }
   ],
   "source": [
    "y_test"
   ]
  },
  {
   "cell_type": "code",
   "execution_count": 762,
   "id": "999352f1",
   "metadata": {},
   "outputs": [
    {
     "data": {
      "text/plain": [
       "0.014098575987584782"
      ]
     },
     "execution_count": 762,
     "metadata": {},
     "output_type": "execute_result"
    }
   ],
   "source": [
    "# tutorial from https://analyticsindiamag.com/sktime-library/\n",
    "\n",
    "from sktime.datasets import load_airline\n",
    "from sktime.forecasting.base import ForecastingHorizon\n",
    "from sktime.forecasting.model_selection import temporal_train_test_split\n",
    "from sktime.forecasting.theta import ThetaForecaster\n",
    "from sktime.performance_metrics.forecasting import smape_loss\n",
    "\n",
    "# y = load_airline()\n",
    "y = y_clean\n",
    "# y_train, y_test = temporal_train_test_split(y, train_size=0.9)\n",
    "y_train = \n",
    "fh = ForecastingHorizon(y_test.index, is_relative=False)\n",
    "forecaster = ThetaForecaster(deseasonalize=True, sp=38)  # monthly seasonal periodicity\n",
    "forecaster.fit(y_train)\n",
    "y_test_pred = forecaster.predict(fh)\n",
    "smape_loss(y_test, y_test_pred)"
   ]
  },
  {
   "cell_type": "code",
   "execution_count": 767,
   "id": "5f24a6bd",
   "metadata": {},
   "outputs": [
    {
     "data": {
      "text/plain": [
       "110"
      ]
     },
     "execution_count": 767,
     "metadata": {},
     "output_type": "execute_result"
    }
   ],
   "source": [
    "round(len(y))"
   ]
  },
  {
   "cell_type": "code",
   "execution_count": 760,
   "id": "6ea65dc7",
   "metadata": {},
   "outputs": [
    {
     "data": {
      "text/plain": [
       "<AxesSubplot:xlabel='datetime_index'>"
      ]
     },
     "execution_count": 760,
     "metadata": {},
     "output_type": "execute_result"
    },
    {
     "data": {
      "image/png": "[encoded data removed]",
      "text/plain": [
       "<Figure size 432x288 with 1 Axes>"
      ]
     },
     "metadata": {
      "needs_background": "light"
     },
     "output_type": "display_data"
    }
   ],
   "source": [
    "y.plot()\n",
    "pd.concat([y_train, y_test_pred]).plot()"
   ]
  },
  {
   "cell_type": "code",
   "execution_count": 747,
   "id": "3eed57c2",
   "metadata": {},
   "outputs": [],
   "source": [
    "from sklearn.ensemble import RandomForestRegressor\n",
    "\n",
    "def get_mdl_mae(X_trn, X_tst, y_trn, y_tst, mdl):\n",
    "    vax_model = mdl\n",
    "    vax_model.fit(X_trn, y_trn)\n",
    "    y_tst_prd = vax_model.predict(X_tst)\n",
    "    mae = mean_absolute_error(y_tst, y_tst_prd)\n",
    "    return(y_tst_prd, mae)"
   ]
  },
  {
   "cell_type": "code",
   "execution_count": 715,
   "id": "de4899de",
   "metadata": {},
   "outputs": [
    {
     "data": {
      "text/plain": [
       "<function sklearn.model_selection._split.train_test_split(*arrays, test_size=None, train_size=None, random_state=None, shuffle=True, stratify=None)>"
      ]
     },
     "execution_count": 715,
     "metadata": {},
     "output_type": "execute_result"
    }
   ],
   "source": [
    "train_test_split"
   ]
  },
  {
   "cell_type": "code",
   "execution_count": null,
   "id": "f5174e12",
   "metadata": {},
   "outputs": [],
   "source": []
  },
  {
   "cell_type": "code",
   "execution_count": 834,
   "id": "b040d746",
   "metadata": {},
   "outputs": [],
   "source": [
    "df_orig = pd.read_csv('https://raw.githubusercontent.com/owid/covid-19-data/master/public/data/vaccinations/us_state_vaccinations.csv')\n",
    "\n",
    "df_clean = df_cleaner(df_orig)"
   ]
  },
  {
   "cell_type": "code",
   "execution_count": 835,
   "id": "c2b1f049",
   "metadata": {},
   "outputs": [
    {
     "data": {
      "text/html": [
       "<div>\n",
       "<style scoped>\n",
       "    .dataframe tbody tr th:only-of-type {\n",
       "        vertical-align: middle;\n",
       "    }\n",
       "\n",
       "    .dataframe tbody tr th {\n",
       "        vertical-align: top;\n",
       "    }\n",
       "\n",
       "    .dataframe thead th {\n",
       "        text-align: right;\n",
       "    }\n",
       "</style>\n",
       "<table border=\"1\" class=\"dataframe\">\n",
       "  <thead>\n",
       "    <tr style=\"text-align: right;\">\n",
       "      <th></th>\n",
       "      <th></th>\n",
       "      <th>date</th>\n",
       "      <th>location</th>\n",
       "      <th>total_vaccinations</th>\n",
       "      <th>total_distributed</th>\n",
       "      <th>people_vaccinated</th>\n",
       "      <th>people_fully_vaccinated_per_hundred</th>\n",
       "      <th>total_vaccinations_per_hundred</th>\n",
       "      <th>people_fully_vaccinated</th>\n",
       "      <th>people_vaccinated_per_hundred</th>\n",
       "      <th>distributed_per_hundred</th>\n",
       "      <th>daily_vaccinations_raw</th>\n",
       "      <th>daily_vaccinations</th>\n",
       "      <th>daily_vaccinations_per_million</th>\n",
       "      <th>share_doses_used</th>\n",
       "      <th>datetime</th>\n",
       "    </tr>\n",
       "    <tr>\n",
       "      <th>location_index</th>\n",
       "      <th>datetime_index</th>\n",
       "      <th></th>\n",
       "      <th></th>\n",
       "      <th></th>\n",
       "      <th></th>\n",
       "      <th></th>\n",
       "      <th></th>\n",
       "      <th></th>\n",
       "      <th></th>\n",
       "      <th></th>\n",
       "      <th></th>\n",
       "      <th></th>\n",
       "      <th></th>\n",
       "      <th></th>\n",
       "      <th></th>\n",
       "      <th></th>\n",
       "    </tr>\n",
       "  </thead>\n",
       "  <tbody>\n",
       "    <tr>\n",
       "      <th rowspan=\"5\" valign=\"top\">Alabama</th>\n",
       "      <th>2021-01-13</th>\n",
       "      <td>2021-01-13</td>\n",
       "      <td>Alabama</td>\n",
       "      <td>84040.0</td>\n",
       "      <td>378975.0</td>\n",
       "      <td>74792.0</td>\n",
       "      <td>0.19</td>\n",
       "      <td>1.71</td>\n",
       "      <td>9245.0</td>\n",
       "      <td>1.53</td>\n",
       "      <td>7.73</td>\n",
       "      <td>5906.0</td>\n",
       "      <td>5906.0</td>\n",
       "      <td>1205.0</td>\n",
       "      <td>0.222</td>\n",
       "      <td>2021-01-13</td>\n",
       "    </tr>\n",
       "    <tr>\n",
       "      <th>2021-01-14</th>\n",
       "      <td>2021-01-14</td>\n",
       "      <td>Alabama</td>\n",
       "      <td>92300.0</td>\n",
       "      <td>435350.0</td>\n",
       "      <td>80480.0</td>\n",
       "      <td>0.19</td>\n",
       "      <td>1.88</td>\n",
       "      <td>9245.0</td>\n",
       "      <td>1.64</td>\n",
       "      <td>8.88</td>\n",
       "      <td>8260.0</td>\n",
       "      <td>7083.0</td>\n",
       "      <td>1445.0</td>\n",
       "      <td>0.212</td>\n",
       "      <td>2021-01-14</td>\n",
       "    </tr>\n",
       "    <tr>\n",
       "      <th>2021-01-15</th>\n",
       "      <td>2021-01-15</td>\n",
       "      <td>Alabama</td>\n",
       "      <td>100567.0</td>\n",
       "      <td>444650.0</td>\n",
       "      <td>86956.0</td>\n",
       "      <td>0.28</td>\n",
       "      <td>2.05</td>\n",
       "      <td>13488.0</td>\n",
       "      <td>1.77</td>\n",
       "      <td>9.07</td>\n",
       "      <td>8267.0</td>\n",
       "      <td>7478.0</td>\n",
       "      <td>1525.0</td>\n",
       "      <td>0.226</td>\n",
       "      <td>2021-01-15</td>\n",
       "    </tr>\n",
       "    <tr>\n",
       "      <th>2021-01-16</th>\n",
       "      <td>2021-01-16</td>\n",
       "      <td>Alabama</td>\n",
       "      <td>100567.0</td>\n",
       "      <td>444650.0</td>\n",
       "      <td>86956.0</td>\n",
       "      <td>0.28</td>\n",
       "      <td>2.05</td>\n",
       "      <td>13488.0</td>\n",
       "      <td>1.77</td>\n",
       "      <td>9.07</td>\n",
       "      <td>7557.0</td>\n",
       "      <td>7498.0</td>\n",
       "      <td>1529.0</td>\n",
       "      <td>0.226</td>\n",
       "      <td>2021-01-16</td>\n",
       "    </tr>\n",
       "    <tr>\n",
       "      <th>2021-01-17</th>\n",
       "      <td>2021-01-17</td>\n",
       "      <td>Alabama</td>\n",
       "      <td>100567.0</td>\n",
       "      <td>444650.0</td>\n",
       "      <td>86956.0</td>\n",
       "      <td>0.28</td>\n",
       "      <td>2.05</td>\n",
       "      <td>13488.0</td>\n",
       "      <td>1.77</td>\n",
       "      <td>9.07</td>\n",
       "      <td>7557.0</td>\n",
       "      <td>7509.0</td>\n",
       "      <td>1531.0</td>\n",
       "      <td>0.226</td>\n",
       "      <td>2021-01-17</td>\n",
       "    </tr>\n",
       "    <tr>\n",
       "      <th>...</th>\n",
       "      <th>...</th>\n",
       "      <td>...</td>\n",
       "      <td>...</td>\n",
       "      <td>...</td>\n",
       "      <td>...</td>\n",
       "      <td>...</td>\n",
       "      <td>...</td>\n",
       "      <td>...</td>\n",
       "      <td>...</td>\n",
       "      <td>...</td>\n",
       "      <td>...</td>\n",
       "      <td>...</td>\n",
       "      <td>...</td>\n",
       "      <td>...</td>\n",
       "      <td>...</td>\n",
       "      <td>...</td>\n",
       "    </tr>\n",
       "    <tr>\n",
       "      <th rowspan=\"5\" valign=\"top\">Wyoming</th>\n",
       "      <th>2021-04-29</th>\n",
       "      <td>2021-04-29</td>\n",
       "      <td>Wyoming</td>\n",
       "      <td>353401.0</td>\n",
       "      <td>478185.0</td>\n",
       "      <td>195885.0</td>\n",
       "      <td>27.42</td>\n",
       "      <td>61.06</td>\n",
       "      <td>158672.0</td>\n",
       "      <td>33.85</td>\n",
       "      <td>82.62</td>\n",
       "      <td>4518.0</td>\n",
       "      <td>2263.0</td>\n",
       "      <td>3910.0</td>\n",
       "      <td>0.739</td>\n",
       "      <td>2021-04-29</td>\n",
       "    </tr>\n",
       "    <tr>\n",
       "      <th>2021-04-30</th>\n",
       "      <td>2021-04-30</td>\n",
       "      <td>Wyoming</td>\n",
       "      <td>356057.0</td>\n",
       "      <td>479485.0</td>\n",
       "      <td>196453.0</td>\n",
       "      <td>27.76</td>\n",
       "      <td>61.52</td>\n",
       "      <td>160656.0</td>\n",
       "      <td>33.94</td>\n",
       "      <td>82.85</td>\n",
       "      <td>2656.0</td>\n",
       "      <td>2182.0</td>\n",
       "      <td>3770.0</td>\n",
       "      <td>0.743</td>\n",
       "      <td>2021-04-30</td>\n",
       "    </tr>\n",
       "    <tr>\n",
       "      <th>2021-05-01</th>\n",
       "      <td>2021-05-01</td>\n",
       "      <td>Wyoming</td>\n",
       "      <td>358222.0</td>\n",
       "      <td>483195.0</td>\n",
       "      <td>197208.0</td>\n",
       "      <td>28.01</td>\n",
       "      <td>61.89</td>\n",
       "      <td>162127.0</td>\n",
       "      <td>34.07</td>\n",
       "      <td>83.49</td>\n",
       "      <td>2165.0</td>\n",
       "      <td>2476.0</td>\n",
       "      <td>4278.0</td>\n",
       "      <td>0.741</td>\n",
       "      <td>2021-05-01</td>\n",
       "    </tr>\n",
       "    <tr>\n",
       "      <th>2021-05-02</th>\n",
       "      <td>2021-05-02</td>\n",
       "      <td>Wyoming</td>\n",
       "      <td>358512.0</td>\n",
       "      <td>483195.0</td>\n",
       "      <td>197340.0</td>\n",
       "      <td>28.05</td>\n",
       "      <td>61.94</td>\n",
       "      <td>162328.0</td>\n",
       "      <td>34.10</td>\n",
       "      <td>83.49</td>\n",
       "      <td>290.0</td>\n",
       "      <td>2484.0</td>\n",
       "      <td>4292.0</td>\n",
       "      <td>0.742</td>\n",
       "      <td>2021-05-02</td>\n",
       "    </tr>\n",
       "    <tr>\n",
       "      <th>2021-05-03</th>\n",
       "      <td>2021-05-03</td>\n",
       "      <td>Wyoming</td>\n",
       "      <td>358545.0</td>\n",
       "      <td>483195.0</td>\n",
       "      <td>197374.0</td>\n",
       "      <td>28.05</td>\n",
       "      <td>61.95</td>\n",
       "      <td>162356.0</td>\n",
       "      <td>34.10</td>\n",
       "      <td>83.49</td>\n",
       "      <td>33.0</td>\n",
       "      <td>1409.0</td>\n",
       "      <td>2435.0</td>\n",
       "      <td>0.742</td>\n",
       "      <td>2021-05-03</td>\n",
       "    </tr>\n",
       "  </tbody>\n",
       "</table>\n",
       "<p>7302 rows × 15 columns</p>\n",
       "</div>"
      ],
      "text/plain": [
       "                                     date location  total_vaccinations  \\\n",
       "location_index datetime_index                                            \n",
       "Alabama        2021-01-13      2021-01-13  Alabama             84040.0   \n",
       "               2021-01-14      2021-01-14  Alabama             92300.0   \n",
       "               2021-01-15      2021-01-15  Alabama            100567.0   \n",
       "               2021-01-16      2021-01-16  Alabama            100567.0   \n",
       "               2021-01-17      2021-01-17  Alabama            100567.0   \n",
       "...                                   ...      ...                 ...   \n",
       "Wyoming        2021-04-29      2021-04-29  Wyoming            353401.0   \n",
       "               2021-04-30      2021-04-30  Wyoming            356057.0   \n",
       "               2021-05-01      2021-05-01  Wyoming            358222.0   \n",
       "               2021-05-02      2021-05-02  Wyoming            358512.0   \n",
       "               2021-05-03      2021-05-03  Wyoming            358545.0   \n",
       "\n",
       "                               total_distributed  people_vaccinated  \\\n",
       "location_index datetime_index                                         \n",
       "Alabama        2021-01-13               378975.0            74792.0   \n",
       "               2021-01-14               435350.0            80480.0   \n",
       "               2021-01-15               444650.0            86956.0   \n",
       "               2021-01-16               444650.0            86956.0   \n",
       "               2021-01-17               444650.0            86956.0   \n",
       "...                                          ...                ...   \n",
       "Wyoming        2021-04-29               478185.0           195885.0   \n",
       "               2021-04-30               479485.0           196453.0   \n",
       "               2021-05-01               483195.0           197208.0   \n",
       "               2021-05-02               483195.0           197340.0   \n",
       "               2021-05-03               483195.0           197374.0   \n",
       "\n",
       "                               people_fully_vaccinated_per_hundred  \\\n",
       "location_index datetime_index                                        \n",
       "Alabama        2021-01-13                                     0.19   \n",
       "               2021-01-14                                     0.19   \n",
       "               2021-01-15                                     0.28   \n",
       "               2021-01-16                                     0.28   \n",
       "               2021-01-17                                     0.28   \n",
       "...                                                            ...   \n",
       "Wyoming        2021-04-29                                    27.42   \n",
       "               2021-04-30                                    27.76   \n",
       "               2021-05-01                                    28.01   \n",
       "               2021-05-02                                    28.05   \n",
       "               2021-05-03                                    28.05   \n",
       "\n",
       "                               total_vaccinations_per_hundred  \\\n",
       "location_index datetime_index                                   \n",
       "Alabama        2021-01-13                                1.71   \n",
       "               2021-01-14                                1.88   \n",
       "               2021-01-15                                2.05   \n",
       "               2021-01-16                                2.05   \n",
       "               2021-01-17                                2.05   \n",
       "...                                                       ...   \n",
       "Wyoming        2021-04-29                               61.06   \n",
       "               2021-04-30                               61.52   \n",
       "               2021-05-01                               61.89   \n",
       "               2021-05-02                               61.94   \n",
       "               2021-05-03                               61.95   \n",
       "\n",
       "                               people_fully_vaccinated  \\\n",
       "location_index datetime_index                            \n",
       "Alabama        2021-01-13                       9245.0   \n",
       "               2021-01-14                       9245.0   \n",
       "               2021-01-15                      13488.0   \n",
       "               2021-01-16                      13488.0   \n",
       "               2021-01-17                      13488.0   \n",
       "...                                                ...   \n",
       "Wyoming        2021-04-29                     158672.0   \n",
       "               2021-04-30                     160656.0   \n",
       "               2021-05-01                     162127.0   \n",
       "               2021-05-02                     162328.0   \n",
       "               2021-05-03                     162356.0   \n",
       "\n",
       "                               people_vaccinated_per_hundred  \\\n",
       "location_index datetime_index                                  \n",
       "Alabama        2021-01-13                               1.53   \n",
       "               2021-01-14                               1.64   \n",
       "               2021-01-15                               1.77   \n",
       "               2021-01-16                               1.77   \n",
       "               2021-01-17                               1.77   \n",
       "...                                                      ...   \n",
       "Wyoming        2021-04-29                              33.85   \n",
       "               2021-04-30                              33.94   \n",
       "               2021-05-01                              34.07   \n",
       "               2021-05-02                              34.10   \n",
       "               2021-05-03                              34.10   \n",
       "\n",
       "                               distributed_per_hundred  \\\n",
       "location_index datetime_index                            \n",
       "Alabama        2021-01-13                         7.73   \n",
       "               2021-01-14                         8.88   \n",
       "               2021-01-15                         9.07   \n",
       "               2021-01-16                         9.07   \n",
       "               2021-01-17                         9.07   \n",
       "...                                                ...   \n",
       "Wyoming        2021-04-29                        82.62   \n",
       "               2021-04-30                        82.85   \n",
       "               2021-05-01                        83.49   \n",
       "               2021-05-02                        83.49   \n",
       "               2021-05-03                        83.49   \n",
       "\n",
       "                               daily_vaccinations_raw  daily_vaccinations  \\\n",
       "location_index datetime_index                                               \n",
       "Alabama        2021-01-13                      5906.0              5906.0   \n",
       "               2021-01-14                      8260.0              7083.0   \n",
       "               2021-01-15                      8267.0              7478.0   \n",
       "               2021-01-16                      7557.0              7498.0   \n",
       "               2021-01-17                      7557.0              7509.0   \n",
       "...                                               ...                 ...   \n",
       "Wyoming        2021-04-29                      4518.0              2263.0   \n",
       "               2021-04-30                      2656.0              2182.0   \n",
       "               2021-05-01                      2165.0              2476.0   \n",
       "               2021-05-02                       290.0              2484.0   \n",
       "               2021-05-03                        33.0              1409.0   \n",
       "\n",
       "                               daily_vaccinations_per_million  \\\n",
       "location_index datetime_index                                   \n",
       "Alabama        2021-01-13                              1205.0   \n",
       "               2021-01-14                              1445.0   \n",
       "               2021-01-15                              1525.0   \n",
       "               2021-01-16                              1529.0   \n",
       "               2021-01-17                              1531.0   \n",
       "...                                                       ...   \n",
       "Wyoming        2021-04-29                              3910.0   \n",
       "               2021-04-30                              3770.0   \n",
       "               2021-05-01                              4278.0   \n",
       "               2021-05-02                              4292.0   \n",
       "               2021-05-03                              2435.0   \n",
       "\n",
       "                               share_doses_used   datetime  \n",
       "location_index datetime_index                               \n",
       "Alabama        2021-01-13                 0.222 2021-01-13  \n",
       "               2021-01-14                 0.212 2021-01-14  \n",
       "               2021-01-15                 0.226 2021-01-15  \n",
       "               2021-01-16                 0.226 2021-01-16  \n",
       "               2021-01-17                 0.226 2021-01-17  \n",
       "...                                         ...        ...  \n",
       "Wyoming        2021-04-29                 0.739 2021-04-29  \n",
       "               2021-04-30                 0.743 2021-04-30  \n",
       "               2021-05-01                 0.741 2021-05-01  \n",
       "               2021-05-02                 0.742 2021-05-02  \n",
       "               2021-05-03                 0.742 2021-05-03  \n",
       "\n",
       "[7302 rows x 15 columns]"
      ]
     },
     "execution_count": 835,
     "metadata": {},
     "output_type": "execute_result"
    }
   ],
   "source": [
    "df_clean"
   ]
  },
  {
   "cell_type": "code",
   "execution_count": 818,
   "id": "99d28444",
   "metadata": {},
   "outputs": [],
   "source": [
    "def get_mdl_mae(X_trn, X_tst, y_trn, y_tst, mdl):\n",
    "    vax_model = mdl\n",
    "    vax_model.fit(X_trn, y_trn)\n",
    "    y_tst_prd = vax_model.predict(X_tst)\n",
    "    mae = mean_absolute_error(y_tst, y_tst_prd)\n",
    "    return(y_tst_prd, mae)"
   ]
  },
  {
   "cell_type": "code",
   "execution_count": null,
   "id": "307faa73",
   "metadata": {},
   "outputs": [],
   "source": [
    "from sklearn.ensemble import RandomForestRegressor\n",
    "train\n",
    "\n",
    "get_mdl_mae()"
   ]
  },
  {
   "cell_type": "code",
   "execution_count": 819,
   "id": "4ef2a06f",
   "metadata": {},
   "outputs": [],
   "source": [
    "from sklearn.linear_model import LinearRegression\n",
    "\n",
    "def get_mdl_mae(X_trn, X_tst, y_trn, y_tst, mdl):\n",
    "    vax_model = mdl\n",
    "    vax_model.fit(X_trn, y_trn)\n",
    "    y_tst_prd = vax_model.predict(X_tst)\n",
    "    mae = mean_absolute_error(y_tst, y_tst_prd)\n",
    "    return(y_tst_prd, mae)"
   ]
  },
  {
   "cell_type": "code",
   "execution_count": null,
   "id": "8bd81aca",
   "metadata": {},
   "outputs": [],
   "source": []
  },
  {
   "cell_type": "code",
   "execution_count": 820,
   "id": "7fe8e428",
   "metadata": {},
   "outputs": [
    {
     "ename": "ValueError",
     "evalue": "Found input variables with inconsistent numbers of samples: [106, 110]",
     "output_type": "error",
     "traceback": [
      "\u001b[1;31m---------------------------------------------------------------------------\u001b[0m",
      "\u001b[1;31mValueError\u001b[0m                                Traceback (most recent call last)",
      "\u001b[1;32m<ipython-input-820-f51285251a87>\u001b[0m in \u001b[0;36m<module>\u001b[1;34m\u001b[0m\n\u001b[0;32m      1\u001b[0m \u001b[1;32mfrom\u001b[0m \u001b[0msklearn\u001b[0m\u001b[1;33m.\u001b[0m\u001b[0mmodel_selection\u001b[0m \u001b[1;32mimport\u001b[0m \u001b[0mtrain_test_split\u001b[0m \u001b[1;31m# to split data into training and testing data\u001b[0m\u001b[1;33m\u001b[0m\u001b[1;33m\u001b[0m\u001b[0m\n\u001b[0;32m      2\u001b[0m \u001b[1;33m\u001b[0m\u001b[0m\n\u001b[1;32m----> 3\u001b[1;33m \u001b[0mX_train\u001b[0m\u001b[1;33m,\u001b[0m \u001b[0mX_test\u001b[0m\u001b[1;33m,\u001b[0m \u001b[0my_train\u001b[0m\u001b[1;33m,\u001b[0m \u001b[0my_test\u001b[0m \u001b[1;33m=\u001b[0m \u001b[0mtrain_test_split\u001b[0m\u001b[1;33m(\u001b[0m\u001b[0mX\u001b[0m\u001b[1;33m,\u001b[0m \u001b[0my\u001b[0m\u001b[1;33m,\u001b[0m \u001b[0mtest_size\u001b[0m\u001b[1;33m=\u001b[0m\u001b[1;36m0.2\u001b[0m\u001b[1;33m,\u001b[0m \u001b[0mrandom_state\u001b[0m\u001b[1;33m=\u001b[0m\u001b[1;36m1\u001b[0m\u001b[1;33m)\u001b[0m\u001b[1;33m\u001b[0m\u001b[1;33m\u001b[0m\u001b[0m\n\u001b[0m\u001b[0;32m      4\u001b[0m \u001b[1;33m\u001b[0m\u001b[0m\n\u001b[0;32m      5\u001b[0m \u001b[0mget_mdl_mae\u001b[0m\u001b[1;33m(\u001b[0m\u001b[0mX_trn\u001b[0m\u001b[1;33m,\u001b[0m \u001b[0mX_tst\u001b[0m\u001b[1;33m,\u001b[0m \u001b[0my_trn\u001b[0m\u001b[1;33m,\u001b[0m \u001b[0my_tst\u001b[0m\u001b[1;33m,\u001b[0m \u001b[0mmdl\u001b[0m\u001b[1;33m)\u001b[0m\u001b[1;33m\u001b[0m\u001b[1;33m\u001b[0m\u001b[0m\n",
      "\u001b[1;32m~\\anaconda3\\lib\\site-packages\\sklearn\\model_selection\\_split.py\u001b[0m in \u001b[0;36mtrain_test_split\u001b[1;34m(test_size, train_size, random_state, shuffle, stratify, *arrays)\u001b[0m\n\u001b[0;32m   2170\u001b[0m         \u001b[1;32mraise\u001b[0m \u001b[0mValueError\u001b[0m\u001b[1;33m(\u001b[0m\u001b[1;34m\"At least one array required as input\"\u001b[0m\u001b[1;33m)\u001b[0m\u001b[1;33m\u001b[0m\u001b[1;33m\u001b[0m\u001b[0m\n\u001b[0;32m   2171\u001b[0m \u001b[1;33m\u001b[0m\u001b[0m\n\u001b[1;32m-> 2172\u001b[1;33m     \u001b[0marrays\u001b[0m \u001b[1;33m=\u001b[0m \u001b[0mindexable\u001b[0m\u001b[1;33m(\u001b[0m\u001b[1;33m*\u001b[0m\u001b[0marrays\u001b[0m\u001b[1;33m)\u001b[0m\u001b[1;33m\u001b[0m\u001b[1;33m\u001b[0m\u001b[0m\n\u001b[0m\u001b[0;32m   2173\u001b[0m \u001b[1;33m\u001b[0m\u001b[0m\n\u001b[0;32m   2174\u001b[0m     \u001b[0mn_samples\u001b[0m \u001b[1;33m=\u001b[0m \u001b[0m_num_samples\u001b[0m\u001b[1;33m(\u001b[0m\u001b[0marrays\u001b[0m\u001b[1;33m[\u001b[0m\u001b[1;36m0\u001b[0m\u001b[1;33m]\u001b[0m\u001b[1;33m)\u001b[0m\u001b[1;33m\u001b[0m\u001b[1;33m\u001b[0m\u001b[0m\n",
      "\u001b[1;32m~\\anaconda3\\lib\\site-packages\\sklearn\\utils\\validation.py\u001b[0m in \u001b[0;36mindexable\u001b[1;34m(*iterables)\u001b[0m\n\u001b[0;32m    297\u001b[0m     \"\"\"\n\u001b[0;32m    298\u001b[0m     \u001b[0mresult\u001b[0m \u001b[1;33m=\u001b[0m \u001b[1;33m[\u001b[0m\u001b[0m_make_indexable\u001b[0m\u001b[1;33m(\u001b[0m\u001b[0mX\u001b[0m\u001b[1;33m)\u001b[0m \u001b[1;32mfor\u001b[0m \u001b[0mX\u001b[0m \u001b[1;32min\u001b[0m \u001b[0miterables\u001b[0m\u001b[1;33m]\u001b[0m\u001b[1;33m\u001b[0m\u001b[1;33m\u001b[0m\u001b[0m\n\u001b[1;32m--> 299\u001b[1;33m     \u001b[0mcheck_consistent_length\u001b[0m\u001b[1;33m(\u001b[0m\u001b[1;33m*\u001b[0m\u001b[0mresult\u001b[0m\u001b[1;33m)\u001b[0m\u001b[1;33m\u001b[0m\u001b[1;33m\u001b[0m\u001b[0m\n\u001b[0m\u001b[0;32m    300\u001b[0m     \u001b[1;32mreturn\u001b[0m \u001b[0mresult\u001b[0m\u001b[1;33m\u001b[0m\u001b[1;33m\u001b[0m\u001b[0m\n\u001b[0;32m    301\u001b[0m \u001b[1;33m\u001b[0m\u001b[0m\n",
      "\u001b[1;32m~\\anaconda3\\lib\\site-packages\\sklearn\\utils\\validation.py\u001b[0m in \u001b[0;36mcheck_consistent_length\u001b[1;34m(*arrays)\u001b[0m\n\u001b[0;32m    260\u001b[0m     \u001b[0muniques\u001b[0m \u001b[1;33m=\u001b[0m \u001b[0mnp\u001b[0m\u001b[1;33m.\u001b[0m\u001b[0munique\u001b[0m\u001b[1;33m(\u001b[0m\u001b[0mlengths\u001b[0m\u001b[1;33m)\u001b[0m\u001b[1;33m\u001b[0m\u001b[1;33m\u001b[0m\u001b[0m\n\u001b[0;32m    261\u001b[0m     \u001b[1;32mif\u001b[0m \u001b[0mlen\u001b[0m\u001b[1;33m(\u001b[0m\u001b[0muniques\u001b[0m\u001b[1;33m)\u001b[0m \u001b[1;33m>\u001b[0m \u001b[1;36m1\u001b[0m\u001b[1;33m:\u001b[0m\u001b[1;33m\u001b[0m\u001b[1;33m\u001b[0m\u001b[0m\n\u001b[1;32m--> 262\u001b[1;33m         raise ValueError(\"Found input variables with inconsistent numbers of\"\n\u001b[0m\u001b[0;32m    263\u001b[0m                          \" samples: %r\" % [int(l) for l in lengths])\n\u001b[0;32m    264\u001b[0m \u001b[1;33m\u001b[0m\u001b[0m\n",
      "\u001b[1;31mValueError\u001b[0m: Found input variables with inconsistent numbers of samples: [106, 110]"
     ]
    }
   ],
   "source": [
    "from sklearn.model_selection import train_test_split # to split data into training and testing data\n",
    "\n",
    "X_train, X_test, y_train, y_test = train_test_split(X, y, test_size=0.2, random_state=1)\n",
    "\n",
    "get_mdl_mae(X_trn, X_tst, y_trn, y_tst, mdl)"
   ]
  },
  {
   "cell_type": "code",
   "execution_count": 787,
   "id": "f5306063",
   "metadata": {},
   "outputs": [
    {
     "data": {
      "text/html": [
       "<div>\n",
       "<style scoped>\n",
       "    .dataframe tbody tr th:only-of-type {\n",
       "        vertical-align: middle;\n",
       "    }\n",
       "\n",
       "    .dataframe tbody tr th {\n",
       "        vertical-align: top;\n",
       "    }\n",
       "\n",
       "    .dataframe thead th {\n",
       "        text-align: right;\n",
       "    }\n",
       "</style>\n",
       "<table border=\"1\" class=\"dataframe\">\n",
       "  <thead>\n",
       "    <tr style=\"text-align: right;\">\n",
       "      <th></th>\n",
       "      <th>date</th>\n",
       "      <th>location</th>\n",
       "      <th>total_vaccinations</th>\n",
       "      <th>total_distributed</th>\n",
       "      <th>people_vaccinated</th>\n",
       "      <th>people_fully_vaccinated_per_hundred</th>\n",
       "      <th>total_vaccinations_per_hundred</th>\n",
       "      <th>people_fully_vaccinated</th>\n",
       "      <th>people_vaccinated_per_hundred</th>\n",
       "      <th>distributed_per_hundred</th>\n",
       "      <th>daily_vaccinations_raw</th>\n",
       "      <th>daily_vaccinations</th>\n",
       "      <th>daily_vaccinations_per_million</th>\n",
       "      <th>share_doses_used</th>\n",
       "      <th>datetime</th>\n",
       "    </tr>\n",
       "    <tr>\n",
       "      <th>datetime_index</th>\n",
       "      <th></th>\n",
       "      <th></th>\n",
       "      <th></th>\n",
       "      <th></th>\n",
       "      <th></th>\n",
       "      <th></th>\n",
       "      <th></th>\n",
       "      <th></th>\n",
       "      <th></th>\n",
       "      <th></th>\n",
       "      <th></th>\n",
       "      <th></th>\n",
       "      <th></th>\n",
       "      <th></th>\n",
       "      <th></th>\n",
       "    </tr>\n",
       "  </thead>\n",
       "  <tbody>\n",
       "    <tr>\n",
       "      <th>2021-01-12</th>\n",
       "      <td>2021-01-12</td>\n",
       "      <td>Alabama</td>\n",
       "      <td>78134.0</td>\n",
       "      <td>377025.0</td>\n",
       "      <td>70861.0</td>\n",
       "      <td>0.15</td>\n",
       "      <td>1.59</td>\n",
       "      <td>7270.0</td>\n",
       "      <td>1.45</td>\n",
       "      <td>7.69</td>\n",
       "      <td>NaN</td>\n",
       "      <td>NaN</td>\n",
       "      <td>NaN</td>\n",
       "      <td>0.207</td>\n",
       "      <td>2021-01-12</td>\n",
       "    </tr>\n",
       "    <tr>\n",
       "      <th>2021-01-13</th>\n",
       "      <td>2021-01-13</td>\n",
       "      <td>Alabama</td>\n",
       "      <td>84040.0</td>\n",
       "      <td>378975.0</td>\n",
       "      <td>74792.0</td>\n",
       "      <td>0.19</td>\n",
       "      <td>1.71</td>\n",
       "      <td>9245.0</td>\n",
       "      <td>1.53</td>\n",
       "      <td>7.73</td>\n",
       "      <td>5906.0</td>\n",
       "      <td>5906.0</td>\n",
       "      <td>1205.0</td>\n",
       "      <td>0.222</td>\n",
       "      <td>2021-01-13</td>\n",
       "    </tr>\n",
       "    <tr>\n",
       "      <th>2021-01-14</th>\n",
       "      <td>2021-01-14</td>\n",
       "      <td>Alabama</td>\n",
       "      <td>92300.0</td>\n",
       "      <td>435350.0</td>\n",
       "      <td>80480.0</td>\n",
       "      <td>0.19</td>\n",
       "      <td>1.88</td>\n",
       "      <td>9245.0</td>\n",
       "      <td>1.64</td>\n",
       "      <td>8.88</td>\n",
       "      <td>8260.0</td>\n",
       "      <td>7083.0</td>\n",
       "      <td>1445.0</td>\n",
       "      <td>0.212</td>\n",
       "      <td>2021-01-14</td>\n",
       "    </tr>\n",
       "    <tr>\n",
       "      <th>2021-01-15</th>\n",
       "      <td>2021-01-15</td>\n",
       "      <td>Alabama</td>\n",
       "      <td>100567.0</td>\n",
       "      <td>444650.0</td>\n",
       "      <td>86956.0</td>\n",
       "      <td>0.28</td>\n",
       "      <td>2.05</td>\n",
       "      <td>13488.0</td>\n",
       "      <td>1.77</td>\n",
       "      <td>9.07</td>\n",
       "      <td>8267.0</td>\n",
       "      <td>7478.0</td>\n",
       "      <td>1525.0</td>\n",
       "      <td>0.226</td>\n",
       "      <td>2021-01-15</td>\n",
       "    </tr>\n",
       "  </tbody>\n",
       "</table>\n",
       "</div>"
      ],
      "text/plain": [
       "                      date location  total_vaccinations  total_distributed  \\\n",
       "datetime_index                                                               \n",
       "2021-01-12      2021-01-12  Alabama             78134.0           377025.0   \n",
       "2021-01-13      2021-01-13  Alabama             84040.0           378975.0   \n",
       "2021-01-14      2021-01-14  Alabama             92300.0           435350.0   \n",
       "2021-01-15      2021-01-15  Alabama            100567.0           444650.0   \n",
       "\n",
       "                people_vaccinated  people_fully_vaccinated_per_hundred  \\\n",
       "datetime_index                                                           \n",
       "2021-01-12                70861.0                                 0.15   \n",
       "2021-01-13                74792.0                                 0.19   \n",
       "2021-01-14                80480.0                                 0.19   \n",
       "2021-01-15                86956.0                                 0.28   \n",
       "\n",
       "                total_vaccinations_per_hundred  people_fully_vaccinated  \\\n",
       "datetime_index                                                            \n",
       "2021-01-12                                1.59                   7270.0   \n",
       "2021-01-13                                1.71                   9245.0   \n",
       "2021-01-14                                1.88                   9245.0   \n",
       "2021-01-15                                2.05                  13488.0   \n",
       "\n",
       "                people_vaccinated_per_hundred  distributed_per_hundred  \\\n",
       "datetime_index                                                           \n",
       "2021-01-12                               1.45                     7.69   \n",
       "2021-01-13                               1.53                     7.73   \n",
       "2021-01-14                               1.64                     8.88   \n",
       "2021-01-15                               1.77                     9.07   \n",
       "\n",
       "                daily_vaccinations_raw  daily_vaccinations  \\\n",
       "datetime_index                                               \n",
       "2021-01-12                         NaN                 NaN   \n",
       "2021-01-13                      5906.0              5906.0   \n",
       "2021-01-14                      8260.0              7083.0   \n",
       "2021-01-15                      8267.0              7478.0   \n",
       "\n",
       "                daily_vaccinations_per_million  share_doses_used   datetime  \n",
       "datetime_index                                                               \n",
       "2021-01-12                                 NaN             0.207 2021-01-12  \n",
       "2021-01-13                              1205.0             0.222 2021-01-13  \n",
       "2021-01-14                              1445.0             0.212 2021-01-14  \n",
       "2021-01-15                              1525.0             0.226 2021-01-15  "
      ]
     },
     "execution_count": 787,
     "metadata": {},
     "output_type": "execute_result"
    }
   ],
   "source": [
    "hey.loc['Alabama']['2021-01-12' : '2021-01-15']"
   ]
  },
  {
   "cell_type": "code",
   "execution_count": 801,
   "id": "eb34661a",
   "metadata": {},
   "outputs": [],
   "source": [
    "string_date = '2021-01-12', '2021-01-15'"
   ]
  },
  {
   "cell_type": "code",
   "execution_count": null,
   "id": "6c3cfa6a",
   "metadata": {},
   "outputs": [],
   "source": [
    "datefrom"
   ]
  },
  {
   "cell_type": "code",
   "execution_count": 808,
   "id": "f3722603",
   "metadata": {},
   "outputs": [
    {
     "data": {
      "text/plain": [
       "datetime.datetime(2021, 1, 12, 0, 0)"
      ]
     },
     "execution_count": 808,
     "metadata": {},
     "output_type": "execute_result"
    }
   ],
   "source": [
    "ListofDates = ['1', '2', '3', '4']\n",
    "\n",
    "datetime.datetime.strptime('2021-01-12', '%Y-%m-%d')"
   ]
  },
  {
   "cell_type": "code",
   "execution_count": null,
   "id": "dd9682c9",
   "metadata": {},
   "outputs": [],
   "source": []
  },
  {
   "cell_type": "code",
   "execution_count": 790,
   "id": "c7431a04",
   "metadata": {},
   "outputs": [],
   "source": [
    "import datetime"
   ]
  },
  {
   "cell_type": "code",
   "execution_count": 793,
   "id": "d7f05b48",
   "metadata": {},
   "outputs": [
    {
     "data": {
      "text/plain": [
       "datetime.datetime(2021, 1, 12, 0, 0)"
      ]
     },
     "execution_count": 793,
     "metadata": {},
     "output_type": "execute_result"
    }
   ],
   "source": [
    "datetime.datetime(2021,1,12)"
   ]
  },
  {
   "cell_type": "code",
   "execution_count": 744,
   "id": "6391425b",
   "metadata": {},
   "outputs": [
    {
     "data": {
      "text/html": [
       "<div>\n",
       "<style scoped>\n",
       "    .dataframe tbody tr th:only-of-type {\n",
       "        vertical-align: middle;\n",
       "    }\n",
       "\n",
       "    .dataframe tbody tr th {\n",
       "        vertical-align: top;\n",
       "    }\n",
       "\n",
       "    .dataframe thead th {\n",
       "        text-align: right;\n",
       "    }\n",
       "</style>\n",
       "<table border=\"1\" class=\"dataframe\">\n",
       "  <thead>\n",
       "    <tr style=\"text-align: right;\">\n",
       "      <th></th>\n",
       "      <th></th>\n",
       "      <th>date</th>\n",
       "      <th>location</th>\n",
       "      <th>total_vaccinations</th>\n",
       "      <th>total_distributed</th>\n",
       "      <th>people_vaccinated</th>\n",
       "      <th>people_fully_vaccinated_per_hundred</th>\n",
       "      <th>total_vaccinations_per_hundred</th>\n",
       "      <th>people_fully_vaccinated</th>\n",
       "      <th>people_vaccinated_per_hundred</th>\n",
       "      <th>distributed_per_hundred</th>\n",
       "      <th>daily_vaccinations_raw</th>\n",
       "      <th>daily_vaccinations</th>\n",
       "      <th>daily_vaccinations_per_million</th>\n",
       "      <th>share_doses_used</th>\n",
       "      <th>datetime</th>\n",
       "    </tr>\n",
       "    <tr>\n",
       "      <th>location_index</th>\n",
       "      <th>datetime_index</th>\n",
       "      <th></th>\n",
       "      <th></th>\n",
       "      <th></th>\n",
       "      <th></th>\n",
       "      <th></th>\n",
       "      <th></th>\n",
       "      <th></th>\n",
       "      <th></th>\n",
       "      <th></th>\n",
       "      <th></th>\n",
       "      <th></th>\n",
       "      <th></th>\n",
       "      <th></th>\n",
       "      <th></th>\n",
       "      <th></th>\n",
       "    </tr>\n",
       "  </thead>\n",
       "  <tbody>\n",
       "    <tr>\n",
       "      <th rowspan=\"5\" valign=\"top\">Alabama</th>\n",
       "      <th>2021-01-12</th>\n",
       "      <td>2021-01-12</td>\n",
       "      <td>Alabama</td>\n",
       "      <td>78134.0</td>\n",
       "      <td>377025.0</td>\n",
       "      <td>70861.0</td>\n",
       "      <td>0.15</td>\n",
       "      <td>1.59</td>\n",
       "      <td>7270.0</td>\n",
       "      <td>1.45</td>\n",
       "      <td>7.69</td>\n",
       "      <td>NaN</td>\n",
       "      <td>NaN</td>\n",
       "      <td>NaN</td>\n",
       "      <td>0.207</td>\n",
       "      <td>2021-01-12</td>\n",
       "    </tr>\n",
       "    <tr>\n",
       "      <th>2021-01-13</th>\n",
       "      <td>2021-01-13</td>\n",
       "      <td>Alabama</td>\n",
       "      <td>84040.0</td>\n",
       "      <td>378975.0</td>\n",
       "      <td>74792.0</td>\n",
       "      <td>0.19</td>\n",
       "      <td>1.71</td>\n",
       "      <td>9245.0</td>\n",
       "      <td>1.53</td>\n",
       "      <td>7.73</td>\n",
       "      <td>5906.0</td>\n",
       "      <td>5906.0</td>\n",
       "      <td>1205.0</td>\n",
       "      <td>0.222</td>\n",
       "      <td>2021-01-13</td>\n",
       "    </tr>\n",
       "    <tr>\n",
       "      <th>2021-01-14</th>\n",
       "      <td>2021-01-14</td>\n",
       "      <td>Alabama</td>\n",
       "      <td>92300.0</td>\n",
       "      <td>435350.0</td>\n",
       "      <td>80480.0</td>\n",
       "      <td>0.19</td>\n",
       "      <td>1.88</td>\n",
       "      <td>9245.0</td>\n",
       "      <td>1.64</td>\n",
       "      <td>8.88</td>\n",
       "      <td>8260.0</td>\n",
       "      <td>7083.0</td>\n",
       "      <td>1445.0</td>\n",
       "      <td>0.212</td>\n",
       "      <td>2021-01-14</td>\n",
       "    </tr>\n",
       "    <tr>\n",
       "      <th>2021-01-15</th>\n",
       "      <td>2021-01-15</td>\n",
       "      <td>Alabama</td>\n",
       "      <td>100567.0</td>\n",
       "      <td>444650.0</td>\n",
       "      <td>86956.0</td>\n",
       "      <td>0.28</td>\n",
       "      <td>2.05</td>\n",
       "      <td>13488.0</td>\n",
       "      <td>1.77</td>\n",
       "      <td>9.07</td>\n",
       "      <td>8267.0</td>\n",
       "      <td>7478.0</td>\n",
       "      <td>1525.0</td>\n",
       "      <td>0.226</td>\n",
       "      <td>2021-01-15</td>\n",
       "    </tr>\n",
       "    <tr>\n",
       "      <th>2021-01-16</th>\n",
       "      <td>2021-01-16</td>\n",
       "      <td>Alabama</td>\n",
       "      <td>100567.0</td>\n",
       "      <td>444650.0</td>\n",
       "      <td>86956.0</td>\n",
       "      <td>0.28</td>\n",
       "      <td>2.05</td>\n",
       "      <td>13488.0</td>\n",
       "      <td>1.77</td>\n",
       "      <td>9.07</td>\n",
       "      <td>7557.0</td>\n",
       "      <td>7498.0</td>\n",
       "      <td>1529.0</td>\n",
       "      <td>0.226</td>\n",
       "      <td>2021-01-16</td>\n",
       "    </tr>\n",
       "    <tr>\n",
       "      <th>...</th>\n",
       "      <th>...</th>\n",
       "      <td>...</td>\n",
       "      <td>...</td>\n",
       "      <td>...</td>\n",
       "      <td>...</td>\n",
       "      <td>...</td>\n",
       "      <td>...</td>\n",
       "      <td>...</td>\n",
       "      <td>...</td>\n",
       "      <td>...</td>\n",
       "      <td>...</td>\n",
       "      <td>...</td>\n",
       "      <td>...</td>\n",
       "      <td>...</td>\n",
       "      <td>...</td>\n",
       "      <td>...</td>\n",
       "    </tr>\n",
       "    <tr>\n",
       "      <th rowspan=\"5\" valign=\"top\">Wyoming</th>\n",
       "      <th>2021-04-29</th>\n",
       "      <td>2021-04-29</td>\n",
       "      <td>Wyoming</td>\n",
       "      <td>353401.0</td>\n",
       "      <td>478185.0</td>\n",
       "      <td>195885.0</td>\n",
       "      <td>27.42</td>\n",
       "      <td>61.06</td>\n",
       "      <td>158672.0</td>\n",
       "      <td>33.85</td>\n",
       "      <td>82.62</td>\n",
       "      <td>4518.0</td>\n",
       "      <td>2263.0</td>\n",
       "      <td>3910.0</td>\n",
       "      <td>0.739</td>\n",
       "      <td>2021-04-29</td>\n",
       "    </tr>\n",
       "    <tr>\n",
       "      <th>2021-04-30</th>\n",
       "      <td>2021-04-30</td>\n",
       "      <td>Wyoming</td>\n",
       "      <td>356057.0</td>\n",
       "      <td>479485.0</td>\n",
       "      <td>196453.0</td>\n",
       "      <td>27.76</td>\n",
       "      <td>61.52</td>\n",
       "      <td>160656.0</td>\n",
       "      <td>33.94</td>\n",
       "      <td>82.85</td>\n",
       "      <td>2656.0</td>\n",
       "      <td>2182.0</td>\n",
       "      <td>3770.0</td>\n",
       "      <td>0.743</td>\n",
       "      <td>2021-04-30</td>\n",
       "    </tr>\n",
       "    <tr>\n",
       "      <th>2021-05-01</th>\n",
       "      <td>2021-05-01</td>\n",
       "      <td>Wyoming</td>\n",
       "      <td>358222.0</td>\n",
       "      <td>483195.0</td>\n",
       "      <td>197208.0</td>\n",
       "      <td>28.01</td>\n",
       "      <td>61.89</td>\n",
       "      <td>162127.0</td>\n",
       "      <td>34.07</td>\n",
       "      <td>83.49</td>\n",
       "      <td>2165.0</td>\n",
       "      <td>2476.0</td>\n",
       "      <td>4278.0</td>\n",
       "      <td>0.741</td>\n",
       "      <td>2021-05-01</td>\n",
       "    </tr>\n",
       "    <tr>\n",
       "      <th>2021-05-02</th>\n",
       "      <td>2021-05-02</td>\n",
       "      <td>Wyoming</td>\n",
       "      <td>358512.0</td>\n",
       "      <td>483195.0</td>\n",
       "      <td>197340.0</td>\n",
       "      <td>28.05</td>\n",
       "      <td>61.94</td>\n",
       "      <td>162328.0</td>\n",
       "      <td>34.10</td>\n",
       "      <td>83.49</td>\n",
       "      <td>290.0</td>\n",
       "      <td>2484.0</td>\n",
       "      <td>4292.0</td>\n",
       "      <td>0.742</td>\n",
       "      <td>2021-05-02</td>\n",
       "    </tr>\n",
       "    <tr>\n",
       "      <th>2021-05-03</th>\n",
       "      <td>2021-05-03</td>\n",
       "      <td>Wyoming</td>\n",
       "      <td>358545.0</td>\n",
       "      <td>483195.0</td>\n",
       "      <td>197374.0</td>\n",
       "      <td>28.05</td>\n",
       "      <td>61.95</td>\n",
       "      <td>162356.0</td>\n",
       "      <td>34.10</td>\n",
       "      <td>83.49</td>\n",
       "      <td>33.0</td>\n",
       "      <td>1409.0</td>\n",
       "      <td>2435.0</td>\n",
       "      <td>0.742</td>\n",
       "      <td>2021-05-03</td>\n",
       "    </tr>\n",
       "  </tbody>\n",
       "</table>\n",
       "<p>7303 rows × 15 columns</p>\n",
       "</div>"
      ],
      "text/plain": [
       "                                     date location  total_vaccinations  \\\n",
       "location_index datetime_index                                            \n",
       "Alabama        2021-01-12      2021-01-12  Alabama             78134.0   \n",
       "               2021-01-13      2021-01-13  Alabama             84040.0   \n",
       "               2021-01-14      2021-01-14  Alabama             92300.0   \n",
       "               2021-01-15      2021-01-15  Alabama            100567.0   \n",
       "               2021-01-16      2021-01-16  Alabama            100567.0   \n",
       "...                                   ...      ...                 ...   \n",
       "Wyoming        2021-04-29      2021-04-29  Wyoming            353401.0   \n",
       "               2021-04-30      2021-04-30  Wyoming            356057.0   \n",
       "               2021-05-01      2021-05-01  Wyoming            358222.0   \n",
       "               2021-05-02      2021-05-02  Wyoming            358512.0   \n",
       "               2021-05-03      2021-05-03  Wyoming            358545.0   \n",
       "\n",
       "                               total_distributed  people_vaccinated  \\\n",
       "location_index datetime_index                                         \n",
       "Alabama        2021-01-12               377025.0            70861.0   \n",
       "               2021-01-13               378975.0            74792.0   \n",
       "               2021-01-14               435350.0            80480.0   \n",
       "               2021-01-15               444650.0            86956.0   \n",
       "               2021-01-16               444650.0            86956.0   \n",
       "...                                          ...                ...   \n",
       "Wyoming        2021-04-29               478185.0           195885.0   \n",
       "               2021-04-30               479485.0           196453.0   \n",
       "               2021-05-01               483195.0           197208.0   \n",
       "               2021-05-02               483195.0           197340.0   \n",
       "               2021-05-03               483195.0           197374.0   \n",
       "\n",
       "                               people_fully_vaccinated_per_hundred  \\\n",
       "location_index datetime_index                                        \n",
       "Alabama        2021-01-12                                     0.15   \n",
       "               2021-01-13                                     0.19   \n",
       "               2021-01-14                                     0.19   \n",
       "               2021-01-15                                     0.28   \n",
       "               2021-01-16                                     0.28   \n",
       "...                                                            ...   \n",
       "Wyoming        2021-04-29                                    27.42   \n",
       "               2021-04-30                                    27.76   \n",
       "               2021-05-01                                    28.01   \n",
       "               2021-05-02                                    28.05   \n",
       "               2021-05-03                                    28.05   \n",
       "\n",
       "                               total_vaccinations_per_hundred  \\\n",
       "location_index datetime_index                                   \n",
       "Alabama        2021-01-12                                1.59   \n",
       "               2021-01-13                                1.71   \n",
       "               2021-01-14                                1.88   \n",
       "               2021-01-15                                2.05   \n",
       "               2021-01-16                                2.05   \n",
       "...                                                       ...   \n",
       "Wyoming        2021-04-29                               61.06   \n",
       "               2021-04-30                               61.52   \n",
       "               2021-05-01                               61.89   \n",
       "               2021-05-02                               61.94   \n",
       "               2021-05-03                               61.95   \n",
       "\n",
       "                               people_fully_vaccinated  \\\n",
       "location_index datetime_index                            \n",
       "Alabama        2021-01-12                       7270.0   \n",
       "               2021-01-13                       9245.0   \n",
       "               2021-01-14                       9245.0   \n",
       "               2021-01-15                      13488.0   \n",
       "               2021-01-16                      13488.0   \n",
       "...                                                ...   \n",
       "Wyoming        2021-04-29                     158672.0   \n",
       "               2021-04-30                     160656.0   \n",
       "               2021-05-01                     162127.0   \n",
       "               2021-05-02                     162328.0   \n",
       "               2021-05-03                     162356.0   \n",
       "\n",
       "                               people_vaccinated_per_hundred  \\\n",
       "location_index datetime_index                                  \n",
       "Alabama        2021-01-12                               1.45   \n",
       "               2021-01-13                               1.53   \n",
       "               2021-01-14                               1.64   \n",
       "               2021-01-15                               1.77   \n",
       "               2021-01-16                               1.77   \n",
       "...                                                      ...   \n",
       "Wyoming        2021-04-29                              33.85   \n",
       "               2021-04-30                              33.94   \n",
       "               2021-05-01                              34.07   \n",
       "               2021-05-02                              34.10   \n",
       "               2021-05-03                              34.10   \n",
       "\n",
       "                               distributed_per_hundred  \\\n",
       "location_index datetime_index                            \n",
       "Alabama        2021-01-12                         7.69   \n",
       "               2021-01-13                         7.73   \n",
       "               2021-01-14                         8.88   \n",
       "               2021-01-15                         9.07   \n",
       "               2021-01-16                         9.07   \n",
       "...                                                ...   \n",
       "Wyoming        2021-04-29                        82.62   \n",
       "               2021-04-30                        82.85   \n",
       "               2021-05-01                        83.49   \n",
       "               2021-05-02                        83.49   \n",
       "               2021-05-03                        83.49   \n",
       "\n",
       "                               daily_vaccinations_raw  daily_vaccinations  \\\n",
       "location_index datetime_index                                               \n",
       "Alabama        2021-01-12                         NaN                 NaN   \n",
       "               2021-01-13                      5906.0              5906.0   \n",
       "               2021-01-14                      8260.0              7083.0   \n",
       "               2021-01-15                      8267.0              7478.0   \n",
       "               2021-01-16                      7557.0              7498.0   \n",
       "...                                               ...                 ...   \n",
       "Wyoming        2021-04-29                      4518.0              2263.0   \n",
       "               2021-04-30                      2656.0              2182.0   \n",
       "               2021-05-01                      2165.0              2476.0   \n",
       "               2021-05-02                       290.0              2484.0   \n",
       "               2021-05-03                        33.0              1409.0   \n",
       "\n",
       "                               daily_vaccinations_per_million  \\\n",
       "location_index datetime_index                                   \n",
       "Alabama        2021-01-12                                 NaN   \n",
       "               2021-01-13                              1205.0   \n",
       "               2021-01-14                              1445.0   \n",
       "               2021-01-15                              1525.0   \n",
       "               2021-01-16                              1529.0   \n",
       "...                                                       ...   \n",
       "Wyoming        2021-04-29                              3910.0   \n",
       "               2021-04-30                              3770.0   \n",
       "               2021-05-01                              4278.0   \n",
       "               2021-05-02                              4292.0   \n",
       "               2021-05-03                              2435.0   \n",
       "\n",
       "                               share_doses_used   datetime  \n",
       "location_index datetime_index                               \n",
       "Alabama        2021-01-12                 0.207 2021-01-12  \n",
       "               2021-01-13                 0.222 2021-01-13  \n",
       "               2021-01-14                 0.212 2021-01-14  \n",
       "               2021-01-15                 0.226 2021-01-15  \n",
       "               2021-01-16                 0.226 2021-01-16  \n",
       "...                                         ...        ...  \n",
       "Wyoming        2021-04-29                 0.739 2021-04-29  \n",
       "               2021-04-30                 0.743 2021-04-30  \n",
       "               2021-05-01                 0.741 2021-05-01  \n",
       "               2021-05-02                 0.742 2021-05-02  \n",
       "               2021-05-03                 0.742 2021-05-03  \n",
       "\n",
       "[7303 rows x 15 columns]"
      ]
     },
     "execution_count": 744,
     "metadata": {},
     "output_type": "execute_result"
    }
   ],
   "source": [
    "hey"
   ]
  },
  {
   "cell_type": "code",
   "execution_count": 720,
   "id": "328e58a8",
   "metadata": {},
   "outputs": [],
   "source": [
    "df_orig = pd.read_csv('https://raw.githubusercontent.com/owid/covid-19-data/master/public/data/vaccinations/us_state_vaccinations.csv')"
   ]
  },
  {
   "cell_type": "code",
   "execution_count": null,
   "id": "cfb13729",
   "metadata": {},
   "outputs": [],
   "source": [
    "def rf_pred(State):\n",
    "\n",
    "    y = owid_vpop_USA.loc[State, 'people_vaccinated_per_hundred'].asfreq('D') # use percent of population with >= 1 vaccine as y-variable\n",
    "    X = owid_vpop_USA.loc[State].index # use datetime as x-variable\n",
    "    X_train, X_test, y_train, y_test = train_test_split(X, y, test_size=0.2, random_state=1)\n",
    "\n",
    "    y_test_pred, mae = get_random_forest_mae(X_train, X_test, y_train, y_test)\n",
    "\n",
    "    plt.plot(pd.concat([X_train, X_test]), pd.concat([y_train, y_test]))\n",
    "    plt.plot(pd.concat([X_train, X_test]), pd.concat([y_train, y_test_pred]))\n",
    "\n",
    "    vax_model = RandomForestRegressor(random_state=1)\n",
    "    vax_model.fit(X_train, y_train)\n",
    "    y_test_pred = vax_model.predict(X_test)\n",
    "    mae = mean_absolute_error(y_test, y_test_pred)\n",
    "\n",
    "    return(y_test_pred, mae)\n",
    "\n",
    "    Y_list.append()\n",
    "    X_list.append()\n",
    "    X_train_list.append(x_train)"
   ]
  },
  {
   "cell_type": "code",
   "execution_count": 714,
   "id": "9b25990d",
   "metadata": {},
   "outputs": [
    {
     "ename": "ValueError",
     "evalue": "Found input variables with inconsistent numbers of samples: [84, 82]",
     "output_type": "error",
     "traceback": [
      "\u001b[1;31m---------------------------------------------------------------------------\u001b[0m",
      "\u001b[1;31mValueError\u001b[0m                                Traceback (most recent call last)",
      "\u001b[1;32m<ipython-input-714-97979fad4f03>\u001b[0m in \u001b[0;36m<module>\u001b[1;34m\u001b[0m\n\u001b[0;32m      1\u001b[0m \u001b[0mmdlRfsVax\u001b[0m \u001b[1;33m=\u001b[0m \u001b[0mRandomForestRegressor\u001b[0m\u001b[1;33m(\u001b[0m\u001b[1;33m)\u001b[0m\u001b[1;33m\u001b[0m\u001b[1;33m\u001b[0m\u001b[0m\n\u001b[1;32m----> 2\u001b[1;33m \u001b[0mget_mdl_mae\u001b[0m\u001b[1;33m(\u001b[0m\u001b[0mX_train\u001b[0m\u001b[1;33m,\u001b[0m \u001b[0mX_test\u001b[0m\u001b[1;33m,\u001b[0m \u001b[0my_train\u001b[0m\u001b[1;33m,\u001b[0m \u001b[0my_test\u001b[0m\u001b[1;33m,\u001b[0m \u001b[0mmdlRfsVax\u001b[0m\u001b[1;33m)\u001b[0m\u001b[1;33m\u001b[0m\u001b[1;33m\u001b[0m\u001b[0m\n\u001b[0m",
      "\u001b[1;32m<ipython-input-713-2b8e5cefe008>\u001b[0m in \u001b[0;36mget_mdl_mae\u001b[1;34m(X_trn, X_tst, y_trn, y_tst, mdl)\u001b[0m\n\u001b[0;32m      3\u001b[0m \u001b[1;32mdef\u001b[0m \u001b[0mget_mdl_mae\u001b[0m\u001b[1;33m(\u001b[0m\u001b[0mX_trn\u001b[0m\u001b[1;33m,\u001b[0m \u001b[0mX_tst\u001b[0m\u001b[1;33m,\u001b[0m \u001b[0my_trn\u001b[0m\u001b[1;33m,\u001b[0m \u001b[0my_tst\u001b[0m\u001b[1;33m,\u001b[0m \u001b[0mmdl\u001b[0m\u001b[1;33m)\u001b[0m\u001b[1;33m:\u001b[0m\u001b[1;33m\u001b[0m\u001b[1;33m\u001b[0m\u001b[0m\n\u001b[0;32m      4\u001b[0m     \u001b[0mvax_model\u001b[0m \u001b[1;33m=\u001b[0m \u001b[0mmdl\u001b[0m\u001b[1;33m\u001b[0m\u001b[1;33m\u001b[0m\u001b[0m\n\u001b[1;32m----> 5\u001b[1;33m     \u001b[0mvax_model\u001b[0m\u001b[1;33m.\u001b[0m\u001b[0mfit\u001b[0m\u001b[1;33m(\u001b[0m\u001b[0mX_trn\u001b[0m\u001b[1;33m,\u001b[0m \u001b[0my_trn\u001b[0m\u001b[1;33m)\u001b[0m\u001b[1;33m\u001b[0m\u001b[1;33m\u001b[0m\u001b[0m\n\u001b[0m\u001b[0;32m      6\u001b[0m     \u001b[0my_tst_prd\u001b[0m \u001b[1;33m=\u001b[0m \u001b[0mvax_model\u001b[0m\u001b[1;33m.\u001b[0m\u001b[0mpredict\u001b[0m\u001b[1;33m(\u001b[0m\u001b[0mX_tst\u001b[0m\u001b[1;33m)\u001b[0m\u001b[1;33m\u001b[0m\u001b[1;33m\u001b[0m\u001b[0m\n\u001b[0;32m      7\u001b[0m     \u001b[0mmae\u001b[0m \u001b[1;33m=\u001b[0m \u001b[0mmean_absolute_error\u001b[0m\u001b[1;33m(\u001b[0m\u001b[0my_tst\u001b[0m\u001b[1;33m,\u001b[0m \u001b[0my_tst_prd\u001b[0m\u001b[1;33m)\u001b[0m\u001b[1;33m\u001b[0m\u001b[1;33m\u001b[0m\u001b[0m\n",
      "\u001b[1;32m~\\anaconda3\\lib\\site-packages\\sklearn\\ensemble\\_forest.py\u001b[0m in \u001b[0;36mfit\u001b[1;34m(self, X, y, sample_weight)\u001b[0m\n\u001b[0;32m    302\u001b[0m                 \u001b[1;34m\"sparse multilabel-indicator for y is not supported.\"\u001b[0m\u001b[1;33m\u001b[0m\u001b[1;33m\u001b[0m\u001b[0m\n\u001b[0;32m    303\u001b[0m             )\n\u001b[1;32m--> 304\u001b[1;33m         X, y = self._validate_data(X, y, multi_output=True,\n\u001b[0m\u001b[0;32m    305\u001b[0m                                    accept_sparse=\"csc\", dtype=DTYPE)\n\u001b[0;32m    306\u001b[0m         \u001b[1;32mif\u001b[0m \u001b[0msample_weight\u001b[0m \u001b[1;32mis\u001b[0m \u001b[1;32mnot\u001b[0m \u001b[1;32mNone\u001b[0m\u001b[1;33m:\u001b[0m\u001b[1;33m\u001b[0m\u001b[1;33m\u001b[0m\u001b[0m\n",
      "\u001b[1;32m~\\anaconda3\\lib\\site-packages\\sklearn\\base.py\u001b[0m in \u001b[0;36m_validate_data\u001b[1;34m(self, X, y, reset, validate_separately, **check_params)\u001b[0m\n\u001b[0;32m    431\u001b[0m                 \u001b[0my\u001b[0m \u001b[1;33m=\u001b[0m \u001b[0mcheck_array\u001b[0m\u001b[1;33m(\u001b[0m\u001b[0my\u001b[0m\u001b[1;33m,\u001b[0m \u001b[1;33m**\u001b[0m\u001b[0mcheck_y_params\u001b[0m\u001b[1;33m)\u001b[0m\u001b[1;33m\u001b[0m\u001b[1;33m\u001b[0m\u001b[0m\n\u001b[0;32m    432\u001b[0m             \u001b[1;32melse\u001b[0m\u001b[1;33m:\u001b[0m\u001b[1;33m\u001b[0m\u001b[1;33m\u001b[0m\u001b[0m\n\u001b[1;32m--> 433\u001b[1;33m                 \u001b[0mX\u001b[0m\u001b[1;33m,\u001b[0m \u001b[0my\u001b[0m \u001b[1;33m=\u001b[0m \u001b[0mcheck_X_y\u001b[0m\u001b[1;33m(\u001b[0m\u001b[0mX\u001b[0m\u001b[1;33m,\u001b[0m \u001b[0my\u001b[0m\u001b[1;33m,\u001b[0m \u001b[1;33m**\u001b[0m\u001b[0mcheck_params\u001b[0m\u001b[1;33m)\u001b[0m\u001b[1;33m\u001b[0m\u001b[1;33m\u001b[0m\u001b[0m\n\u001b[0m\u001b[0;32m    434\u001b[0m             \u001b[0mout\u001b[0m \u001b[1;33m=\u001b[0m \u001b[0mX\u001b[0m\u001b[1;33m,\u001b[0m \u001b[0my\u001b[0m\u001b[1;33m\u001b[0m\u001b[1;33m\u001b[0m\u001b[0m\n\u001b[0;32m    435\u001b[0m \u001b[1;33m\u001b[0m\u001b[0m\n",
      "\u001b[1;32m~\\anaconda3\\lib\\site-packages\\sklearn\\utils\\validation.py\u001b[0m in \u001b[0;36minner_f\u001b[1;34m(*args, **kwargs)\u001b[0m\n\u001b[0;32m     61\u001b[0m             \u001b[0mextra_args\u001b[0m \u001b[1;33m=\u001b[0m \u001b[0mlen\u001b[0m\u001b[1;33m(\u001b[0m\u001b[0margs\u001b[0m\u001b[1;33m)\u001b[0m \u001b[1;33m-\u001b[0m \u001b[0mlen\u001b[0m\u001b[1;33m(\u001b[0m\u001b[0mall_args\u001b[0m\u001b[1;33m)\u001b[0m\u001b[1;33m\u001b[0m\u001b[1;33m\u001b[0m\u001b[0m\n\u001b[0;32m     62\u001b[0m             \u001b[1;32mif\u001b[0m \u001b[0mextra_args\u001b[0m \u001b[1;33m<=\u001b[0m \u001b[1;36m0\u001b[0m\u001b[1;33m:\u001b[0m\u001b[1;33m\u001b[0m\u001b[1;33m\u001b[0m\u001b[0m\n\u001b[1;32m---> 63\u001b[1;33m                 \u001b[1;32mreturn\u001b[0m \u001b[0mf\u001b[0m\u001b[1;33m(\u001b[0m\u001b[1;33m*\u001b[0m\u001b[0margs\u001b[0m\u001b[1;33m,\u001b[0m \u001b[1;33m**\u001b[0m\u001b[0mkwargs\u001b[0m\u001b[1;33m)\u001b[0m\u001b[1;33m\u001b[0m\u001b[1;33m\u001b[0m\u001b[0m\n\u001b[0m\u001b[0;32m     64\u001b[0m \u001b[1;33m\u001b[0m\u001b[0m\n\u001b[0;32m     65\u001b[0m             \u001b[1;31m# extra_args > 0\u001b[0m\u001b[1;33m\u001b[0m\u001b[1;33m\u001b[0m\u001b[1;33m\u001b[0m\u001b[0m\n",
      "\u001b[1;32m~\\anaconda3\\lib\\site-packages\\sklearn\\utils\\validation.py\u001b[0m in \u001b[0;36mcheck_X_y\u001b[1;34m(X, y, accept_sparse, accept_large_sparse, dtype, order, copy, force_all_finite, ensure_2d, allow_nd, multi_output, ensure_min_samples, ensure_min_features, y_numeric, estimator)\u001b[0m\n\u001b[0;32m    829\u001b[0m         \u001b[0my\u001b[0m \u001b[1;33m=\u001b[0m \u001b[0my\u001b[0m\u001b[1;33m.\u001b[0m\u001b[0mastype\u001b[0m\u001b[1;33m(\u001b[0m\u001b[0mnp\u001b[0m\u001b[1;33m.\u001b[0m\u001b[0mfloat64\u001b[0m\u001b[1;33m)\u001b[0m\u001b[1;33m\u001b[0m\u001b[1;33m\u001b[0m\u001b[0m\n\u001b[0;32m    830\u001b[0m \u001b[1;33m\u001b[0m\u001b[0m\n\u001b[1;32m--> 831\u001b[1;33m     \u001b[0mcheck_consistent_length\u001b[0m\u001b[1;33m(\u001b[0m\u001b[0mX\u001b[0m\u001b[1;33m,\u001b[0m \u001b[0my\u001b[0m\u001b[1;33m)\u001b[0m\u001b[1;33m\u001b[0m\u001b[1;33m\u001b[0m\u001b[0m\n\u001b[0m\u001b[0;32m    832\u001b[0m \u001b[1;33m\u001b[0m\u001b[0m\n\u001b[0;32m    833\u001b[0m     \u001b[1;32mreturn\u001b[0m \u001b[0mX\u001b[0m\u001b[1;33m,\u001b[0m \u001b[0my\u001b[0m\u001b[1;33m\u001b[0m\u001b[1;33m\u001b[0m\u001b[0m\n",
      "\u001b[1;32m~\\anaconda3\\lib\\site-packages\\sklearn\\utils\\validation.py\u001b[0m in \u001b[0;36mcheck_consistent_length\u001b[1;34m(*arrays)\u001b[0m\n\u001b[0;32m    260\u001b[0m     \u001b[0muniques\u001b[0m \u001b[1;33m=\u001b[0m \u001b[0mnp\u001b[0m\u001b[1;33m.\u001b[0m\u001b[0munique\u001b[0m\u001b[1;33m(\u001b[0m\u001b[0mlengths\u001b[0m\u001b[1;33m)\u001b[0m\u001b[1;33m\u001b[0m\u001b[1;33m\u001b[0m\u001b[0m\n\u001b[0;32m    261\u001b[0m     \u001b[1;32mif\u001b[0m \u001b[0mlen\u001b[0m\u001b[1;33m(\u001b[0m\u001b[0muniques\u001b[0m\u001b[1;33m)\u001b[0m \u001b[1;33m>\u001b[0m \u001b[1;36m1\u001b[0m\u001b[1;33m:\u001b[0m\u001b[1;33m\u001b[0m\u001b[1;33m\u001b[0m\u001b[0m\n\u001b[1;32m--> 262\u001b[1;33m         raise ValueError(\"Found input variables with inconsistent numbers of\"\n\u001b[0m\u001b[0;32m    263\u001b[0m                          \" samples: %r\" % [int(l) for l in lengths])\n\u001b[0;32m    264\u001b[0m \u001b[1;33m\u001b[0m\u001b[0m\n",
      "\u001b[1;31mValueError\u001b[0m: Found input variables with inconsistent numbers of samples: [84, 82]"
     ]
    }
   ],
   "source": [
    "mdlRfsVax = RandomForestRegressor()\n",
    "get_mdl_mae(X_train, X_test, y_train, y_test, mdlRfsVax)"
   ]
  },
  {
   "cell_type": "code",
   "execution_count": 48,
   "id": "340fc1a1",
   "metadata": {},
   "outputs": [],
   "source": [
    "from sklearn.model_selection import train_test_split # to split data into training and testing data\n",
    "from sklearn.metrics import mean_absolute_error # to evaluate model with mean absolute error"
   ]
  },
  {
   "cell_type": "code",
   "execution_count": 700,
   "id": "7d849006",
   "metadata": {},
   "outputs": [],
   "source": [
    "y_train, y_test = train_test_split(y)\n",
    "\n",
    "y_pred, rfs_mae = get_mdl_mae(np.array(y_train.index).reshape(-1, 1), np.array(y_test.index).reshape(-1, 1), y_train, y_test)"
   ]
  },
  {
   "cell_type": "code",
   "execution_count": 711,
   "id": "8059d252",
   "metadata": {},
   "outputs": [
    {
     "data": {
      "text/plain": [
       "<AxesSubplot:xlabel='datetime_index'>"
      ]
     },
     "execution_count": 711,
     "metadata": {},
     "output_type": "execute_result"
    },
    {
     "data": {
      "image/png": "[encoded data removed]",
      "text/plain": [
       "<Figure size 432x288 with 1 Axes>"
      ]
     },
     "metadata": {
      "needs_background": "light"
     },
     "output_type": "display_data"
    }
   ],
   "source": [
    "RandomForestRegressor(random_state=1)\n",
    "df_plot_rfs = pd.DataFrame({'y_test': y_test, 'y_pred': y_pred}, index=y_test.index)\n",
    "df_plot_rfs.plot()"
   ]
  },
  {
   "cell_type": "code",
   "execution_count": 706,
   "id": "75dac3de",
   "metadata": {},
   "outputs": [
    {
     "data": {
      "text/plain": [
       "(28,)"
      ]
     },
     "execution_count": 706,
     "metadata": {},
     "output_type": "execute_result"
    }
   ],
   "source": [
    "y_pred.shape"
   ]
  },
  {
   "cell_type": "code",
   "execution_count": 48,
   "id": "75b80f11",
   "metadata": {},
   "outputs": [],
   "source": [
    "from sklearn.model_selection import train_test_split # to split data into training and testing data\n",
    "from sklearn.metrics import mean_absolute_error # to evaluate model with mean absolute error"
   ]
  },
  {
   "cell_type": "code",
   "execution_count": 839,
   "id": "aaee7020",
   "metadata": {},
   "outputs": [
    {
     "data": {
      "text/html": [
       "<div>\n",
       "<style scoped>\n",
       "    .dataframe tbody tr th:only-of-type {\n",
       "        vertical-align: middle;\n",
       "    }\n",
       "\n",
       "    .dataframe tbody tr th {\n",
       "        vertical-align: top;\n",
       "    }\n",
       "\n",
       "    .dataframe thead th {\n",
       "        text-align: right;\n",
       "    }\n",
       "</style>\n",
       "<table border=\"1\" class=\"dataframe\">\n",
       "  <thead>\n",
       "    <tr style=\"text-align: right;\">\n",
       "      <th></th>\n",
       "      <th>date</th>\n",
       "      <th>location</th>\n",
       "      <th>total_vaccinations</th>\n",
       "      <th>total_distributed</th>\n",
       "      <th>people_vaccinated</th>\n",
       "      <th>people_fully_vaccinated_per_hundred</th>\n",
       "      <th>total_vaccinations_per_hundred</th>\n",
       "      <th>people_fully_vaccinated</th>\n",
       "      <th>people_vaccinated_per_hundred</th>\n",
       "      <th>distributed_per_hundred</th>\n",
       "      <th>daily_vaccinations_raw</th>\n",
       "      <th>daily_vaccinations</th>\n",
       "      <th>daily_vaccinations_per_million</th>\n",
       "      <th>share_doses_used</th>\n",
       "      <th>datetime</th>\n",
       "    </tr>\n",
       "    <tr>\n",
       "      <th>datetime_index</th>\n",
       "      <th></th>\n",
       "      <th></th>\n",
       "      <th></th>\n",
       "      <th></th>\n",
       "      <th></th>\n",
       "      <th></th>\n",
       "      <th></th>\n",
       "      <th></th>\n",
       "      <th></th>\n",
       "      <th></th>\n",
       "      <th></th>\n",
       "      <th></th>\n",
       "      <th></th>\n",
       "      <th></th>\n",
       "      <th></th>\n",
       "    </tr>\n",
       "  </thead>\n",
       "  <tbody>\n",
       "    <tr>\n",
       "      <th>2021-01-13</th>\n",
       "      <td>2021-01-13</td>\n",
       "      <td>Alabama</td>\n",
       "      <td>84040.0</td>\n",
       "      <td>378975.0</td>\n",
       "      <td>74792.0</td>\n",
       "      <td>0.19</td>\n",
       "      <td>1.71</td>\n",
       "      <td>9245.0</td>\n",
       "      <td>1.53</td>\n",
       "      <td>7.73</td>\n",
       "      <td>5906.0</td>\n",
       "      <td>5906.0</td>\n",
       "      <td>1205.0</td>\n",
       "      <td>0.222</td>\n",
       "      <td>2021-01-13</td>\n",
       "    </tr>\n",
       "    <tr>\n",
       "      <th>2021-01-14</th>\n",
       "      <td>2021-01-14</td>\n",
       "      <td>Alabama</td>\n",
       "      <td>92300.0</td>\n",
       "      <td>435350.0</td>\n",
       "      <td>80480.0</td>\n",
       "      <td>0.19</td>\n",
       "      <td>1.88</td>\n",
       "      <td>9245.0</td>\n",
       "      <td>1.64</td>\n",
       "      <td>8.88</td>\n",
       "      <td>8260.0</td>\n",
       "      <td>7083.0</td>\n",
       "      <td>1445.0</td>\n",
       "      <td>0.212</td>\n",
       "      <td>2021-01-14</td>\n",
       "    </tr>\n",
       "    <tr>\n",
       "      <th>2021-01-15</th>\n",
       "      <td>2021-01-15</td>\n",
       "      <td>Alabama</td>\n",
       "      <td>100567.0</td>\n",
       "      <td>444650.0</td>\n",
       "      <td>86956.0</td>\n",
       "      <td>0.28</td>\n",
       "      <td>2.05</td>\n",
       "      <td>13488.0</td>\n",
       "      <td>1.77</td>\n",
       "      <td>9.07</td>\n",
       "      <td>8267.0</td>\n",
       "      <td>7478.0</td>\n",
       "      <td>1525.0</td>\n",
       "      <td>0.226</td>\n",
       "      <td>2021-01-15</td>\n",
       "    </tr>\n",
       "    <tr>\n",
       "      <th>2021-01-16</th>\n",
       "      <td>2021-01-16</td>\n",
       "      <td>Alabama</td>\n",
       "      <td>100567.0</td>\n",
       "      <td>444650.0</td>\n",
       "      <td>86956.0</td>\n",
       "      <td>0.28</td>\n",
       "      <td>2.05</td>\n",
       "      <td>13488.0</td>\n",
       "      <td>1.77</td>\n",
       "      <td>9.07</td>\n",
       "      <td>7557.0</td>\n",
       "      <td>7498.0</td>\n",
       "      <td>1529.0</td>\n",
       "      <td>0.226</td>\n",
       "      <td>2021-01-16</td>\n",
       "    </tr>\n",
       "    <tr>\n",
       "      <th>2021-01-17</th>\n",
       "      <td>2021-01-17</td>\n",
       "      <td>Alabama</td>\n",
       "      <td>100567.0</td>\n",
       "      <td>444650.0</td>\n",
       "      <td>86956.0</td>\n",
       "      <td>0.28</td>\n",
       "      <td>2.05</td>\n",
       "      <td>13488.0</td>\n",
       "      <td>1.77</td>\n",
       "      <td>9.07</td>\n",
       "      <td>7557.0</td>\n",
       "      <td>7509.0</td>\n",
       "      <td>1531.0</td>\n",
       "      <td>0.226</td>\n",
       "      <td>2021-01-17</td>\n",
       "    </tr>\n",
       "    <tr>\n",
       "      <th>...</th>\n",
       "      <td>...</td>\n",
       "      <td>...</td>\n",
       "      <td>...</td>\n",
       "      <td>...</td>\n",
       "      <td>...</td>\n",
       "      <td>...</td>\n",
       "      <td>...</td>\n",
       "      <td>...</td>\n",
       "      <td>...</td>\n",
       "      <td>...</td>\n",
       "      <td>...</td>\n",
       "      <td>...</td>\n",
       "      <td>...</td>\n",
       "      <td>...</td>\n",
       "      <td>...</td>\n",
       "    </tr>\n",
       "    <tr>\n",
       "      <th>2021-04-29</th>\n",
       "      <td>2021-04-29</td>\n",
       "      <td>Alabama</td>\n",
       "      <td>2559938.0</td>\n",
       "      <td>4042070.0</td>\n",
       "      <td>1579093.0</td>\n",
       "      <td>22.87</td>\n",
       "      <td>52.21</td>\n",
       "      <td>1121348.0</td>\n",
       "      <td>32.21</td>\n",
       "      <td>82.44</td>\n",
       "      <td>32123.0</td>\n",
       "      <td>23662.0</td>\n",
       "      <td>4826.0</td>\n",
       "      <td>0.633</td>\n",
       "      <td>2021-04-29</td>\n",
       "    </tr>\n",
       "    <tr>\n",
       "      <th>2021-04-30</th>\n",
       "      <td>2021-04-30</td>\n",
       "      <td>Alabama</td>\n",
       "      <td>2591163.0</td>\n",
       "      <td>4088030.0</td>\n",
       "      <td>1589518.0</td>\n",
       "      <td>23.32</td>\n",
       "      <td>52.85</td>\n",
       "      <td>1143488.0</td>\n",
       "      <td>32.42</td>\n",
       "      <td>83.37</td>\n",
       "      <td>31225.0</td>\n",
       "      <td>23076.0</td>\n",
       "      <td>4706.0</td>\n",
       "      <td>0.634</td>\n",
       "      <td>2021-04-30</td>\n",
       "    </tr>\n",
       "    <tr>\n",
       "      <th>2021-05-01</th>\n",
       "      <td>2021-05-01</td>\n",
       "      <td>Alabama</td>\n",
       "      <td>2617405.0</td>\n",
       "      <td>4130550.0</td>\n",
       "      <td>1599130.0</td>\n",
       "      <td>23.69</td>\n",
       "      <td>53.38</td>\n",
       "      <td>1161725.0</td>\n",
       "      <td>32.61</td>\n",
       "      <td>84.24</td>\n",
       "      <td>26242.0</td>\n",
       "      <td>22271.0</td>\n",
       "      <td>4542.0</td>\n",
       "      <td>0.634</td>\n",
       "      <td>2021-05-01</td>\n",
       "    </tr>\n",
       "    <tr>\n",
       "      <th>2021-05-02</th>\n",
       "      <td>2021-05-02</td>\n",
       "      <td>Alabama</td>\n",
       "      <td>2622717.0</td>\n",
       "      <td>4130550.0</td>\n",
       "      <td>1601433.0</td>\n",
       "      <td>23.77</td>\n",
       "      <td>53.49</td>\n",
       "      <td>1165479.0</td>\n",
       "      <td>32.66</td>\n",
       "      <td>84.24</td>\n",
       "      <td>5312.0</td>\n",
       "      <td>21615.0</td>\n",
       "      <td>4408.0</td>\n",
       "      <td>0.635</td>\n",
       "      <td>2021-05-02</td>\n",
       "    </tr>\n",
       "    <tr>\n",
       "      <th>2021-05-03</th>\n",
       "      <td>2021-05-03</td>\n",
       "      <td>Alabama</td>\n",
       "      <td>2627322.0</td>\n",
       "      <td>4130550.0</td>\n",
       "      <td>1603454.0</td>\n",
       "      <td>23.83</td>\n",
       "      <td>53.58</td>\n",
       "      <td>1168235.0</td>\n",
       "      <td>32.70</td>\n",
       "      <td>84.24</td>\n",
       "      <td>4605.0</td>\n",
       "      <td>21299.0</td>\n",
       "      <td>4344.0</td>\n",
       "      <td>0.636</td>\n",
       "      <td>2021-05-03</td>\n",
       "    </tr>\n",
       "  </tbody>\n",
       "</table>\n",
       "<p>111 rows × 15 columns</p>\n",
       "</div>"
      ],
      "text/plain": [
       "                      date location  total_vaccinations  total_distributed  \\\n",
       "datetime_index                                                               \n",
       "2021-01-13      2021-01-13  Alabama             84040.0           378975.0   \n",
       "2021-01-14      2021-01-14  Alabama             92300.0           435350.0   \n",
       "2021-01-15      2021-01-15  Alabama            100567.0           444650.0   \n",
       "2021-01-16      2021-01-16  Alabama            100567.0           444650.0   \n",
       "2021-01-17      2021-01-17  Alabama            100567.0           444650.0   \n",
       "...                    ...      ...                 ...                ...   \n",
       "2021-04-29      2021-04-29  Alabama           2559938.0          4042070.0   \n",
       "2021-04-30      2021-04-30  Alabama           2591163.0          4088030.0   \n",
       "2021-05-01      2021-05-01  Alabama           2617405.0          4130550.0   \n",
       "2021-05-02      2021-05-02  Alabama           2622717.0          4130550.0   \n",
       "2021-05-03      2021-05-03  Alabama           2627322.0          4130550.0   \n",
       "\n",
       "                people_vaccinated  people_fully_vaccinated_per_hundred  \\\n",
       "datetime_index                                                           \n",
       "2021-01-13                74792.0                                 0.19   \n",
       "2021-01-14                80480.0                                 0.19   \n",
       "2021-01-15                86956.0                                 0.28   \n",
       "2021-01-16                86956.0                                 0.28   \n",
       "2021-01-17                86956.0                                 0.28   \n",
       "...                           ...                                  ...   \n",
       "2021-04-29              1579093.0                                22.87   \n",
       "2021-04-30              1589518.0                                23.32   \n",
       "2021-05-01              1599130.0                                23.69   \n",
       "2021-05-02              1601433.0                                23.77   \n",
       "2021-05-03              1603454.0                                23.83   \n",
       "\n",
       "                total_vaccinations_per_hundred  people_fully_vaccinated  \\\n",
       "datetime_index                                                            \n",
       "2021-01-13                                1.71                   9245.0   \n",
       "2021-01-14                                1.88                   9245.0   \n",
       "2021-01-15                                2.05                  13488.0   \n",
       "2021-01-16                                2.05                  13488.0   \n",
       "2021-01-17                                2.05                  13488.0   \n",
       "...                                        ...                      ...   \n",
       "2021-04-29                               52.21                1121348.0   \n",
       "2021-04-30                               52.85                1143488.0   \n",
       "2021-05-01                               53.38                1161725.0   \n",
       "2021-05-02                               53.49                1165479.0   \n",
       "2021-05-03                               53.58                1168235.0   \n",
       "\n",
       "                people_vaccinated_per_hundred  distributed_per_hundred  \\\n",
       "datetime_index                                                           \n",
       "2021-01-13                               1.53                     7.73   \n",
       "2021-01-14                               1.64                     8.88   \n",
       "2021-01-15                               1.77                     9.07   \n",
       "2021-01-16                               1.77                     9.07   \n",
       "2021-01-17                               1.77                     9.07   \n",
       "...                                       ...                      ...   \n",
       "2021-04-29                              32.21                    82.44   \n",
       "2021-04-30                              32.42                    83.37   \n",
       "2021-05-01                              32.61                    84.24   \n",
       "2021-05-02                              32.66                    84.24   \n",
       "2021-05-03                              32.70                    84.24   \n",
       "\n",
       "                daily_vaccinations_raw  daily_vaccinations  \\\n",
       "datetime_index                                               \n",
       "2021-01-13                      5906.0              5906.0   \n",
       "2021-01-14                      8260.0              7083.0   \n",
       "2021-01-15                      8267.0              7478.0   \n",
       "2021-01-16                      7557.0              7498.0   \n",
       "2021-01-17                      7557.0              7509.0   \n",
       "...                                ...                 ...   \n",
       "2021-04-29                     32123.0             23662.0   \n",
       "2021-04-30                     31225.0             23076.0   \n",
       "2021-05-01                     26242.0             22271.0   \n",
       "2021-05-02                      5312.0             21615.0   \n",
       "2021-05-03                      4605.0             21299.0   \n",
       "\n",
       "                daily_vaccinations_per_million  share_doses_used   datetime  \n",
       "datetime_index                                                               \n",
       "2021-01-13                              1205.0             0.222 2021-01-13  \n",
       "2021-01-14                              1445.0             0.212 2021-01-14  \n",
       "2021-01-15                              1525.0             0.226 2021-01-15  \n",
       "2021-01-16                              1529.0             0.226 2021-01-16  \n",
       "2021-01-17                              1531.0             0.226 2021-01-17  \n",
       "...                                        ...               ...        ...  \n",
       "2021-04-29                              4826.0             0.633 2021-04-29  \n",
       "2021-04-30                              4706.0             0.634 2021-04-30  \n",
       "2021-05-01                              4542.0             0.634 2021-05-01  \n",
       "2021-05-02                              4408.0             0.635 2021-05-02  \n",
       "2021-05-03                              4344.0             0.636 2021-05-03  \n",
       "\n",
       "[111 rows x 15 columns]"
      ]
     },
     "execution_count": 839,
     "metadata": {},
     "output_type": "execute_result"
    }
   ],
   "source": [
    "y = df_clean.loc['Alabama']\n",
    "X = df_clean.loc['Alabama'].drop('')"
   ]
  },
  {
   "cell_type": "code",
   "execution_count": 840,
   "id": "43291f79",
   "metadata": {},
   "outputs": [],
   "source": [
    "# help(train_test_split)"
   ]
  },
  {
   "cell_type": "code",
   "execution_count": 221,
   "id": "705fe21d",
   "metadata": {},
   "outputs": [
    {
     "data": {
      "text/plain": [
       "Index(['dayofweek', 'Days_since_measurement', 'Confirmed', 'Recovered',\n",
       "       'Active', 'Incident_Rate'],\n",
       "      dtype='object')"
      ]
     },
     "execution_count": 221,
     "metadata": {},
     "output_type": "execute_result"
    }
   ],
   "source": [
    "X_train.columns"
   ]
  },
  {
   "cell_type": "code",
   "execution_count": 188,
   "id": "230324f5",
   "metadata": {},
   "outputs": [],
   "source": [
    "# type(X['weekofyear'].iloc[0])"
   ]
  },
  {
   "cell_type": "code",
   "execution_count": 190,
   "id": "a1f9f770",
   "metadata": {},
   "outputs": [
    {
     "data": {
      "image/png": "[encoded data removed]",
      "text/plain": [
       "<Figure size 432x288 with 1 Axes>"
      ]
     },
     "metadata": {
      "needs_background": "light"
     },
     "output_type": "display_data"
    }
   ],
   "source": [
    "from xgboost import XGBRegressor\n",
    "from xgboost import plot_importance, plot_tree\n",
    "\n",
    "def get_xgb_regressor_mae(X_trn, X_tst, y_trn, y_tst):\n",
    "    vax_model = XGBRegressor(random_state=1)\n",
    "    vax_model.fit(X_trn, y_trn)\n",
    "    y_tst_prd = vax_model.predict(X_tst)\n",
    "    mae = mean_absolute_error(y_tst, y_tst_prd)\n",
    "    _ = plot_importance(vax_model, height=0.9)\n",
    "    return\n",
    "\n",
    "get_xgb_regressor_mae(X_train, X_test, y_train, y_test)"
   ]
  },
  {
   "cell_type": "code",
   "execution_count": 222,
   "id": "683ba8ef",
   "metadata": {},
   "outputs": [
    {
     "name": "stderr",
     "output_type": "stream",
     "text": [
      "<ipython-input-222-d2afc9e55bbf>:2: DataConversionWarning: A column-vector y was passed when a 1d array was expected. Please change the shape of y to (n_samples,), for example using ravel().\n",
      "  vax_model.fit(X_train, y_train)\n"
     ]
    },
    {
     "data": {
      "text/plain": [
       "1303.8633333333332"
      ]
     },
     "execution_count": 222,
     "metadata": {},
     "output_type": "execute_result"
    }
   ],
   "source": [
    "vax_model = RandomForestRegressor(random_state=1)\n",
    "vax_model.fit(X_train, y_train)\n",
    "y_test_pred = vax_model.predict(X_test)\n",
    "mae = mean_absolute_error(y_test, y_test_pred)\n",
    "mae"
   ]
  },
  {
   "cell_type": "code",
   "execution_count": 827,
   "id": "5ae5e447",
   "metadata": {},
   "outputs": [
    {
     "data": {
      "text/plain": [
       "datetime_index\n",
       "2021-01-12     2.79\n",
       "2021-01-13     2.97\n",
       "2021-01-14     3.16\n",
       "2021-01-15     3.46\n",
       "2021-01-16     3.46\n",
       "              ...  \n",
       "2021-04-27    37.42\n",
       "2021-04-28    37.65\n",
       "2021-04-29    37.93\n",
       "2021-04-30    38.26\n",
       "2021-05-01    38.50\n",
       "Freq: D, Name: people_vaccinated_per_hundred, Length: 110, dtype: float64"
      ]
     },
     "execution_count": 827,
     "metadata": {},
     "output_type": "execute_result"
    }
   ],
   "source": [
    "y"
   ]
  },
  {
   "cell_type": "code",
   "execution_count": 225,
   "id": "61ce8682",
   "metadata": {},
   "outputs": [
    {
     "data": {
      "text/plain": [
       "2.9823707210178774"
      ]
     },
     "execution_count": 225,
     "metadata": {},
     "output_type": "execute_result"
    }
   ],
   "source": [
    "mae/np.mean(y['Doses_admin'])*100"
   ]
  },
  {
   "cell_type": "code",
   "execution_count": 210,
   "id": "3d66bad0",
   "metadata": {},
   "outputs": [
    {
     "data": {
      "text/plain": [
       "array([  7829.,   8383.,   8928.,   8928.,   9611.,  12996.,  13236.,\n",
       "        13236.,  13236.,  13236.,  18928.,  22266.,  25196.,  26423.,\n",
       "        26563.,  26563.,  26563.,  29170.,  33414.,  33414.,  35976.,\n",
       "        38191.,  38191.,  38191.,  40981.,  43992.,  46775.,  46775.,\n",
       "        46775.,  56831.,  56831.,  60317.,  60775.,  60775.,  67600.,\n",
       "        71858.,  71858.,  83554.,  92603.,  92603.,  95682.,  99099.,\n",
       "        99099., 100186.])"
      ]
     },
     "execution_count": 210,
     "metadata": {},
     "output_type": "execute_result"
    }
   ],
   "source": [
    "y.copy().values.ravel()"
   ]
  },
  {
   "cell_type": "code",
   "execution_count": 1,
   "id": "acce7bae",
   "metadata": {},
   "outputs": [],
   "source": [
    "# Import packages\n",
    "\n",
    "import pandas as pd             # to use Dataframes\n",
    "import matplotlib.pyplot as plt # to plot results\n",
    "import numpy as np              # to perform mathematical operations"
   ]
  },
  {
   "cell_type": "code",
   "execution_count": 47,
   "id": "6aaaddbe",
   "metadata": {},
   "outputs": [],
   "source": [
    "df_owid_orig = pd.read_csv('https://raw.githubusercontent.com/owid/covid-19-data/master/public/data/vaccinations/us_state_vaccinations.csv')"
   ]
  },
  {
   "cell_type": "code",
   "execution_count": 583,
   "id": "ce719f9c",
   "metadata": {},
   "outputs": [],
   "source": [
    "# Work with a copy, not the original dataset\n",
    "df_owid = df_owid_orig.copy()\n",
    "\n",
    "# Store the location and date as indices for the dataframe\n",
    "df_owid.sort_values(by=['location', 'date'])\n",
    "df_owid.loc[:, 'datetime'] = pd.to_datetime(df_owid.loc[:, 'date'])\n",
    "df_owid = df_owid.set_index(['location', 'datetime'], drop=False)\n",
    "df_owid.rename_axis(['location_index', 'datetime_index'], axis='index', inplace=True)\n",
    "\n",
    "# Count the number of days since beginning of recording - helps with regression model\n",
    "df_owid['days_since'] = (df_owid['datetime'] - df_owid['datetime'].iloc[0]).dt.days\n",
    "\n",
    "df_owid_clean = df_owid[['']]\n",
    "# for state in df_owid.index.levels[0]:\n",
    "    \n",
    "# owid_vpop_USA.asfreq(freq='D')\n",
    "\n",
    "# df.fillna(method='ffill', inplace=True)\n",
    "# df.dropna(inplace=True)"
   ]
  },
  {
   "cell_type": "code",
   "execution_count": 568,
   "id": "50c7af3d",
   "metadata": {},
   "outputs": [],
   "source": [
    "# for state in df_owid.index.levels[0]:\n",
    "#     print(df_owid.loc[state].index[0])"
   ]
  },
  {
   "cell_type": "code",
   "execution_count": 585,
   "id": "301afd80",
   "metadata": {},
   "outputs": [],
   "source": [
    "df_days_since = df_owid['days_since']"
   ]
  },
  {
   "cell_type": "code",
   "execution_count": 554,
   "id": "0facce75",
   "metadata": {},
   "outputs": [],
   "source": [
    "ListofStates = ['Alabama', 'Texas', 'New York State']"
   ]
  },
  {
   "cell_type": "code",
   "execution_count": 557,
   "id": "e384e0ab",
   "metadata": {},
   "outputs": [],
   "source": [
    "train_date_limit = datetime.datetime.strptime('2021-03-15', '%Y-%m-%d')"
   ]
  },
  {
   "cell_type": "code",
   "execution_count": null,
   "id": "e44036f3",
   "metadata": {},
   "outputs": [],
   "source": []
  },
  {
   "cell_type": "code",
   "execution_count": 552,
   "id": "a37225a6",
   "metadata": {},
   "outputs": [],
   "source": [
    "\n",
    "\n",
    "# for Stateidx, State in enumerate(ListofStates):\n",
    "#     TrainData = df_owid_narrow.loc[State][dates[0]:dates[1]]\n",
    "#     TestData = df_owid_narrow.loc[State][dates[2]:dates[3]]"
   ]
  },
  {
   "cell_type": "code",
   "execution_count": 230,
   "id": "e526b8cd",
   "metadata": {},
   "outputs": [
    {
     "name": "stderr",
     "output_type": "stream",
     "text": [
      "<ipython-input-230-3985a5529523>:2: SettingWithCopyWarning: \n",
      "A value is trying to be set on a copy of a slice from a DataFrame.\n",
      "Try using .loc[row_indexer,col_indexer] = value instead\n",
      "\n",
      "See the caveats in the documentation: https://pandas.pydata.org/pandas-docs/stable/user_guide/indexing.html#returning-a-view-versus-a-copy\n",
      "  df_state['days_since'] = (df_state['datetime'] - df_state['datetime'].iloc[0]).dt.days\n"
     ]
    }
   ],
   "source": [
    "df_state = df_owid.loc['Alabama']\n",
    "df_state['days_since'] = (df_state['datetime'] - df_state['datetime'].iloc[0]).dt.days\n",
    "df_state = df_state.dropna(subset=['people_vaccinated_per_hundred']).dropna()"
   ]
  },
  {
   "cell_type": "code",
   "execution_count": null,
   "id": "350c4d72",
   "metadata": {},
   "outputs": [],
   "source": []
  },
  {
   "cell_type": "code",
   "execution_count": 41,
   "id": "025b3ed9",
   "metadata": {},
   "outputs": [
    {
     "name": "stdout",
     "output_type": "stream",
     "text": [
      "Please insert dates in \"YYYY-MM-DD\" format:\n",
      "e.g. \"January 4, 2005\" is \"2005-01-04\"\n"
     ]
    },
    {
     "name": "stdin",
     "output_type": "stream",
     "text": [
      "Train Data from: 2021-01-14\n",
      "Train data to  : 2021-03-15\n",
      "Test data from : 2021-04-01\n",
      "Test data to   : 2021-04-21\n"
     ]
    }
   ],
   "source": [
    "def train_test_dates:\n",
    "\n",
    "    print('Please insert dates in \"YYYY-MM-DD\" format:\\ne.g. \"January 4, 2005\" is \"2005-01-04\"')\n",
    "\n",
    "    dates = [[]]*4\n",
    "    date_input_str = ['Train data from:',\n",
    "                      'Train data to  :',\n",
    "                      'Test  data from:',\n",
    "                      'Test  data to  :']\n",
    "\n",
    "    for idx, val in enumerate(train_test_dates):\n",
    "        while True:\n",
    "            try:\n",
    "                train_test_dates[idx] = datetime.datetime.strptime(input(date_input_str[idx]), '%Y-%m-%d')\n",
    "            except ValueError:\n",
    "                print('Please provide a date in \"YYYY-MM-DD\" format')\n",
    "            else:\n",
    "                break\n",
    "    \n",
    "    return dates"
   ]
  },
  {
   "cell_type": "code",
   "execution_count": null,
   "id": "4f5d32e2",
   "metadata": {},
   "outputs": [],
   "source": [
    "def split_date_range(X, y, dates):\n",
    "    X_train = (df.index.levels[1] - df.index.levels[1][0]).days.values.reshape(-1, 1)"
   ]
  }
 ],
 "metadata": {
  "kernelspec": {
   "display_name": "Python 3",
   "language": "python",
   "name": "python3"
  },
  "language_info": {
   "codemirror_mode": {
    "name": "ipython",
    "version": 3
   },
   "file_extension": ".py",
   "mimetype": "text/x-python",
   "name": "python",
   "nbconvert_exporter": "python",
   "pygments_lexer": "ipython3",
   "version": "3.8.3"
  }
 },
 "nbformat": 4,
 "nbformat_minor": 5
}
