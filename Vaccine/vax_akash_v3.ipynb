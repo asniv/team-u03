{
 "cells": [
  {
   "cell_type": "code",
   "execution_count": 118,
   "id": "21f50c38",
   "metadata": {},
   "outputs": [],
   "source": [
    "import pandas as pd\n",
    "import matplotlib.pyplot as plt\n",
    "import numpy as np"
   ]
  },
  {
   "cell_type": "code",
   "execution_count": 488,
   "id": "88e96851",
   "metadata": {},
   "outputs": [
    {
     "data": {
      "text/html": [
       "<div>\n",
       "<style scoped>\n",
       "    .dataframe tbody tr th:only-of-type {\n",
       "        vertical-align: middle;\n",
       "    }\n",
       "\n",
       "    .dataframe tbody tr th {\n",
       "        vertical-align: top;\n",
       "    }\n",
       "\n",
       "    .dataframe thead th {\n",
       "        text-align: right;\n",
       "    }\n",
       "</style>\n",
       "<table border=\"1\" class=\"dataframe\">\n",
       "  <thead>\n",
       "    <tr style=\"text-align: right;\">\n",
       "      <th></th>\n",
       "      <th></th>\n",
       "      <th>date</th>\n",
       "      <th>location</th>\n",
       "      <th>total_vaccinations</th>\n",
       "      <th>total_distributed</th>\n",
       "      <th>people_vaccinated</th>\n",
       "      <th>people_fully_vaccinated_per_hundred</th>\n",
       "      <th>total_vaccinations_per_hundred</th>\n",
       "      <th>people_fully_vaccinated</th>\n",
       "      <th>people_vaccinated_per_hundred</th>\n",
       "      <th>distributed_per_hundred</th>\n",
       "      <th>daily_vaccinations_raw</th>\n",
       "      <th>daily_vaccinations</th>\n",
       "      <th>daily_vaccinations_per_million</th>\n",
       "      <th>share_doses_used</th>\n",
       "      <th>datetime</th>\n",
       "    </tr>\n",
       "    <tr>\n",
       "      <th>location_index</th>\n",
       "      <th>datetime_index</th>\n",
       "      <th></th>\n",
       "      <th></th>\n",
       "      <th></th>\n",
       "      <th></th>\n",
       "      <th></th>\n",
       "      <th></th>\n",
       "      <th></th>\n",
       "      <th></th>\n",
       "      <th></th>\n",
       "      <th></th>\n",
       "      <th></th>\n",
       "      <th></th>\n",
       "      <th></th>\n",
       "      <th></th>\n",
       "      <th></th>\n",
       "    </tr>\n",
       "  </thead>\n",
       "  <tbody>\n",
       "    <tr>\n",
       "      <th rowspan=\"5\" valign=\"top\">Alabama</th>\n",
       "      <th>2021-01-12</th>\n",
       "      <td>2021-01-12</td>\n",
       "      <td>Alabama</td>\n",
       "      <td>78134.0</td>\n",
       "      <td>377025.0</td>\n",
       "      <td>70861.0</td>\n",
       "      <td>0.15</td>\n",
       "      <td>1.59</td>\n",
       "      <td>7270.0</td>\n",
       "      <td>1.45</td>\n",
       "      <td>7.69</td>\n",
       "      <td>NaN</td>\n",
       "      <td>NaN</td>\n",
       "      <td>NaN</td>\n",
       "      <td>0.207</td>\n",
       "      <td>2021-01-12</td>\n",
       "    </tr>\n",
       "    <tr>\n",
       "      <th>2021-01-13</th>\n",
       "      <td>2021-01-13</td>\n",
       "      <td>Alabama</td>\n",
       "      <td>84040.0</td>\n",
       "      <td>378975.0</td>\n",
       "      <td>74792.0</td>\n",
       "      <td>0.19</td>\n",
       "      <td>1.71</td>\n",
       "      <td>9245.0</td>\n",
       "      <td>1.53</td>\n",
       "      <td>7.73</td>\n",
       "      <td>5906.0</td>\n",
       "      <td>5906.0</td>\n",
       "      <td>1205.0</td>\n",
       "      <td>0.222</td>\n",
       "      <td>2021-01-13</td>\n",
       "    </tr>\n",
       "    <tr>\n",
       "      <th>2021-01-14</th>\n",
       "      <td>2021-01-14</td>\n",
       "      <td>Alabama</td>\n",
       "      <td>92300.0</td>\n",
       "      <td>435350.0</td>\n",
       "      <td>80480.0</td>\n",
       "      <td>NaN</td>\n",
       "      <td>1.88</td>\n",
       "      <td>NaN</td>\n",
       "      <td>1.64</td>\n",
       "      <td>8.88</td>\n",
       "      <td>8260.0</td>\n",
       "      <td>7083.0</td>\n",
       "      <td>1445.0</td>\n",
       "      <td>0.212</td>\n",
       "      <td>2021-01-14</td>\n",
       "    </tr>\n",
       "    <tr>\n",
       "      <th>2021-01-15</th>\n",
       "      <td>2021-01-15</td>\n",
       "      <td>Alabama</td>\n",
       "      <td>100567.0</td>\n",
       "      <td>444650.0</td>\n",
       "      <td>86956.0</td>\n",
       "      <td>0.28</td>\n",
       "      <td>2.05</td>\n",
       "      <td>13488.0</td>\n",
       "      <td>1.77</td>\n",
       "      <td>9.07</td>\n",
       "      <td>8267.0</td>\n",
       "      <td>7478.0</td>\n",
       "      <td>1525.0</td>\n",
       "      <td>0.226</td>\n",
       "      <td>2021-01-15</td>\n",
       "    </tr>\n",
       "    <tr>\n",
       "      <th>2021-01-16</th>\n",
       "      <td>2021-01-16</td>\n",
       "      <td>Alabama</td>\n",
       "      <td>NaN</td>\n",
       "      <td>NaN</td>\n",
       "      <td>NaN</td>\n",
       "      <td>NaN</td>\n",
       "      <td>NaN</td>\n",
       "      <td>NaN</td>\n",
       "      <td>NaN</td>\n",
       "      <td>NaN</td>\n",
       "      <td>7557.0</td>\n",
       "      <td>7498.0</td>\n",
       "      <td>1529.0</td>\n",
       "      <td>NaN</td>\n",
       "      <td>2021-01-16</td>\n",
       "    </tr>\n",
       "  </tbody>\n",
       "</table>\n",
       "</div>"
      ],
      "text/plain": [
       "                                     date location  total_vaccinations  \\\n",
       "location_index datetime_index                                            \n",
       "Alabama        2021-01-12      2021-01-12  Alabama             78134.0   \n",
       "               2021-01-13      2021-01-13  Alabama             84040.0   \n",
       "               2021-01-14      2021-01-14  Alabama             92300.0   \n",
       "               2021-01-15      2021-01-15  Alabama            100567.0   \n",
       "               2021-01-16      2021-01-16  Alabama                 NaN   \n",
       "\n",
       "                               total_distributed  people_vaccinated  \\\n",
       "location_index datetime_index                                         \n",
       "Alabama        2021-01-12               377025.0            70861.0   \n",
       "               2021-01-13               378975.0            74792.0   \n",
       "               2021-01-14               435350.0            80480.0   \n",
       "               2021-01-15               444650.0            86956.0   \n",
       "               2021-01-16                    NaN                NaN   \n",
       "\n",
       "                               people_fully_vaccinated_per_hundred  \\\n",
       "location_index datetime_index                                        \n",
       "Alabama        2021-01-12                                     0.15   \n",
       "               2021-01-13                                     0.19   \n",
       "               2021-01-14                                      NaN   \n",
       "               2021-01-15                                     0.28   \n",
       "               2021-01-16                                      NaN   \n",
       "\n",
       "                               total_vaccinations_per_hundred  \\\n",
       "location_index datetime_index                                   \n",
       "Alabama        2021-01-12                                1.59   \n",
       "               2021-01-13                                1.71   \n",
       "               2021-01-14                                1.88   \n",
       "               2021-01-15                                2.05   \n",
       "               2021-01-16                                 NaN   \n",
       "\n",
       "                               people_fully_vaccinated  \\\n",
       "location_index datetime_index                            \n",
       "Alabama        2021-01-12                       7270.0   \n",
       "               2021-01-13                       9245.0   \n",
       "               2021-01-14                          NaN   \n",
       "               2021-01-15                      13488.0   \n",
       "               2021-01-16                          NaN   \n",
       "\n",
       "                               people_vaccinated_per_hundred  \\\n",
       "location_index datetime_index                                  \n",
       "Alabama        2021-01-12                               1.45   \n",
       "               2021-01-13                               1.53   \n",
       "               2021-01-14                               1.64   \n",
       "               2021-01-15                               1.77   \n",
       "               2021-01-16                                NaN   \n",
       "\n",
       "                               distributed_per_hundred  \\\n",
       "location_index datetime_index                            \n",
       "Alabama        2021-01-12                         7.69   \n",
       "               2021-01-13                         7.73   \n",
       "               2021-01-14                         8.88   \n",
       "               2021-01-15                         9.07   \n",
       "               2021-01-16                          NaN   \n",
       "\n",
       "                               daily_vaccinations_raw  daily_vaccinations  \\\n",
       "location_index datetime_index                                               \n",
       "Alabama        2021-01-12                         NaN                 NaN   \n",
       "               2021-01-13                      5906.0              5906.0   \n",
       "               2021-01-14                      8260.0              7083.0   \n",
       "               2021-01-15                      8267.0              7478.0   \n",
       "               2021-01-16                      7557.0              7498.0   \n",
       "\n",
       "                               daily_vaccinations_per_million  \\\n",
       "location_index datetime_index                                   \n",
       "Alabama        2021-01-12                                 NaN   \n",
       "               2021-01-13                              1205.0   \n",
       "               2021-01-14                              1445.0   \n",
       "               2021-01-15                              1525.0   \n",
       "               2021-01-16                              1529.0   \n",
       "\n",
       "                               share_doses_used   datetime  \n",
       "location_index datetime_index                               \n",
       "Alabama        2021-01-12                 0.207 2021-01-12  \n",
       "               2021-01-13                 0.222 2021-01-13  \n",
       "               2021-01-14                 0.212 2021-01-14  \n",
       "               2021-01-15                 0.226 2021-01-15  \n",
       "               2021-01-16                   NaN 2021-01-16  "
      ]
     },
     "execution_count": 488,
     "metadata": {},
     "output_type": "execute_result"
    }
   ],
   "source": [
    "owid_vpop_USA = pd.read_csv('https://raw.githubusercontent.com/owid/covid-19-data/master/public/data/vaccinations/us_state_vaccinations.csv')\n",
    "owid_vpop_USA.sort_values(by=['location', 'date'])\n",
    "owid_vpop_USA.loc[:, 'datetime'] = pd.to_datetime(owid_vpop_USA.loc[:, 'date'])\n",
    "owid_vpop_USA = owid_vpop_USA.set_index(['location', 'datetime'], drop=False)\n",
    "owid_vpop_USA.rename_axis(['location_index', 'datetime_index'], axis='index', inplace=True)\n",
    "# owid_vpop_USA.asfreq(freq='D')\n",
    "\n",
    "owid_vpop_USA.head()"
   ]
  },
  {
   "cell_type": "code",
   "execution_count": 473,
   "id": "54c6db38",
   "metadata": {},
   "outputs": [
    {
     "data": {
      "text/plain": [
       "datetime_index\n",
       "2021-01-12     2.79\n",
       "2021-01-13     2.97\n",
       "2021-01-14     3.16\n",
       "2021-01-15     3.46\n",
       "2021-01-16      NaN\n",
       "              ...  \n",
       "2021-04-27    37.42\n",
       "2021-04-28    37.65\n",
       "2021-04-29    37.93\n",
       "2021-04-30    38.26\n",
       "2021-05-01    38.50\n",
       "Freq: D, Name: people_vaccinated_per_hundred, Length: 110, dtype: float64"
      ]
     },
     "execution_count": 473,
     "metadata": {},
     "output_type": "execute_result"
    }
   ],
   "source": []
  },
  {
   "cell_type": "code",
   "execution_count": 447,
   "id": "429053b7",
   "metadata": {},
   "outputs": [],
   "source": [
    "owid_vpop_USA.index.levels[1].freq='D'"
   ]
  },
  {
   "cell_type": "code",
   "execution_count": 448,
   "id": "5271d53d",
   "metadata": {},
   "outputs": [],
   "source": [
    "StateNames = ['Washington', 'Alabama', 'Texas']\n",
    "StateList = [ owid_vpop_USA.loc[State] for State in StateNames ]"
   ]
  },
  {
   "cell_type": "code",
   "execution_count": 449,
   "id": "9587d12f",
   "metadata": {},
   "outputs": [
    {
     "data": {
      "text/plain": [
       "Text(0.5, 1.0, 'Vaccination Rate in US States')"
      ]
     },
     "execution_count": 449,
     "metadata": {},
     "output_type": "execute_result"
    },
    {
     "data": {
      "image/png": "[encoded data removed]",
      "text/plain": [
       "<Figure size 648x504 with 1 Axes>"
      ]
     },
     "metadata": {
      "needs_background": "light"
     },
     "output_type": "display_data"
    }
   ],
   "source": [
    "for State in StateNames:\n",
    "    pc_full_fig = owid_vpop_USA.loc[State, 'people_vaccinated_per_hundred'].plot(figsize=(9,7))\n",
    "plt.legend(StateNames, fontsize=12)\n",
    "# pc_full_fig.axis_params(labelsize=12)\n",
    "pc_full_fig.tick_params(labelsize=12)\n",
    "plt.xlabel('Date', fontdict={'size': 12})\n",
    "plt.ylabel('% of State Population with at Least One Dose', fontdict={'size': 12})\n",
    "plt.title('Vaccination Rate in US States', fontdict={'size': 14})"
   ]
  },
  {
   "cell_type": "code",
   "execution_count": 450,
   "id": "916a3298",
   "metadata": {},
   "outputs": [],
   "source": [
    "# Random Forest model function\n",
    "\n",
    "from sklearn.ensemble import RandomForestRegressor\n",
    "\n",
    "def get_random_forest_mae(X_trn, X_tst, y_trn, y_tst):\n",
    "    vax_model = RandomForestRegressor(random_state=1)\n",
    "    vax_model.fit(X_trn, y_trn)\n",
    "    y_tst_prd = vax_model.predict(X_tst)\n",
    "    mae = mean_absolute_error(y_tst, y_tst_prd)\n",
    "    return(y_tst_prd, mae)"
   ]
  },
  {
   "cell_type": "code",
   "execution_count": 475,
   "id": "44ed6c02",
   "metadata": {},
   "outputs": [],
   "source": [
    "# def rf_pred(State):\n",
    "\n",
    "#     y = owid_vpop_USA.loc[State, 'people_vaccinated_per_hundred'].asfreq('D') # use percent of population with >= 1 vaccine as y-variable\n",
    "#     X = owid_vpop_USA.loc[State].index # use datetime as x-variable\n",
    "#     X_train, X_test, y_train, y_test = train_test_split(X, y, test_size=0.2, random_state=1)\n",
    "\n",
    "#     y_test_pred, mae = get_random_forest_mae(X_train, X_test, y_train, y_test)\n",
    "    \n",
    "#     plt.plot(pd.concat([X_train, X_test]), pd.concat([y_train, y_test]))\n",
    "#     plt.plot(pd.concat([X_train, X_test]), pd.concat([y_train, y_test_pred]))\n",
    "    \n",
    "#     vax_model = RandomForestRegressor(random_state=1)\n",
    "#     vax_model.fit(X_trainn, y_train)\n",
    "#     y_test_pred = vax_model.predict(X_test)\n",
    "#     mae = mean_absolute_error(y_test, y_test_pred)\n",
    "    \n",
    "#     return(y_test_pred, mae)\n",
    "\n",
    "# #     Y_list.append()\n",
    "# #     X_list.append()\n",
    "# #     X_train_list.append(x_train)"
   ]
  },
  {
   "cell_type": "code",
   "execution_count": 453,
   "id": "9d9e68b1",
   "metadata": {},
   "outputs": [
    {
     "data": {
      "text/plain": [
       "location_index  datetime_index\n",
       "Alabama         2021-01-12         1.45\n",
       "                2021-01-13         1.53\n",
       "                2021-01-14         1.64\n",
       "                2021-01-15         1.77\n",
       "                2021-01-16          NaN\n",
       "                                  ...  \n",
       "Wyoming         2021-04-27        33.62\n",
       "                2021-04-28        33.64\n",
       "                2021-04-29        33.85\n",
       "                2021-04-30        33.94\n",
       "                2021-05-01        34.07\n",
       "Name: people_vaccinated_per_hundred, Length: 7173, dtype: float64"
      ]
     },
     "execution_count": 453,
     "metadata": {},
     "output_type": "execute_result"
    }
   ],
   "source": [
    "owid_vpop_USA['people_vaccinated_per_hundred']"
   ]
  },
  {
   "cell_type": "code",
   "execution_count": 490,
   "id": "776bb0b3",
   "metadata": {},
   "outputs": [
    {
     "data": {
      "text/plain": [
       "total_vaccinations    float64\n",
       "total_distributed     float64\n",
       "dtype: object"
      ]
     },
     "execution_count": 490,
     "metadata": {},
     "output_type": "execute_result"
    }
   ],
   "source": [
    "X_train.dtypes"
   ]
  },
  {
   "cell_type": "code",
   "execution_count": 360,
   "id": "128a259c",
   "metadata": {},
   "outputs": [
    {
     "data": {
      "text/plain": [
       "array([22.0707, 11.1003, 19.7252, 27.1256, 11.448 , 18.156 , 16.9982,\n",
       "       32.3884, 10.4733, 19.2395, 37.2589, 13.8394, 35.1353, 16.4382,\n",
       "       10.9475, 34.1677, 11.3663, 24.2935,  6.771 , 25.5704, 38.1023,\n",
       "       33.2023])"
      ]
     },
     "execution_count": 360,
     "metadata": {},
     "output_type": "execute_result"
    }
   ],
   "source": [
    "df_test_pred[y_col].values"
   ]
  },
  {
   "cell_type": "code",
   "execution_count": 489,
   "id": "ac55d044",
   "metadata": {},
   "outputs": [
    {
     "data": {
      "text/plain": [
       "datetime_index\n",
       "2021-01-12     2.79\n",
       "2021-01-13     2.97\n",
       "2021-01-14     3.16\n",
       "2021-01-15     3.46\n",
       "2021-01-16      NaN\n",
       "              ...  \n",
       "2021-04-27    37.42\n",
       "2021-04-28    37.65\n",
       "2021-04-29    37.93\n",
       "2021-04-30    38.26\n",
       "2021-05-01    38.50\n",
       "Freq: D, Name: people_vaccinated_per_hundred, Length: 110, dtype: float64"
      ]
     },
     "execution_count": 489,
     "metadata": {},
     "output_type": "execute_result"
    }
   ],
   "source": [
    "y.asfreq(freq='D')"
   ]
  },
  {
   "cell_type": "code",
   "execution_count": 552,
   "id": "bfe8782f",
   "metadata": {},
   "outputs": [],
   "source": [
    "y = owid_vpop_USA_clean.loc[State, y_col].asfreq('D').fillna(method='ffill') # use percent of population with >= 1 vaccine as y-variable\n",
    "X = owid_vpop_USA_clean.loc[State, X_cols] # use datetime as x-variable\n",
    "# X_train, X_test, y_train, y_test = train_test_split(X, y, test_size=0.2, random_state=1)\n",
    "\n",
    "# y_test_pred_df = y_test.copy()\n",
    "\n",
    "# vax_model = RandomForestRegressor(random_state=1)\n",
    "# vax_model.fit(X_train, y_train)\n",
    "# y_test_pred_ar = vax_model.predict(X_test)\n",
    "\n",
    "# y_test_pred_df = pd.DataFrame(y_test_pred, index=y_test.index)\n",
    "\n",
    "# mae = mean_absolute_error(y_test, y_test_pred)\n",
    "\n",
    "# # y_real_df = \n",
    "# # y_pred_df = \n",
    "\n",
    "# df_real = pd.concat([X_train, X_test]).join(pd.concat([y_train, y_test]))\n",
    "# df_test_pred = X_test.join(y_test_pred_df)\n",
    "\n",
    "# df_real[y_col].plot(figsize=(9,7))\n",
    "# df_test_pred[y_col].plot(figsize=(9,7))\n",
    "# plt.plot(df_test_pred[X_cols], df_test_pred['people_vaccinated_per_hundred'])\n",
    "# plt.plot(, )\n",
    "# plt.plot(np.concatenate([X_train, X_test]), np.concatenate([y_train, y_test_pred]))\n",
    "\n"
   ]
  },
  {
   "cell_type": "code",
   "execution_count": 482,
   "id": "e1532831",
   "metadata": {},
   "outputs": [],
   "source": [
    "X.index.freq"
   ]
  },
  {
   "cell_type": "code",
   "execution_count": 522,
   "id": "216a6d34",
   "metadata": {},
   "outputs": [
    {
     "data": {
      "text/plain": [
       "datetime_index\n",
       "2021-01-12     2.79\n",
       "2021-01-13     2.97\n",
       "2021-01-14     3.16\n",
       "2021-01-15     3.46\n",
       "2021-01-19     4.22\n",
       "              ...  \n",
       "2021-04-27    37.42\n",
       "2021-04-28    37.65\n",
       "2021-04-29    37.93\n",
       "2021-04-30    38.26\n",
       "2021-05-01    38.50\n",
       "Name: people_vaccinated_per_hundred, Length: 106, dtype: float64"
      ]
     },
     "execution_count": 522,
     "metadata": {},
     "output_type": "execute_result"
    }
   ],
   "source": [
    "owid_vpop_USA_clean.loc[State, y_col]"
   ]
  },
  {
   "cell_type": "code",
   "execution_count": 508,
   "id": "0277e641",
   "metadata": {},
   "outputs": [],
   "source": [
    "X_cols = ['total_vaccinations', 'total_distributed']\n",
    "y_col = 'people_vaccinated_per_hundred'\n",
    "owid_vpop_USA_clean = owid_vpop_USA.dropna(subset=X_cols+[y_col])"
   ]
  },
  {
   "cell_type": "code",
   "execution_count": 513,
   "id": "3438c049",
   "metadata": {},
   "outputs": [
    {
     "data": {
      "text/plain": [
       "total_vaccinations               0\n",
       "total_distributed                0\n",
       "people_vaccinated_per_hundred    0\n",
       "dtype: int64"
      ]
     },
     "execution_count": 513,
     "metadata": {},
     "output_type": "execute_result"
    }
   ],
   "source": [
    "owid_vpop_USA_clean[X_cols+[y_col]].isna().sum()"
   ]
  },
  {
   "cell_type": "code",
   "execution_count": 556,
   "id": "e90d4886",
   "metadata": {},
   "outputs": [
    {
     "data": {
      "text/plain": [
       "datetime_index\n",
       "2021-01-12     2.79\n",
       "2021-01-13     2.97\n",
       "2021-01-14     3.16\n",
       "2021-01-15     3.46\n",
       "2021-01-16     3.46\n",
       "              ...  \n",
       "2021-04-27    37.42\n",
       "2021-04-28    37.65\n",
       "2021-04-29    37.93\n",
       "2021-04-30    38.26\n",
       "2021-05-01    38.50\n",
       "Freq: D, Name: people_vaccinated_per_hundred, Length: 110, dtype: float64"
      ]
     },
     "execution_count": 556,
     "metadata": {},
     "output_type": "execute_result"
    }
   ],
   "source": [
    "y_clean"
   ]
  },
  {
   "cell_type": "code",
   "execution_count": 651,
   "id": "90c7e14c",
   "metadata": {},
   "outputs": [
    {
     "data": {
      "text/plain": [
       "0.06076279479394021"
      ]
     },
     "execution_count": 651,
     "metadata": {},
     "output_type": "execute_result"
    }
   ],
   "source": [
    "# tutorial from https://analyticsindiamag.com/sktime-library/\n",
    "\n",
    "from sktime.datasets import load_airline\n",
    "from sktime.forecasting.base import ForecastingHorizon\n",
    "from sktime.forecasting.model_selection import temporal_train_test_split\n",
    "from sktime.forecasting.theta import ThetaForecaster\n",
    "from sktime.performance_metrics.forecasting import smape_loss\n",
    "\n",
    "# y = load_airline()\n",
    "y = y_clean\n",
    "y_train, y_test = temporal_train_test_split(y)\n",
    "fh = ForecastingHorizon(y_test.index, is_relative=False)\n",
    "forecaster = ThetaForecaster(sp=36)  # monthly seasonal periodicity\n",
    "forecaster.fit(y_train)\n",
    "y_test_pred = forecaster.predict(fh)\n",
    "smape_loss(y_test, y_test_pred)"
   ]
  },
  {
   "cell_type": "code",
   "execution_count": 648,
   "id": "ef44cf3d",
   "metadata": {},
   "outputs": [
    {
     "data": {
      "text/plain": [
       "datetime_index\n",
       "2021-01-12     2.79\n",
       "2021-01-13     2.97\n",
       "2021-01-14     3.16\n",
       "2021-01-15     3.46\n",
       "2021-01-16     3.46\n",
       "              ...  \n",
       "2021-04-27    37.42\n",
       "2021-04-28    37.65\n",
       "2021-04-29    37.93\n",
       "2021-04-30    38.26\n",
       "2021-05-01    38.50\n",
       "Freq: D, Name: people_vaccinated_per_hundred, Length: 110, dtype: float64"
      ]
     },
     "execution_count": 648,
     "metadata": {},
     "output_type": "execute_result"
    }
   ],
   "source": [
    "y"
   ]
  },
  {
   "cell_type": "code",
   "execution_count": 649,
   "id": "425f098e",
   "metadata": {},
   "outputs": [],
   "source": [
    "\n",
    "# y_test.asfreq(None).plot()"
   ]
  },
  {
   "cell_type": "code",
   "execution_count": 650,
   "id": "e8fdefbd",
   "metadata": {},
   "outputs": [
    {
     "data": {
      "text/plain": [
       "<AxesSubplot:xlabel='datetime_index'>"
      ]
     },
     "execution_count": 650,
     "metadata": {},
     "output_type": "execute_result"
    },
    {
     "data": {
      "image/png": "[encoded data removed]",
      "text/plain": [
       "<Figure size 432x288 with 1 Axes>"
      ]
     },
     "metadata": {
      "needs_background": "light"
     },
     "output_type": "display_data"
    }
   ],
   "source": [
    "y.plot()\n",
    "pd.concat([y_train, y_test_pred]).plot()"
   ]
  },
  {
   "cell_type": "code",
   "execution_count": 48,
   "id": "267f285b",
   "metadata": {},
   "outputs": [],
   "source": [
    "from sklearn.model_selection import train_test_split # to split data into training and testing data\n",
    "from sklearn.metrics import mean_absolute_error # to evaluate model with mean absolute error"
   ]
  },
  {
   "cell_type": "code",
   "execution_count": 49,
   "id": "e763cd02",
   "metadata": {},
   "outputs": [
    {
     "name": "stdout",
     "output_type": "stream",
     "text": [
      "Help on function train_test_split in module sklearn.model_selection._split:\n",
      "\n",
      "train_test_split(*arrays, test_size=None, train_size=None, random_state=None, shuffle=True, stratify=None)\n",
      "    Split arrays or matrices into random train and test subsets\n",
      "    \n",
      "    Quick utility that wraps input validation and\n",
      "    ``next(ShuffleSplit().split(X, y))`` and application to input data\n",
      "    into a single call for splitting (and optionally subsampling) data in a\n",
      "    oneliner.\n",
      "    \n",
      "    Read more in the :ref:`User Guide <cross_validation>`.\n",
      "    \n",
      "    Parameters\n",
      "    ----------\n",
      "    *arrays : sequence of indexables with same length / shape[0]\n",
      "        Allowed inputs are lists, numpy arrays, scipy-sparse\n",
      "        matrices or pandas dataframes.\n",
      "    \n",
      "    test_size : float or int, default=None\n",
      "        If float, should be between 0.0 and 1.0 and represent the proportion\n",
      "        of the dataset to include in the test split. If int, represents the\n",
      "        absolute number of test samples. If None, the value is set to the\n",
      "        complement of the train size. If ``train_size`` is also None, it will\n",
      "        be set to 0.25.\n",
      "    \n",
      "    train_size : float or int, default=None\n",
      "        If float, should be between 0.0 and 1.0 and represent the\n",
      "        proportion of the dataset to include in the train split. If\n",
      "        int, represents the absolute number of train samples. If None,\n",
      "        the value is automatically set to the complement of the test size.\n",
      "    \n",
      "    random_state : int, RandomState instance or None, default=None\n",
      "        Controls the shuffling applied to the data before applying the split.\n",
      "        Pass an int for reproducible output across multiple function calls.\n",
      "        See :term:`Glossary <random_state>`.\n",
      "    \n",
      "    \n",
      "    shuffle : bool, default=True\n",
      "        Whether or not to shuffle the data before splitting. If shuffle=False\n",
      "        then stratify must be None.\n",
      "    \n",
      "    stratify : array-like, default=None\n",
      "        If not None, data is split in a stratified fashion, using this as\n",
      "        the class labels.\n",
      "        Read more in the :ref:`User Guide <stratification>`.\n",
      "    \n",
      "    Returns\n",
      "    -------\n",
      "    splitting : list, length=2 * len(arrays)\n",
      "        List containing train-test split of inputs.\n",
      "    \n",
      "        .. versionadded:: 0.16\n",
      "            If the input is sparse, the output will be a\n",
      "            ``scipy.sparse.csr_matrix``. Else, output type is the same as the\n",
      "            input type.\n",
      "    \n",
      "    Examples\n",
      "    --------\n",
      "    >>> import numpy as np\n",
      "    >>> from sklearn.model_selection import train_test_split\n",
      "    >>> X, y = np.arange(10).reshape((5, 2)), range(5)\n",
      "    >>> X\n",
      "    array([[0, 1],\n",
      "           [2, 3],\n",
      "           [4, 5],\n",
      "           [6, 7],\n",
      "           [8, 9]])\n",
      "    >>> list(y)\n",
      "    [0, 1, 2, 3, 4]\n",
      "    \n",
      "    >>> X_train, X_test, y_train, y_test = train_test_split(\n",
      "    ...     X, y, test_size=0.33, random_state=42)\n",
      "    ...\n",
      "    >>> X_train\n",
      "    array([[4, 5],\n",
      "           [0, 1],\n",
      "           [6, 7]])\n",
      "    >>> y_train\n",
      "    [2, 0, 3]\n",
      "    >>> X_test\n",
      "    array([[2, 3],\n",
      "           [8, 9]])\n",
      "    >>> y_test\n",
      "    [1, 4]\n",
      "    \n",
      "    >>> train_test_split(y, shuffle=False)\n",
      "    [[0, 1, 2], [3, 4]]\n",
      "\n"
     ]
    }
   ],
   "source": [
    "help(train_test_split)"
   ]
  },
  {
   "cell_type": "code",
   "execution_count": 221,
   "id": "0b7a5d86",
   "metadata": {},
   "outputs": [
    {
     "data": {
      "text/plain": [
       "Index(['dayofweek', 'Days_since_measurement', 'Confirmed', 'Recovered',\n",
       "       'Active', 'Incident_Rate'],\n",
       "      dtype='object')"
      ]
     },
     "execution_count": 221,
     "metadata": {},
     "output_type": "execute_result"
    }
   ],
   "source": [
    "X_train.columns"
   ]
  },
  {
   "cell_type": "code",
   "execution_count": 188,
   "id": "99c3af54",
   "metadata": {},
   "outputs": [],
   "source": [
    "# type(X['weekofyear'].iloc[0])"
   ]
  },
  {
   "cell_type": "code",
   "execution_count": 190,
   "id": "b705357f",
   "metadata": {},
   "outputs": [
    {
     "data": {
      "image/png": "[encoded data removed]",
      "text/plain": [
       "<Figure size 432x288 with 1 Axes>"
      ]
     },
     "metadata": {
      "needs_background": "light"
     },
     "output_type": "display_data"
    }
   ],
   "source": [
    "from xgboost import XGBRegressor\n",
    "from xgboost import plot_importance, plot_tree\n",
    "\n",
    "def get_xgb_regressor_mae(X_trn, X_tst, y_trn, y_tst):\n",
    "    vax_model = XGBRegressor(random_state=1)\n",
    "    vax_model.fit(X_trn, y_trn)\n",
    "    y_tst_prd = vax_model.predict(X_tst)\n",
    "    mae = mean_absolute_error(y_tst, y_tst_prd)\n",
    "    _ = plot_importance(vax_model, height=0.9)\n",
    "    return\n",
    "\n",
    "get_xgb_regressor_mae(X_train, X_test, y_train, y_test)"
   ]
  },
  {
   "cell_type": "code",
   "execution_count": 222,
   "id": "6982d79c",
   "metadata": {},
   "outputs": [
    {
     "name": "stderr",
     "output_type": "stream",
     "text": [
      "<ipython-input-222-d2afc9e55bbf>:2: DataConversionWarning: A column-vector y was passed when a 1d array was expected. Please change the shape of y to (n_samples,), for example using ravel().\n",
      "  vax_model.fit(X_train, y_train)\n"
     ]
    },
    {
     "data": {
      "text/plain": [
       "1303.8633333333332"
      ]
     },
     "execution_count": 222,
     "metadata": {},
     "output_type": "execute_result"
    }
   ],
   "source": [
    "vax_model = RandomForestRegressor(random_state=1)\n",
    "vax_model.fit(X_train, y_train)\n",
    "y_test_pred = vax_model.predict(X_test)\n",
    "mae = mean_absolute_error(y_test, y_test_pred)\n",
    "mae"
   ]
  },
  {
   "cell_type": "code",
   "execution_count": 225,
   "id": "4ffec1f7",
   "metadata": {},
   "outputs": [
    {
     "data": {
      "text/plain": [
       "2.9823707210178774"
      ]
     },
     "execution_count": 225,
     "metadata": {},
     "output_type": "execute_result"
    }
   ],
   "source": [
    "mae/np.mean(y['Doses_admin'])*100"
   ]
  },
  {
   "cell_type": "code",
   "execution_count": 210,
   "id": "f3feaf18",
   "metadata": {},
   "outputs": [
    {
     "data": {
      "text/plain": [
       "array([  7829.,   8383.,   8928.,   8928.,   9611.,  12996.,  13236.,\n",
       "        13236.,  13236.,  13236.,  18928.,  22266.,  25196.,  26423.,\n",
       "        26563.,  26563.,  26563.,  29170.,  33414.,  33414.,  35976.,\n",
       "        38191.,  38191.,  38191.,  40981.,  43992.,  46775.,  46775.,\n",
       "        46775.,  56831.,  56831.,  60317.,  60775.,  60775.,  67600.,\n",
       "        71858.,  71858.,  83554.,  92603.,  92603.,  95682.,  99099.,\n",
       "        99099., 100186.])"
      ]
     },
     "execution_count": 210,
     "metadata": {},
     "output_type": "execute_result"
    }
   ],
   "source": [
    "y.copy().values.ravel()"
   ]
  },
  {
   "cell_type": "code",
   "execution_count": null,
   "id": "b3ba27b6",
   "metadata": {},
   "outputs": [],
   "source": []
  },
  {
   "cell_type": "code",
   "execution_count": null,
   "id": "8d315a96",
   "metadata": {},
   "outputs": [],
   "source": []
  }
 ],
 "metadata": {
  "kernelspec": {
   "display_name": "Python 3",
   "language": "python",
   "name": "python3"
  },
  "language_info": {
   "codemirror_mode": {
    "name": "ipython",
    "version": 3
   },
   "file_extension": ".py",
   "mimetype": "text/x-python",
   "name": "python",
   "nbconvert_exporter": "python",
   "pygments_lexer": "ipython3",
   "version": "3.8.3"
  }
 },
 "nbformat": 4,
 "nbformat_minor": 5
}
