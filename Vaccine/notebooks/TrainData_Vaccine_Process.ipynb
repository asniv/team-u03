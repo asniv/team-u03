{
  "nbformat": 4,
  "nbformat_minor": 5,
  "metadata": {
    "kernelspec": {
      "display_name": "Python 3",
      "language": "python",
      "name": "python3"
    },
    "language_info": {
      "codemirror_mode": {
        "name": "ipython",
        "version": 3
      },
      "file_extension": ".py",
      "mimetype": "text/x-python",
      "name": "python",
      "nbconvert_exporter": "python",
      "pygments_lexer": "ipython3",
      "version": "3.8.3"
    },
    "colab": {
      "name": "TrainData Vaccine Process.ipynb",
      "provenance": [],
      "collapsed_sections": []
    }
  },
  "cells": [
    {
      "cell_type": "markdown",
      "metadata": {
        "id": "E25kF3THmjkO"
      },
      "source": [
        "# Measuring and predicing the efficiency of COVID-19 vaccine administration in the US"
      ],
      "id": "E25kF3THmjkO"
    },
    {
      "cell_type": "markdown",
      "metadata": {
        "id": "b7muglfTnZYE"
      },
      "source": [
        "Pacakges needed:"
      ],
      "id": "b7muglfTnZYE"
    },
    {
      "cell_type": "code",
      "metadata": {
        "id": "767ea9c1"
      },
      "source": [
        "import pandas as pd             # to use Dataframes\n",
        "# import matplotlib.pyplot as plt # to plot results\n",
        "import numpy as np              # to perform mathematical operations\n",
        "import plotly.express as px     # for interactive plots\n",
        "import datetime"
      ],
      "id": "767ea9c1",
      "execution_count": null,
      "outputs": []
    },
    {
      "cell_type": "markdown",
      "metadata": {
        "id": "thxLaDGQoUCP"
      },
      "source": [
        "Our dataset:\n",
        "https://github.com/owid/covid-19-data/tree/master/public/data/vaccinations"
      ],
      "id": "thxLaDGQoUCP"
    },
    {
      "cell_type": "code",
      "metadata": {
        "id": "9951abd1",
        "colab": {
          "base_uri": "https://localhost:8080/",
          "height": 309
        },
        "outputId": "b58db01b-34c1-4aa7-a4de-a75dde0507a3"
      },
      "source": [
        "df_owid_orig = pd.read_csv('https://raw.githubusercontent.com/owid/covid-19-data/master/public/data/vaccinations/us_state_vaccinations.csv')\n",
        "df_owid_orig.head()"
      ],
      "id": "9951abd1",
      "execution_count": null,
      "outputs": [
        {
          "output_type": "execute_result",
          "data": {
            "text/html": [
              "<div>\n",
              "<style scoped>\n",
              "    .dataframe tbody tr th:only-of-type {\n",
              "        vertical-align: middle;\n",
              "    }\n",
              "\n",
              "    .dataframe tbody tr th {\n",
              "        vertical-align: top;\n",
              "    }\n",
              "\n",
              "    .dataframe thead th {\n",
              "        text-align: right;\n",
              "    }\n",
              "</style>\n",
              "<table border=\"1\" class=\"dataframe\">\n",
              "  <thead>\n",
              "    <tr style=\"text-align: right;\">\n",
              "      <th></th>\n",
              "      <th>date</th>\n",
              "      <th>location</th>\n",
              "      <th>total_vaccinations</th>\n",
              "      <th>total_distributed</th>\n",
              "      <th>people_vaccinated</th>\n",
              "      <th>people_fully_vaccinated_per_hundred</th>\n",
              "      <th>total_vaccinations_per_hundred</th>\n",
              "      <th>people_fully_vaccinated</th>\n",
              "      <th>people_vaccinated_per_hundred</th>\n",
              "      <th>distributed_per_hundred</th>\n",
              "      <th>daily_vaccinations_raw</th>\n",
              "      <th>daily_vaccinations</th>\n",
              "      <th>daily_vaccinations_per_million</th>\n",
              "      <th>share_doses_used</th>\n",
              "    </tr>\n",
              "  </thead>\n",
              "  <tbody>\n",
              "    <tr>\n",
              "      <th>0</th>\n",
              "      <td>2021-01-12</td>\n",
              "      <td>Alabama</td>\n",
              "      <td>78134.0</td>\n",
              "      <td>377025.0</td>\n",
              "      <td>70861.0</td>\n",
              "      <td>0.15</td>\n",
              "      <td>1.59</td>\n",
              "      <td>7270.0</td>\n",
              "      <td>1.45</td>\n",
              "      <td>7.69</td>\n",
              "      <td>NaN</td>\n",
              "      <td>NaN</td>\n",
              "      <td>NaN</td>\n",
              "      <td>0.207</td>\n",
              "    </tr>\n",
              "    <tr>\n",
              "      <th>1</th>\n",
              "      <td>2021-01-13</td>\n",
              "      <td>Alabama</td>\n",
              "      <td>84040.0</td>\n",
              "      <td>378975.0</td>\n",
              "      <td>74792.0</td>\n",
              "      <td>0.19</td>\n",
              "      <td>1.71</td>\n",
              "      <td>9245.0</td>\n",
              "      <td>1.53</td>\n",
              "      <td>7.73</td>\n",
              "      <td>5906.0</td>\n",
              "      <td>5906.0</td>\n",
              "      <td>1205.0</td>\n",
              "      <td>0.222</td>\n",
              "    </tr>\n",
              "    <tr>\n",
              "      <th>2</th>\n",
              "      <td>2021-01-14</td>\n",
              "      <td>Alabama</td>\n",
              "      <td>92300.0</td>\n",
              "      <td>435350.0</td>\n",
              "      <td>80480.0</td>\n",
              "      <td>NaN</td>\n",
              "      <td>1.88</td>\n",
              "      <td>NaN</td>\n",
              "      <td>1.64</td>\n",
              "      <td>8.88</td>\n",
              "      <td>8260.0</td>\n",
              "      <td>7083.0</td>\n",
              "      <td>1445.0</td>\n",
              "      <td>0.212</td>\n",
              "    </tr>\n",
              "    <tr>\n",
              "      <th>3</th>\n",
              "      <td>2021-01-15</td>\n",
              "      <td>Alabama</td>\n",
              "      <td>100567.0</td>\n",
              "      <td>444650.0</td>\n",
              "      <td>86956.0</td>\n",
              "      <td>0.28</td>\n",
              "      <td>2.05</td>\n",
              "      <td>13488.0</td>\n",
              "      <td>1.77</td>\n",
              "      <td>9.07</td>\n",
              "      <td>8267.0</td>\n",
              "      <td>7478.0</td>\n",
              "      <td>1525.0</td>\n",
              "      <td>0.226</td>\n",
              "    </tr>\n",
              "    <tr>\n",
              "      <th>4</th>\n",
              "      <td>2021-01-16</td>\n",
              "      <td>Alabama</td>\n",
              "      <td>NaN</td>\n",
              "      <td>NaN</td>\n",
              "      <td>NaN</td>\n",
              "      <td>NaN</td>\n",
              "      <td>NaN</td>\n",
              "      <td>NaN</td>\n",
              "      <td>NaN</td>\n",
              "      <td>NaN</td>\n",
              "      <td>7557.0</td>\n",
              "      <td>7498.0</td>\n",
              "      <td>1529.0</td>\n",
              "      <td>NaN</td>\n",
              "    </tr>\n",
              "  </tbody>\n",
              "</table>\n",
              "</div>"
            ],
            "text/plain": [
              "         date location  ...  daily_vaccinations_per_million  share_doses_used\n",
              "0  2021-01-12  Alabama  ...                             NaN             0.207\n",
              "1  2021-01-13  Alabama  ...                          1205.0             0.222\n",
              "2  2021-01-14  Alabama  ...                          1445.0             0.212\n",
              "3  2021-01-15  Alabama  ...                          1525.0             0.226\n",
              "4  2021-01-16  Alabama  ...                          1529.0               NaN\n",
              "\n",
              "[5 rows x 14 columns]"
            ]
          },
          "metadata": {
            "tags": []
          },
          "execution_count": 3
        }
      ]
    },
    {
      "cell_type": "markdown",
      "metadata": {
        "id": "3f9D1S7r3Rjn"
      },
      "source": [
        "*   **date**: date of the observation.\n",
        "*   **location**: name of the state or federal entity.\n",
        "*   **total_vaccinations**: total number of doses administered. This is counted as a single dose, and may not equal the total number of people vaccinated, depending on the specific dose regime (e.g. people receive multiple doses). If a person receives one dose of the vaccine, this metric goes up by 1. If they receive a second dose, it goes up by 1 again.\n",
        "*   **total_distributed**: cumulative counts of COVID-19 vaccine doses recorded as shipped in CDC's Vaccine Tracking System.\n",
        "*   **people_vaccinated**: total number of people who received at least one vaccine dose. If a person receives the first dose of a 2-dose vaccine, this metric goes up by 1. If they receive the second dose, the metric stays the same.\n",
        "*   **people_fully_vaccinated**: total number of people who received all doses prescribed by the vaccination protocol. If a person receives the first dose of a 2-dose vaccine, this metric stays the same. If they receive the second dose, the metric goes up by 1.\n",
        "*   **daily_vaccinations_raw**: daily change in the total number of doses administered. It is only calculated for consecutive days. This is a raw measure provided for data checks and transparency, but we strongly recommend that any analysis on daily vaccination rates be conducted using daily_vaccinations instead.\n",
        "*   **daily_vaccinations**: new doses administered per day (7-day smoothed). For countries that don't report data on a daily basis, we assume that doses changed equally on a daily basis over any periods in which no data was reported. This produces a complete series of daily figures, which is then averaged over a rolling 7-day window.\n",
        "*   **share_doses_used**: share of vaccination doses administered among those recorded as shipped in CDC's Vaccine Tracking System."
      ],
      "id": "3f9D1S7r3Rjn"
    },
    {
      "cell_type": "markdown",
      "metadata": {
        "id": "LeRq3a_I3gBD"
      },
      "source": [
        "Index our data by location, date and create a new 'days_since' column that will describe the number of days since the first recorded vaccine."
      ],
      "id": "LeRq3a_I3gBD"
    },
    {
      "cell_type": "code",
      "metadata": {
        "id": "48c9e777",
        "colab": {
          "base_uri": "https://localhost:8080/",
          "height": 640
        },
        "outputId": "b8f16750-0ff3-4b91-e305-97f6474d78fe"
      },
      "source": [
        "# Work with a copy, not the original dataset\n",
        "df_owid = df_owid_orig.copy()\n",
        "\n",
        "# Store the location and date as indices for the dataframe\n",
        "df_owid.sort_values(by=['location', 'date'])\n",
        "df_owid.loc[:, 'datetime'] = pd.to_datetime(df_owid.loc[:, 'date'])\n",
        "df_owid = df_owid.set_index(['location', 'datetime'], drop=False)\n",
        "df_owid.rename_axis(['location_index', 'datetime_index'], axis='index', inplace=True)\n",
        "\n",
        "# Count the number of days since beginning of recording - helps with regression model\n",
        "df_owid['days_since'] = (df_owid['datetime'] - df_owid['datetime'].iloc[0]).dt.days\n",
        "\n",
        "# df_owid_clean = df_owid[['']]\n",
        "# for state in df_owid.index.levels[0]:\n",
        "    \n",
        "# owid_vpop_USA.asfreq(freq='D')\n",
        "\n",
        "# df.fillna(method='ffill', inplace=True)\n",
        "# df.dropna(inplace=True)\n",
        "\n",
        "df_owid"
      ],
      "id": "48c9e777",
      "execution_count": null,
      "outputs": [
        {
          "output_type": "execute_result",
          "data": {
            "text/html": [
              "<div>\n",
              "<style scoped>\n",
              "    .dataframe tbody tr th:only-of-type {\n",
              "        vertical-align: middle;\n",
              "    }\n",
              "\n",
              "    .dataframe tbody tr th {\n",
              "        vertical-align: top;\n",
              "    }\n",
              "\n",
              "    .dataframe thead th {\n",
              "        text-align: right;\n",
              "    }\n",
              "</style>\n",
              "<table border=\"1\" class=\"dataframe\">\n",
              "  <thead>\n",
              "    <tr style=\"text-align: right;\">\n",
              "      <th></th>\n",
              "      <th></th>\n",
              "      <th>date</th>\n",
              "      <th>location</th>\n",
              "      <th>total_vaccinations</th>\n",
              "      <th>total_distributed</th>\n",
              "      <th>people_vaccinated</th>\n",
              "      <th>people_fully_vaccinated_per_hundred</th>\n",
              "      <th>total_vaccinations_per_hundred</th>\n",
              "      <th>people_fully_vaccinated</th>\n",
              "      <th>people_vaccinated_per_hundred</th>\n",
              "      <th>distributed_per_hundred</th>\n",
              "      <th>daily_vaccinations_raw</th>\n",
              "      <th>daily_vaccinations</th>\n",
              "      <th>daily_vaccinations_per_million</th>\n",
              "      <th>share_doses_used</th>\n",
              "      <th>datetime</th>\n",
              "      <th>days_since</th>\n",
              "    </tr>\n",
              "    <tr>\n",
              "      <th>location_index</th>\n",
              "      <th>datetime_index</th>\n",
              "      <th></th>\n",
              "      <th></th>\n",
              "      <th></th>\n",
              "      <th></th>\n",
              "      <th></th>\n",
              "      <th></th>\n",
              "      <th></th>\n",
              "      <th></th>\n",
              "      <th></th>\n",
              "      <th></th>\n",
              "      <th></th>\n",
              "      <th></th>\n",
              "      <th></th>\n",
              "      <th></th>\n",
              "      <th></th>\n",
              "      <th></th>\n",
              "    </tr>\n",
              "  </thead>\n",
              "  <tbody>\n",
              "    <tr>\n",
              "      <th rowspan=\"5\" valign=\"top\">Alabama</th>\n",
              "      <th>2021-01-12</th>\n",
              "      <td>2021-01-12</td>\n",
              "      <td>Alabama</td>\n",
              "      <td>78134.0</td>\n",
              "      <td>377025.0</td>\n",
              "      <td>70861.0</td>\n",
              "      <td>0.15</td>\n",
              "      <td>1.59</td>\n",
              "      <td>7270.0</td>\n",
              "      <td>1.45</td>\n",
              "      <td>7.69</td>\n",
              "      <td>NaN</td>\n",
              "      <td>NaN</td>\n",
              "      <td>NaN</td>\n",
              "      <td>0.207</td>\n",
              "      <td>2021-01-12</td>\n",
              "      <td>0</td>\n",
              "    </tr>\n",
              "    <tr>\n",
              "      <th>2021-01-13</th>\n",
              "      <td>2021-01-13</td>\n",
              "      <td>Alabama</td>\n",
              "      <td>84040.0</td>\n",
              "      <td>378975.0</td>\n",
              "      <td>74792.0</td>\n",
              "      <td>0.19</td>\n",
              "      <td>1.71</td>\n",
              "      <td>9245.0</td>\n",
              "      <td>1.53</td>\n",
              "      <td>7.73</td>\n",
              "      <td>5906.0</td>\n",
              "      <td>5906.0</td>\n",
              "      <td>1205.0</td>\n",
              "      <td>0.222</td>\n",
              "      <td>2021-01-13</td>\n",
              "      <td>1</td>\n",
              "    </tr>\n",
              "    <tr>\n",
              "      <th>2021-01-14</th>\n",
              "      <td>2021-01-14</td>\n",
              "      <td>Alabama</td>\n",
              "      <td>92300.0</td>\n",
              "      <td>435350.0</td>\n",
              "      <td>80480.0</td>\n",
              "      <td>NaN</td>\n",
              "      <td>1.88</td>\n",
              "      <td>NaN</td>\n",
              "      <td>1.64</td>\n",
              "      <td>8.88</td>\n",
              "      <td>8260.0</td>\n",
              "      <td>7083.0</td>\n",
              "      <td>1445.0</td>\n",
              "      <td>0.212</td>\n",
              "      <td>2021-01-14</td>\n",
              "      <td>2</td>\n",
              "    </tr>\n",
              "    <tr>\n",
              "      <th>2021-01-15</th>\n",
              "      <td>2021-01-15</td>\n",
              "      <td>Alabama</td>\n",
              "      <td>100567.0</td>\n",
              "      <td>444650.0</td>\n",
              "      <td>86956.0</td>\n",
              "      <td>0.28</td>\n",
              "      <td>2.05</td>\n",
              "      <td>13488.0</td>\n",
              "      <td>1.77</td>\n",
              "      <td>9.07</td>\n",
              "      <td>8267.0</td>\n",
              "      <td>7478.0</td>\n",
              "      <td>1525.0</td>\n",
              "      <td>0.226</td>\n",
              "      <td>2021-01-15</td>\n",
              "      <td>3</td>\n",
              "    </tr>\n",
              "    <tr>\n",
              "      <th>2021-01-16</th>\n",
              "      <td>2021-01-16</td>\n",
              "      <td>Alabama</td>\n",
              "      <td>NaN</td>\n",
              "      <td>NaN</td>\n",
              "      <td>NaN</td>\n",
              "      <td>NaN</td>\n",
              "      <td>NaN</td>\n",
              "      <td>NaN</td>\n",
              "      <td>NaN</td>\n",
              "      <td>NaN</td>\n",
              "      <td>7557.0</td>\n",
              "      <td>7498.0</td>\n",
              "      <td>1529.0</td>\n",
              "      <td>NaN</td>\n",
              "      <td>2021-01-16</td>\n",
              "      <td>4</td>\n",
              "    </tr>\n",
              "    <tr>\n",
              "      <th>...</th>\n",
              "      <th>...</th>\n",
              "      <td>...</td>\n",
              "      <td>...</td>\n",
              "      <td>...</td>\n",
              "      <td>...</td>\n",
              "      <td>...</td>\n",
              "      <td>...</td>\n",
              "      <td>...</td>\n",
              "      <td>...</td>\n",
              "      <td>...</td>\n",
              "      <td>...</td>\n",
              "      <td>...</td>\n",
              "      <td>...</td>\n",
              "      <td>...</td>\n",
              "      <td>...</td>\n",
              "      <td>...</td>\n",
              "      <td>...</td>\n",
              "    </tr>\n",
              "    <tr>\n",
              "      <th rowspan=\"5\" valign=\"top\">Wyoming</th>\n",
              "      <th>2021-05-01</th>\n",
              "      <td>2021-05-01</td>\n",
              "      <td>Wyoming</td>\n",
              "      <td>358222.0</td>\n",
              "      <td>483195.0</td>\n",
              "      <td>197208.0</td>\n",
              "      <td>28.01</td>\n",
              "      <td>61.89</td>\n",
              "      <td>162127.0</td>\n",
              "      <td>34.07</td>\n",
              "      <td>83.49</td>\n",
              "      <td>2165.0</td>\n",
              "      <td>2476.0</td>\n",
              "      <td>4278.0</td>\n",
              "      <td>0.741</td>\n",
              "      <td>2021-05-01</td>\n",
              "      <td>109</td>\n",
              "    </tr>\n",
              "    <tr>\n",
              "      <th>2021-05-02</th>\n",
              "      <td>2021-05-02</td>\n",
              "      <td>Wyoming</td>\n",
              "      <td>358512.0</td>\n",
              "      <td>483195.0</td>\n",
              "      <td>197340.0</td>\n",
              "      <td>28.05</td>\n",
              "      <td>61.94</td>\n",
              "      <td>162328.0</td>\n",
              "      <td>34.10</td>\n",
              "      <td>83.49</td>\n",
              "      <td>290.0</td>\n",
              "      <td>2484.0</td>\n",
              "      <td>4292.0</td>\n",
              "      <td>0.742</td>\n",
              "      <td>2021-05-02</td>\n",
              "      <td>110</td>\n",
              "    </tr>\n",
              "    <tr>\n",
              "      <th>2021-05-03</th>\n",
              "      <td>2021-05-03</td>\n",
              "      <td>Wyoming</td>\n",
              "      <td>358545.0</td>\n",
              "      <td>483195.0</td>\n",
              "      <td>197374.0</td>\n",
              "      <td>28.05</td>\n",
              "      <td>61.95</td>\n",
              "      <td>162356.0</td>\n",
              "      <td>34.10</td>\n",
              "      <td>83.49</td>\n",
              "      <td>33.0</td>\n",
              "      <td>1409.0</td>\n",
              "      <td>2435.0</td>\n",
              "      <td>0.742</td>\n",
              "      <td>2021-05-03</td>\n",
              "      <td>111</td>\n",
              "    </tr>\n",
              "    <tr>\n",
              "      <th>2021-05-04</th>\n",
              "      <td>2021-05-04</td>\n",
              "      <td>Wyoming</td>\n",
              "      <td>361199.0</td>\n",
              "      <td>483595.0</td>\n",
              "      <td>198293.0</td>\n",
              "      <td>28.34</td>\n",
              "      <td>62.41</td>\n",
              "      <td>163997.0</td>\n",
              "      <td>34.26</td>\n",
              "      <td>83.56</td>\n",
              "      <td>2654.0</td>\n",
              "      <td>1786.0</td>\n",
              "      <td>3086.0</td>\n",
              "      <td>0.747</td>\n",
              "      <td>2021-05-04</td>\n",
              "      <td>112</td>\n",
              "    </tr>\n",
              "    <tr>\n",
              "      <th>2021-05-05</th>\n",
              "      <td>2021-05-05</td>\n",
              "      <td>Wyoming</td>\n",
              "      <td>363149.0</td>\n",
              "      <td>485195.0</td>\n",
              "      <td>198821.0</td>\n",
              "      <td>28.57</td>\n",
              "      <td>62.75</td>\n",
              "      <td>165330.0</td>\n",
              "      <td>34.35</td>\n",
              "      <td>83.83</td>\n",
              "      <td>1950.0</td>\n",
              "      <td>2038.0</td>\n",
              "      <td>3521.0</td>\n",
              "      <td>0.748</td>\n",
              "      <td>2021-05-05</td>\n",
              "      <td>113</td>\n",
              "    </tr>\n",
              "  </tbody>\n",
              "</table>\n",
              "<p>7433 rows × 16 columns</p>\n",
              "</div>"
            ],
            "text/plain": [
              "                                     date location  ...   datetime  days_since\n",
              "location_index datetime_index                       ...                       \n",
              "Alabama        2021-01-12      2021-01-12  Alabama  ... 2021-01-12           0\n",
              "               2021-01-13      2021-01-13  Alabama  ... 2021-01-13           1\n",
              "               2021-01-14      2021-01-14  Alabama  ... 2021-01-14           2\n",
              "               2021-01-15      2021-01-15  Alabama  ... 2021-01-15           3\n",
              "               2021-01-16      2021-01-16  Alabama  ... 2021-01-16           4\n",
              "...                                   ...      ...  ...        ...         ...\n",
              "Wyoming        2021-05-01      2021-05-01  Wyoming  ... 2021-05-01         109\n",
              "               2021-05-02      2021-05-02  Wyoming  ... 2021-05-02         110\n",
              "               2021-05-03      2021-05-03  Wyoming  ... 2021-05-03         111\n",
              "               2021-05-04      2021-05-04  Wyoming  ... 2021-05-04         112\n",
              "               2021-05-05      2021-05-05  Wyoming  ... 2021-05-05         113\n",
              "\n",
              "[7433 rows x 16 columns]"
            ]
          },
          "metadata": {
            "tags": []
          },
          "execution_count": 4
        }
      ]
    },
    {
      "cell_type": "markdown",
      "metadata": {
        "id": "o9C2GcyIKdwz"
      },
      "source": [
        "We can now selected the data for a certain location and drop rows with NaN cells:"
      ],
      "id": "o9C2GcyIKdwz"
    },
    {
      "cell_type": "code",
      "metadata": {
        "id": "84bc6709"
      },
      "source": [
        "# for state in df_owid.index.levels[0]:\n",
        "#     print(df_owid.loc[state].index[0])"
      ],
      "id": "84bc6709",
      "execution_count": null,
      "outputs": []
    },
    {
      "cell_type": "code",
      "metadata": {
        "id": "df088f78"
      },
      "source": [
        "df_owid_narrow = df_owid['days_since']"
      ],
      "id": "df088f78",
      "execution_count": null,
      "outputs": []
    },
    {
      "cell_type": "code",
      "metadata": {
        "id": "9798ac13"
      },
      "source": [
        "# ListofStates = ['Alabama', 'Texas', 'New York State']"
      ],
      "id": "9798ac13",
      "execution_count": null,
      "outputs": []
    },
    {
      "cell_type": "code",
      "metadata": {
        "id": "cc7cf081"
      },
      "source": [
        "# train_date_limit = datetime.datetime.strptime('2021-03-15', '%Y-%m-%d')"
      ],
      "id": "cc7cf081",
      "execution_count": null,
      "outputs": []
    },
    {
      "cell_type": "code",
      "metadata": {
        "id": "a11c11e4"
      },
      "source": [
        "# for Stateidx, State in enumerate(ListofStates):\n",
        "#     TrainData = df_owid_narrow.loc[State][dates[0]:dates[1]]\n",
        "#     TestData = df_owid_narrow.loc[State][dates[2]:dates[3]]"
      ],
      "id": "a11c11e4",
      "execution_count": null,
      "outputs": []
    },
    {
      "cell_type": "code",
      "metadata": {
        "id": "5358ffd9",
        "colab": {
          "base_uri": "https://localhost:8080/"
        },
        "outputId": "f29bc7b2-4a17-4416-d62f-737c986c166a"
      },
      "source": [
        "# old way of selecting state and date\n",
        "\n",
        "df_state = df_owid.loc['Texas']\n",
        "df_state['days_since'] = (df_state['datetime'] - df_state['datetime'].iloc[0]).dt.days\n",
        "df_state = df_state.dropna(subset=['people_vaccinated_per_hundred']).dropna()"
      ],
      "id": "5358ffd9",
      "execution_count": null,
      "outputs": [
        {
          "output_type": "stream",
          "text": [
            "/usr/local/lib/python3.7/dist-packages/ipykernel_launcher.py:4: SettingWithCopyWarning:\n",
            "\n",
            "\n",
            "A value is trying to be set on a copy of a slice from a DataFrame.\n",
            "Try using .loc[row_indexer,col_indexer] = value instead\n",
            "\n",
            "See the caveats in the documentation: https://pandas.pydata.org/pandas-docs/stable/user_guide/indexing.html#returning-a-view-versus-a-copy\n",
            "\n"
          ],
          "name": "stderr"
        }
      ]
    },
    {
      "cell_type": "code",
      "metadata": {
        "colab": {
          "base_uri": "https://localhost:8080/",
          "height": 619
        },
        "id": "4IgpWqfRj-mI",
        "outputId": "387d9e55-aaa1-4094-8ddd-0222fdeee740"
      },
      "source": [
        "df_state"
      ],
      "id": "4IgpWqfRj-mI",
      "execution_count": null,
      "outputs": [
        {
          "output_type": "execute_result",
          "data": {
            "text/html": [
              "<div>\n",
              "<style scoped>\n",
              "    .dataframe tbody tr th:only-of-type {\n",
              "        vertical-align: middle;\n",
              "    }\n",
              "\n",
              "    .dataframe tbody tr th {\n",
              "        vertical-align: top;\n",
              "    }\n",
              "\n",
              "    .dataframe thead th {\n",
              "        text-align: right;\n",
              "    }\n",
              "</style>\n",
              "<table border=\"1\" class=\"dataframe\">\n",
              "  <thead>\n",
              "    <tr style=\"text-align: right;\">\n",
              "      <th></th>\n",
              "      <th>date</th>\n",
              "      <th>location</th>\n",
              "      <th>total_vaccinations</th>\n",
              "      <th>total_distributed</th>\n",
              "      <th>people_vaccinated</th>\n",
              "      <th>people_fully_vaccinated_per_hundred</th>\n",
              "      <th>total_vaccinations_per_hundred</th>\n",
              "      <th>people_fully_vaccinated</th>\n",
              "      <th>people_vaccinated_per_hundred</th>\n",
              "      <th>distributed_per_hundred</th>\n",
              "      <th>daily_vaccinations_raw</th>\n",
              "      <th>daily_vaccinations</th>\n",
              "      <th>daily_vaccinations_per_million</th>\n",
              "      <th>share_doses_used</th>\n",
              "      <th>datetime</th>\n",
              "      <th>days_since</th>\n",
              "    </tr>\n",
              "    <tr>\n",
              "      <th>datetime_index</th>\n",
              "      <th></th>\n",
              "      <th></th>\n",
              "      <th></th>\n",
              "      <th></th>\n",
              "      <th></th>\n",
              "      <th></th>\n",
              "      <th></th>\n",
              "      <th></th>\n",
              "      <th></th>\n",
              "      <th></th>\n",
              "      <th></th>\n",
              "      <th></th>\n",
              "      <th></th>\n",
              "      <th></th>\n",
              "      <th></th>\n",
              "      <th></th>\n",
              "    </tr>\n",
              "  </thead>\n",
              "  <tbody>\n",
              "    <tr>\n",
              "      <th>2021-01-13</th>\n",
              "      <td>2021-01-13</td>\n",
              "      <td>Texas</td>\n",
              "      <td>978042.0</td>\n",
              "      <td>1984225.0</td>\n",
              "      <td>861072.0</td>\n",
              "      <td>0.40</td>\n",
              "      <td>3.37</td>\n",
              "      <td>115965.0</td>\n",
              "      <td>2.97</td>\n",
              "      <td>6.84</td>\n",
              "      <td>66581.00</td>\n",
              "      <td>66581.0</td>\n",
              "      <td>2296.0</td>\n",
              "      <td>0.493</td>\n",
              "      <td>2021-01-13</td>\n",
              "      <td>1</td>\n",
              "    </tr>\n",
              "    <tr>\n",
              "      <th>2021-01-15</th>\n",
              "      <td>2021-01-15</td>\n",
              "      <td>Texas</td>\n",
              "      <td>1160242.0</td>\n",
              "      <td>2105600.0</td>\n",
              "      <td>1003412.0</td>\n",
              "      <td>0.54</td>\n",
              "      <td>4.00</td>\n",
              "      <td>155660.0</td>\n",
              "      <td>3.46</td>\n",
              "      <td>7.26</td>\n",
              "      <td>116618.00</td>\n",
              "      <td>82927.0</td>\n",
              "      <td>2860.0</td>\n",
              "      <td>0.551</td>\n",
              "      <td>2021-01-15</td>\n",
              "      <td>3</td>\n",
              "    </tr>\n",
              "    <tr>\n",
              "      <th>2021-01-19</th>\n",
              "      <td>2021-01-19</td>\n",
              "      <td>Texas</td>\n",
              "      <td>1403989.0</td>\n",
              "      <td>2105600.0</td>\n",
              "      <td>1222952.0</td>\n",
              "      <td>0.62</td>\n",
              "      <td>4.84</td>\n",
              "      <td>179801.0</td>\n",
              "      <td>4.22</td>\n",
              "      <td>7.26</td>\n",
              "      <td>60936.75</td>\n",
              "      <td>70361.0</td>\n",
              "      <td>2427.0</td>\n",
              "      <td>0.667</td>\n",
              "      <td>2021-01-19</td>\n",
              "      <td>7</td>\n",
              "    </tr>\n",
              "    <tr>\n",
              "      <th>2021-01-20</th>\n",
              "      <td>2021-01-20</td>\n",
              "      <td>Texas</td>\n",
              "      <td>1471746.0</td>\n",
              "      <td>2551125.0</td>\n",
              "      <td>1282998.0</td>\n",
              "      <td>0.65</td>\n",
              "      <td>5.08</td>\n",
              "      <td>187503.0</td>\n",
              "      <td>4.42</td>\n",
              "      <td>8.80</td>\n",
              "      <td>67757.00</td>\n",
              "      <td>70529.0</td>\n",
              "      <td>2432.0</td>\n",
              "      <td>0.577</td>\n",
              "      <td>2021-01-20</td>\n",
              "      <td>8</td>\n",
              "    </tr>\n",
              "    <tr>\n",
              "      <th>2021-01-21</th>\n",
              "      <td>2021-01-21</td>\n",
              "      <td>Texas</td>\n",
              "      <td>1544551.0</td>\n",
              "      <td>2754800.0</td>\n",
              "      <td>1337706.0</td>\n",
              "      <td>0.71</td>\n",
              "      <td>5.33</td>\n",
              "      <td>205538.0</td>\n",
              "      <td>4.61</td>\n",
              "      <td>9.50</td>\n",
              "      <td>72805.00</td>\n",
              "      <td>71561.0</td>\n",
              "      <td>2468.0</td>\n",
              "      <td>0.561</td>\n",
              "      <td>2021-01-21</td>\n",
              "      <td>9</td>\n",
              "    </tr>\n",
              "    <tr>\n",
              "      <th>...</th>\n",
              "      <td>...</td>\n",
              "      <td>...</td>\n",
              "      <td>...</td>\n",
              "      <td>...</td>\n",
              "      <td>...</td>\n",
              "      <td>...</td>\n",
              "      <td>...</td>\n",
              "      <td>...</td>\n",
              "      <td>...</td>\n",
              "      <td>...</td>\n",
              "      <td>...</td>\n",
              "      <td>...</td>\n",
              "      <td>...</td>\n",
              "      <td>...</td>\n",
              "      <td>...</td>\n",
              "      <td>...</td>\n",
              "    </tr>\n",
              "    <tr>\n",
              "      <th>2021-05-01</th>\n",
              "      <td>2021-05-01</td>\n",
              "      <td>Texas</td>\n",
              "      <td>19090255.0</td>\n",
              "      <td>25514685.0</td>\n",
              "      <td>11164737.0</td>\n",
              "      <td>27.46</td>\n",
              "      <td>65.84</td>\n",
              "      <td>7960964.0</td>\n",
              "      <td>38.50</td>\n",
              "      <td>87.99</td>\n",
              "      <td>204584.00</td>\n",
              "      <td>186869.0</td>\n",
              "      <td>6445.0</td>\n",
              "      <td>0.748</td>\n",
              "      <td>2021-05-01</td>\n",
              "      <td>109</td>\n",
              "    </tr>\n",
              "    <tr>\n",
              "      <th>2021-05-02</th>\n",
              "      <td>2021-05-02</td>\n",
              "      <td>Texas</td>\n",
              "      <td>19205116.0</td>\n",
              "      <td>25514685.0</td>\n",
              "      <td>11199365.0</td>\n",
              "      <td>27.72</td>\n",
              "      <td>66.23</td>\n",
              "      <td>8037727.0</td>\n",
              "      <td>38.62</td>\n",
              "      <td>87.99</td>\n",
              "      <td>114861.00</td>\n",
              "      <td>175147.0</td>\n",
              "      <td>6040.0</td>\n",
              "      <td>0.753</td>\n",
              "      <td>2021-05-02</td>\n",
              "      <td>110</td>\n",
              "    </tr>\n",
              "    <tr>\n",
              "      <th>2021-05-03</th>\n",
              "      <td>2021-05-03</td>\n",
              "      <td>Texas</td>\n",
              "      <td>19276649.0</td>\n",
              "      <td>25514685.0</td>\n",
              "      <td>11226347.0</td>\n",
              "      <td>27.87</td>\n",
              "      <td>66.48</td>\n",
              "      <td>8081630.0</td>\n",
              "      <td>38.72</td>\n",
              "      <td>87.99</td>\n",
              "      <td>71533.00</td>\n",
              "      <td>168987.0</td>\n",
              "      <td>5828.0</td>\n",
              "      <td>0.756</td>\n",
              "      <td>2021-05-03</td>\n",
              "      <td>111</td>\n",
              "    </tr>\n",
              "    <tr>\n",
              "      <th>2021-05-04</th>\n",
              "      <td>2021-05-04</td>\n",
              "      <td>Texas</td>\n",
              "      <td>19350193.0</td>\n",
              "      <td>26000725.0</td>\n",
              "      <td>11253017.0</td>\n",
              "      <td>28.04</td>\n",
              "      <td>66.73</td>\n",
              "      <td>8130177.0</td>\n",
              "      <td>38.81</td>\n",
              "      <td>89.67</td>\n",
              "      <td>73544.00</td>\n",
              "      <td>161661.0</td>\n",
              "      <td>5575.0</td>\n",
              "      <td>0.744</td>\n",
              "      <td>2021-05-04</td>\n",
              "      <td>112</td>\n",
              "    </tr>\n",
              "    <tr>\n",
              "      <th>2021-05-05</th>\n",
              "      <td>2021-05-05</td>\n",
              "      <td>Texas</td>\n",
              "      <td>19519836.0</td>\n",
              "      <td>26975255.0</td>\n",
              "      <td>11306814.0</td>\n",
              "      <td>28.44</td>\n",
              "      <td>67.32</td>\n",
              "      <td>8247643.0</td>\n",
              "      <td>38.99</td>\n",
              "      <td>93.03</td>\n",
              "      <td>169643.00</td>\n",
              "      <td>160608.0</td>\n",
              "      <td>5539.0</td>\n",
              "      <td>0.724</td>\n",
              "      <td>2021-05-05</td>\n",
              "      <td>113</td>\n",
              "    </tr>\n",
              "  </tbody>\n",
              "</table>\n",
              "<p>108 rows × 16 columns</p>\n",
              "</div>"
            ],
            "text/plain": [
              "                      date location  ...   datetime  days_since\n",
              "datetime_index                       ...                       \n",
              "2021-01-13      2021-01-13    Texas  ... 2021-01-13           1\n",
              "2021-01-15      2021-01-15    Texas  ... 2021-01-15           3\n",
              "2021-01-19      2021-01-19    Texas  ... 2021-01-19           7\n",
              "2021-01-20      2021-01-20    Texas  ... 2021-01-20           8\n",
              "2021-01-21      2021-01-21    Texas  ... 2021-01-21           9\n",
              "...                    ...      ...  ...        ...         ...\n",
              "2021-05-01      2021-05-01    Texas  ... 2021-05-01         109\n",
              "2021-05-02      2021-05-02    Texas  ... 2021-05-02         110\n",
              "2021-05-03      2021-05-03    Texas  ... 2021-05-03         111\n",
              "2021-05-04      2021-05-04    Texas  ... 2021-05-04         112\n",
              "2021-05-05      2021-05-05    Texas  ... 2021-05-05         113\n",
              "\n",
              "[108 rows x 16 columns]"
            ]
          },
          "metadata": {
            "tags": []
          },
          "execution_count": 10
        }
      ]
    },
    {
      "cell_type": "code",
      "metadata": {
        "id": "82336156"
      },
      "source": [
        "# def train_test_dates:\n",
        "\n",
        "#     print('Please insert dates in \"YYYY-MM-DD\" format:\\ne.g. \"January 4, 2005\" is \"2005-01-04\"')\n",
        "\n",
        "#     dates = [[]]*4\n",
        "#     date_input_str = ['Train data from:',\n",
        "#                       'Train data to  :',\n",
        "#                       'Test  data from:',\n",
        "#                       'Test  data to  :']\n",
        "\n",
        "#     for idx, val in enumerate(train_test_dates):\n",
        "#         while True:\n",
        "#             try:\n",
        "#                 train_test_dates[idx] = datetime.datetime.strptime(input(date_input_str[idx]), '%Y-%m-%d')\n",
        "#             except ValueError:\n",
        "#                 print('Please provide a date in \"YYYY-MM-DD\" format')\n",
        "#             else:\n",
        "#                 break\n",
        "    \n",
        "#     return dates"
      ],
      "id": "82336156",
      "execution_count": null,
      "outputs": []
    },
    {
      "cell_type": "code",
      "metadata": {
        "id": "2837fa1e"
      },
      "source": [
        "# def split_date_range(X, y, dates):\n",
        "#     X_train = (df.index.levels[1] - df.index.levels[1][0]).days.values.reshape(-1, 1)"
      ],
      "id": "2837fa1e",
      "execution_count": null,
      "outputs": []
    },
    {
      "cell_type": "markdown",
      "metadata": {
        "id": "_BN9mee7Kw1_"
      },
      "source": [
        "## Visual Models"
      ],
      "id": "_BN9mee7Kw1_"
    },
    {
      "cell_type": "markdown",
      "metadata": {
        "id": "7dSNSJqxK24a"
      },
      "source": [
        "View share_doses_used as a function of datetime for a particular state(s) of the user's choice"
      ],
      "id": "7dSNSJqxK24a"
    },
    {
      "cell_type": "code",
      "metadata": {
        "colab": {
          "base_uri": "https://localhost:8080/",
          "height": 660
        },
        "id": "f8zMOXZXg7Fd",
        "outputId": "0af46fff-ce3c-463d-bf66-4adac17e6336"
      },
      "source": [
        "State1 = []\n",
        "state_input1 = ''\n",
        "AllStates_lower = [ df_owid.index.levels[0][state_idx].lower() for state_idx, state in enumerate(df_owid.index.levels[0]) ]\n",
        "\n",
        "while state_input1 != 'done':\n",
        "    if len(State1) < 1:\n",
        "        state_input1 = input('Please enter a state: ')\n",
        "    else:\n",
        "        state_input1 = input('Please enter a another state or \"done\": ')\n",
        "    if state_input1.lower() in AllStates_lower:\n",
        "        state_curr = df_owid.index.levels[0][AllStates_lower.index(state_input1.lower())]\n",
        "        State1.append(state_curr)\n",
        "    elif state_input1 == 'done':\n",
        "        if len(State1) < 1:\n",
        "            print('You have not selected a state yet.')\n",
        "        else:\n",
        "            print('\\nDone. List of States:', ', '.join(State1))\n",
        "            break\n",
        "    else:\n",
        "        print('\"{}\" is not a valid state. Please enter a valid state.'.format(state_input1))\n",
        "\n",
        "#ListofCols = ['share_doses_used', 'people_vaccinated_per_hundred']\n",
        "\n",
        "state_info = df_owid.copy()\n",
        "state_info = state_info[0:0]\n",
        "for state in State1:\n",
        "  state_info = pd.concat([state_info, df_owid[(df_owid['location']==state)]], axis=0)\n",
        "\n",
        "fig = px.line(state_info, x=\"datetime\", y=\"share_doses_used\", color=\"location\", title=\"layout.hovermode='closest' (the default)\")\n",
        "\n",
        "fig.update_traces(mode=\"markers+lines\")\n",
        "fig.show()"
      ],
      "id": "f8zMOXZXg7Fd",
      "execution_count": null,
      "outputs": [
        {
          "output_type": "stream",
          "text": [
            "Please enter a state: ohio\n",
            "Please enter a another state or \"done\": alabama\n",
            "Please enter a another state or \"done\": texas\n",
            "Please enter a another state or \"done\": new york state\n",
            "Please enter a another state or \"done\": done\n",
            "\n",
            "Done. List of States: Ohio, Alabama, Texas, New York State\n"
          ],
          "name": "stdout"
        },
        {
          "output_type": "display_data",
          "data": {
            "text/html": [
              "<html>\n",
              "<head><meta charset=\"utf-8\" /></head>\n",
              "<body>\n",
              "    <div>\n",
              "            <script src=\"https://cdnjs.cloudflare.com/ajax/libs/mathjax/2.7.5/MathJax.js?config=TeX-AMS-MML_SVG\"></script><script type=\"text/javascript\">if (window.MathJax) {MathJax.Hub.Config({SVG: {font: \"STIX-Web\"}});}</script>\n",
              "                <script type=\"text/javascript\">window.PlotlyConfig = {MathJaxConfig: 'local'};</script>\n",
              "        <script src=\"https://cdn.plot.ly/plotly-latest.min.js\"></script>    \n",
              "            <div id=\"e7d98dab-6f05-4363-be97-6e16c12815d5\" class=\"plotly-graph-div\" style=\"height:525px; width:100%;\"></div>\n",
              "            <script type=\"text/javascript\">\n",
              "                \n",
              "                    window.PLOTLYENV=window.PLOTLYENV || {};\n",
              "                    \n",
              "                if (document.getElementById(\"e7d98dab-6f05-4363-be97-6e16c12815d5\")) {\n",
              "                    Plotly.newPlot(\n",
              "                        'e7d98dab-6f05-4363-be97-6e16c12815d5',\n",
              "                        [{\"hoverlabel\": {\"namelength\": 0}, \"hovertemplate\": \"location=Ohio<br>datetime=%{x}<br>share_doses_used=%{y}\", \"legendgroup\": \"location=Ohio\", \"line\": {\"color\": \"#636efa\", \"dash\": \"solid\"}, \"mode\": \"markers+lines\", \"name\": \"location=Ohio\", \"showlegend\": true, \"type\": \"scatter\", \"x\": [\"2021-01-12T00:00:00\", \"2021-01-13T00:00:00\", \"2021-01-14T00:00:00\", \"2021-01-15T00:00:00\", \"2021-01-16T00:00:00\", \"2021-01-17T00:00:00\", \"2021-01-18T00:00:00\", \"2021-01-19T00:00:00\", \"2021-01-20T00:00:00\", \"2021-01-21T00:00:00\", \"2021-01-22T00:00:00\", \"2021-01-23T00:00:00\", \"2021-01-24T00:00:00\", \"2021-01-25T00:00:00\", \"2021-01-26T00:00:00\", \"2021-01-27T00:00:00\", \"2021-01-28T00:00:00\", \"2021-01-29T00:00:00\", \"2021-01-30T00:00:00\", \"2021-01-31T00:00:00\", \"2021-02-01T00:00:00\", \"2021-02-02T00:00:00\", \"2021-02-03T00:00:00\", \"2021-02-04T00:00:00\", \"2021-02-05T00:00:00\", \"2021-02-06T00:00:00\", \"2021-02-07T00:00:00\", \"2021-02-08T00:00:00\", \"2021-02-09T00:00:00\", \"2021-02-10T00:00:00\", \"2021-02-11T00:00:00\", \"2021-02-12T00:00:00\", \"2021-02-13T00:00:00\", \"2021-02-14T00:00:00\", \"2021-02-15T00:00:00\", \"2021-02-16T00:00:00\", \"2021-02-17T00:00:00\", \"2021-02-18T00:00:00\", \"2021-02-19T00:00:00\", \"2021-02-20T00:00:00\", \"2021-02-21T00:00:00\", \"2021-02-22T00:00:00\", \"2021-02-23T00:00:00\", \"2021-02-24T00:00:00\", \"2021-02-25T00:00:00\", \"2021-02-26T00:00:00\", \"2021-02-27T00:00:00\", \"2021-02-28T00:00:00\", \"2021-03-01T00:00:00\", \"2021-03-02T00:00:00\", \"2021-03-03T00:00:00\", \"2021-03-04T00:00:00\", \"2021-03-05T00:00:00\", \"2021-03-06T00:00:00\", \"2021-03-07T00:00:00\", \"2021-03-08T00:00:00\", \"2021-03-09T00:00:00\", \"2021-03-10T00:00:00\", \"2021-03-11T00:00:00\", \"2021-03-12T00:00:00\", \"2021-03-13T00:00:00\", \"2021-03-14T00:00:00\", \"2021-03-15T00:00:00\", \"2021-03-16T00:00:00\", \"2021-03-17T00:00:00\", \"2021-03-18T00:00:00\", \"2021-03-19T00:00:00\", \"2021-03-20T00:00:00\", \"2021-03-21T00:00:00\", \"2021-03-22T00:00:00\", \"2021-03-23T00:00:00\", \"2021-03-24T00:00:00\", \"2021-03-25T00:00:00\", \"2021-03-26T00:00:00\", \"2021-03-27T00:00:00\", \"2021-03-28T00:00:00\", \"2021-03-29T00:00:00\", \"2021-03-30T00:00:00\", \"2021-03-31T00:00:00\", \"2021-04-01T00:00:00\", \"2021-04-02T00:00:00\", \"2021-04-03T00:00:00\", \"2021-04-04T00:00:00\", \"2021-04-05T00:00:00\", \"2021-04-06T00:00:00\", \"2021-04-07T00:00:00\", \"2021-04-08T00:00:00\", \"2021-04-09T00:00:00\", \"2021-04-10T00:00:00\", \"2021-04-11T00:00:00\", \"2021-04-12T00:00:00\", \"2021-04-13T00:00:00\", \"2021-04-14T00:00:00\", \"2021-04-15T00:00:00\", \"2021-04-16T00:00:00\", \"2021-04-17T00:00:00\", \"2021-04-18T00:00:00\", \"2021-04-19T00:00:00\", \"2021-04-20T00:00:00\", \"2021-04-21T00:00:00\", \"2021-04-22T00:00:00\", \"2021-04-23T00:00:00\", \"2021-04-24T00:00:00\", \"2021-04-25T00:00:00\", \"2021-04-26T00:00:00\", \"2021-04-27T00:00:00\", \"2021-04-28T00:00:00\", \"2021-04-29T00:00:00\", \"2021-04-30T00:00:00\", \"2021-05-01T00:00:00\", \"2021-05-02T00:00:00\", \"2021-05-03T00:00:00\", \"2021-05-04T00:00:00\", \"2021-05-05T00:00:00\"], \"xaxis\": \"x\", \"y\": [0.36, 0.344, 0.36, 0.38799999999999996, 0.38799999999999996, 0.38799999999999996, 0.38799999999999996, 0.488, 0.436, 0.434, 0.446, 0.48200000000000004, 0.525, 0.556, 0.503, 0.495, 0.515, 0.5429999999999999, 0.586, 0.614, 0.647, 0.608, 0.599, 0.594, 0.619, 0.653, 0.68, 0.708, 0.6629999999999999, 0.654, 0.636, 0.672, 0.6970000000000001, 0.731, 0.731, 0.764, 0.769, 0.775, 0.799, 0.825, 0.85, 0.872, 0.752, 0.755, 0.726, 0.735, 0.758, 0.787, 0.8059999999999999, 0.762, 0.757, 0.747, 0.735, 0.746, 0.772, 0.79, 0.752, 0.746, 0.7390000000000001, 0.757, 0.763, 0.7859999999999999, 0.804, 0.768, 0.759, 0.7509999999999999, 0.762, 0.765, 0.7879999999999999, 0.8029999999999999, 0.772, 0.782, 0.7559999999999999, 0.769, 0.774, 0.795, 0.809, 0.768, 0.765, 0.7509999999999999, 0.762, 0.768, 0.7859999999999999, 0.7959999999999999, 0.77, 0.76, 0.755, 0.768, 0.7759999999999999, 0.7759999999999999, 0.807, 0.7829999999999999, 0.78, 0.773, 0.78, 0.784, 0.797, 0.805, 0.789, 0.787, 0.778, 0.784, 0.785, 0.795, 0.802, 0.7929999999999999, 0.7909999999999999, 0.787, 0.794, 0.795, 0.8009999999999999, 0.804, 0.7979999999999999, 0.799], \"yaxis\": \"y\"}, {\"hoverlabel\": {\"namelength\": 0}, \"hovertemplate\": \"location=Alabama<br>datetime=%{x}<br>share_doses_used=%{y}\", \"legendgroup\": \"location=Alabama\", \"line\": {\"color\": \"#EF553B\", \"dash\": \"solid\"}, \"mode\": \"markers+lines\", \"name\": \"location=Alabama\", \"showlegend\": true, \"type\": \"scatter\", \"x\": [\"2021-01-12T00:00:00\", \"2021-01-13T00:00:00\", \"2021-01-14T00:00:00\", \"2021-01-15T00:00:00\", \"2021-01-16T00:00:00\", \"2021-01-17T00:00:00\", \"2021-01-18T00:00:00\", \"2021-01-19T00:00:00\", \"2021-01-20T00:00:00\", \"2021-01-21T00:00:00\", \"2021-01-22T00:00:00\", \"2021-01-23T00:00:00\", \"2021-01-24T00:00:00\", \"2021-01-25T00:00:00\", \"2021-01-26T00:00:00\", \"2021-01-27T00:00:00\", \"2021-01-28T00:00:00\", \"2021-01-29T00:00:00\", \"2021-01-30T00:00:00\", \"2021-01-31T00:00:00\", \"2021-02-01T00:00:00\", \"2021-02-02T00:00:00\", \"2021-02-03T00:00:00\", \"2021-02-04T00:00:00\", \"2021-02-05T00:00:00\", \"2021-02-06T00:00:00\", \"2021-02-07T00:00:00\", \"2021-02-08T00:00:00\", \"2021-02-09T00:00:00\", \"2021-02-10T00:00:00\", \"2021-02-11T00:00:00\", \"2021-02-12T00:00:00\", \"2021-02-13T00:00:00\", \"2021-02-14T00:00:00\", \"2021-02-15T00:00:00\", \"2021-02-16T00:00:00\", \"2021-02-17T00:00:00\", \"2021-02-18T00:00:00\", \"2021-02-19T00:00:00\", \"2021-02-20T00:00:00\", \"2021-02-21T00:00:00\", \"2021-02-22T00:00:00\", \"2021-02-23T00:00:00\", \"2021-02-24T00:00:00\", \"2021-02-25T00:00:00\", \"2021-02-26T00:00:00\", \"2021-02-27T00:00:00\", \"2021-02-28T00:00:00\", \"2021-03-01T00:00:00\", \"2021-03-02T00:00:00\", \"2021-03-03T00:00:00\", \"2021-03-04T00:00:00\", \"2021-03-05T00:00:00\", \"2021-03-06T00:00:00\", \"2021-03-07T00:00:00\", \"2021-03-08T00:00:00\", \"2021-03-09T00:00:00\", \"2021-03-10T00:00:00\", \"2021-03-11T00:00:00\", \"2021-03-12T00:00:00\", \"2021-03-13T00:00:00\", \"2021-03-14T00:00:00\", \"2021-03-15T00:00:00\", \"2021-03-16T00:00:00\", \"2021-03-17T00:00:00\", \"2021-03-18T00:00:00\", \"2021-03-19T00:00:00\", \"2021-03-20T00:00:00\", \"2021-03-21T00:00:00\", \"2021-03-22T00:00:00\", \"2021-03-23T00:00:00\", \"2021-03-24T00:00:00\", \"2021-03-25T00:00:00\", \"2021-03-26T00:00:00\", \"2021-03-27T00:00:00\", \"2021-03-28T00:00:00\", \"2021-03-29T00:00:00\", \"2021-03-30T00:00:00\", \"2021-03-31T00:00:00\", \"2021-04-01T00:00:00\", \"2021-04-02T00:00:00\", \"2021-04-03T00:00:00\", \"2021-04-04T00:00:00\", \"2021-04-05T00:00:00\", \"2021-04-06T00:00:00\", \"2021-04-07T00:00:00\", \"2021-04-08T00:00:00\", \"2021-04-09T00:00:00\", \"2021-04-10T00:00:00\", \"2021-04-11T00:00:00\", \"2021-04-12T00:00:00\", \"2021-04-13T00:00:00\", \"2021-04-14T00:00:00\", \"2021-04-15T00:00:00\", \"2021-04-16T00:00:00\", \"2021-04-17T00:00:00\", \"2021-04-18T00:00:00\", \"2021-04-19T00:00:00\", \"2021-04-20T00:00:00\", \"2021-04-21T00:00:00\", \"2021-04-22T00:00:00\", \"2021-04-23T00:00:00\", \"2021-04-24T00:00:00\", \"2021-04-25T00:00:00\", \"2021-04-26T00:00:00\", \"2021-04-27T00:00:00\", \"2021-04-28T00:00:00\", \"2021-04-29T00:00:00\", \"2021-04-30T00:00:00\", \"2021-05-01T00:00:00\", \"2021-05-02T00:00:00\", \"2021-05-03T00:00:00\", \"2021-05-04T00:00:00\", \"2021-05-05T00:00:00\"], \"xaxis\": \"x\", \"y\": [0.207, 0.222, 0.212, 0.226, 0.226, 0.226, 0.226, 0.294, 0.28800000000000003, 0.336, 0.384, 0.425, 0.46799999999999997, 0.48100000000000004, 0.44799999999999995, 0.42, 0.426, 0.456, 0.519, 0.537, 0.5429999999999999, 0.546, 0.508, 0.511, 0.5379999999999999, 0.5660000000000001, 0.575, 0.5820000000000001, 0.596, 0.599, 0.596, 0.61, 0.624, 0.634, 0.634, 0.627, 0.63, 0.6509999999999999, 0.6859999999999999, 0.72, 0.7290000000000001, 0.733, 0.752, 0.737, 0.7390000000000001, 0.648, 0.664, 0.672, 0.6759999999999999, 0.665, 0.6809999999999999, 0.674, 0.684, 0.675, 0.682, 0.6859999999999999, 0.6759999999999999, 0.6609999999999999, 0.6659999999999999, 0.68, 0.6709999999999999, 0.677, 0.6809999999999999, 0.665, 0.655, 0.6559999999999999, 0.6659999999999999, 0.6709999999999999, 0.6759999999999999, 0.679, 0.6629999999999999, 0.642, 0.642, 0.645, 0.649, 0.654, 0.657, 0.624, 0.618, 0.624, 0.631, 0.639, 0.643, 0.645, 0.611, 0.614, 0.623, 0.622, 0.63, 0.635, 0.638, 0.633, 0.621, 0.628, 0.636, 0.622, 0.625, 0.627, 0.619, 0.622, 0.626, 0.623, 0.622, 0.624, 0.626, 0.623, 0.627, 0.633, 0.634, 0.634, 0.635, 0.636, 0.638, 0.638], \"yaxis\": \"y\"}, {\"hoverlabel\": {\"namelength\": 0}, \"hovertemplate\": \"location=Texas<br>datetime=%{x}<br>share_doses_used=%{y}\", \"legendgroup\": \"location=Texas\", \"line\": {\"color\": \"#00cc96\", \"dash\": \"solid\"}, \"mode\": \"markers+lines\", \"name\": \"location=Texas\", \"showlegend\": true, \"type\": \"scatter\", \"x\": [\"2021-01-12T00:00:00\", \"2021-01-13T00:00:00\", \"2021-01-14T00:00:00\", \"2021-01-15T00:00:00\", \"2021-01-16T00:00:00\", \"2021-01-17T00:00:00\", \"2021-01-18T00:00:00\", \"2021-01-19T00:00:00\", \"2021-01-20T00:00:00\", \"2021-01-21T00:00:00\", \"2021-01-22T00:00:00\", \"2021-01-23T00:00:00\", \"2021-01-24T00:00:00\", \"2021-01-25T00:00:00\", \"2021-01-26T00:00:00\", \"2021-01-27T00:00:00\", \"2021-01-28T00:00:00\", \"2021-01-29T00:00:00\", \"2021-01-30T00:00:00\", \"2021-01-31T00:00:00\", \"2021-02-01T00:00:00\", \"2021-02-02T00:00:00\", \"2021-02-03T00:00:00\", \"2021-02-04T00:00:00\", \"2021-02-05T00:00:00\", \"2021-02-06T00:00:00\", \"2021-02-07T00:00:00\", \"2021-02-08T00:00:00\", \"2021-02-09T00:00:00\", \"2021-02-10T00:00:00\", \"2021-02-11T00:00:00\", \"2021-02-12T00:00:00\", \"2021-02-13T00:00:00\", \"2021-02-14T00:00:00\", \"2021-02-15T00:00:00\", \"2021-02-16T00:00:00\", \"2021-02-17T00:00:00\", \"2021-02-18T00:00:00\", \"2021-02-19T00:00:00\", \"2021-02-20T00:00:00\", \"2021-02-21T00:00:00\", \"2021-02-22T00:00:00\", \"2021-02-23T00:00:00\", \"2021-02-24T00:00:00\", \"2021-02-25T00:00:00\", \"2021-02-26T00:00:00\", \"2021-02-27T00:00:00\", \"2021-02-28T00:00:00\", \"2021-03-01T00:00:00\", \"2021-03-02T00:00:00\", \"2021-03-03T00:00:00\", \"2021-03-04T00:00:00\", \"2021-03-05T00:00:00\", \"2021-03-06T00:00:00\", \"2021-03-07T00:00:00\", \"2021-03-08T00:00:00\", \"2021-03-09T00:00:00\", \"2021-03-10T00:00:00\", \"2021-03-11T00:00:00\", \"2021-03-12T00:00:00\", \"2021-03-13T00:00:00\", \"2021-03-14T00:00:00\", \"2021-03-15T00:00:00\", \"2021-03-16T00:00:00\", \"2021-03-17T00:00:00\", \"2021-03-18T00:00:00\", \"2021-03-19T00:00:00\", \"2021-03-20T00:00:00\", \"2021-03-21T00:00:00\", \"2021-03-22T00:00:00\", \"2021-03-23T00:00:00\", \"2021-03-24T00:00:00\", \"2021-03-25T00:00:00\", \"2021-03-26T00:00:00\", \"2021-03-27T00:00:00\", \"2021-03-28T00:00:00\", \"2021-03-29T00:00:00\", \"2021-03-30T00:00:00\", \"2021-03-31T00:00:00\", \"2021-04-01T00:00:00\", \"2021-04-02T00:00:00\", \"2021-04-03T00:00:00\", \"2021-04-04T00:00:00\", \"2021-04-05T00:00:00\", \"2021-04-06T00:00:00\", \"2021-04-07T00:00:00\", \"2021-04-08T00:00:00\", \"2021-04-09T00:00:00\", \"2021-04-10T00:00:00\", \"2021-04-11T00:00:00\", \"2021-04-12T00:00:00\", \"2021-04-13T00:00:00\", \"2021-04-14T00:00:00\", \"2021-04-15T00:00:00\", \"2021-04-16T00:00:00\", \"2021-04-17T00:00:00\", \"2021-04-18T00:00:00\", \"2021-04-19T00:00:00\", \"2021-04-20T00:00:00\", \"2021-04-21T00:00:00\", \"2021-04-22T00:00:00\", \"2021-04-23T00:00:00\", \"2021-04-24T00:00:00\", \"2021-04-25T00:00:00\", \"2021-04-26T00:00:00\", \"2021-04-27T00:00:00\", \"2021-04-28T00:00:00\", \"2021-04-29T00:00:00\", \"2021-04-30T00:00:00\", \"2021-05-01T00:00:00\", \"2021-05-02T00:00:00\", \"2021-05-03T00:00:00\", \"2021-05-04T00:00:00\", \"2021-05-05T00:00:00\"], \"xaxis\": \"x\", \"y\": [0.46799999999999997, 0.493, 0.496, 0.551, 0.551, 0.551, 0.551, 0.667, 0.5770000000000001, 0.561, 0.57, 0.563, 0.574, 0.5870000000000001, 0.574, 0.563, 0.6, 0.607, 0.64, 0.6579999999999999, 0.682, 0.61, 0.629, 0.6629999999999999, 0.691, 0.706, 0.737, 0.755, 0.748, 0.7120000000000001, 0.728, 0.76, 0.7859999999999999, 0.8109999999999999, 0.8109999999999999, 0.8320000000000001, 0.843, 0.8240000000000001, 0.823, 0.8240000000000001, 0.8270000000000001, 0.833, 0.78, 0.685, 0.6920000000000001, 0.711, 0.708, 0.731, 0.732, 0.723, 0.711, 0.722, 0.7190000000000001, 0.738, 0.75, 0.764, 0.753, 0.716, 0.725, 0.735, 0.753, 0.768, 0.779, 0.762, 0.733, 0.7390000000000001, 0.7340000000000001, 0.747, 0.762, 0.772, 0.747, 0.703, 0.7140000000000001, 0.7120000000000001, 0.73, 0.746, 0.759, 0.748, 0.721, 0.732, 0.7340000000000001, 0.746, 0.7609999999999999, 0.7759999999999999, 0.7609999999999999, 0.732, 0.74, 0.7490000000000001, 0.76, 0.775, 0.785, 0.7759999999999999, 0.755, 0.764, 0.7709999999999999, 0.765, 0.7709999999999999, 0.7809999999999999, 0.7709999999999999, 0.741, 0.746, 0.7490000000000001, 0.75, 0.758, 0.763, 0.757, 0.736, 0.742, 0.743, 0.748, 0.753, 0.7559999999999999, 0.7440000000000001, 0.7240000000000001], \"yaxis\": \"y\"}, {\"hoverlabel\": {\"namelength\": 0}, \"hovertemplate\": \"location=New York State<br>datetime=%{x}<br>share_doses_used=%{y}\", \"legendgroup\": \"location=New York State\", \"line\": {\"color\": \"#ab63fa\", \"dash\": \"solid\"}, \"mode\": \"markers+lines\", \"name\": \"location=New York State\", \"showlegend\": true, \"type\": \"scatter\", \"x\": [\"2021-01-12T00:00:00\", \"2021-01-13T00:00:00\", \"2021-01-14T00:00:00\", \"2021-01-15T00:00:00\", \"2021-01-16T00:00:00\", \"2021-01-17T00:00:00\", \"2021-01-18T00:00:00\", \"2021-01-19T00:00:00\", \"2021-01-20T00:00:00\", \"2021-01-21T00:00:00\", \"2021-01-22T00:00:00\", \"2021-01-23T00:00:00\", \"2021-01-24T00:00:00\", \"2021-01-25T00:00:00\", \"2021-01-26T00:00:00\", \"2021-01-27T00:00:00\", \"2021-01-28T00:00:00\", \"2021-01-29T00:00:00\", \"2021-01-30T00:00:00\", \"2021-01-31T00:00:00\", \"2021-02-01T00:00:00\", \"2021-02-02T00:00:00\", \"2021-02-03T00:00:00\", \"2021-02-04T00:00:00\", \"2021-02-05T00:00:00\", \"2021-02-06T00:00:00\", \"2021-02-07T00:00:00\", \"2021-02-08T00:00:00\", \"2021-02-09T00:00:00\", \"2021-02-10T00:00:00\", \"2021-02-11T00:00:00\", \"2021-02-12T00:00:00\", \"2021-02-13T00:00:00\", \"2021-02-14T00:00:00\", \"2021-02-15T00:00:00\", \"2021-02-16T00:00:00\", \"2021-02-17T00:00:00\", \"2021-02-18T00:00:00\", \"2021-02-19T00:00:00\", \"2021-02-20T00:00:00\", \"2021-02-21T00:00:00\", \"2021-02-22T00:00:00\", \"2021-02-23T00:00:00\", \"2021-02-24T00:00:00\", \"2021-02-25T00:00:00\", \"2021-02-26T00:00:00\", \"2021-02-27T00:00:00\", \"2021-02-28T00:00:00\", \"2021-03-01T00:00:00\", \"2021-03-02T00:00:00\", \"2021-03-03T00:00:00\", \"2021-03-04T00:00:00\", \"2021-03-05T00:00:00\", \"2021-03-06T00:00:00\", \"2021-03-07T00:00:00\", \"2021-03-08T00:00:00\", \"2021-03-09T00:00:00\", \"2021-03-10T00:00:00\", \"2021-03-11T00:00:00\", \"2021-03-12T00:00:00\", \"2021-03-13T00:00:00\", \"2021-03-14T00:00:00\", \"2021-03-15T00:00:00\", \"2021-03-16T00:00:00\", \"2021-03-17T00:00:00\", \"2021-03-18T00:00:00\", \"2021-03-19T00:00:00\", \"2021-03-20T00:00:00\", \"2021-03-21T00:00:00\", \"2021-03-22T00:00:00\", \"2021-03-23T00:00:00\", \"2021-03-24T00:00:00\", \"2021-03-25T00:00:00\", \"2021-03-26T00:00:00\", \"2021-03-27T00:00:00\", \"2021-03-28T00:00:00\", \"2021-03-29T00:00:00\", \"2021-03-30T00:00:00\", \"2021-03-31T00:00:00\", \"2021-04-01T00:00:00\", \"2021-04-02T00:00:00\", \"2021-04-03T00:00:00\", \"2021-04-04T00:00:00\", \"2021-04-05T00:00:00\", \"2021-04-06T00:00:00\", \"2021-04-07T00:00:00\", \"2021-04-08T00:00:00\", \"2021-04-09T00:00:00\", \"2021-04-10T00:00:00\", \"2021-04-11T00:00:00\", \"2021-04-12T00:00:00\", \"2021-04-13T00:00:00\", \"2021-04-14T00:00:00\", \"2021-04-15T00:00:00\", \"2021-04-16T00:00:00\", \"2021-04-17T00:00:00\", \"2021-04-18T00:00:00\", \"2021-04-19T00:00:00\", \"2021-04-20T00:00:00\", \"2021-04-21T00:00:00\", \"2021-04-22T00:00:00\", \"2021-04-23T00:00:00\", \"2021-04-24T00:00:00\", \"2021-04-25T00:00:00\", \"2021-04-26T00:00:00\", \"2021-04-27T00:00:00\", \"2021-04-28T00:00:00\", \"2021-04-29T00:00:00\", \"2021-04-30T00:00:00\", \"2021-05-01T00:00:00\", \"2021-05-02T00:00:00\", \"2021-05-03T00:00:00\", \"2021-05-04T00:00:00\", \"2021-05-05T00:00:00\"], \"xaxis\": \"x\", \"y\": [0.35700000000000004, 0.35200000000000004, 0.368, 0.402, 0.402, 0.402, 0.402, 0.531, 0.509, 0.504, 0.509, 0.535, 0.57, 0.5920000000000001, 0.605, 0.5529999999999999, 0.58, 0.603, 0.611, 0.639, 0.657, 0.6579999999999999, 0.618, 0.61, 0.631, 0.659, 0.6920000000000001, 0.716, 0.7120000000000001, 0.68, 0.682, 0.701, 0.716, 0.737, 0.737, 0.779, 0.7909999999999999, 0.809, 0.828, 0.8490000000000001, 0.868, 0.89, 0.78, 0.7140000000000001, 0.703, 0.703, 0.705, 0.7340000000000001, 0.757, 0.7509999999999999, 0.715, 0.721, 0.71, 0.7190000000000001, 0.747, 0.773, 0.773, 0.7390000000000001, 0.74, 0.7490000000000001, 0.764, 0.764, 0.782, 0.763, 0.7509999999999999, 0.741, 0.75, 0.75, 0.769, 0.785, 0.7709999999999999, 0.767, 0.753, 0.757, 0.759, 0.779, 0.7979999999999999, 0.778, 0.777, 0.7709999999999999, 0.7959999999999999, 0.8079999999999999, 0.8270000000000001, 0.8370000000000001, 0.805, 0.8079999999999999, 0.809, 0.813, 0.8170000000000001, 0.8340000000000001, 0.847, 0.835, 0.8340000000000001, 0.8270000000000001, 0.8340000000000001, 0.825, 0.841, 0.85, 0.8490000000000001, 0.836, 0.8340000000000001, 0.8320000000000001, 0.8270000000000001, 0.836, 0.843, 0.8420000000000001, 0.833, 0.83, 0.8340000000000001, 0.8340000000000001, 0.84, 0.845, 0.836, 0.8370000000000001], \"yaxis\": \"y\"}],\n",
              "                        {\"legend\": {\"tracegroupgap\": 0}, \"template\": {\"data\": {\"bar\": [{\"error_x\": {\"color\": \"#2a3f5f\"}, \"error_y\": {\"color\": \"#2a3f5f\"}, \"marker\": {\"line\": {\"color\": \"#E5ECF6\", \"width\": 0.5}}, \"type\": \"bar\"}], \"barpolar\": [{\"marker\": {\"line\": {\"color\": \"#E5ECF6\", \"width\": 0.5}}, \"type\": \"barpolar\"}], \"carpet\": [{\"aaxis\": {\"endlinecolor\": \"#2a3f5f\", \"gridcolor\": \"white\", \"linecolor\": \"white\", \"minorgridcolor\": \"white\", \"startlinecolor\": \"#2a3f5f\"}, \"baxis\": {\"endlinecolor\": \"#2a3f5f\", \"gridcolor\": \"white\", \"linecolor\": \"white\", \"minorgridcolor\": \"white\", \"startlinecolor\": \"#2a3f5f\"}, \"type\": \"carpet\"}], \"choropleth\": [{\"colorbar\": {\"outlinewidth\": 0, \"ticks\": \"\"}, \"type\": \"choropleth\"}], \"contour\": [{\"colorbar\": {\"outlinewidth\": 0, \"ticks\": \"\"}, \"colorscale\": [[0.0, \"#0d0887\"], [0.1111111111111111, \"#46039f\"], [0.2222222222222222, \"#7201a8\"], [0.3333333333333333, \"#9c179e\"], [0.4444444444444444, \"#bd3786\"], [0.5555555555555556, \"#d8576b\"], [0.6666666666666666, \"#ed7953\"], [0.7777777777777778, \"#fb9f3a\"], [0.8888888888888888, \"#fdca26\"], [1.0, \"#f0f921\"]], \"type\": \"contour\"}], \"contourcarpet\": [{\"colorbar\": {\"outlinewidth\": 0, \"ticks\": \"\"}, \"type\": \"contourcarpet\"}], \"heatmap\": [{\"colorbar\": {\"outlinewidth\": 0, \"ticks\": \"\"}, \"colorscale\": [[0.0, \"#0d0887\"], [0.1111111111111111, \"#46039f\"], [0.2222222222222222, \"#7201a8\"], [0.3333333333333333, \"#9c179e\"], [0.4444444444444444, \"#bd3786\"], [0.5555555555555556, \"#d8576b\"], [0.6666666666666666, \"#ed7953\"], [0.7777777777777778, \"#fb9f3a\"], [0.8888888888888888, \"#fdca26\"], [1.0, \"#f0f921\"]], \"type\": \"heatmap\"}], \"heatmapgl\": [{\"colorbar\": {\"outlinewidth\": 0, \"ticks\": \"\"}, \"colorscale\": [[0.0, \"#0d0887\"], [0.1111111111111111, \"#46039f\"], [0.2222222222222222, \"#7201a8\"], [0.3333333333333333, \"#9c179e\"], [0.4444444444444444, \"#bd3786\"], [0.5555555555555556, \"#d8576b\"], [0.6666666666666666, \"#ed7953\"], [0.7777777777777778, \"#fb9f3a\"], [0.8888888888888888, \"#fdca26\"], [1.0, \"#f0f921\"]], \"type\": \"heatmapgl\"}], \"histogram\": [{\"marker\": {\"colorbar\": {\"outlinewidth\": 0, \"ticks\": \"\"}}, \"type\": \"histogram\"}], \"histogram2d\": [{\"colorbar\": {\"outlinewidth\": 0, \"ticks\": \"\"}, \"colorscale\": [[0.0, \"#0d0887\"], [0.1111111111111111, \"#46039f\"], [0.2222222222222222, \"#7201a8\"], [0.3333333333333333, \"#9c179e\"], [0.4444444444444444, \"#bd3786\"], [0.5555555555555556, \"#d8576b\"], [0.6666666666666666, \"#ed7953\"], [0.7777777777777778, \"#fb9f3a\"], [0.8888888888888888, \"#fdca26\"], [1.0, \"#f0f921\"]], \"type\": \"histogram2d\"}], \"histogram2dcontour\": [{\"colorbar\": {\"outlinewidth\": 0, \"ticks\": \"\"}, \"colorscale\": [[0.0, \"#0d0887\"], [0.1111111111111111, \"#46039f\"], [0.2222222222222222, \"#7201a8\"], [0.3333333333333333, \"#9c179e\"], [0.4444444444444444, \"#bd3786\"], [0.5555555555555556, \"#d8576b\"], [0.6666666666666666, \"#ed7953\"], [0.7777777777777778, \"#fb9f3a\"], [0.8888888888888888, \"#fdca26\"], [1.0, \"#f0f921\"]], \"type\": \"histogram2dcontour\"}], \"mesh3d\": [{\"colorbar\": {\"outlinewidth\": 0, \"ticks\": \"\"}, \"type\": \"mesh3d\"}], \"parcoords\": [{\"line\": {\"colorbar\": {\"outlinewidth\": 0, \"ticks\": \"\"}}, \"type\": \"parcoords\"}], \"pie\": [{\"automargin\": true, \"type\": \"pie\"}], \"scatter\": [{\"marker\": {\"colorbar\": {\"outlinewidth\": 0, \"ticks\": \"\"}}, \"type\": \"scatter\"}], \"scatter3d\": [{\"line\": {\"colorbar\": {\"outlinewidth\": 0, \"ticks\": \"\"}}, \"marker\": {\"colorbar\": {\"outlinewidth\": 0, \"ticks\": \"\"}}, \"type\": \"scatter3d\"}], \"scattercarpet\": [{\"marker\": {\"colorbar\": {\"outlinewidth\": 0, \"ticks\": \"\"}}, \"type\": \"scattercarpet\"}], \"scattergeo\": [{\"marker\": {\"colorbar\": {\"outlinewidth\": 0, \"ticks\": \"\"}}, \"type\": \"scattergeo\"}], \"scattergl\": [{\"marker\": {\"colorbar\": {\"outlinewidth\": 0, \"ticks\": \"\"}}, \"type\": \"scattergl\"}], \"scattermapbox\": [{\"marker\": {\"colorbar\": {\"outlinewidth\": 0, \"ticks\": \"\"}}, \"type\": \"scattermapbox\"}], \"scatterpolar\": [{\"marker\": {\"colorbar\": {\"outlinewidth\": 0, \"ticks\": \"\"}}, \"type\": \"scatterpolar\"}], \"scatterpolargl\": [{\"marker\": {\"colorbar\": {\"outlinewidth\": 0, \"ticks\": \"\"}}, \"type\": \"scatterpolargl\"}], \"scatterternary\": [{\"marker\": {\"colorbar\": {\"outlinewidth\": 0, \"ticks\": \"\"}}, \"type\": \"scatterternary\"}], \"surface\": [{\"colorbar\": {\"outlinewidth\": 0, \"ticks\": \"\"}, \"colorscale\": [[0.0, \"#0d0887\"], [0.1111111111111111, \"#46039f\"], [0.2222222222222222, \"#7201a8\"], [0.3333333333333333, \"#9c179e\"], [0.4444444444444444, \"#bd3786\"], [0.5555555555555556, \"#d8576b\"], [0.6666666666666666, \"#ed7953\"], [0.7777777777777778, \"#fb9f3a\"], [0.8888888888888888, \"#fdca26\"], [1.0, \"#f0f921\"]], \"type\": \"surface\"}], \"table\": [{\"cells\": {\"fill\": {\"color\": \"#EBF0F8\"}, \"line\": {\"color\": \"white\"}}, \"header\": {\"fill\": {\"color\": \"#C8D4E3\"}, \"line\": {\"color\": \"white\"}}, \"type\": \"table\"}]}, \"layout\": {\"annotationdefaults\": {\"arrowcolor\": \"#2a3f5f\", \"arrowhead\": 0, \"arrowwidth\": 1}, \"coloraxis\": {\"colorbar\": {\"outlinewidth\": 0, \"ticks\": \"\"}}, \"colorscale\": {\"diverging\": [[0, \"#8e0152\"], [0.1, \"#c51b7d\"], [0.2, \"#de77ae\"], [0.3, \"#f1b6da\"], [0.4, \"#fde0ef\"], [0.5, \"#f7f7f7\"], [0.6, \"#e6f5d0\"], [0.7, \"#b8e186\"], [0.8, \"#7fbc41\"], [0.9, \"#4d9221\"], [1, \"#276419\"]], \"sequential\": [[0.0, \"#0d0887\"], [0.1111111111111111, \"#46039f\"], [0.2222222222222222, \"#7201a8\"], [0.3333333333333333, \"#9c179e\"], [0.4444444444444444, \"#bd3786\"], [0.5555555555555556, \"#d8576b\"], [0.6666666666666666, \"#ed7953\"], [0.7777777777777778, \"#fb9f3a\"], [0.8888888888888888, \"#fdca26\"], [1.0, \"#f0f921\"]], \"sequentialminus\": [[0.0, \"#0d0887\"], [0.1111111111111111, \"#46039f\"], [0.2222222222222222, \"#7201a8\"], [0.3333333333333333, \"#9c179e\"], [0.4444444444444444, \"#bd3786\"], [0.5555555555555556, \"#d8576b\"], [0.6666666666666666, \"#ed7953\"], [0.7777777777777778, \"#fb9f3a\"], [0.8888888888888888, \"#fdca26\"], [1.0, \"#f0f921\"]]}, \"colorway\": [\"#636efa\", \"#EF553B\", \"#00cc96\", \"#ab63fa\", \"#FFA15A\", \"#19d3f3\", \"#FF6692\", \"#B6E880\", \"#FF97FF\", \"#FECB52\"], \"font\": {\"color\": \"#2a3f5f\"}, \"geo\": {\"bgcolor\": \"white\", \"lakecolor\": \"white\", \"landcolor\": \"#E5ECF6\", \"showlakes\": true, \"showland\": true, \"subunitcolor\": \"white\"}, \"hoverlabel\": {\"align\": \"left\"}, \"hovermode\": \"closest\", \"mapbox\": {\"style\": \"light\"}, \"paper_bgcolor\": \"white\", \"plot_bgcolor\": \"#E5ECF6\", \"polar\": {\"angularaxis\": {\"gridcolor\": \"white\", \"linecolor\": \"white\", \"ticks\": \"\"}, \"bgcolor\": \"#E5ECF6\", \"radialaxis\": {\"gridcolor\": \"white\", \"linecolor\": \"white\", \"ticks\": \"\"}}, \"scene\": {\"xaxis\": {\"backgroundcolor\": \"#E5ECF6\", \"gridcolor\": \"white\", \"gridwidth\": 2, \"linecolor\": \"white\", \"showbackground\": true, \"ticks\": \"\", \"zerolinecolor\": \"white\"}, \"yaxis\": {\"backgroundcolor\": \"#E5ECF6\", \"gridcolor\": \"white\", \"gridwidth\": 2, \"linecolor\": \"white\", \"showbackground\": true, \"ticks\": \"\", \"zerolinecolor\": \"white\"}, \"zaxis\": {\"backgroundcolor\": \"#E5ECF6\", \"gridcolor\": \"white\", \"gridwidth\": 2, \"linecolor\": \"white\", \"showbackground\": true, \"ticks\": \"\", \"zerolinecolor\": \"white\"}}, \"shapedefaults\": {\"line\": {\"color\": \"#2a3f5f\"}}, \"ternary\": {\"aaxis\": {\"gridcolor\": \"white\", \"linecolor\": \"white\", \"ticks\": \"\"}, \"baxis\": {\"gridcolor\": \"white\", \"linecolor\": \"white\", \"ticks\": \"\"}, \"bgcolor\": \"#E5ECF6\", \"caxis\": {\"gridcolor\": \"white\", \"linecolor\": \"white\", \"ticks\": \"\"}}, \"title\": {\"x\": 0.05}, \"xaxis\": {\"automargin\": true, \"gridcolor\": \"white\", \"linecolor\": \"white\", \"ticks\": \"\", \"title\": {\"standoff\": 15}, \"zerolinecolor\": \"white\", \"zerolinewidth\": 2}, \"yaxis\": {\"automargin\": true, \"gridcolor\": \"white\", \"linecolor\": \"white\", \"ticks\": \"\", \"title\": {\"standoff\": 15}, \"zerolinecolor\": \"white\", \"zerolinewidth\": 2}}}, \"title\": {\"text\": \"layout.hovermode='closest' (the default)\"}, \"xaxis\": {\"anchor\": \"y\", \"domain\": [0.0, 1.0], \"title\": {\"text\": \"datetime\"}}, \"yaxis\": {\"anchor\": \"x\", \"domain\": [0.0, 1.0], \"title\": {\"text\": \"share_doses_used\"}}},\n",
              "                        {\"responsive\": true}\n",
              "                    ).then(function(){\n",
              "                            \n",
              "var gd = document.getElementById('e7d98dab-6f05-4363-be97-6e16c12815d5');\n",
              "var x = new MutationObserver(function (mutations, observer) {{\n",
              "        var display = window.getComputedStyle(gd).display;\n",
              "        if (!display || display === 'none') {{\n",
              "            console.log([gd, 'removed!']);\n",
              "            Plotly.purge(gd);\n",
              "            observer.disconnect();\n",
              "        }}\n",
              "}});\n",
              "\n",
              "// Listen for the removal of the full notebook cells\n",
              "var notebookContainer = gd.closest('#notebook-container');\n",
              "if (notebookContainer) {{\n",
              "    x.observe(notebookContainer, {childList: true});\n",
              "}}\n",
              "\n",
              "// Listen for the clearing of the current output cell\n",
              "var outputEl = gd.closest('.output');\n",
              "if (outputEl) {{\n",
              "    x.observe(outputEl, {childList: true});\n",
              "}}\n",
              "\n",
              "                        })\n",
              "                };\n",
              "                \n",
              "            </script>\n",
              "        </div>\n",
              "</body>\n",
              "</html>"
            ]
          },
          "metadata": {
            "tags": []
          }
        }
      ]
    },
    {
      "cell_type": "markdown",
      "metadata": {
        "id": "JNfzugGGab8p"
      },
      "source": [
        "View people_vaccinated_per_hundreda as a function of datetime for a particular state(s) of the user's choice"
      ],
      "id": "JNfzugGGab8p"
    },
    {
      "cell_type": "code",
      "metadata": {
        "colab": {
          "base_uri": "https://localhost:8080/",
          "height": 626
        },
        "id": "iOh154mnZU1n",
        "outputId": "1aeedf04-03e7-44b3-8708-9202ca7ce391"
      },
      "source": [
        "State2 = []\n",
        "state_input2 = ''\n",
        "AllStates_lower = [ df_owid.index.levels[0][state_idx].lower() for state_idx, state in enumerate(df_owid.index.levels[0]) ]\n",
        "\n",
        "while state_input2 != 'done':\n",
        "    if len(State2) < 1:\n",
        "        state_input2 = input('Please enter a state: ')\n",
        "    else:\n",
        "        state_input2 = input('Please enter a another state or \"done\": ')\n",
        "    if state_input2.lower() in AllStates_lower:\n",
        "        state_curr = df_owid.index.levels[0][AllStates_lower.index(state_input2.lower())]\n",
        "        State2.append(state_curr)\n",
        "    elif state_input2 == 'done':\n",
        "        if len(State2) < 1:\n",
        "            print('You have not selected a state yet.')\n",
        "        else:\n",
        "            print('\\nDone. List of States:', ', '.join(State2))\n",
        "            break\n",
        "    else:\n",
        "        print('\"{}\" is not a valid state. Please enter a valid state.'.format(state_input2))\n",
        "\n",
        "#ListofCols = ['share_doses_used', 'people_vaccinated_per_hundred']\n",
        "\n",
        "state_info2 = state_info.copy()\n",
        "state_info2 = state_info2[0:0]\n",
        "for state in State2:\n",
        "  state_info2 = pd.concat([state_info2, df_owid[(df_owid['location']==state)]], axis=0)\n",
        "\n",
        "fig = px.line(state_info2, x=\"datetime\", y=\"people_vaccinated_per_hundred\", color=\"location\", title=\"layout.hovermode='closest' (the default)\")\n",
        "\n",
        "fig.update_traces(mode=\"markers+lines\")\n",
        "fig.show()"
      ],
      "id": "iOh154mnZU1n",
      "execution_count": null,
      "outputs": [
        {
          "output_type": "stream",
          "text": [
            "Please enter a state: alabama\n",
            "Please enter a another state or \"done\": texas\n",
            "Please enter a another state or \"done\": done\n",
            "\n",
            "Done. List of States: Alabama, Texas\n"
          ],
          "name": "stdout"
        },
        {
          "output_type": "display_data",
          "data": {
            "text/html": [
              "<html>\n",
              "<head><meta charset=\"utf-8\" /></head>\n",
              "<body>\n",
              "    <div>\n",
              "            <script src=\"https://cdnjs.cloudflare.com/ajax/libs/mathjax/2.7.5/MathJax.js?config=TeX-AMS-MML_SVG\"></script><script type=\"text/javascript\">if (window.MathJax) {MathJax.Hub.Config({SVG: {font: \"STIX-Web\"}});}</script>\n",
              "                <script type=\"text/javascript\">window.PlotlyConfig = {MathJaxConfig: 'local'};</script>\n",
              "        <script src=\"https://cdn.plot.ly/plotly-latest.min.js\"></script>    \n",
              "            <div id=\"124d12d1-2e1b-40c4-84ec-4675b19d745b\" class=\"plotly-graph-div\" style=\"height:525px; width:100%;\"></div>\n",
              "            <script type=\"text/javascript\">\n",
              "                \n",
              "                    window.PLOTLYENV=window.PLOTLYENV || {};\n",
              "                    \n",
              "                if (document.getElementById(\"124d12d1-2e1b-40c4-84ec-4675b19d745b\")) {\n",
              "                    Plotly.newPlot(\n",
              "                        '124d12d1-2e1b-40c4-84ec-4675b19d745b',\n",
              "                        [{\"hoverlabel\": {\"namelength\": 0}, \"hovertemplate\": \"location=Alabama<br>datetime=%{x}<br>people_vaccinated_per_hundred=%{y}\", \"legendgroup\": \"location=Alabama\", \"line\": {\"color\": \"#636efa\", \"dash\": \"solid\"}, \"mode\": \"markers+lines\", \"name\": \"location=Alabama\", \"showlegend\": true, \"type\": \"scatter\", \"x\": [\"2021-01-12T00:00:00\", \"2021-01-13T00:00:00\", \"2021-01-14T00:00:00\", \"2021-01-15T00:00:00\", \"2021-01-16T00:00:00\", \"2021-01-17T00:00:00\", \"2021-01-18T00:00:00\", \"2021-01-19T00:00:00\", \"2021-01-20T00:00:00\", \"2021-01-21T00:00:00\", \"2021-01-22T00:00:00\", \"2021-01-23T00:00:00\", \"2021-01-24T00:00:00\", \"2021-01-25T00:00:00\", \"2021-01-26T00:00:00\", \"2021-01-27T00:00:00\", \"2021-01-28T00:00:00\", \"2021-01-29T00:00:00\", \"2021-01-30T00:00:00\", \"2021-01-31T00:00:00\", \"2021-02-01T00:00:00\", \"2021-02-02T00:00:00\", \"2021-02-03T00:00:00\", \"2021-02-04T00:00:00\", \"2021-02-05T00:00:00\", \"2021-02-06T00:00:00\", \"2021-02-07T00:00:00\", \"2021-02-08T00:00:00\", \"2021-02-09T00:00:00\", \"2021-02-10T00:00:00\", \"2021-02-11T00:00:00\", \"2021-02-12T00:00:00\", \"2021-02-13T00:00:00\", \"2021-02-14T00:00:00\", \"2021-02-15T00:00:00\", \"2021-02-16T00:00:00\", \"2021-02-17T00:00:00\", \"2021-02-18T00:00:00\", \"2021-02-19T00:00:00\", \"2021-02-20T00:00:00\", \"2021-02-21T00:00:00\", \"2021-02-22T00:00:00\", \"2021-02-23T00:00:00\", \"2021-02-24T00:00:00\", \"2021-02-25T00:00:00\", \"2021-02-26T00:00:00\", \"2021-02-27T00:00:00\", \"2021-02-28T00:00:00\", \"2021-03-01T00:00:00\", \"2021-03-02T00:00:00\", \"2021-03-03T00:00:00\", \"2021-03-04T00:00:00\", \"2021-03-05T00:00:00\", \"2021-03-06T00:00:00\", \"2021-03-07T00:00:00\", \"2021-03-08T00:00:00\", \"2021-03-09T00:00:00\", \"2021-03-10T00:00:00\", \"2021-03-11T00:00:00\", \"2021-03-12T00:00:00\", \"2021-03-13T00:00:00\", \"2021-03-14T00:00:00\", \"2021-03-15T00:00:00\", \"2021-03-16T00:00:00\", \"2021-03-17T00:00:00\", \"2021-03-18T00:00:00\", \"2021-03-19T00:00:00\", \"2021-03-20T00:00:00\", \"2021-03-21T00:00:00\", \"2021-03-22T00:00:00\", \"2021-03-23T00:00:00\", \"2021-03-24T00:00:00\", \"2021-03-25T00:00:00\", \"2021-03-26T00:00:00\", \"2021-03-27T00:00:00\", \"2021-03-28T00:00:00\", \"2021-03-29T00:00:00\", \"2021-03-30T00:00:00\", \"2021-03-31T00:00:00\", \"2021-04-01T00:00:00\", \"2021-04-02T00:00:00\", \"2021-04-03T00:00:00\", \"2021-04-04T00:00:00\", \"2021-04-05T00:00:00\", \"2021-04-06T00:00:00\", \"2021-04-07T00:00:00\", \"2021-04-08T00:00:00\", \"2021-04-09T00:00:00\", \"2021-04-10T00:00:00\", \"2021-04-11T00:00:00\", \"2021-04-12T00:00:00\", \"2021-04-13T00:00:00\", \"2021-04-14T00:00:00\", \"2021-04-15T00:00:00\", \"2021-04-16T00:00:00\", \"2021-04-17T00:00:00\", \"2021-04-18T00:00:00\", \"2021-04-19T00:00:00\", \"2021-04-20T00:00:00\", \"2021-04-21T00:00:00\", \"2021-04-22T00:00:00\", \"2021-04-23T00:00:00\", \"2021-04-24T00:00:00\", \"2021-04-25T00:00:00\", \"2021-04-26T00:00:00\", \"2021-04-27T00:00:00\", \"2021-04-28T00:00:00\", \"2021-04-29T00:00:00\", \"2021-04-30T00:00:00\", \"2021-05-01T00:00:00\", \"2021-05-02T00:00:00\", \"2021-05-03T00:00:00\", \"2021-05-04T00:00:00\", \"2021-05-05T00:00:00\"], \"xaxis\": \"x\", \"y\": [1.45, 1.53, 1.64, 1.77, null, null, null, 2.33, 2.47, 2.95, 3.56, 3.96, 4.36, 4.5, 4.57, 4.74, 4.92, 5.23, 5.88, 6.08, 6.15, 6.38, 6.63, 6.91, 7.21, 7.55, 7.66, 7.72, 8.06, 8.41, 8.8, 9.14, 9.53, 9.67, null, 9.92, 10.08, 10.31, 11.12, 11.44, 11.57, 11.91, 12.11, 12.33, 12.54, 12.79, 13.12, 13.25, 13.32, 13.53, 13.76, 14.05, 14.36, 14.71, 14.84, 14.95, 15.24, 15.67, 16.13, 16.65, 17.16, 17.32, 17.42, 17.77, 18.23, 18.61, 19.12, 19.59, 19.75, 19.84, 20.28, 20.8, 21.39, 21.88, 22.41, 22.6, 22.72, 23.14, 23.56, 24.15, 24.71, 25.17, 25.34, 25.45, 25.86, 26.34, 26.88, 27.42, 27.97, 28.21, 28.34, 28.71, 29.09, 29.41, 29.76, 30.11, 30.21, 30.26, 30.48, 30.74, 30.98, 31.24, 31.48, 31.54, 31.61, 31.79, 31.99, 32.21, 32.42, 32.61, 32.66, 32.7, 32.83, 33.02], \"yaxis\": \"y\"}, {\"hoverlabel\": {\"namelength\": 0}, \"hovertemplate\": \"location=Texas<br>datetime=%{x}<br>people_vaccinated_per_hundred=%{y}\", \"legendgroup\": \"location=Texas\", \"line\": {\"color\": \"#EF553B\", \"dash\": \"solid\"}, \"mode\": \"markers+lines\", \"name\": \"location=Texas\", \"showlegend\": true, \"type\": \"scatter\", \"x\": [\"2021-01-12T00:00:00\", \"2021-01-13T00:00:00\", \"2021-01-14T00:00:00\", \"2021-01-15T00:00:00\", \"2021-01-16T00:00:00\", \"2021-01-17T00:00:00\", \"2021-01-18T00:00:00\", \"2021-01-19T00:00:00\", \"2021-01-20T00:00:00\", \"2021-01-21T00:00:00\", \"2021-01-22T00:00:00\", \"2021-01-23T00:00:00\", \"2021-01-24T00:00:00\", \"2021-01-25T00:00:00\", \"2021-01-26T00:00:00\", \"2021-01-27T00:00:00\", \"2021-01-28T00:00:00\", \"2021-01-29T00:00:00\", \"2021-01-30T00:00:00\", \"2021-01-31T00:00:00\", \"2021-02-01T00:00:00\", \"2021-02-02T00:00:00\", \"2021-02-03T00:00:00\", \"2021-02-04T00:00:00\", \"2021-02-05T00:00:00\", \"2021-02-06T00:00:00\", \"2021-02-07T00:00:00\", \"2021-02-08T00:00:00\", \"2021-02-09T00:00:00\", \"2021-02-10T00:00:00\", \"2021-02-11T00:00:00\", \"2021-02-12T00:00:00\", \"2021-02-13T00:00:00\", \"2021-02-14T00:00:00\", \"2021-02-15T00:00:00\", \"2021-02-16T00:00:00\", \"2021-02-17T00:00:00\", \"2021-02-18T00:00:00\", \"2021-02-19T00:00:00\", \"2021-02-20T00:00:00\", \"2021-02-21T00:00:00\", \"2021-02-22T00:00:00\", \"2021-02-23T00:00:00\", \"2021-02-24T00:00:00\", \"2021-02-25T00:00:00\", \"2021-02-26T00:00:00\", \"2021-02-27T00:00:00\", \"2021-02-28T00:00:00\", \"2021-03-01T00:00:00\", \"2021-03-02T00:00:00\", \"2021-03-03T00:00:00\", \"2021-03-04T00:00:00\", \"2021-03-05T00:00:00\", \"2021-03-06T00:00:00\", \"2021-03-07T00:00:00\", \"2021-03-08T00:00:00\", \"2021-03-09T00:00:00\", \"2021-03-10T00:00:00\", \"2021-03-11T00:00:00\", \"2021-03-12T00:00:00\", \"2021-03-13T00:00:00\", \"2021-03-14T00:00:00\", \"2021-03-15T00:00:00\", \"2021-03-16T00:00:00\", \"2021-03-17T00:00:00\", \"2021-03-18T00:00:00\", \"2021-03-19T00:00:00\", \"2021-03-20T00:00:00\", \"2021-03-21T00:00:00\", \"2021-03-22T00:00:00\", \"2021-03-23T00:00:00\", \"2021-03-24T00:00:00\", \"2021-03-25T00:00:00\", \"2021-03-26T00:00:00\", \"2021-03-27T00:00:00\", \"2021-03-28T00:00:00\", \"2021-03-29T00:00:00\", \"2021-03-30T00:00:00\", \"2021-03-31T00:00:00\", \"2021-04-01T00:00:00\", \"2021-04-02T00:00:00\", \"2021-04-03T00:00:00\", \"2021-04-04T00:00:00\", \"2021-04-05T00:00:00\", \"2021-04-06T00:00:00\", \"2021-04-07T00:00:00\", \"2021-04-08T00:00:00\", \"2021-04-09T00:00:00\", \"2021-04-10T00:00:00\", \"2021-04-11T00:00:00\", \"2021-04-12T00:00:00\", \"2021-04-13T00:00:00\", \"2021-04-14T00:00:00\", \"2021-04-15T00:00:00\", \"2021-04-16T00:00:00\", \"2021-04-17T00:00:00\", \"2021-04-18T00:00:00\", \"2021-04-19T00:00:00\", \"2021-04-20T00:00:00\", \"2021-04-21T00:00:00\", \"2021-04-22T00:00:00\", \"2021-04-23T00:00:00\", \"2021-04-24T00:00:00\", \"2021-04-25T00:00:00\", \"2021-04-26T00:00:00\", \"2021-04-27T00:00:00\", \"2021-04-28T00:00:00\", \"2021-04-29T00:00:00\", \"2021-04-30T00:00:00\", \"2021-05-01T00:00:00\", \"2021-05-02T00:00:00\", \"2021-05-03T00:00:00\", \"2021-05-04T00:00:00\", \"2021-05-05T00:00:00\"], \"xaxis\": \"x\", \"y\": [2.79, 2.97, 3.16, 3.46, null, null, null, 4.22, 4.42, 4.61, 4.87, 5.09, 5.18, 5.28, 5.57, 5.69, 5.97, 6.22, 6.51, 6.65, 6.87, 6.87, 7.2, 7.52, 7.79, 8.18, 8.5, 8.67, 8.93, 9.22, 9.47, 9.78, 10.01, 10.24, null, 10.48, 10.55, 10.59, 11.06, 11.18, 11.27, 11.38, 11.48, 11.67, 11.4, 11.66, 11.88, 12.18, 12.18, 12.88, 13.28, 13.64, 14.13, 14.65, 14.88, 15.2, 15.78, 16.35, 16.88, 17.59, 18.25, 18.68, 19.0, 19.32, 19.83, 20.39, 20.87, 21.37, 21.8, 22.04, 22.3, 22.26, 22.91, 23.52, 24.04, 24.48, 24.87, 25.3, 25.79, 26.38, 27.02, 27.48, 27.94, 28.46, 28.87, 29.32, 29.86, 30.64, 31.53, 32.05, 32.42, 32.84, 33.35, 33.84, 34.29, 34.76, 34.99, 35.33, 35.53, 35.83, 36.13, 36.45, 36.79, 37.07, 37.24, 37.42, 37.65, 37.93, 38.26, 38.5, 38.62, 38.72, 38.81, 38.99], \"yaxis\": \"y\"}],\n",
              "                        {\"legend\": {\"tracegroupgap\": 0}, \"template\": {\"data\": {\"bar\": [{\"error_x\": {\"color\": \"#2a3f5f\"}, \"error_y\": {\"color\": \"#2a3f5f\"}, \"marker\": {\"line\": {\"color\": \"#E5ECF6\", \"width\": 0.5}}, \"type\": \"bar\"}], \"barpolar\": [{\"marker\": {\"line\": {\"color\": \"#E5ECF6\", \"width\": 0.5}}, \"type\": \"barpolar\"}], \"carpet\": [{\"aaxis\": {\"endlinecolor\": \"#2a3f5f\", \"gridcolor\": \"white\", \"linecolor\": \"white\", \"minorgridcolor\": \"white\", \"startlinecolor\": \"#2a3f5f\"}, \"baxis\": {\"endlinecolor\": \"#2a3f5f\", \"gridcolor\": \"white\", \"linecolor\": \"white\", \"minorgridcolor\": \"white\", \"startlinecolor\": \"#2a3f5f\"}, \"type\": \"carpet\"}], \"choropleth\": [{\"colorbar\": {\"outlinewidth\": 0, \"ticks\": \"\"}, \"type\": \"choropleth\"}], \"contour\": [{\"colorbar\": {\"outlinewidth\": 0, \"ticks\": \"\"}, \"colorscale\": [[0.0, \"#0d0887\"], [0.1111111111111111, \"#46039f\"], [0.2222222222222222, \"#7201a8\"], [0.3333333333333333, \"#9c179e\"], [0.4444444444444444, \"#bd3786\"], [0.5555555555555556, \"#d8576b\"], [0.6666666666666666, \"#ed7953\"], [0.7777777777777778, \"#fb9f3a\"], [0.8888888888888888, \"#fdca26\"], [1.0, \"#f0f921\"]], \"type\": \"contour\"}], \"contourcarpet\": [{\"colorbar\": {\"outlinewidth\": 0, \"ticks\": \"\"}, \"type\": \"contourcarpet\"}], \"heatmap\": [{\"colorbar\": {\"outlinewidth\": 0, \"ticks\": \"\"}, \"colorscale\": [[0.0, \"#0d0887\"], [0.1111111111111111, \"#46039f\"], [0.2222222222222222, \"#7201a8\"], [0.3333333333333333, \"#9c179e\"], [0.4444444444444444, \"#bd3786\"], [0.5555555555555556, \"#d8576b\"], [0.6666666666666666, \"#ed7953\"], [0.7777777777777778, \"#fb9f3a\"], [0.8888888888888888, \"#fdca26\"], [1.0, \"#f0f921\"]], \"type\": \"heatmap\"}], \"heatmapgl\": [{\"colorbar\": {\"outlinewidth\": 0, \"ticks\": \"\"}, \"colorscale\": [[0.0, \"#0d0887\"], [0.1111111111111111, \"#46039f\"], [0.2222222222222222, \"#7201a8\"], [0.3333333333333333, \"#9c179e\"], [0.4444444444444444, \"#bd3786\"], [0.5555555555555556, \"#d8576b\"], [0.6666666666666666, \"#ed7953\"], [0.7777777777777778, \"#fb9f3a\"], [0.8888888888888888, \"#fdca26\"], [1.0, \"#f0f921\"]], \"type\": \"heatmapgl\"}], \"histogram\": [{\"marker\": {\"colorbar\": {\"outlinewidth\": 0, \"ticks\": \"\"}}, \"type\": \"histogram\"}], \"histogram2d\": [{\"colorbar\": {\"outlinewidth\": 0, \"ticks\": \"\"}, \"colorscale\": [[0.0, \"#0d0887\"], [0.1111111111111111, \"#46039f\"], [0.2222222222222222, \"#7201a8\"], [0.3333333333333333, \"#9c179e\"], [0.4444444444444444, \"#bd3786\"], [0.5555555555555556, \"#d8576b\"], [0.6666666666666666, \"#ed7953\"], [0.7777777777777778, \"#fb9f3a\"], [0.8888888888888888, \"#fdca26\"], [1.0, \"#f0f921\"]], \"type\": \"histogram2d\"}], \"histogram2dcontour\": [{\"colorbar\": {\"outlinewidth\": 0, \"ticks\": \"\"}, \"colorscale\": [[0.0, \"#0d0887\"], [0.1111111111111111, \"#46039f\"], [0.2222222222222222, \"#7201a8\"], [0.3333333333333333, \"#9c179e\"], [0.4444444444444444, \"#bd3786\"], [0.5555555555555556, \"#d8576b\"], [0.6666666666666666, \"#ed7953\"], [0.7777777777777778, \"#fb9f3a\"], [0.8888888888888888, \"#fdca26\"], [1.0, \"#f0f921\"]], \"type\": \"histogram2dcontour\"}], \"mesh3d\": [{\"colorbar\": {\"outlinewidth\": 0, \"ticks\": \"\"}, \"type\": \"mesh3d\"}], \"parcoords\": [{\"line\": {\"colorbar\": {\"outlinewidth\": 0, \"ticks\": \"\"}}, \"type\": \"parcoords\"}], \"pie\": [{\"automargin\": true, \"type\": \"pie\"}], \"scatter\": [{\"marker\": {\"colorbar\": {\"outlinewidth\": 0, \"ticks\": \"\"}}, \"type\": \"scatter\"}], \"scatter3d\": [{\"line\": {\"colorbar\": {\"outlinewidth\": 0, \"ticks\": \"\"}}, \"marker\": {\"colorbar\": {\"outlinewidth\": 0, \"ticks\": \"\"}}, \"type\": \"scatter3d\"}], \"scattercarpet\": [{\"marker\": {\"colorbar\": {\"outlinewidth\": 0, \"ticks\": \"\"}}, \"type\": \"scattercarpet\"}], \"scattergeo\": [{\"marker\": {\"colorbar\": {\"outlinewidth\": 0, \"ticks\": \"\"}}, \"type\": \"scattergeo\"}], \"scattergl\": [{\"marker\": {\"colorbar\": {\"outlinewidth\": 0, \"ticks\": \"\"}}, \"type\": \"scattergl\"}], \"scattermapbox\": [{\"marker\": {\"colorbar\": {\"outlinewidth\": 0, \"ticks\": \"\"}}, \"type\": \"scattermapbox\"}], \"scatterpolar\": [{\"marker\": {\"colorbar\": {\"outlinewidth\": 0, \"ticks\": \"\"}}, \"type\": \"scatterpolar\"}], \"scatterpolargl\": [{\"marker\": {\"colorbar\": {\"outlinewidth\": 0, \"ticks\": \"\"}}, \"type\": \"scatterpolargl\"}], \"scatterternary\": [{\"marker\": {\"colorbar\": {\"outlinewidth\": 0, \"ticks\": \"\"}}, \"type\": \"scatterternary\"}], \"surface\": [{\"colorbar\": {\"outlinewidth\": 0, \"ticks\": \"\"}, \"colorscale\": [[0.0, \"#0d0887\"], [0.1111111111111111, \"#46039f\"], [0.2222222222222222, \"#7201a8\"], [0.3333333333333333, \"#9c179e\"], [0.4444444444444444, \"#bd3786\"], [0.5555555555555556, \"#d8576b\"], [0.6666666666666666, \"#ed7953\"], [0.7777777777777778, \"#fb9f3a\"], [0.8888888888888888, \"#fdca26\"], [1.0, \"#f0f921\"]], \"type\": \"surface\"}], \"table\": [{\"cells\": {\"fill\": {\"color\": \"#EBF0F8\"}, \"line\": {\"color\": \"white\"}}, \"header\": {\"fill\": {\"color\": \"#C8D4E3\"}, \"line\": {\"color\": \"white\"}}, \"type\": \"table\"}]}, \"layout\": {\"annotationdefaults\": {\"arrowcolor\": \"#2a3f5f\", \"arrowhead\": 0, \"arrowwidth\": 1}, \"coloraxis\": {\"colorbar\": {\"outlinewidth\": 0, \"ticks\": \"\"}}, \"colorscale\": {\"diverging\": [[0, \"#8e0152\"], [0.1, \"#c51b7d\"], [0.2, \"#de77ae\"], [0.3, \"#f1b6da\"], [0.4, \"#fde0ef\"], [0.5, \"#f7f7f7\"], [0.6, \"#e6f5d0\"], [0.7, \"#b8e186\"], [0.8, \"#7fbc41\"], [0.9, \"#4d9221\"], [1, \"#276419\"]], \"sequential\": [[0.0, \"#0d0887\"], [0.1111111111111111, \"#46039f\"], [0.2222222222222222, \"#7201a8\"], [0.3333333333333333, \"#9c179e\"], [0.4444444444444444, \"#bd3786\"], [0.5555555555555556, \"#d8576b\"], [0.6666666666666666, \"#ed7953\"], [0.7777777777777778, \"#fb9f3a\"], [0.8888888888888888, \"#fdca26\"], [1.0, \"#f0f921\"]], \"sequentialminus\": [[0.0, \"#0d0887\"], [0.1111111111111111, \"#46039f\"], [0.2222222222222222, \"#7201a8\"], [0.3333333333333333, \"#9c179e\"], [0.4444444444444444, \"#bd3786\"], [0.5555555555555556, \"#d8576b\"], [0.6666666666666666, \"#ed7953\"], [0.7777777777777778, \"#fb9f3a\"], [0.8888888888888888, \"#fdca26\"], [1.0, \"#f0f921\"]]}, \"colorway\": [\"#636efa\", \"#EF553B\", \"#00cc96\", \"#ab63fa\", \"#FFA15A\", \"#19d3f3\", \"#FF6692\", \"#B6E880\", \"#FF97FF\", \"#FECB52\"], \"font\": {\"color\": \"#2a3f5f\"}, \"geo\": {\"bgcolor\": \"white\", \"lakecolor\": \"white\", \"landcolor\": \"#E5ECF6\", \"showlakes\": true, \"showland\": true, \"subunitcolor\": \"white\"}, \"hoverlabel\": {\"align\": \"left\"}, \"hovermode\": \"closest\", \"mapbox\": {\"style\": \"light\"}, \"paper_bgcolor\": \"white\", \"plot_bgcolor\": \"#E5ECF6\", \"polar\": {\"angularaxis\": {\"gridcolor\": \"white\", \"linecolor\": \"white\", \"ticks\": \"\"}, \"bgcolor\": \"#E5ECF6\", \"radialaxis\": {\"gridcolor\": \"white\", \"linecolor\": \"white\", \"ticks\": \"\"}}, \"scene\": {\"xaxis\": {\"backgroundcolor\": \"#E5ECF6\", \"gridcolor\": \"white\", \"gridwidth\": 2, \"linecolor\": \"white\", \"showbackground\": true, \"ticks\": \"\", \"zerolinecolor\": \"white\"}, \"yaxis\": {\"backgroundcolor\": \"#E5ECF6\", \"gridcolor\": \"white\", \"gridwidth\": 2, \"linecolor\": \"white\", \"showbackground\": true, \"ticks\": \"\", \"zerolinecolor\": \"white\"}, \"zaxis\": {\"backgroundcolor\": \"#E5ECF6\", \"gridcolor\": \"white\", \"gridwidth\": 2, \"linecolor\": \"white\", \"showbackground\": true, \"ticks\": \"\", \"zerolinecolor\": \"white\"}}, \"shapedefaults\": {\"line\": {\"color\": \"#2a3f5f\"}}, \"ternary\": {\"aaxis\": {\"gridcolor\": \"white\", \"linecolor\": \"white\", \"ticks\": \"\"}, \"baxis\": {\"gridcolor\": \"white\", \"linecolor\": \"white\", \"ticks\": \"\"}, \"bgcolor\": \"#E5ECF6\", \"caxis\": {\"gridcolor\": \"white\", \"linecolor\": \"white\", \"ticks\": \"\"}}, \"title\": {\"x\": 0.05}, \"xaxis\": {\"automargin\": true, \"gridcolor\": \"white\", \"linecolor\": \"white\", \"ticks\": \"\", \"title\": {\"standoff\": 15}, \"zerolinecolor\": \"white\", \"zerolinewidth\": 2}, \"yaxis\": {\"automargin\": true, \"gridcolor\": \"white\", \"linecolor\": \"white\", \"ticks\": \"\", \"title\": {\"standoff\": 15}, \"zerolinecolor\": \"white\", \"zerolinewidth\": 2}}}, \"title\": {\"text\": \"layout.hovermode='closest' (the default)\"}, \"xaxis\": {\"anchor\": \"y\", \"domain\": [0.0, 1.0], \"title\": {\"text\": \"datetime\"}}, \"yaxis\": {\"anchor\": \"x\", \"domain\": [0.0, 1.0], \"title\": {\"text\": \"people_vaccinated_per_hundred\"}}},\n",
              "                        {\"responsive\": true}\n",
              "                    ).then(function(){\n",
              "                            \n",
              "var gd = document.getElementById('124d12d1-2e1b-40c4-84ec-4675b19d745b');\n",
              "var x = new MutationObserver(function (mutations, observer) {{\n",
              "        var display = window.getComputedStyle(gd).display;\n",
              "        if (!display || display === 'none') {{\n",
              "            console.log([gd, 'removed!']);\n",
              "            Plotly.purge(gd);\n",
              "            observer.disconnect();\n",
              "        }}\n",
              "}});\n",
              "\n",
              "// Listen for the removal of the full notebook cells\n",
              "var notebookContainer = gd.closest('#notebook-container');\n",
              "if (notebookContainer) {{\n",
              "    x.observe(notebookContainer, {childList: true});\n",
              "}}\n",
              "\n",
              "// Listen for the clearing of the current output cell\n",
              "var outputEl = gd.closest('.output');\n",
              "if (outputEl) {{\n",
              "    x.observe(outputEl, {childList: true});\n",
              "}}\n",
              "\n",
              "                        })\n",
              "                };\n",
              "                \n",
              "            </script>\n",
              "        </div>\n",
              "</body>\n",
              "</html>"
            ]
          },
          "metadata": {
            "tags": []
          }
        }
      ]
    },
    {
      "cell_type": "code",
      "metadata": {
        "colab": {
          "base_uri": "https://localhost:8080/",
          "height": 114
        },
        "id": "bn7hFV7-AAcL",
        "outputId": "198970f8-3b3a-4c89-f6d0-003da7b90ff6"
      },
      "source": [
        "### UNSURE IF THIS CODE IS NECESSARY NOW BASED ON THE UPPER CODE\n",
        "state2 = input('What state? ')\n",
        "if state2.lower() in AllStates_lower:\n",
        "        #state_curr = df_owid.index.levels[0][AllStates_lower.index(state_input2.lower())]\n",
        "        state_case2 =  df_owid[(df_owid['location']==state2)]\n",
        "else:\n",
        "  print('\"{}\" is not a valid state. Please enter a valid state.'.format(state2))\n",
        "#           state_input2 = input('Please enter a another state or \"done\": ')\n",
        "# elif state2 == 'done':\n",
        "#         if len(state_case2) < 1:\n",
        "#             print('You have not selected a state yet.')\n",
        "# index2 = (df_owid['location']==state2).index\n",
        "#state_case2 = df_owid[(df_owid['location']==state2)]\n",
        "state_case2"
      ],
      "id": "bn7hFV7-AAcL",
      "execution_count": null,
      "outputs": [
        {
          "output_type": "stream",
          "text": [
            "What state? alabama\n"
          ],
          "name": "stdout"
        },
        {
          "output_type": "execute_result",
          "data": {
            "text/html": [
              "<div>\n",
              "<style scoped>\n",
              "    .dataframe tbody tr th:only-of-type {\n",
              "        vertical-align: middle;\n",
              "    }\n",
              "\n",
              "    .dataframe tbody tr th {\n",
              "        vertical-align: top;\n",
              "    }\n",
              "\n",
              "    .dataframe thead th {\n",
              "        text-align: right;\n",
              "    }\n",
              "</style>\n",
              "<table border=\"1\" class=\"dataframe\">\n",
              "  <thead>\n",
              "    <tr style=\"text-align: right;\">\n",
              "      <th></th>\n",
              "      <th></th>\n",
              "      <th>date</th>\n",
              "      <th>location</th>\n",
              "      <th>total_vaccinations</th>\n",
              "      <th>total_distributed</th>\n",
              "      <th>people_vaccinated</th>\n",
              "      <th>people_fully_vaccinated_per_hundred</th>\n",
              "      <th>total_vaccinations_per_hundred</th>\n",
              "      <th>people_fully_vaccinated</th>\n",
              "      <th>people_vaccinated_per_hundred</th>\n",
              "      <th>distributed_per_hundred</th>\n",
              "      <th>daily_vaccinations_raw</th>\n",
              "      <th>daily_vaccinations</th>\n",
              "      <th>daily_vaccinations_per_million</th>\n",
              "      <th>share_doses_used</th>\n",
              "      <th>datetime</th>\n",
              "      <th>days_since</th>\n",
              "    </tr>\n",
              "    <tr>\n",
              "      <th>location_index</th>\n",
              "      <th>datetime_index</th>\n",
              "      <th></th>\n",
              "      <th></th>\n",
              "      <th></th>\n",
              "      <th></th>\n",
              "      <th></th>\n",
              "      <th></th>\n",
              "      <th></th>\n",
              "      <th></th>\n",
              "      <th></th>\n",
              "      <th></th>\n",
              "      <th></th>\n",
              "      <th></th>\n",
              "      <th></th>\n",
              "      <th></th>\n",
              "      <th></th>\n",
              "      <th></th>\n",
              "    </tr>\n",
              "  </thead>\n",
              "  <tbody>\n",
              "  </tbody>\n",
              "</table>\n",
              "</div>"
            ],
            "text/plain": [
              "Empty DataFrame\n",
              "Columns: [date, location, total_vaccinations, total_distributed, people_vaccinated, people_fully_vaccinated_per_hundred, total_vaccinations_per_hundred, people_fully_vaccinated, people_vaccinated_per_hundred, distributed_per_hundred, daily_vaccinations_raw, daily_vaccinations, daily_vaccinations_per_million, share_doses_used, datetime, days_since]\n",
              "Index: []"
            ]
          },
          "metadata": {
            "tags": []
          },
          "execution_count": 25
        }
      ]
    },
    {
      "cell_type": "code",
      "metadata": {
        "id": "DWXKCTwolOe9",
        "colab": {
          "base_uri": "https://localhost:8080/",
          "height": 229
        },
        "outputId": "efddc34f-0d4b-4c9a-b79b-47d21b753cd0"
      },
      "source": [
        "### UNSURE IF THIS CODE IS NECESSARY NOW BASED ON THE UPPER CODE\n",
        "import pandas as pd\n",
        "import plotly.graph_objects as go\n",
        "from plotly.subplots import make_subplots\n",
        "\n",
        "first_line=go.Scatter(x=state_case1['datetime'], y=state_case1['share_doses_used'], name='Texas_share')\n",
        "second_line=go.Scatter(x=state_case2['datetime'], y=state_case2['share_doses_used'], name='Alabama_share')\n",
        "third_line=go.Scatter(x=state_case1['datetime'], y=state_case1['people_vaccinated_per_hundred'], name='Texas_percent')\n",
        "fourth_line=go.Scatter(x=state_case2['datetime'], y=state_case2['people_vaccinated_per_hundred'], name='Alabama_percent')\n",
        "\n",
        "fig = make_subplots(rows=1,cols=2)\n",
        "fig.add_trace(first_line, row=1, col=1)\n",
        "fig.add_trace(second_line, row=1, col=1)\n",
        "fig.add_trace(third_line, row=1, col=2)\n",
        "fig.add_trace(fourth_line, row=1, col=2)\n",
        "fig.update_layout(hovermode='x')\n",
        "fig.update_layout(\n",
        "    autosize=False,\n",
        "    width=1000,\n",
        "    height=500,\n",
        "    margin=dict(\n",
        "        l=50,\n",
        "        r=50,\n",
        "        b=100,\n",
        "        t=100,\n",
        "        pad=4\n",
        "    ))\n",
        "fig.show()"
      ],
      "id": "DWXKCTwolOe9",
      "execution_count": null,
      "outputs": [
        {
          "output_type": "error",
          "ename": "NameError",
          "evalue": "ignored",
          "traceback": [
            "\u001b[0;31m---------------------------------------------------------------------------\u001b[0m",
            "\u001b[0;31mNameError\u001b[0m                                 Traceback (most recent call last)",
            "\u001b[0;32m<ipython-input-17-d42429e807fe>\u001b[0m in \u001b[0;36m<module>\u001b[0;34m()\u001b[0m\n\u001b[1;32m      3\u001b[0m \u001b[0;32mfrom\u001b[0m \u001b[0mplotly\u001b[0m\u001b[0;34m.\u001b[0m\u001b[0msubplots\u001b[0m \u001b[0;32mimport\u001b[0m \u001b[0mmake_subplots\u001b[0m\u001b[0;34m\u001b[0m\u001b[0;34m\u001b[0m\u001b[0m\n\u001b[1;32m      4\u001b[0m \u001b[0;34m\u001b[0m\u001b[0m\n\u001b[0;32m----> 5\u001b[0;31m \u001b[0mfirst_line\u001b[0m\u001b[0;34m=\u001b[0m\u001b[0mgo\u001b[0m\u001b[0;34m.\u001b[0m\u001b[0mScatter\u001b[0m\u001b[0;34m(\u001b[0m\u001b[0mx\u001b[0m\u001b[0;34m=\u001b[0m\u001b[0mstate_case1\u001b[0m\u001b[0;34m[\u001b[0m\u001b[0;34m'datetime'\u001b[0m\u001b[0;34m]\u001b[0m\u001b[0;34m,\u001b[0m \u001b[0my\u001b[0m\u001b[0;34m=\u001b[0m\u001b[0mstate_case1\u001b[0m\u001b[0;34m[\u001b[0m\u001b[0;34m'share_doses_used'\u001b[0m\u001b[0;34m]\u001b[0m\u001b[0;34m,\u001b[0m \u001b[0mname\u001b[0m\u001b[0;34m=\u001b[0m\u001b[0;34m'Texas_share'\u001b[0m\u001b[0;34m)\u001b[0m\u001b[0;34m\u001b[0m\u001b[0;34m\u001b[0m\u001b[0m\n\u001b[0m\u001b[1;32m      6\u001b[0m \u001b[0msecond_line\u001b[0m\u001b[0;34m=\u001b[0m\u001b[0mgo\u001b[0m\u001b[0;34m.\u001b[0m\u001b[0mScatter\u001b[0m\u001b[0;34m(\u001b[0m\u001b[0mx\u001b[0m\u001b[0;34m=\u001b[0m\u001b[0mstate_case2\u001b[0m\u001b[0;34m[\u001b[0m\u001b[0;34m'datetime'\u001b[0m\u001b[0;34m]\u001b[0m\u001b[0;34m,\u001b[0m \u001b[0my\u001b[0m\u001b[0;34m=\u001b[0m\u001b[0mstate_case2\u001b[0m\u001b[0;34m[\u001b[0m\u001b[0;34m'share_doses_used'\u001b[0m\u001b[0;34m]\u001b[0m\u001b[0;34m,\u001b[0m \u001b[0mname\u001b[0m\u001b[0;34m=\u001b[0m\u001b[0;34m'Alabama_share'\u001b[0m\u001b[0;34m)\u001b[0m\u001b[0;34m\u001b[0m\u001b[0;34m\u001b[0m\u001b[0m\n\u001b[1;32m      7\u001b[0m \u001b[0mthird_line\u001b[0m\u001b[0;34m=\u001b[0m\u001b[0mgo\u001b[0m\u001b[0;34m.\u001b[0m\u001b[0mScatter\u001b[0m\u001b[0;34m(\u001b[0m\u001b[0mx\u001b[0m\u001b[0;34m=\u001b[0m\u001b[0mstate_case1\u001b[0m\u001b[0;34m[\u001b[0m\u001b[0;34m'datetime'\u001b[0m\u001b[0;34m]\u001b[0m\u001b[0;34m,\u001b[0m \u001b[0my\u001b[0m\u001b[0;34m=\u001b[0m\u001b[0mstate_case1\u001b[0m\u001b[0;34m[\u001b[0m\u001b[0;34m'people_vaccinated_per_hundred'\u001b[0m\u001b[0;34m]\u001b[0m\u001b[0;34m,\u001b[0m \u001b[0mname\u001b[0m\u001b[0;34m=\u001b[0m\u001b[0;34m'Texas_percent'\u001b[0m\u001b[0;34m)\u001b[0m\u001b[0;34m\u001b[0m\u001b[0;34m\u001b[0m\u001b[0m\n",
            "\u001b[0;31mNameError\u001b[0m: name 'state_case1' is not defined"
          ]
        }
      ]
    },
    {
      "cell_type": "code",
      "metadata": {
        "id": "BN-sIyA7waw4"
      },
      "source": [
        "import pandas as pd\n",
        "import plotly.graph_objects as go\n",
        "from plotly.subplots import make_subplots\n",
        "\n",
        "for state in List\n",
        "\n",
        "\n",
        "first_line=go.Scatter(x=state_case1['datetime'], y=state_case1['share_doses_used'], name='Texas_share')\n",
        "second_line=go.Scatter(x=state_case2['datetime'], y=state_case2['share_doses_used'], name='Alabama_share')\n",
        "third_line=go.Scatter(x=state_case1['datetime'], y=state_case1['people_vaccinated_per_hundred'], name='Texas_percent')\n",
        "fourth_line=go.Scatter(x=state_case2['datetime'], y=state_case2['people_vaccinated_per_hundred'], name='Alabama_percent')\n",
        "\n",
        "fig = make_subplots(rows=2,cols=1,shared_xaxes=True)\n",
        "fig.add_trace(first_line, row=1, col=1)\n",
        "fig.add_trace(second_line, row=1, col=1)\n",
        "fig.add_trace(third_line, row=2, col=1)\n",
        "fig.add_trace(fourth_line, row=2, col=1)"
      ],
      "id": "BN-sIyA7waw4",
      "execution_count": null,
      "outputs": []
    },
    {
      "cell_type": "code",
      "metadata": {
        "id": "T65GHNH6AIgZ"
      },
      "source": [
        "donetrain_date_end = datetime.datetime.strptime('2021-03-15', '%Y-%m-%d')\n",
        "train_date_start = train_date_end - datetime.timedelta(5)"
      ],
      "id": "T65GHNH6AIgZ",
      "execution_count": null,
      "outputs": []
    },
    {
      "cell_type": "code",
      "metadata": {
        "id": "s2gKdT1xALES"
      },
      "source": [
        "from sklearn.linear_model import LinearRegression\n",
        "\n",
        "def getLinreg(X_trn, y_trn):\n",
        "    mdl = LinearRegression()\n",
        "    mdl.fit(X_trn, y_trn)\n",
        "    \n",
        "    return mdl"
      ],
      "id": "s2gKdT1xALES",
      "execution_count": null,
      "outputs": []
    },
    {
      "cell_type": "code",
      "metadata": {
        "id": "eOn_R07jALGy"
      },
      "source": [
        "TrainData = df_owid.loc[state][train_date_start:train_date_end]\n",
        "\n",
        "ListofCols = ['share_doses_used', 'people_vaccinated_per_hundred']\n",
        "\n",
        "X_train = TrainData['days_since']\n",
        "Y_train = TrainData[ListofCols]"
      ],
      "id": "eOn_R07jALGy",
      "execution_count": null,
      "outputs": []
    },
    {
      "cell_type": "code",
      "metadata": {
        "id": "Q-343cJ5L9O3",
        "colab": {
          "base_uri": "https://localhost:8080/"
        },
        "outputId": "6ddc55fb-fa12-4b06-dbb5-b0b462247032"
      },
      "source": [
        "ListofStates = []\n",
        "state_input = ''\n",
        "AllStates_lower = [ df_owid.index.levels[0][state_idx].lower() for state_idx, state in enumerate(df_owid.index.levels[0]) ]\n",
        "\n",
        "while state_input != 'done':\n",
        "    if len(ListofStates) < 1:\n",
        "        state_input = input('Please enter a state: ')\n",
        "    else:\n",
        "        state_input = input('Please enter a another state or \"done\": ')\n",
        "    if state_input.lower() in AllStates_lower:\n",
        "        state = df_owid.index.levels[0][AllStates_lower.index(state_input.lower())]\n",
        "        ListofStates.append(state)\n",
        "    elif state_input == 'done':\n",
        "        if len(ListofStates) < 1:\n",
        "            print('You have not selected a state yet.')\n",
        "        else:\n",
        "            print('\\nDone. List of States:', ', '.join(ListofStates))\n",
        "            break\n",
        "    else:\n",
        "        print('\"{}\" is not a valid state. Please enter a valid state.'.format(state_input))"
      ],
      "id": "Q-343cJ5L9O3",
      "execution_count": null,
      "outputs": [
        {
          "output_type": "stream",
          "text": [
            "Please enter a state: Texas\n",
            "Please enter a another state or \"done\": Alabama\n",
            "Please enter a another state or \"done\": Ohio\n",
            "Please enter a another state or \"done\": done\n",
            "\n",
            "Done. List of States: Texas, Alabama, Ohio\n"
          ],
          "name": "stdout"
        }
      ]
    },
    {
      "cell_type": "code",
      "metadata": {
        "id": "LHU_78TBw_N-"
      },
      "source": [
        ""
      ],
      "id": "LHU_78TBw_N-",
      "execution_count": null,
      "outputs": []
    },
    {
      "cell_type": "code",
      "metadata": {
        "id": "9dfDI-5Qwbu3"
      },
      "source": [
        "earliest_date = df_owid.index.levels[1][0]"
      ],
      "id": "9dfDI-5Qwbu3",
      "execution_count": null,
      "outputs": []
    },
    {
      "cell_type": "code",
      "metadata": {
        "id": "Wf5b9bXZALJh"
      },
      "source": [
        "days_ahead = 200\n",
        "forecast_dates = pd.date_range(train_date_end, train_date_end+datetime.timedelta(days_ahead))\n",
        "\n",
        "ListofCols_pred = [ 'PREDICTED'+' '+col for col in ListofCols ]\n",
        "\n",
        "Y_pred_state = []\n",
        "indices = [[ state for day in range(days_ahead+1) ], forecast_dates]\n",
        "for state in ListofStates:\n",
        "    Y_pred_state.append( pd.DataFrame(columns=ListofCols, index=indices) )\n",
        "Y_pred = pd.concat(Y_pred_state)\n",
        "\n",
        "y_pred_list = []\n",
        "y_p_state_list = []\n",
        "\n",
        "for state in ListofStates:\n",
        "    for idx, col in enumerate(Y_train.columns):\n",
        "        slope = getLinreg(np.array(X_train).reshape(-1, 1), Y_train[col]).coef_[0]\n",
        "        train_end_point = (Y_train.index[-1], Y_train[col][-1])\n",
        "        y_linreg = [ train_end_point[1] + slope*day for day in range(days_ahead+1) ]\n",
        "        y_forecast = pd.DataFrame(data=y_linreg, columns=[col], index=forecast_dates)\n",
        "        y_pred_list.append(y_forecast)\n",
        "    y_p_state_list.append(y_pred_list[-1].join(y_pred_list[-2]))\n",
        "\n",
        "Y_pred = pd.concat(y_p_state_list, keys=ListofStates)\n",
        "for col_idx, col in enumerate(ListofCols):\n",
        "    Y_pred.rename(columns={col: ListofCols_pred[col_idx]}, inplace=True)"
      ],
      "id": "Wf5b9bXZALJh",
      "execution_count": null,
      "outputs": []
    },
    {
      "cell_type": "code",
      "metadata": {
        "colab": {
          "base_uri": "https://localhost:8080/"
        },
        "id": "cME1gr1bNBgE",
        "outputId": "5082c707-6fc7-4eac-fd40-1a6e69615af1"
      },
      "source": [
        "Y_pred['PREDICTED share_doses_used']"
      ],
      "id": "cME1gr1bNBgE",
      "execution_count": null,
      "outputs": [
        {
          "output_type": "execute_result",
          "data": {
            "text/plain": [
              "Texas  2021-03-15    0.7790\n",
              "       2021-03-16    0.7922\n",
              "       2021-03-17    0.8054\n",
              "       2021-03-18    0.8186\n",
              "       2021-03-19    0.8318\n",
              "                      ...  \n",
              "Ohio   2021-09-27    3.3662\n",
              "       2021-09-28    3.3794\n",
              "       2021-09-29    3.3926\n",
              "       2021-09-30    3.4058\n",
              "       2021-10-01    3.4190\n",
              "Name: PREDICTED share_doses_used, Length: 603, dtype: float64"
            ]
          },
          "metadata": {
            "tags": []
          },
          "execution_count": 34
        }
      ]
    },
    {
      "cell_type": "code",
      "metadata": {
        "id": "6WCH_JwiyzMW",
        "colab": {
          "base_uri": "https://localhost:8080/",
          "height": 555
        },
        "outputId": "a421d9d5-5b10-46e3-b137-546c7dfd51f1"
      },
      "source": [
        "import pandas as pd\n",
        "import plotly.graph_objects as go\n",
        "from plotly.subplots import make_subplots\n",
        "\n",
        "ListofStates = ['Alabama', 'Texas', 'New York State']\n",
        "ListofCols = ['share_doses_used', 'people_vaccinated_per_hundred']\n",
        "\n",
        "fig = make_subplots(rows=len(ListofCols)+1,cols=1,shared_xaxes=True)\n",
        "\n",
        "for col_idx, col in enumerate(ListofCols):\n",
        "\n",
        "    col_pred = ListofCols_pred[col_idx]\n",
        "\n",
        "    for state in ListofStates:\n",
        "        data = go.Scatter(x=df_owid.loc[state]['datetime'], y=df_owid.loc[state][col], name=state+' '+col)\n",
        "        fig.add_trace(data, row=col_idx+1, col=1)\n",
        "\n",
        "        data_pred = go.Scatter(x=Y_pred.loc[state].index, y=Y_pred.loc[state][col_pred], name=state+' '+col_pred)\n",
        "        fig.add_trace(data_pred, row=col_idx+1, col=1)\n",
        "\n",
        "fig.update_layout(hovermode='x')\n",
        "fig.update_layout(\n",
        "    autosize=False,\n",
        "    width=1000,\n",
        "    height=1000,\n",
        "    margin=dict(\n",
        "        l=50,\n",
        "        r=50,\n",
        "        b=100,\n",
        "        t=100,\n",
        "        pad=4\n",
        "    ))\n",
        "fig.update_xaxes(title_text=\"Date\", row=1, col=1)\n",
        "fig.update_xaxes(title_text=\"Date\", row=2, col=1)\n",
        "fig.update_yaxes(title_text=\"share_doeses_used\", row=1, col=1)\n",
        "fig.update_yaxes(title_text=\"people_vaccinated_per_hundred\", row=2, col=1)\n",
        "fig.show()"
      ],
      "id": "6WCH_JwiyzMW",
      "execution_count": null,
      "outputs": [
        {
          "output_type": "error",
          "ename": "KeyError",
          "evalue": "ignored",
          "traceback": [
            "\u001b[0;31m---------------------------------------------------------------------------\u001b[0m",
            "\u001b[0;31mKeyError\u001b[0m                                  Traceback (most recent call last)",
            "\u001b[0;32m/usr/local/lib/python3.7/dist-packages/pandas/core/indexes/base.py\u001b[0m in \u001b[0;36mget_loc\u001b[0;34m(self, key, method, tolerance)\u001b[0m\n\u001b[1;32m   2897\u001b[0m             \u001b[0;32mtry\u001b[0m\u001b[0;34m:\u001b[0m\u001b[0;34m\u001b[0m\u001b[0;34m\u001b[0m\u001b[0m\n\u001b[0;32m-> 2898\u001b[0;31m                 \u001b[0;32mreturn\u001b[0m \u001b[0mself\u001b[0m\u001b[0;34m.\u001b[0m\u001b[0m_engine\u001b[0m\u001b[0;34m.\u001b[0m\u001b[0mget_loc\u001b[0m\u001b[0;34m(\u001b[0m\u001b[0mcasted_key\u001b[0m\u001b[0;34m)\u001b[0m\u001b[0;34m\u001b[0m\u001b[0;34m\u001b[0m\u001b[0m\n\u001b[0m\u001b[1;32m   2899\u001b[0m             \u001b[0;32mexcept\u001b[0m \u001b[0mKeyError\u001b[0m \u001b[0;32mas\u001b[0m \u001b[0merr\u001b[0m\u001b[0;34m:\u001b[0m\u001b[0;34m\u001b[0m\u001b[0;34m\u001b[0m\u001b[0m\n",
            "\u001b[0;32mpandas/_libs/index.pyx\u001b[0m in \u001b[0;36mpandas._libs.index.IndexEngine.get_loc\u001b[0;34m()\u001b[0m\n",
            "\u001b[0;32mpandas/_libs/index.pyx\u001b[0m in \u001b[0;36mpandas._libs.index.IndexEngine.get_loc\u001b[0;34m()\u001b[0m\n",
            "\u001b[0;32mpandas/_libs/hashtable_class_helper.pxi\u001b[0m in \u001b[0;36mpandas._libs.hashtable.PyObjectHashTable.get_item\u001b[0;34m()\u001b[0m\n",
            "\u001b[0;32mpandas/_libs/hashtable_class_helper.pxi\u001b[0m in \u001b[0;36mpandas._libs.hashtable.PyObjectHashTable.get_item\u001b[0;34m()\u001b[0m\n",
            "\u001b[0;31mKeyError\u001b[0m: 'New York State'",
            "\nThe above exception was the direct cause of the following exception:\n",
            "\u001b[0;31mKeyError\u001b[0m                                  Traceback (most recent call last)",
            "\u001b[0;32m<ipython-input-35-a2b08b2bc2c6>\u001b[0m in \u001b[0;36m<module>\u001b[0;34m()\u001b[0m\n\u001b[1;32m     16\u001b[0m         \u001b[0mfig\u001b[0m\u001b[0;34m.\u001b[0m\u001b[0madd_trace\u001b[0m\u001b[0;34m(\u001b[0m\u001b[0mdata\u001b[0m\u001b[0;34m,\u001b[0m \u001b[0mrow\u001b[0m\u001b[0;34m=\u001b[0m\u001b[0mcol_idx\u001b[0m\u001b[0;34m+\u001b[0m\u001b[0;36m1\u001b[0m\u001b[0;34m,\u001b[0m \u001b[0mcol\u001b[0m\u001b[0;34m=\u001b[0m\u001b[0;36m1\u001b[0m\u001b[0;34m)\u001b[0m\u001b[0;34m\u001b[0m\u001b[0;34m\u001b[0m\u001b[0m\n\u001b[1;32m     17\u001b[0m \u001b[0;34m\u001b[0m\u001b[0m\n\u001b[0;32m---> 18\u001b[0;31m         \u001b[0mdata_pred\u001b[0m \u001b[0;34m=\u001b[0m \u001b[0mgo\u001b[0m\u001b[0;34m.\u001b[0m\u001b[0mScatter\u001b[0m\u001b[0;34m(\u001b[0m\u001b[0mx\u001b[0m\u001b[0;34m=\u001b[0m\u001b[0mY_pred\u001b[0m\u001b[0;34m.\u001b[0m\u001b[0mloc\u001b[0m\u001b[0;34m[\u001b[0m\u001b[0mstate\u001b[0m\u001b[0;34m]\u001b[0m\u001b[0;34m.\u001b[0m\u001b[0mindex\u001b[0m\u001b[0;34m,\u001b[0m \u001b[0my\u001b[0m\u001b[0;34m=\u001b[0m\u001b[0mY_pred\u001b[0m\u001b[0;34m.\u001b[0m\u001b[0mloc\u001b[0m\u001b[0;34m[\u001b[0m\u001b[0mstate\u001b[0m\u001b[0;34m]\u001b[0m\u001b[0;34m[\u001b[0m\u001b[0mcol_pred\u001b[0m\u001b[0;34m]\u001b[0m\u001b[0;34m,\u001b[0m \u001b[0mname\u001b[0m\u001b[0;34m=\u001b[0m\u001b[0mstate\u001b[0m\u001b[0;34m+\u001b[0m\u001b[0;34m' '\u001b[0m\u001b[0;34m+\u001b[0m\u001b[0mcol_pred\u001b[0m\u001b[0;34m)\u001b[0m\u001b[0;34m\u001b[0m\u001b[0;34m\u001b[0m\u001b[0m\n\u001b[0m\u001b[1;32m     19\u001b[0m         \u001b[0mfig\u001b[0m\u001b[0;34m.\u001b[0m\u001b[0madd_trace\u001b[0m\u001b[0;34m(\u001b[0m\u001b[0mdata_pred\u001b[0m\u001b[0;34m,\u001b[0m \u001b[0mrow\u001b[0m\u001b[0;34m=\u001b[0m\u001b[0mcol_idx\u001b[0m\u001b[0;34m+\u001b[0m\u001b[0;36m1\u001b[0m\u001b[0;34m,\u001b[0m \u001b[0mcol\u001b[0m\u001b[0;34m=\u001b[0m\u001b[0;36m1\u001b[0m\u001b[0;34m)\u001b[0m\u001b[0;34m\u001b[0m\u001b[0;34m\u001b[0m\u001b[0m\n\u001b[1;32m     20\u001b[0m \u001b[0;34m\u001b[0m\u001b[0m\n",
            "\u001b[0;32m/usr/local/lib/python3.7/dist-packages/pandas/core/indexing.py\u001b[0m in \u001b[0;36m__getitem__\u001b[0;34m(self, key)\u001b[0m\n\u001b[1;32m    877\u001b[0m \u001b[0;34m\u001b[0m\u001b[0m\n\u001b[1;32m    878\u001b[0m             \u001b[0mmaybe_callable\u001b[0m \u001b[0;34m=\u001b[0m \u001b[0mcom\u001b[0m\u001b[0;34m.\u001b[0m\u001b[0mapply_if_callable\u001b[0m\u001b[0;34m(\u001b[0m\u001b[0mkey\u001b[0m\u001b[0;34m,\u001b[0m \u001b[0mself\u001b[0m\u001b[0;34m.\u001b[0m\u001b[0mobj\u001b[0m\u001b[0;34m)\u001b[0m\u001b[0;34m\u001b[0m\u001b[0;34m\u001b[0m\u001b[0m\n\u001b[0;32m--> 879\u001b[0;31m             \u001b[0;32mreturn\u001b[0m \u001b[0mself\u001b[0m\u001b[0;34m.\u001b[0m\u001b[0m_getitem_axis\u001b[0m\u001b[0;34m(\u001b[0m\u001b[0mmaybe_callable\u001b[0m\u001b[0;34m,\u001b[0m \u001b[0maxis\u001b[0m\u001b[0;34m=\u001b[0m\u001b[0maxis\u001b[0m\u001b[0;34m)\u001b[0m\u001b[0;34m\u001b[0m\u001b[0;34m\u001b[0m\u001b[0m\n\u001b[0m\u001b[1;32m    880\u001b[0m \u001b[0;34m\u001b[0m\u001b[0m\n\u001b[1;32m    881\u001b[0m     \u001b[0;32mdef\u001b[0m \u001b[0m_is_scalar_access\u001b[0m\u001b[0;34m(\u001b[0m\u001b[0mself\u001b[0m\u001b[0;34m,\u001b[0m \u001b[0mkey\u001b[0m\u001b[0;34m:\u001b[0m \u001b[0mTuple\u001b[0m\u001b[0;34m)\u001b[0m\u001b[0;34m:\u001b[0m\u001b[0;34m\u001b[0m\u001b[0;34m\u001b[0m\u001b[0m\n",
            "\u001b[0;32m/usr/local/lib/python3.7/dist-packages/pandas/core/indexing.py\u001b[0m in \u001b[0;36m_getitem_axis\u001b[0;34m(self, key, axis)\u001b[0m\n\u001b[1;32m   1108\u001b[0m         \u001b[0;31m# fall thru to straight lookup\u001b[0m\u001b[0;34m\u001b[0m\u001b[0;34m\u001b[0m\u001b[0;34m\u001b[0m\u001b[0m\n\u001b[1;32m   1109\u001b[0m         \u001b[0mself\u001b[0m\u001b[0;34m.\u001b[0m\u001b[0m_validate_key\u001b[0m\u001b[0;34m(\u001b[0m\u001b[0mkey\u001b[0m\u001b[0;34m,\u001b[0m \u001b[0maxis\u001b[0m\u001b[0;34m)\u001b[0m\u001b[0;34m\u001b[0m\u001b[0;34m\u001b[0m\u001b[0m\n\u001b[0;32m-> 1110\u001b[0;31m         \u001b[0;32mreturn\u001b[0m \u001b[0mself\u001b[0m\u001b[0;34m.\u001b[0m\u001b[0m_get_label\u001b[0m\u001b[0;34m(\u001b[0m\u001b[0mkey\u001b[0m\u001b[0;34m,\u001b[0m \u001b[0maxis\u001b[0m\u001b[0;34m=\u001b[0m\u001b[0maxis\u001b[0m\u001b[0;34m)\u001b[0m\u001b[0;34m\u001b[0m\u001b[0;34m\u001b[0m\u001b[0m\n\u001b[0m\u001b[1;32m   1111\u001b[0m \u001b[0;34m\u001b[0m\u001b[0m\n\u001b[1;32m   1112\u001b[0m     \u001b[0;32mdef\u001b[0m \u001b[0m_get_slice_axis\u001b[0m\u001b[0;34m(\u001b[0m\u001b[0mself\u001b[0m\u001b[0;34m,\u001b[0m \u001b[0mslice_obj\u001b[0m\u001b[0;34m:\u001b[0m \u001b[0mslice\u001b[0m\u001b[0;34m,\u001b[0m \u001b[0maxis\u001b[0m\u001b[0;34m:\u001b[0m \u001b[0mint\u001b[0m\u001b[0;34m)\u001b[0m\u001b[0;34m:\u001b[0m\u001b[0;34m\u001b[0m\u001b[0;34m\u001b[0m\u001b[0m\n",
            "\u001b[0;32m/usr/local/lib/python3.7/dist-packages/pandas/core/indexing.py\u001b[0m in \u001b[0;36m_get_label\u001b[0;34m(self, label, axis)\u001b[0m\n\u001b[1;32m   1057\u001b[0m     \u001b[0;32mdef\u001b[0m \u001b[0m_get_label\u001b[0m\u001b[0;34m(\u001b[0m\u001b[0mself\u001b[0m\u001b[0;34m,\u001b[0m \u001b[0mlabel\u001b[0m\u001b[0;34m,\u001b[0m \u001b[0maxis\u001b[0m\u001b[0;34m:\u001b[0m \u001b[0mint\u001b[0m\u001b[0;34m)\u001b[0m\u001b[0;34m:\u001b[0m\u001b[0;34m\u001b[0m\u001b[0;34m\u001b[0m\u001b[0m\n\u001b[1;32m   1058\u001b[0m         \u001b[0;31m# GH#5667 this will fail if the label is not present in the axis.\u001b[0m\u001b[0;34m\u001b[0m\u001b[0;34m\u001b[0m\u001b[0;34m\u001b[0m\u001b[0m\n\u001b[0;32m-> 1059\u001b[0;31m         \u001b[0;32mreturn\u001b[0m \u001b[0mself\u001b[0m\u001b[0;34m.\u001b[0m\u001b[0mobj\u001b[0m\u001b[0;34m.\u001b[0m\u001b[0mxs\u001b[0m\u001b[0;34m(\u001b[0m\u001b[0mlabel\u001b[0m\u001b[0;34m,\u001b[0m \u001b[0maxis\u001b[0m\u001b[0;34m=\u001b[0m\u001b[0maxis\u001b[0m\u001b[0;34m)\u001b[0m\u001b[0;34m\u001b[0m\u001b[0;34m\u001b[0m\u001b[0m\n\u001b[0m\u001b[1;32m   1060\u001b[0m \u001b[0;34m\u001b[0m\u001b[0m\n\u001b[1;32m   1061\u001b[0m     \u001b[0;32mdef\u001b[0m \u001b[0m_handle_lowerdim_multi_index_axis0\u001b[0m\u001b[0;34m(\u001b[0m\u001b[0mself\u001b[0m\u001b[0;34m,\u001b[0m \u001b[0mtup\u001b[0m\u001b[0;34m:\u001b[0m \u001b[0mTuple\u001b[0m\u001b[0;34m)\u001b[0m\u001b[0;34m:\u001b[0m\u001b[0;34m\u001b[0m\u001b[0;34m\u001b[0m\u001b[0m\n",
            "\u001b[0;32m/usr/local/lib/python3.7/dist-packages/pandas/core/generic.py\u001b[0m in \u001b[0;36mxs\u001b[0;34m(self, key, axis, level, drop_level)\u001b[0m\n\u001b[1;32m   3489\u001b[0m         \u001b[0mindex\u001b[0m \u001b[0;34m=\u001b[0m \u001b[0mself\u001b[0m\u001b[0;34m.\u001b[0m\u001b[0mindex\u001b[0m\u001b[0;34m\u001b[0m\u001b[0;34m\u001b[0m\u001b[0m\n\u001b[1;32m   3490\u001b[0m         \u001b[0;32mif\u001b[0m \u001b[0misinstance\u001b[0m\u001b[0;34m(\u001b[0m\u001b[0mindex\u001b[0m\u001b[0;34m,\u001b[0m \u001b[0mMultiIndex\u001b[0m\u001b[0;34m)\u001b[0m\u001b[0;34m:\u001b[0m\u001b[0;34m\u001b[0m\u001b[0;34m\u001b[0m\u001b[0m\n\u001b[0;32m-> 3491\u001b[0;31m             \u001b[0mloc\u001b[0m\u001b[0;34m,\u001b[0m \u001b[0mnew_index\u001b[0m \u001b[0;34m=\u001b[0m \u001b[0mself\u001b[0m\u001b[0;34m.\u001b[0m\u001b[0mindex\u001b[0m\u001b[0;34m.\u001b[0m\u001b[0mget_loc_level\u001b[0m\u001b[0;34m(\u001b[0m\u001b[0mkey\u001b[0m\u001b[0;34m,\u001b[0m \u001b[0mdrop_level\u001b[0m\u001b[0;34m=\u001b[0m\u001b[0mdrop_level\u001b[0m\u001b[0;34m)\u001b[0m\u001b[0;34m\u001b[0m\u001b[0;34m\u001b[0m\u001b[0m\n\u001b[0m\u001b[1;32m   3492\u001b[0m         \u001b[0;32melse\u001b[0m\u001b[0;34m:\u001b[0m\u001b[0;34m\u001b[0m\u001b[0;34m\u001b[0m\u001b[0m\n\u001b[1;32m   3493\u001b[0m             \u001b[0mloc\u001b[0m \u001b[0;34m=\u001b[0m \u001b[0mself\u001b[0m\u001b[0;34m.\u001b[0m\u001b[0mindex\u001b[0m\u001b[0;34m.\u001b[0m\u001b[0mget_loc\u001b[0m\u001b[0;34m(\u001b[0m\u001b[0mkey\u001b[0m\u001b[0;34m)\u001b[0m\u001b[0;34m\u001b[0m\u001b[0;34m\u001b[0m\u001b[0m\n",
            "\u001b[0;32m/usr/local/lib/python3.7/dist-packages/pandas/core/indexes/multi.py\u001b[0m in \u001b[0;36mget_loc_level\u001b[0;34m(self, key, level, drop_level)\u001b[0m\n\u001b[1;32m   2883\u001b[0m                 \u001b[0;32mreturn\u001b[0m \u001b[0mindexer\u001b[0m\u001b[0;34m,\u001b[0m \u001b[0mmaybe_mi_droplevels\u001b[0m\u001b[0;34m(\u001b[0m\u001b[0mindexer\u001b[0m\u001b[0;34m,\u001b[0m \u001b[0milevels\u001b[0m\u001b[0;34m,\u001b[0m \u001b[0mdrop_level\u001b[0m\u001b[0;34m)\u001b[0m\u001b[0;34m\u001b[0m\u001b[0;34m\u001b[0m\u001b[0m\n\u001b[1;32m   2884\u001b[0m         \u001b[0;32melse\u001b[0m\u001b[0;34m:\u001b[0m\u001b[0;34m\u001b[0m\u001b[0;34m\u001b[0m\u001b[0m\n\u001b[0;32m-> 2885\u001b[0;31m             \u001b[0mindexer\u001b[0m \u001b[0;34m=\u001b[0m \u001b[0mself\u001b[0m\u001b[0;34m.\u001b[0m\u001b[0m_get_level_indexer\u001b[0m\u001b[0;34m(\u001b[0m\u001b[0mkey\u001b[0m\u001b[0;34m,\u001b[0m \u001b[0mlevel\u001b[0m\u001b[0;34m=\u001b[0m\u001b[0mlevel\u001b[0m\u001b[0;34m)\u001b[0m\u001b[0;34m\u001b[0m\u001b[0;34m\u001b[0m\u001b[0m\n\u001b[0m\u001b[1;32m   2886\u001b[0m             \u001b[0;32mreturn\u001b[0m \u001b[0mindexer\u001b[0m\u001b[0;34m,\u001b[0m \u001b[0mmaybe_mi_droplevels\u001b[0m\u001b[0;34m(\u001b[0m\u001b[0mindexer\u001b[0m\u001b[0;34m,\u001b[0m \u001b[0;34m[\u001b[0m\u001b[0mlevel\u001b[0m\u001b[0;34m]\u001b[0m\u001b[0;34m,\u001b[0m \u001b[0mdrop_level\u001b[0m\u001b[0;34m)\u001b[0m\u001b[0;34m\u001b[0m\u001b[0;34m\u001b[0m\u001b[0m\n\u001b[1;32m   2887\u001b[0m \u001b[0;34m\u001b[0m\u001b[0m\n",
            "\u001b[0;32m/usr/local/lib/python3.7/dist-packages/pandas/core/indexes/multi.py\u001b[0m in \u001b[0;36m_get_level_indexer\u001b[0;34m(self, key, level, indexer)\u001b[0m\n\u001b[1;32m   2967\u001b[0m         \u001b[0;32melse\u001b[0m\u001b[0;34m:\u001b[0m\u001b[0;34m\u001b[0m\u001b[0;34m\u001b[0m\u001b[0m\n\u001b[1;32m   2968\u001b[0m \u001b[0;34m\u001b[0m\u001b[0m\n\u001b[0;32m-> 2969\u001b[0;31m             \u001b[0mcode\u001b[0m \u001b[0;34m=\u001b[0m \u001b[0mself\u001b[0m\u001b[0;34m.\u001b[0m\u001b[0m_get_loc_single_level_index\u001b[0m\u001b[0;34m(\u001b[0m\u001b[0mlevel_index\u001b[0m\u001b[0;34m,\u001b[0m \u001b[0mkey\u001b[0m\u001b[0;34m)\u001b[0m\u001b[0;34m\u001b[0m\u001b[0;34m\u001b[0m\u001b[0m\n\u001b[0m\u001b[1;32m   2970\u001b[0m \u001b[0;34m\u001b[0m\u001b[0m\n\u001b[1;32m   2971\u001b[0m             \u001b[0;32mif\u001b[0m \u001b[0mlevel\u001b[0m \u001b[0;34m>\u001b[0m \u001b[0;36m0\u001b[0m \u001b[0;32mor\u001b[0m \u001b[0mself\u001b[0m\u001b[0;34m.\u001b[0m\u001b[0mlexsort_depth\u001b[0m \u001b[0;34m==\u001b[0m \u001b[0;36m0\u001b[0m\u001b[0;34m:\u001b[0m\u001b[0;34m\u001b[0m\u001b[0;34m\u001b[0m\u001b[0m\n",
            "\u001b[0;32m/usr/local/lib/python3.7/dist-packages/pandas/core/indexes/multi.py\u001b[0m in \u001b[0;36m_get_loc_single_level_index\u001b[0;34m(self, level_index, key)\u001b[0m\n\u001b[1;32m   2635\u001b[0m             \u001b[0;32mreturn\u001b[0m \u001b[0;34m-\u001b[0m\u001b[0;36m1\u001b[0m\u001b[0;34m\u001b[0m\u001b[0;34m\u001b[0m\u001b[0m\n\u001b[1;32m   2636\u001b[0m         \u001b[0;32melse\u001b[0m\u001b[0;34m:\u001b[0m\u001b[0;34m\u001b[0m\u001b[0;34m\u001b[0m\u001b[0m\n\u001b[0;32m-> 2637\u001b[0;31m             \u001b[0;32mreturn\u001b[0m \u001b[0mlevel_index\u001b[0m\u001b[0;34m.\u001b[0m\u001b[0mget_loc\u001b[0m\u001b[0;34m(\u001b[0m\u001b[0mkey\u001b[0m\u001b[0;34m)\u001b[0m\u001b[0;34m\u001b[0m\u001b[0;34m\u001b[0m\u001b[0m\n\u001b[0m\u001b[1;32m   2638\u001b[0m \u001b[0;34m\u001b[0m\u001b[0m\n\u001b[1;32m   2639\u001b[0m     \u001b[0;32mdef\u001b[0m \u001b[0mget_loc\u001b[0m\u001b[0;34m(\u001b[0m\u001b[0mself\u001b[0m\u001b[0;34m,\u001b[0m \u001b[0mkey\u001b[0m\u001b[0;34m,\u001b[0m \u001b[0mmethod\u001b[0m\u001b[0;34m=\u001b[0m\u001b[0;32mNone\u001b[0m\u001b[0;34m)\u001b[0m\u001b[0;34m:\u001b[0m\u001b[0;34m\u001b[0m\u001b[0;34m\u001b[0m\u001b[0m\n",
            "\u001b[0;32m/usr/local/lib/python3.7/dist-packages/pandas/core/indexes/base.py\u001b[0m in \u001b[0;36mget_loc\u001b[0;34m(self, key, method, tolerance)\u001b[0m\n\u001b[1;32m   2898\u001b[0m                 \u001b[0;32mreturn\u001b[0m \u001b[0mself\u001b[0m\u001b[0;34m.\u001b[0m\u001b[0m_engine\u001b[0m\u001b[0;34m.\u001b[0m\u001b[0mget_loc\u001b[0m\u001b[0;34m(\u001b[0m\u001b[0mcasted_key\u001b[0m\u001b[0;34m)\u001b[0m\u001b[0;34m\u001b[0m\u001b[0;34m\u001b[0m\u001b[0m\n\u001b[1;32m   2899\u001b[0m             \u001b[0;32mexcept\u001b[0m \u001b[0mKeyError\u001b[0m \u001b[0;32mas\u001b[0m \u001b[0merr\u001b[0m\u001b[0;34m:\u001b[0m\u001b[0;34m\u001b[0m\u001b[0;34m\u001b[0m\u001b[0m\n\u001b[0;32m-> 2900\u001b[0;31m                 \u001b[0;32mraise\u001b[0m \u001b[0mKeyError\u001b[0m\u001b[0;34m(\u001b[0m\u001b[0mkey\u001b[0m\u001b[0;34m)\u001b[0m \u001b[0;32mfrom\u001b[0m \u001b[0merr\u001b[0m\u001b[0;34m\u001b[0m\u001b[0;34m\u001b[0m\u001b[0m\n\u001b[0m\u001b[1;32m   2901\u001b[0m \u001b[0;34m\u001b[0m\u001b[0m\n\u001b[1;32m   2902\u001b[0m         \u001b[0;32mif\u001b[0m \u001b[0mtolerance\u001b[0m \u001b[0;32mis\u001b[0m \u001b[0;32mnot\u001b[0m \u001b[0;32mNone\u001b[0m\u001b[0;34m:\u001b[0m\u001b[0;34m\u001b[0m\u001b[0;34m\u001b[0m\u001b[0m\n",
            "\u001b[0;31mKeyError\u001b[0m: 'New York State'"
          ]
        }
      ]
    },
    {
      "cell_type": "code",
      "metadata": {
        "id": "BGDdSNcuxm4X"
      },
      "source": [
        ""
      ],
      "id": "BGDdSNcuxm4X",
      "execution_count": null,
      "outputs": []
    },
    {
      "cell_type": "code",
      "metadata": {
        "id": "1pf449x-I0MF"
      },
      "source": [
        ""
      ],
      "id": "1pf449x-I0MF",
      "execution_count": null,
      "outputs": []
    },
    {
      "cell_type": "code",
      "metadata": {
        "id": "X7qw3NNNI0SM"
      },
      "source": [
        ""
      ],
      "id": "X7qw3NNNI0SM",
      "execution_count": null,
      "outputs": []
    },
    {
      "cell_type": "code",
      "metadata": {
        "id": "UtuVx43Exm7E"
      },
      "source": [
        "import pandas as pd                               # to organize data in Dataframes\n",
        "import datetime                                   # to work with time series\n",
        "import plotly.graph_objects as go                 # to generate interactive plots\n",
        "from plotly.subplots import make_subplots         # to make interactive subplots\n",
        "from sklearn.linear_model import LinearRegression # to predict linear forecasts"
      ],
      "id": "UtuVx43Exm7E",
      "execution_count": null,
      "outputs": []
    },
    {
      "cell_type": "code",
      "metadata": {
        "id": "RnUB-z2txnC4"
      },
      "source": [
        "def clean_df(df_owid_orig):\n",
        "\n",
        "    # Work with a copy, not the original dataset\n",
        "    df_owid = df_owid_orig.copy()\n",
        "\n",
        "    # Store the location and date as indices for the dataframe\n",
        "    df_owid.sort_values(by=['location', 'date'])\n",
        "    df_owid.loc[:, 'datetime'] = pd.to_datetime(df_owid.loc[:, 'date'])\n",
        "    df_owid = df_owid.set_index(['location', 'datetime'], drop=False)\n",
        "    df_owid.rename_axis(['location_index', 'datetime_index'], axis='index', inplace=True)\n",
        "\n",
        "    # Count the number of days since beginning of recording - helps with regression model\n",
        "    df_owid['days_since'] = (df_owid['datetime'] - df_owid['datetime'].iloc[0]).dt.days\n",
        "\n",
        "    # Using forward fill method to fill missing values (fill missing values with previous available day's value)\n",
        "    # Lets us avoid errors with the linear regression and is acceptable for small stretches of missing data\n",
        "    df_owid.fillna(method='ffill', inplace=True)\n",
        "\n",
        "    # Examine these columns in the forecast\n",
        "    ListofCols = ['share_doeses_used', 'people_vaccinated_per_hundred']\n",
        "\n",
        "    return df_owid, ListofCols"
      ],
      "id": "RnUB-z2txnC4",
      "execution_count": null,
      "outputs": []
    },
    {
      "cell_type": "code",
      "metadata": {
        "id": "ZNZAXCWMw_-q"
      },
      "source": [
        "# Get user input of US states to examine\n",
        "\n",
        "def getStateInput(df_owid):\n",
        "\n",
        "    ListofStates = []\n",
        "    state_input = ''\n",
        "    AllStates_lower = [ df_owid.index.levels[0][state_idx].lower() for state_idx, state in enumerate(df_owid.index.levels[0]) ]\n",
        "\n",
        "    while state_input != 'done':\n",
        "        if len(ListofStates) < 1:\n",
        "            state_input = input('Please enter a state: ')\n",
        "        else:\n",
        "            state_input = input('Please enter a another state or \"done\": ')\n",
        "        if state_input.lower() in AllStates_lower:\n",
        "            state = df_owid.index.levels[0][AllStates_lower.index(state_input.lower())]\n",
        "            ListofStates.append(state)\n",
        "        elif state_input == 'done':\n",
        "            if len(ListofStates) < 1:\n",
        "                print('You have not selected a state yet.')\n",
        "            else:\n",
        "                print('\\nDone. List of States:', ', '.join(ListofStates))\n",
        "                break\n",
        "        else:\n",
        "            print('\"{}\" is not a valid state. Please enter a valid state.'.format(state_input)) \n",
        "\n",
        "    return ListofStates"
      ],
      "id": "ZNZAXCWMw_-q",
      "execution_count": null,
      "outputs": []
    },
    {
      "cell_type": "code",
      "metadata": {
        "id": "IfiXxnKnzZAY"
      },
      "source": [
        "# Select Dates for Forecast - End date for training and end date for forecast\n",
        "\n",
        "def getForecastDates():\n",
        "\n",
        "    # Select End Date for Forecast Training\n",
        "\n",
        "    train_date_end = ''\n",
        "\n",
        "    train_date_earliest = datetime.datetime.strptime('2021-01-18', '%Y-%m-%d')\n",
        "    train_date_latest = datetime.datetime.today() - datetime.timedelta(5)\n",
        "\n",
        "    earliest_str = datetime.datetime.strftime(train_date_earliest, '%B %d, %Y')\n",
        "    latest_str = datetime.datetime.strftime(train_date_latest, '%B %d, %Y')\n",
        "\n",
        "    train_date_range = pd.date_range(train_date_earliest, train_date_latest)\n",
        "\n",
        "    print('Select an end date to train the model.')\n",
        "    print('e.g. \"Based on trends up to date March 15, 2021, we can forecast the following trajectory.\"')\n",
        "\n",
        "    train_date_end_input = ''\n",
        "    while train_date_end not in train_date_range:\n",
        "        try:\n",
        "            train_date_end_input = input(('Please provide a date from {} to {} in the format \"Month Day, Year\": ').format(earliest_str, latest_str))\n",
        "            train_date_end = datetime.datetime.strptime(train_date_end_input, '%B %d, %Y')\n",
        "        except ValueError:\n",
        "            print(train_date_end_input, 'is not in a valid format\\nPlease provide a valid date in the format \"Month Day, Year\".')\n",
        "        else:\n",
        "            print('Done. Using', train_date_end_input, 'as end date for forecast training.')\n",
        "            break\n",
        "\n",
        "\n",
        "    # Select Furthest Future Date to Forecast\n",
        "\n",
        "    forecast_date_end = ''\n",
        "    forecast_date_end_input = ''\n",
        "\n",
        "    print('Select an end date for forecast.')\n",
        "    print('e.g. \"We will predict the trends up to June 4, 2021.')\n",
        "\n",
        "    while True:\n",
        "        try:\n",
        "            forecast_date_end_input = input('Please enter a date to end the forecast (\"Month Day, Year\"): ')\n",
        "            forecast_date_end = datetime.datetime.strptime(forecast_date_end_input, '%B %d, %Y')\n",
        "            while forecast_date_end <= train_date_end:\n",
        "                too_early = 1\n",
        "                print('Please choose a date after the train date of {}.'.format(train_date_end_input))\n",
        "                forecast_date_end = datetime.datetime.strptime('', '%B %d, %Y')\n",
        "                break\n",
        "        except ValueError: \n",
        "            try:\n",
        "                int(too_early)\n",
        "                continue\n",
        "            except ValueError:\n",
        "                print(forecast_date_end_input, 'is not a valid date.')\n",
        "                print('Please choose a valid date in the format \"Month Day, Year\".')\n",
        "        else:\n",
        "            print('Done. Selected', forecast_date_end_input,'as end date for forecast.')\n",
        "            forecast_dates = pd.date_range(train_date_end, forecast_date_end)\n",
        "            break\n",
        "\n",
        "    return train_date_end, forecast_date_end, forecast_dates"
      ],
      "id": "IfiXxnKnzZAY",
      "execution_count": null,
      "outputs": []
    },
    {
      "cell_type": "code",
      "metadata": {
        "id": "PRUDm9nLJxCx"
      },
      "source": [
        "def getLinreg(X_trn, y_trn):\n",
        "    mdl = LinearRegression()\n",
        "    mdl.fit(X_trn, y_trn)\n",
        "    \n",
        "    return mdl"
      ],
      "id": "PRUDm9nLJxCx",
      "execution_count": null,
      "outputs": []
    },
    {
      "cell_type": "code",
      "metadata": {
        "id": "ZgSsXTtSw7gM"
      },
      "source": [
        "# Forecast the selected columns' data using the train date limit and forecast span\n",
        "\n",
        "def forecaster(df_owid, forecast_dates, ListofStates, ListofCols):\n",
        "    \n",
        "    days_ahead = len(forecast_dates)\n",
        "    ListofCols_pred = [ 'PREDICTED'+' '+col for col in ListofCols ]\n",
        "\n",
        "    Y_pred_state = []\n",
        "    for state in ListofStates:\n",
        "        indices = [[ state for day in range(days_ahead) ], forecast_dates]\n",
        "        Y_pred_state.append( pd.DataFrame(columns=ListofCols, index=indices) )\n",
        "    Y_pred = pd.concat(Y_pred_state)\n",
        "\n",
        "    y_pred_list = []\n",
        "    y_p_state_list = []\n",
        "\n",
        "    for state in ListofStates:\n",
        "\n",
        "        TrainData = df_owid.loc[state][train_date_start:train_date_end]\n",
        "        X_train = TrainData['days_since']\n",
        "        Y_train = TrainData[ListofCols]\n",
        "\n",
        "        for idx, col in enumerate(Y_train.columns):\n",
        "            slope = getLinreg(np.array(X_train).reshape(-1, 1)[-15:-1], Y_train[col][-15:-1]).coef_[0]\n",
        "            train_end_point = (Y_train.index[-1], Y_train[col][-1])\n",
        "            y_linreg = [ train_end_point[1] + slope*day for day in range(days_ahead) ]\n",
        "            y_forecast = pd.DataFrame(data=y_linreg, columns=[col], index=forecast_dates)\n",
        "            y_pred_list.append(y_forecast)\n",
        "        y_p_state_list.append(y_pred_list[-1].join(y_pred_list[-2]))\n",
        "    \n",
        "    Y_pred = pd.concat(y_p_state_list, keys=ListofStates)\n",
        "    for col_idx, col in enumerate(ListofCols):\n",
        "        Y_pred.rename(columns={col: ListofCols_pred[col_idx]}, inplace=True)\n",
        "\n",
        "    return Y_pred, ListofCols_pred"
      ],
      "id": "ZgSsXTtSw7gM",
      "execution_count": null,
      "outputs": []
    },
    {
      "cell_type": "code",
      "metadata": {
        "id": "z-zPX16cwzwr"
      },
      "source": [
        "# Plot the data for each state, comparing actual and forecasted values\n",
        "# This uses the plotly package for interactive graphs \n",
        "\n",
        "def plotStateData(df_owid, ListofStates, ListofCols, Y_pred, ListofCols_pred):\n",
        "\n",
        "    # ListofStates = ['Alabama', 'Texas', 'New York State']\n",
        "    # ListofCols = ['share_doses_used', 'people_vaccinated_per_hundred']\n",
        "\n",
        "    fig = make_subplots(rows=len(ListofCols)+1,cols=1,shared_xaxes=True)\n",
        "\n",
        "    for col_idx, col in enumerate(ListofCols):\n",
        "\n",
        "        col_pred = ListofCols_pred[col_idx]\n",
        "\n",
        "        for state in ListofStates:\n",
        "            data = go.Scatter(x=df_owid.loc[state]['datetime'], y=df_owid.loc[state][col], name=state+' '+col)\n",
        "            fig.add_trace(data, row=col_idx+1, col=1)\n",
        "\n",
        "            data_pred = go.Scatter(x=Y_pred.loc[state].index, y=Y_pred.loc[state][col_pred], name=state+' '+col_pred)\n",
        "            fig.add_trace(data_pred, row=col_idx+1, col=1)\n",
        "\n",
        "    fig.update_layout(hovermode='x')\n",
        "    fig.update_layout(\n",
        "        autosize=False,\n",
        "        width=1000,\n",
        "        height=1000,\n",
        "        margin=dict(\n",
        "            l=50,\n",
        "            r=50,\n",
        "            b=100,\n",
        "            t=100,\n",
        "            pad=4\n",
        "        ))\n",
        "    fig.update_xaxes(title_text=\"Date\", row=1, col=1)\n",
        "    fig.update_xaxes(title_text=\"Date\", row=2, col=1)\n",
        "    fig.update_yaxes(title_text=\"share_doses_used\", row=1, col=1)\n",
        "    fig.update_yaxes(title_text=\"people_vaccinated_per_hundred\", row=2, col=1)\n",
        "    fig.show()\n",
        "\n",
        "    fig_pred = fig\n",
        "\n",
        "    return fig_pred"
      ],
      "id": "z-zPX16cwzwr",
      "execution_count": null,
      "outputs": []
    },
    {
      "cell_type": "code",
      "metadata": {
        "id": "mDhewBWNE5Wb"
      },
      "source": [
        "df_owid, ListofCols = clean_df(df_owid_orig)"
      ],
      "id": "mDhewBWNE5Wb",
      "execution_count": null,
      "outputs": []
    },
    {
      "cell_type": "code",
      "metadata": {
        "colab": {
          "base_uri": "https://localhost:8080/",
          "height": 162
        },
        "id": "MA_eUCw6HGoF",
        "outputId": "d9cb388a-a1c6-4eb9-93d0-46b96ce4ffb3"
      },
      "source": [
        "ListofStates = getStateInput()"
      ],
      "id": "MA_eUCw6HGoF",
      "execution_count": null,
      "outputs": [
        {
          "output_type": "error",
          "ename": "TypeError",
          "evalue": "ignored",
          "traceback": [
            "\u001b[0;31m---------------------------------------------------------------------------\u001b[0m",
            "\u001b[0;31mTypeError\u001b[0m                                 Traceback (most recent call last)",
            "\u001b[0;32m<ipython-input-45-45f9d1546424>\u001b[0m in \u001b[0;36m<module>\u001b[0;34m()\u001b[0m\n\u001b[0;32m----> 1\u001b[0;31m \u001b[0mListofStates\u001b[0m \u001b[0;34m=\u001b[0m \u001b[0mgetStateInput\u001b[0m\u001b[0;34m(\u001b[0m\u001b[0;34m)\u001b[0m\u001b[0;34m\u001b[0m\u001b[0;34m\u001b[0m\u001b[0m\n\u001b[0m",
            "\u001b[0;31mTypeError\u001b[0m: getStateInput() missing 1 required positional argument: 'df_owid'"
          ]
        }
      ]
    },
    {
      "cell_type": "code",
      "metadata": {
        "colab": {
          "base_uri": "https://localhost:8080/"
        },
        "id": "ETf8Aj2fFDDg",
        "outputId": "d2bdd787-c280-4c8d-d280-d154b6c776e1"
      },
      "source": [
        "train_date_end, forecast_date_end, forecast_dates = getForecastDates()"
      ],
      "id": "ETf8Aj2fFDDg",
      "execution_count": null,
      "outputs": [
        {
          "output_type": "stream",
          "text": [
            "Select an end date to train the model.\n",
            "e.g. \"Based on trends up to date March 15, 2021, we can forecast the following trajectory.\"\n",
            "Please provide a date from January 18, 2021 to May 01, 2021 in the format \"Month Day, Year\": April 20, 2021\n",
            "Done. Using April 20, 2021 as end date for forecast training.\n",
            "Select an end date for forecast.\n",
            "e.g. \"We will predict the trends up to June 4, 2021.\n",
            "Please enter a date to end the forecast (\"Month Day, Year\"): April 20, 2021\n",
            "Please choose a date after the train date of April 20, 2021.\n",
            "Please enter a date to end the forecast (\"Month Day, Year\"): April 30, 2021\n",
            "Done. Selected April 30, 2021 as end date for forecast.\n"
          ],
          "name": "stdout"
        }
      ]
    },
    {
      "cell_type": "code",
      "metadata": {
        "id": "oO8TgXNzHKJN"
      },
      "source": [
        "ListofCols = ['share_doses_used', 'people_vaccinated_per_hundred']\n",
        "\n",
        "Y_pred, ListofCols_pred = forecaster(df_owid, forecast_dates, ListofStates, ListofCols)"
      ],
      "id": "oO8TgXNzHKJN",
      "execution_count": null,
      "outputs": []
    },
    {
      "cell_type": "code",
      "metadata": {
        "colab": {
          "base_uri": "https://localhost:8080/",
          "height": 1000
        },
        "id": "Hsy4md3lHR6E",
        "outputId": "b780d833-659b-4414-9ceb-e6a7625ba64d"
      },
      "source": [
        "fig = plotStateData(df_owid, ListofStates, ListofCols, Y_pred, ListofCols_pred)"
      ],
      "id": "Hsy4md3lHR6E",
      "execution_count": null,
      "outputs": [
        {
          "output_type": "display_data",
          "data": {
            "text/html": [
              "<html>\n",
              "<head><meta charset=\"utf-8\" /></head>\n",
              "<body>\n",
              "    <div>\n",
              "            <script src=\"https://cdnjs.cloudflare.com/ajax/libs/mathjax/2.7.5/MathJax.js?config=TeX-AMS-MML_SVG\"></script><script type=\"text/javascript\">if (window.MathJax) {MathJax.Hub.Config({SVG: {font: \"STIX-Web\"}});}</script>\n",
              "                <script type=\"text/javascript\">window.PlotlyConfig = {MathJaxConfig: 'local'};</script>\n",
              "        <script src=\"https://cdn.plot.ly/plotly-latest.min.js\"></script>    \n",
              "            <div id=\"0c4b3e12-c1f2-4ded-bfb4-6c374d13f7e1\" class=\"plotly-graph-div\" style=\"height:1000px; width:1000px;\"></div>\n",
              "            <script type=\"text/javascript\">\n",
              "                \n",
              "                    window.PLOTLYENV=window.PLOTLYENV || {};\n",
              "                    \n",
              "                if (document.getElementById(\"0c4b3e12-c1f2-4ded-bfb4-6c374d13f7e1\")) {\n",
              "                    Plotly.newPlot(\n",
              "                        '0c4b3e12-c1f2-4ded-bfb4-6c374d13f7e1',\n",
              "                        [{\"name\": \"Alabama share_doses_used\", \"type\": \"scatter\", \"x\": [\"2021-01-12T00:00:00\", \"2021-01-13T00:00:00\", \"2021-01-14T00:00:00\", \"2021-01-15T00:00:00\", \"2021-01-16T00:00:00\", \"2021-01-17T00:00:00\", \"2021-01-18T00:00:00\", \"2021-01-19T00:00:00\", \"2021-01-20T00:00:00\", \"2021-01-21T00:00:00\", \"2021-01-22T00:00:00\", \"2021-01-23T00:00:00\", \"2021-01-24T00:00:00\", \"2021-01-25T00:00:00\", \"2021-01-26T00:00:00\", \"2021-01-27T00:00:00\", \"2021-01-28T00:00:00\", \"2021-01-29T00:00:00\", \"2021-01-30T00:00:00\", \"2021-01-31T00:00:00\", \"2021-02-01T00:00:00\", \"2021-02-02T00:00:00\", \"2021-02-03T00:00:00\", \"2021-02-04T00:00:00\", \"2021-02-05T00:00:00\", \"2021-02-06T00:00:00\", \"2021-02-07T00:00:00\", \"2021-02-08T00:00:00\", \"2021-02-09T00:00:00\", \"2021-02-10T00:00:00\", \"2021-02-11T00:00:00\", \"2021-02-12T00:00:00\", \"2021-02-13T00:00:00\", \"2021-02-14T00:00:00\", \"2021-02-15T00:00:00\", \"2021-02-16T00:00:00\", \"2021-02-17T00:00:00\", \"2021-02-18T00:00:00\", \"2021-02-19T00:00:00\", \"2021-02-20T00:00:00\", \"2021-02-21T00:00:00\", \"2021-02-22T00:00:00\", \"2021-02-23T00:00:00\", \"2021-02-24T00:00:00\", \"2021-02-25T00:00:00\", \"2021-02-26T00:00:00\", \"2021-02-27T00:00:00\", \"2021-02-28T00:00:00\", \"2021-03-01T00:00:00\", \"2021-03-02T00:00:00\", \"2021-03-03T00:00:00\", \"2021-03-04T00:00:00\", \"2021-03-05T00:00:00\", \"2021-03-06T00:00:00\", \"2021-03-07T00:00:00\", \"2021-03-08T00:00:00\", \"2021-03-09T00:00:00\", \"2021-03-10T00:00:00\", \"2021-03-11T00:00:00\", \"2021-03-12T00:00:00\", \"2021-03-13T00:00:00\", \"2021-03-14T00:00:00\", \"2021-03-15T00:00:00\", \"2021-03-16T00:00:00\", \"2021-03-17T00:00:00\", \"2021-03-18T00:00:00\", \"2021-03-19T00:00:00\", \"2021-03-20T00:00:00\", \"2021-03-21T00:00:00\", \"2021-03-22T00:00:00\", \"2021-03-23T00:00:00\", \"2021-03-24T00:00:00\", \"2021-03-25T00:00:00\", \"2021-03-26T00:00:00\", \"2021-03-27T00:00:00\", \"2021-03-28T00:00:00\", \"2021-03-29T00:00:00\", \"2021-03-30T00:00:00\", \"2021-03-31T00:00:00\", \"2021-04-01T00:00:00\", \"2021-04-02T00:00:00\", \"2021-04-03T00:00:00\", \"2021-04-04T00:00:00\", \"2021-04-05T00:00:00\", \"2021-04-06T00:00:00\", \"2021-04-07T00:00:00\", \"2021-04-08T00:00:00\", \"2021-04-09T00:00:00\", \"2021-04-10T00:00:00\", \"2021-04-11T00:00:00\", \"2021-04-12T00:00:00\", \"2021-04-13T00:00:00\", \"2021-04-14T00:00:00\", \"2021-04-15T00:00:00\", \"2021-04-16T00:00:00\", \"2021-04-17T00:00:00\", \"2021-04-18T00:00:00\", \"2021-04-19T00:00:00\", \"2021-04-20T00:00:00\", \"2021-04-21T00:00:00\", \"2021-04-22T00:00:00\", \"2021-04-23T00:00:00\", \"2021-04-24T00:00:00\", \"2021-04-25T00:00:00\", \"2021-04-26T00:00:00\", \"2021-04-27T00:00:00\", \"2021-04-28T00:00:00\", \"2021-04-29T00:00:00\", \"2021-04-30T00:00:00\", \"2021-05-01T00:00:00\", \"2021-05-02T00:00:00\", \"2021-05-03T00:00:00\", \"2021-05-04T00:00:00\", \"2021-05-05T00:00:00\"], \"xaxis\": \"x\", \"y\": [0.207, 0.222, 0.212, 0.226, 0.226, 0.226, 0.226, 0.294, 0.28800000000000003, 0.336, 0.384, 0.425, 0.46799999999999997, 0.48100000000000004, 0.44799999999999995, 0.42, 0.426, 0.456, 0.519, 0.537, 0.5429999999999999, 0.546, 0.508, 0.511, 0.5379999999999999, 0.5660000000000001, 0.575, 0.5820000000000001, 0.596, 0.599, 0.596, 0.61, 0.624, 0.634, 0.634, 0.627, 0.63, 0.6509999999999999, 0.6859999999999999, 0.72, 0.7290000000000001, 0.733, 0.752, 0.737, 0.7390000000000001, 0.648, 0.664, 0.672, 0.6759999999999999, 0.665, 0.6809999999999999, 0.674, 0.684, 0.675, 0.682, 0.6859999999999999, 0.6759999999999999, 0.6609999999999999, 0.6659999999999999, 0.68, 0.6709999999999999, 0.677, 0.6809999999999999, 0.665, 0.655, 0.6559999999999999, 0.6659999999999999, 0.6709999999999999, 0.6759999999999999, 0.679, 0.6629999999999999, 0.642, 0.642, 0.645, 0.649, 0.654, 0.657, 0.624, 0.618, 0.624, 0.631, 0.639, 0.643, 0.645, 0.611, 0.614, 0.623, 0.622, 0.63, 0.635, 0.638, 0.633, 0.621, 0.628, 0.636, 0.622, 0.625, 0.627, 0.619, 0.622, 0.626, 0.623, 0.622, 0.624, 0.626, 0.623, 0.627, 0.633, 0.634, 0.634, 0.635, 0.636, 0.638, 0.638], \"yaxis\": \"y\"}, {\"name\": \"Alabama PREDICTED share_doses_used\", \"type\": \"scatter\", \"x\": [\"2021-04-20T00:00:00\", \"2021-04-21T00:00:00\", \"2021-04-22T00:00:00\", \"2021-04-23T00:00:00\", \"2021-04-24T00:00:00\", \"2021-04-25T00:00:00\", \"2021-04-26T00:00:00\", \"2021-04-27T00:00:00\", \"2021-04-28T00:00:00\", \"2021-04-29T00:00:00\", \"2021-04-30T00:00:00\"], \"xaxis\": \"x\", \"y\": [0.619, 0.6197934065934065, 0.6205868131868132, 0.6213802197802197, 0.6221736263736264, 0.6229670329670329, 0.6237604395604396, 0.6245538461538461, 0.6253472527472528, 0.6261406593406593, 0.626934065934066], \"yaxis\": \"y\"}, {\"name\": \"Texas share_doses_used\", \"type\": \"scatter\", \"x\": [\"2021-01-12T00:00:00\", \"2021-01-13T00:00:00\", \"2021-01-14T00:00:00\", \"2021-01-15T00:00:00\", \"2021-01-16T00:00:00\", \"2021-01-17T00:00:00\", \"2021-01-18T00:00:00\", \"2021-01-19T00:00:00\", \"2021-01-20T00:00:00\", \"2021-01-21T00:00:00\", \"2021-01-22T00:00:00\", \"2021-01-23T00:00:00\", \"2021-01-24T00:00:00\", \"2021-01-25T00:00:00\", \"2021-01-26T00:00:00\", \"2021-01-27T00:00:00\", \"2021-01-28T00:00:00\", \"2021-01-29T00:00:00\", \"2021-01-30T00:00:00\", \"2021-01-31T00:00:00\", \"2021-02-01T00:00:00\", \"2021-02-02T00:00:00\", \"2021-02-03T00:00:00\", \"2021-02-04T00:00:00\", \"2021-02-05T00:00:00\", \"2021-02-06T00:00:00\", \"2021-02-07T00:00:00\", \"2021-02-08T00:00:00\", \"2021-02-09T00:00:00\", \"2021-02-10T00:00:00\", \"2021-02-11T00:00:00\", \"2021-02-12T00:00:00\", \"2021-02-13T00:00:00\", \"2021-02-14T00:00:00\", \"2021-02-15T00:00:00\", \"2021-02-16T00:00:00\", \"2021-02-17T00:00:00\", \"2021-02-18T00:00:00\", \"2021-02-19T00:00:00\", \"2021-02-20T00:00:00\", \"2021-02-21T00:00:00\", \"2021-02-22T00:00:00\", \"2021-02-23T00:00:00\", \"2021-02-24T00:00:00\", \"2021-02-25T00:00:00\", \"2021-02-26T00:00:00\", \"2021-02-27T00:00:00\", \"2021-02-28T00:00:00\", \"2021-03-01T00:00:00\", \"2021-03-02T00:00:00\", \"2021-03-03T00:00:00\", \"2021-03-04T00:00:00\", \"2021-03-05T00:00:00\", \"2021-03-06T00:00:00\", \"2021-03-07T00:00:00\", \"2021-03-08T00:00:00\", \"2021-03-09T00:00:00\", \"2021-03-10T00:00:00\", \"2021-03-11T00:00:00\", \"2021-03-12T00:00:00\", \"2021-03-13T00:00:00\", \"2021-03-14T00:00:00\", \"2021-03-15T00:00:00\", \"2021-03-16T00:00:00\", \"2021-03-17T00:00:00\", \"2021-03-18T00:00:00\", \"2021-03-19T00:00:00\", \"2021-03-20T00:00:00\", \"2021-03-21T00:00:00\", \"2021-03-22T00:00:00\", \"2021-03-23T00:00:00\", \"2021-03-24T00:00:00\", \"2021-03-25T00:00:00\", \"2021-03-26T00:00:00\", \"2021-03-27T00:00:00\", \"2021-03-28T00:00:00\", \"2021-03-29T00:00:00\", \"2021-03-30T00:00:00\", \"2021-03-31T00:00:00\", \"2021-04-01T00:00:00\", \"2021-04-02T00:00:00\", \"2021-04-03T00:00:00\", \"2021-04-04T00:00:00\", \"2021-04-05T00:00:00\", \"2021-04-06T00:00:00\", \"2021-04-07T00:00:00\", \"2021-04-08T00:00:00\", \"2021-04-09T00:00:00\", \"2021-04-10T00:00:00\", \"2021-04-11T00:00:00\", \"2021-04-12T00:00:00\", \"2021-04-13T00:00:00\", \"2021-04-14T00:00:00\", \"2021-04-15T00:00:00\", \"2021-04-16T00:00:00\", \"2021-04-17T00:00:00\", \"2021-04-18T00:00:00\", \"2021-04-19T00:00:00\", \"2021-04-20T00:00:00\", \"2021-04-21T00:00:00\", \"2021-04-22T00:00:00\", \"2021-04-23T00:00:00\", \"2021-04-24T00:00:00\", \"2021-04-25T00:00:00\", \"2021-04-26T00:00:00\", \"2021-04-27T00:00:00\", \"2021-04-28T00:00:00\", \"2021-04-29T00:00:00\", \"2021-04-30T00:00:00\", \"2021-05-01T00:00:00\", \"2021-05-02T00:00:00\", \"2021-05-03T00:00:00\", \"2021-05-04T00:00:00\", \"2021-05-05T00:00:00\"], \"xaxis\": \"x\", \"y\": [0.46799999999999997, 0.493, 0.496, 0.551, 0.551, 0.551, 0.551, 0.667, 0.5770000000000001, 0.561, 0.57, 0.563, 0.574, 0.5870000000000001, 0.574, 0.563, 0.6, 0.607, 0.64, 0.6579999999999999, 0.682, 0.61, 0.629, 0.6629999999999999, 0.691, 0.706, 0.737, 0.755, 0.748, 0.7120000000000001, 0.728, 0.76, 0.7859999999999999, 0.8109999999999999, 0.8109999999999999, 0.8320000000000001, 0.843, 0.8240000000000001, 0.823, 0.8240000000000001, 0.8270000000000001, 0.833, 0.78, 0.685, 0.6920000000000001, 0.711, 0.708, 0.731, 0.732, 0.723, 0.711, 0.722, 0.7190000000000001, 0.738, 0.75, 0.764, 0.753, 0.716, 0.725, 0.735, 0.753, 0.768, 0.779, 0.762, 0.733, 0.7390000000000001, 0.7340000000000001, 0.747, 0.762, 0.772, 0.747, 0.703, 0.7140000000000001, 0.7120000000000001, 0.73, 0.746, 0.759, 0.748, 0.721, 0.732, 0.7340000000000001, 0.746, 0.7609999999999999, 0.7759999999999999, 0.7609999999999999, 0.732, 0.74, 0.7490000000000001, 0.76, 0.775, 0.785, 0.7759999999999999, 0.755, 0.764, 0.7709999999999999, 0.765, 0.7709999999999999, 0.7809999999999999, 0.7709999999999999, 0.741, 0.746, 0.7490000000000001, 0.75, 0.758, 0.763, 0.757, 0.736, 0.742, 0.743, 0.748, 0.753, 0.7559999999999999, 0.7440000000000001, 0.7240000000000001], \"yaxis\": \"y\"}, {\"name\": \"Texas PREDICTED share_doses_used\", \"type\": \"scatter\", \"x\": [\"2021-04-20T00:00:00\", \"2021-04-21T00:00:00\", \"2021-04-22T00:00:00\", \"2021-04-23T00:00:00\", \"2021-04-24T00:00:00\", \"2021-04-25T00:00:00\", \"2021-04-26T00:00:00\", \"2021-04-27T00:00:00\", \"2021-04-28T00:00:00\", \"2021-04-29T00:00:00\", \"2021-04-30T00:00:00\"], \"xaxis\": \"x\", \"y\": [0.7709999999999999, 0.7732395604395603, 0.7754791208791207, 0.7777186813186812, 0.7799582417582417, 0.7821978021978021, 0.7844373626373625, 0.7866769230769229, 0.7889164835164834, 0.7911560439560438, 0.7933956043956043], \"yaxis\": \"y\"}, {\"name\": \"New York State share_doses_used\", \"type\": \"scatter\", \"x\": [\"2021-01-12T00:00:00\", \"2021-01-13T00:00:00\", \"2021-01-14T00:00:00\", \"2021-01-15T00:00:00\", \"2021-01-16T00:00:00\", \"2021-01-17T00:00:00\", \"2021-01-18T00:00:00\", \"2021-01-19T00:00:00\", \"2021-01-20T00:00:00\", \"2021-01-21T00:00:00\", \"2021-01-22T00:00:00\", \"2021-01-23T00:00:00\", \"2021-01-24T00:00:00\", \"2021-01-25T00:00:00\", \"2021-01-26T00:00:00\", \"2021-01-27T00:00:00\", \"2021-01-28T00:00:00\", \"2021-01-29T00:00:00\", \"2021-01-30T00:00:00\", \"2021-01-31T00:00:00\", \"2021-02-01T00:00:00\", \"2021-02-02T00:00:00\", \"2021-02-03T00:00:00\", \"2021-02-04T00:00:00\", \"2021-02-05T00:00:00\", \"2021-02-06T00:00:00\", \"2021-02-07T00:00:00\", \"2021-02-08T00:00:00\", \"2021-02-09T00:00:00\", \"2021-02-10T00:00:00\", \"2021-02-11T00:00:00\", \"2021-02-12T00:00:00\", \"2021-02-13T00:00:00\", \"2021-02-14T00:00:00\", \"2021-02-15T00:00:00\", \"2021-02-16T00:00:00\", \"2021-02-17T00:00:00\", \"2021-02-18T00:00:00\", \"2021-02-19T00:00:00\", \"2021-02-20T00:00:00\", \"2021-02-21T00:00:00\", \"2021-02-22T00:00:00\", \"2021-02-23T00:00:00\", \"2021-02-24T00:00:00\", \"2021-02-25T00:00:00\", \"2021-02-26T00:00:00\", \"2021-02-27T00:00:00\", \"2021-02-28T00:00:00\", \"2021-03-01T00:00:00\", \"2021-03-02T00:00:00\", \"2021-03-03T00:00:00\", \"2021-03-04T00:00:00\", \"2021-03-05T00:00:00\", \"2021-03-06T00:00:00\", \"2021-03-07T00:00:00\", \"2021-03-08T00:00:00\", \"2021-03-09T00:00:00\", \"2021-03-10T00:00:00\", \"2021-03-11T00:00:00\", \"2021-03-12T00:00:00\", \"2021-03-13T00:00:00\", \"2021-03-14T00:00:00\", \"2021-03-15T00:00:00\", \"2021-03-16T00:00:00\", \"2021-03-17T00:00:00\", \"2021-03-18T00:00:00\", \"2021-03-19T00:00:00\", \"2021-03-20T00:00:00\", \"2021-03-21T00:00:00\", \"2021-03-22T00:00:00\", \"2021-03-23T00:00:00\", \"2021-03-24T00:00:00\", \"2021-03-25T00:00:00\", \"2021-03-26T00:00:00\", \"2021-03-27T00:00:00\", \"2021-03-28T00:00:00\", \"2021-03-29T00:00:00\", \"2021-03-30T00:00:00\", \"2021-03-31T00:00:00\", \"2021-04-01T00:00:00\", \"2021-04-02T00:00:00\", \"2021-04-03T00:00:00\", \"2021-04-04T00:00:00\", \"2021-04-05T00:00:00\", \"2021-04-06T00:00:00\", \"2021-04-07T00:00:00\", \"2021-04-08T00:00:00\", \"2021-04-09T00:00:00\", \"2021-04-10T00:00:00\", \"2021-04-11T00:00:00\", \"2021-04-12T00:00:00\", \"2021-04-13T00:00:00\", \"2021-04-14T00:00:00\", \"2021-04-15T00:00:00\", \"2021-04-16T00:00:00\", \"2021-04-17T00:00:00\", \"2021-04-18T00:00:00\", \"2021-04-19T00:00:00\", \"2021-04-20T00:00:00\", \"2021-04-21T00:00:00\", \"2021-04-22T00:00:00\", \"2021-04-23T00:00:00\", \"2021-04-24T00:00:00\", \"2021-04-25T00:00:00\", \"2021-04-26T00:00:00\", \"2021-04-27T00:00:00\", \"2021-04-28T00:00:00\", \"2021-04-29T00:00:00\", \"2021-04-30T00:00:00\", \"2021-05-01T00:00:00\", \"2021-05-02T00:00:00\", \"2021-05-03T00:00:00\", \"2021-05-04T00:00:00\", \"2021-05-05T00:00:00\"], \"xaxis\": \"x\", \"y\": [0.35700000000000004, 0.35200000000000004, 0.368, 0.402, 0.402, 0.402, 0.402, 0.531, 0.509, 0.504, 0.509, 0.535, 0.57, 0.5920000000000001, 0.605, 0.5529999999999999, 0.58, 0.603, 0.611, 0.639, 0.657, 0.6579999999999999, 0.618, 0.61, 0.631, 0.659, 0.6920000000000001, 0.716, 0.7120000000000001, 0.68, 0.682, 0.701, 0.716, 0.737, 0.737, 0.779, 0.7909999999999999, 0.809, 0.828, 0.8490000000000001, 0.868, 0.89, 0.78, 0.7140000000000001, 0.703, 0.703, 0.705, 0.7340000000000001, 0.757, 0.7509999999999999, 0.715, 0.721, 0.71, 0.7190000000000001, 0.747, 0.773, 0.773, 0.7390000000000001, 0.74, 0.7490000000000001, 0.764, 0.764, 0.782, 0.763, 0.7509999999999999, 0.741, 0.75, 0.75, 0.769, 0.785, 0.7709999999999999, 0.767, 0.753, 0.757, 0.759, 0.779, 0.7979999999999999, 0.778, 0.777, 0.7709999999999999, 0.7959999999999999, 0.8079999999999999, 0.8270000000000001, 0.8370000000000001, 0.805, 0.8079999999999999, 0.809, 0.813, 0.8170000000000001, 0.8340000000000001, 0.847, 0.835, 0.8340000000000001, 0.8270000000000001, 0.8340000000000001, 0.825, 0.841, 0.85, 0.8490000000000001, 0.836, 0.8340000000000001, 0.8320000000000001, 0.8270000000000001, 0.836, 0.843, 0.8420000000000001, 0.833, 0.83, 0.8340000000000001, 0.8340000000000001, 0.84, 0.845, 0.836, 0.8370000000000001], \"yaxis\": \"y\"}, {\"name\": \"New York State PREDICTED share_doses_used\", \"type\": \"scatter\", \"x\": [\"2021-04-20T00:00:00\", \"2021-04-21T00:00:00\", \"2021-04-22T00:00:00\", \"2021-04-23T00:00:00\", \"2021-04-24T00:00:00\", \"2021-04-25T00:00:00\", \"2021-04-26T00:00:00\", \"2021-04-27T00:00:00\", \"2021-04-28T00:00:00\", \"2021-04-29T00:00:00\", \"2021-04-30T00:00:00\"], \"xaxis\": \"x\", \"y\": [0.8490000000000001, 0.8518065934065935, 0.8546131868131869, 0.8574197802197803, 0.8602263736263737, 0.8630329670329671, 0.8658395604395606, 0.868646153846154, 0.8714527472527474, 0.8742593406593407, 0.8770659340659341], \"yaxis\": \"y\"}, {\"name\": \"Alabama people_vaccinated_per_hundred\", \"type\": \"scatter\", \"x\": [\"2021-01-12T00:00:00\", \"2021-01-13T00:00:00\", \"2021-01-14T00:00:00\", \"2021-01-15T00:00:00\", \"2021-01-16T00:00:00\", \"2021-01-17T00:00:00\", \"2021-01-18T00:00:00\", \"2021-01-19T00:00:00\", \"2021-01-20T00:00:00\", \"2021-01-21T00:00:00\", \"2021-01-22T00:00:00\", \"2021-01-23T00:00:00\", \"2021-01-24T00:00:00\", \"2021-01-25T00:00:00\", \"2021-01-26T00:00:00\", \"2021-01-27T00:00:00\", \"2021-01-28T00:00:00\", \"2021-01-29T00:00:00\", \"2021-01-30T00:00:00\", \"2021-01-31T00:00:00\", \"2021-02-01T00:00:00\", \"2021-02-02T00:00:00\", \"2021-02-03T00:00:00\", \"2021-02-04T00:00:00\", \"2021-02-05T00:00:00\", \"2021-02-06T00:00:00\", \"2021-02-07T00:00:00\", \"2021-02-08T00:00:00\", \"2021-02-09T00:00:00\", \"2021-02-10T00:00:00\", \"2021-02-11T00:00:00\", \"2021-02-12T00:00:00\", \"2021-02-13T00:00:00\", \"2021-02-14T00:00:00\", \"2021-02-15T00:00:00\", \"2021-02-16T00:00:00\", \"2021-02-17T00:00:00\", \"2021-02-18T00:00:00\", \"2021-02-19T00:00:00\", \"2021-02-20T00:00:00\", \"2021-02-21T00:00:00\", \"2021-02-22T00:00:00\", \"2021-02-23T00:00:00\", \"2021-02-24T00:00:00\", \"2021-02-25T00:00:00\", \"2021-02-26T00:00:00\", \"2021-02-27T00:00:00\", \"2021-02-28T00:00:00\", \"2021-03-01T00:00:00\", \"2021-03-02T00:00:00\", \"2021-03-03T00:00:00\", \"2021-03-04T00:00:00\", \"2021-03-05T00:00:00\", \"2021-03-06T00:00:00\", \"2021-03-07T00:00:00\", \"2021-03-08T00:00:00\", \"2021-03-09T00:00:00\", \"2021-03-10T00:00:00\", \"2021-03-11T00:00:00\", \"2021-03-12T00:00:00\", \"2021-03-13T00:00:00\", \"2021-03-14T00:00:00\", \"2021-03-15T00:00:00\", \"2021-03-16T00:00:00\", \"2021-03-17T00:00:00\", \"2021-03-18T00:00:00\", \"2021-03-19T00:00:00\", \"2021-03-20T00:00:00\", \"2021-03-21T00:00:00\", \"2021-03-22T00:00:00\", \"2021-03-23T00:00:00\", \"2021-03-24T00:00:00\", \"2021-03-25T00:00:00\", \"2021-03-26T00:00:00\", \"2021-03-27T00:00:00\", \"2021-03-28T00:00:00\", \"2021-03-29T00:00:00\", \"2021-03-30T00:00:00\", \"2021-03-31T00:00:00\", \"2021-04-01T00:00:00\", \"2021-04-02T00:00:00\", \"2021-04-03T00:00:00\", \"2021-04-04T00:00:00\", \"2021-04-05T00:00:00\", \"2021-04-06T00:00:00\", \"2021-04-07T00:00:00\", \"2021-04-08T00:00:00\", \"2021-04-09T00:00:00\", \"2021-04-10T00:00:00\", \"2021-04-11T00:00:00\", \"2021-04-12T00:00:00\", \"2021-04-13T00:00:00\", \"2021-04-14T00:00:00\", \"2021-04-15T00:00:00\", \"2021-04-16T00:00:00\", \"2021-04-17T00:00:00\", \"2021-04-18T00:00:00\", \"2021-04-19T00:00:00\", \"2021-04-20T00:00:00\", \"2021-04-21T00:00:00\", \"2021-04-22T00:00:00\", \"2021-04-23T00:00:00\", \"2021-04-24T00:00:00\", \"2021-04-25T00:00:00\", \"2021-04-26T00:00:00\", \"2021-04-27T00:00:00\", \"2021-04-28T00:00:00\", \"2021-04-29T00:00:00\", \"2021-04-30T00:00:00\", \"2021-05-01T00:00:00\", \"2021-05-02T00:00:00\", \"2021-05-03T00:00:00\", \"2021-05-04T00:00:00\", \"2021-05-05T00:00:00\"], \"xaxis\": \"x2\", \"y\": [1.45, 1.53, 1.64, 1.77, 1.77, 1.77, 1.77, 2.33, 2.47, 2.95, 3.56, 3.96, 4.36, 4.5, 4.57, 4.74, 4.92, 5.23, 5.88, 6.08, 6.15, 6.38, 6.63, 6.91, 7.21, 7.55, 7.66, 7.72, 8.06, 8.41, 8.8, 9.14, 9.53, 9.67, 9.67, 9.92, 10.08, 10.31, 11.12, 11.44, 11.57, 11.91, 12.11, 12.33, 12.54, 12.79, 13.12, 13.25, 13.32, 13.53, 13.76, 14.05, 14.36, 14.71, 14.84, 14.95, 15.24, 15.67, 16.13, 16.65, 17.16, 17.32, 17.42, 17.77, 18.23, 18.61, 19.12, 19.59, 19.75, 19.84, 20.28, 20.8, 21.39, 21.88, 22.41, 22.6, 22.72, 23.14, 23.56, 24.15, 24.71, 25.17, 25.34, 25.45, 25.86, 26.34, 26.88, 27.42, 27.97, 28.21, 28.34, 28.71, 29.09, 29.41, 29.76, 30.11, 30.21, 30.26, 30.48, 30.74, 30.98, 31.24, 31.48, 31.54, 31.61, 31.79, 31.99, 32.21, 32.42, 32.61, 32.66, 32.7, 32.83, 33.02], \"yaxis\": \"y2\"}, {\"name\": \"Alabama PREDICTED people_vaccinated_per_hundred\", \"type\": \"scatter\", \"x\": [\"2021-04-20T00:00:00\", \"2021-04-21T00:00:00\", \"2021-04-22T00:00:00\", \"2021-04-23T00:00:00\", \"2021-04-24T00:00:00\", \"2021-04-25T00:00:00\", \"2021-04-26T00:00:00\", \"2021-04-27T00:00:00\", \"2021-04-28T00:00:00\", \"2021-04-29T00:00:00\", \"2021-04-30T00:00:00\"], \"xaxis\": \"x2\", \"y\": [30.48, 30.821604395604396, 31.163208791208792, 31.504813186813188, 31.846417582417583, 32.18802197802198, 32.52962637362637, 32.87123076923077, 33.21283516483516, 33.55443956043956, 33.896043956043954], \"yaxis\": \"y2\"}, {\"name\": \"Texas people_vaccinated_per_hundred\", \"type\": \"scatter\", \"x\": [\"2021-01-12T00:00:00\", \"2021-01-13T00:00:00\", \"2021-01-14T00:00:00\", \"2021-01-15T00:00:00\", \"2021-01-16T00:00:00\", \"2021-01-17T00:00:00\", \"2021-01-18T00:00:00\", \"2021-01-19T00:00:00\", \"2021-01-20T00:00:00\", \"2021-01-21T00:00:00\", \"2021-01-22T00:00:00\", \"2021-01-23T00:00:00\", \"2021-01-24T00:00:00\", \"2021-01-25T00:00:00\", \"2021-01-26T00:00:00\", \"2021-01-27T00:00:00\", \"2021-01-28T00:00:00\", \"2021-01-29T00:00:00\", \"2021-01-30T00:00:00\", \"2021-01-31T00:00:00\", \"2021-02-01T00:00:00\", \"2021-02-02T00:00:00\", \"2021-02-03T00:00:00\", \"2021-02-04T00:00:00\", \"2021-02-05T00:00:00\", \"2021-02-06T00:00:00\", \"2021-02-07T00:00:00\", \"2021-02-08T00:00:00\", \"2021-02-09T00:00:00\", \"2021-02-10T00:00:00\", \"2021-02-11T00:00:00\", \"2021-02-12T00:00:00\", \"2021-02-13T00:00:00\", \"2021-02-14T00:00:00\", \"2021-02-15T00:00:00\", \"2021-02-16T00:00:00\", \"2021-02-17T00:00:00\", \"2021-02-18T00:00:00\", \"2021-02-19T00:00:00\", \"2021-02-20T00:00:00\", \"2021-02-21T00:00:00\", \"2021-02-22T00:00:00\", \"2021-02-23T00:00:00\", \"2021-02-24T00:00:00\", \"2021-02-25T00:00:00\", \"2021-02-26T00:00:00\", \"2021-02-27T00:00:00\", \"2021-02-28T00:00:00\", \"2021-03-01T00:00:00\", \"2021-03-02T00:00:00\", \"2021-03-03T00:00:00\", \"2021-03-04T00:00:00\", \"2021-03-05T00:00:00\", \"2021-03-06T00:00:00\", \"2021-03-07T00:00:00\", \"2021-03-08T00:00:00\", \"2021-03-09T00:00:00\", \"2021-03-10T00:00:00\", \"2021-03-11T00:00:00\", \"2021-03-12T00:00:00\", \"2021-03-13T00:00:00\", \"2021-03-14T00:00:00\", \"2021-03-15T00:00:00\", \"2021-03-16T00:00:00\", \"2021-03-17T00:00:00\", \"2021-03-18T00:00:00\", \"2021-03-19T00:00:00\", \"2021-03-20T00:00:00\", \"2021-03-21T00:00:00\", \"2021-03-22T00:00:00\", \"2021-03-23T00:00:00\", \"2021-03-24T00:00:00\", \"2021-03-25T00:00:00\", \"2021-03-26T00:00:00\", \"2021-03-27T00:00:00\", \"2021-03-28T00:00:00\", \"2021-03-29T00:00:00\", \"2021-03-30T00:00:00\", \"2021-03-31T00:00:00\", \"2021-04-01T00:00:00\", \"2021-04-02T00:00:00\", \"2021-04-03T00:00:00\", \"2021-04-04T00:00:00\", \"2021-04-05T00:00:00\", \"2021-04-06T00:00:00\", \"2021-04-07T00:00:00\", \"2021-04-08T00:00:00\", \"2021-04-09T00:00:00\", \"2021-04-10T00:00:00\", \"2021-04-11T00:00:00\", \"2021-04-12T00:00:00\", \"2021-04-13T00:00:00\", \"2021-04-14T00:00:00\", \"2021-04-15T00:00:00\", \"2021-04-16T00:00:00\", \"2021-04-17T00:00:00\", \"2021-04-18T00:00:00\", \"2021-04-19T00:00:00\", \"2021-04-20T00:00:00\", \"2021-04-21T00:00:00\", \"2021-04-22T00:00:00\", \"2021-04-23T00:00:00\", \"2021-04-24T00:00:00\", \"2021-04-25T00:00:00\", \"2021-04-26T00:00:00\", \"2021-04-27T00:00:00\", \"2021-04-28T00:00:00\", \"2021-04-29T00:00:00\", \"2021-04-30T00:00:00\", \"2021-05-01T00:00:00\", \"2021-05-02T00:00:00\", \"2021-05-03T00:00:00\", \"2021-05-04T00:00:00\", \"2021-05-05T00:00:00\"], \"xaxis\": \"x2\", \"y\": [2.79, 2.97, 3.16, 3.46, 3.46, 3.46, 3.46, 4.22, 4.42, 4.61, 4.87, 5.09, 5.18, 5.28, 5.57, 5.69, 5.97, 6.22, 6.51, 6.65, 6.87, 6.87, 7.2, 7.52, 7.79, 8.18, 8.5, 8.67, 8.93, 9.22, 9.47, 9.78, 10.01, 10.24, 10.24, 10.48, 10.55, 10.59, 11.06, 11.18, 11.27, 11.38, 11.48, 11.67, 11.4, 11.66, 11.88, 12.18, 12.18, 12.88, 13.28, 13.64, 14.13, 14.65, 14.88, 15.2, 15.78, 16.35, 16.88, 17.59, 18.25, 18.68, 19.0, 19.32, 19.83, 20.39, 20.87, 21.37, 21.8, 22.04, 22.3, 22.26, 22.91, 23.52, 24.04, 24.48, 24.87, 25.3, 25.79, 26.38, 27.02, 27.48, 27.94, 28.46, 28.87, 29.32, 29.86, 30.64, 31.53, 32.05, 32.42, 32.84, 33.35, 33.84, 34.29, 34.76, 34.99, 35.33, 35.53, 35.83, 36.13, 36.45, 36.79, 37.07, 37.24, 37.42, 37.65, 37.93, 38.26, 38.5, 38.62, 38.72, 38.81, 38.99], \"yaxis\": \"y2\"}, {\"name\": \"Texas PREDICTED people_vaccinated_per_hundred\", \"type\": \"scatter\", \"x\": [\"2021-04-20T00:00:00\", \"2021-04-21T00:00:00\", \"2021-04-22T00:00:00\", \"2021-04-23T00:00:00\", \"2021-04-24T00:00:00\", \"2021-04-25T00:00:00\", \"2021-04-26T00:00:00\", \"2021-04-27T00:00:00\", \"2021-04-28T00:00:00\", \"2021-04-29T00:00:00\", \"2021-04-30T00:00:00\"], \"xaxis\": \"x2\", \"y\": [35.53, 36.0396043956044, 36.54920879120879, 37.05881318681319, 37.56841758241758, 38.07802197802198, 38.58762637362638, 39.09723076923077, 39.60683516483517, 40.11643956043956, 40.62604395604396], \"yaxis\": \"y2\"}, {\"name\": \"New York State people_vaccinated_per_hundred\", \"type\": \"scatter\", \"x\": [\"2021-01-12T00:00:00\", \"2021-01-13T00:00:00\", \"2021-01-14T00:00:00\", \"2021-01-15T00:00:00\", \"2021-01-16T00:00:00\", \"2021-01-17T00:00:00\", \"2021-01-18T00:00:00\", \"2021-01-19T00:00:00\", \"2021-01-20T00:00:00\", \"2021-01-21T00:00:00\", \"2021-01-22T00:00:00\", \"2021-01-23T00:00:00\", \"2021-01-24T00:00:00\", \"2021-01-25T00:00:00\", \"2021-01-26T00:00:00\", \"2021-01-27T00:00:00\", \"2021-01-28T00:00:00\", \"2021-01-29T00:00:00\", \"2021-01-30T00:00:00\", \"2021-01-31T00:00:00\", \"2021-02-01T00:00:00\", \"2021-02-02T00:00:00\", \"2021-02-03T00:00:00\", \"2021-02-04T00:00:00\", \"2021-02-05T00:00:00\", \"2021-02-06T00:00:00\", \"2021-02-07T00:00:00\", \"2021-02-08T00:00:00\", \"2021-02-09T00:00:00\", \"2021-02-10T00:00:00\", \"2021-02-11T00:00:00\", \"2021-02-12T00:00:00\", \"2021-02-13T00:00:00\", \"2021-02-14T00:00:00\", \"2021-02-15T00:00:00\", \"2021-02-16T00:00:00\", \"2021-02-17T00:00:00\", \"2021-02-18T00:00:00\", \"2021-02-19T00:00:00\", \"2021-02-20T00:00:00\", \"2021-02-21T00:00:00\", \"2021-02-22T00:00:00\", \"2021-02-23T00:00:00\", \"2021-02-24T00:00:00\", \"2021-02-25T00:00:00\", \"2021-02-26T00:00:00\", \"2021-02-27T00:00:00\", \"2021-02-28T00:00:00\", \"2021-03-01T00:00:00\", \"2021-03-02T00:00:00\", \"2021-03-03T00:00:00\", \"2021-03-04T00:00:00\", \"2021-03-05T00:00:00\", \"2021-03-06T00:00:00\", \"2021-03-07T00:00:00\", \"2021-03-08T00:00:00\", \"2021-03-09T00:00:00\", \"2021-03-10T00:00:00\", \"2021-03-11T00:00:00\", \"2021-03-12T00:00:00\", \"2021-03-13T00:00:00\", \"2021-03-14T00:00:00\", \"2021-03-15T00:00:00\", \"2021-03-16T00:00:00\", \"2021-03-17T00:00:00\", \"2021-03-18T00:00:00\", \"2021-03-19T00:00:00\", \"2021-03-20T00:00:00\", \"2021-03-21T00:00:00\", \"2021-03-22T00:00:00\", \"2021-03-23T00:00:00\", \"2021-03-24T00:00:00\", \"2021-03-25T00:00:00\", \"2021-03-26T00:00:00\", \"2021-03-27T00:00:00\", \"2021-03-28T00:00:00\", \"2021-03-29T00:00:00\", \"2021-03-30T00:00:00\", \"2021-03-31T00:00:00\", \"2021-04-01T00:00:00\", \"2021-04-02T00:00:00\", \"2021-04-03T00:00:00\", \"2021-04-04T00:00:00\", \"2021-04-05T00:00:00\", \"2021-04-06T00:00:00\", \"2021-04-07T00:00:00\", \"2021-04-08T00:00:00\", \"2021-04-09T00:00:00\", \"2021-04-10T00:00:00\", \"2021-04-11T00:00:00\", \"2021-04-12T00:00:00\", \"2021-04-13T00:00:00\", \"2021-04-14T00:00:00\", \"2021-04-15T00:00:00\", \"2021-04-16T00:00:00\", \"2021-04-17T00:00:00\", \"2021-04-18T00:00:00\", \"2021-04-19T00:00:00\", \"2021-04-20T00:00:00\", \"2021-04-21T00:00:00\", \"2021-04-22T00:00:00\", \"2021-04-23T00:00:00\", \"2021-04-24T00:00:00\", \"2021-04-25T00:00:00\", \"2021-04-26T00:00:00\", \"2021-04-27T00:00:00\", \"2021-04-28T00:00:00\", \"2021-04-29T00:00:00\", \"2021-04-30T00:00:00\", \"2021-05-01T00:00:00\", \"2021-05-02T00:00:00\", \"2021-05-03T00:00:00\", \"2021-05-04T00:00:00\", \"2021-05-05T00:00:00\"], \"xaxis\": \"x2\", \"y\": [2.79, 3.02, 3.17, 3.45, 3.45, 3.45, 3.45, 4.55, 4.76, 5.05, 5.39, 5.69, 6.03, 6.25, 6.4, 6.61, 6.79, 6.99, 7.29, 7.58, 7.77, 7.92, 8.03, 8.1, 8.28, 8.54, 8.85, 9.09, 9.23, 9.43, 9.61, 9.81, 10.07, 10.32, 10.32, 10.81, 11.0, 11.19, 11.8, 12.0, 12.18, 12.34, 12.47, 12.59, 12.76, 12.98, 13.31, 13.83, 14.28, 14.81, 15.21, 15.69, 16.22, 16.93, 17.68, 18.35, 18.77, 19.44, 20.01, 20.61, 21.72, 21.73, 22.22, 22.64, 23.07, 23.64, 24.19, 24.91, 25.6, 26.13, 26.7, 27.19, 27.65, 28.32, 29.06, 29.62, 30.13, 30.51, 31.11, 31.41, 32.31, 33.37, 34.05, 34.4, 34.74, 35.48, 36.16, 37.01, 37.93, 38.69, 39.23, 39.8, 40.39, 40.96, 41.54, 42.07, 42.78, 43.17, 43.57, 43.96, 44.39, 44.85, 45.3, 45.68, 45.95, 46.21, 46.6, 47.14, 47.59, 48.04, 48.29, 48.44, 48.63, 48.94], \"yaxis\": \"y2\"}, {\"name\": \"New York State PREDICTED people_vaccinated_per_hundred\", \"type\": \"scatter\", \"x\": [\"2021-04-20T00:00:00\", \"2021-04-21T00:00:00\", \"2021-04-22T00:00:00\", \"2021-04-23T00:00:00\", \"2021-04-24T00:00:00\", \"2021-04-25T00:00:00\", \"2021-04-26T00:00:00\", \"2021-04-27T00:00:00\", \"2021-04-28T00:00:00\", \"2021-04-29T00:00:00\", \"2021-04-30T00:00:00\"], \"xaxis\": \"x2\", \"y\": [43.57, 44.219692307692306, 44.86938461538462, 45.51907692307692, 46.16876923076923, 46.81846153846154, 47.46815384615385, 48.11784615384616, 48.767538461538464, 49.41723076923077, 50.06692307692308], \"yaxis\": \"y2\"}],\n",
              "                        {\"autosize\": false, \"height\": 1000, \"hovermode\": \"x\", \"margin\": {\"b\": 100, \"l\": 50, \"pad\": 4, \"r\": 50, \"t\": 100}, \"template\": {\"data\": {\"bar\": [{\"error_x\": {\"color\": \"#2a3f5f\"}, \"error_y\": {\"color\": \"#2a3f5f\"}, \"marker\": {\"line\": {\"color\": \"#E5ECF6\", \"width\": 0.5}}, \"type\": \"bar\"}], \"barpolar\": [{\"marker\": {\"line\": {\"color\": \"#E5ECF6\", \"width\": 0.5}}, \"type\": \"barpolar\"}], \"carpet\": [{\"aaxis\": {\"endlinecolor\": \"#2a3f5f\", \"gridcolor\": \"white\", \"linecolor\": \"white\", \"minorgridcolor\": \"white\", \"startlinecolor\": \"#2a3f5f\"}, \"baxis\": {\"endlinecolor\": \"#2a3f5f\", \"gridcolor\": \"white\", \"linecolor\": \"white\", \"minorgridcolor\": \"white\", \"startlinecolor\": \"#2a3f5f\"}, \"type\": \"carpet\"}], \"choropleth\": [{\"colorbar\": {\"outlinewidth\": 0, \"ticks\": \"\"}, \"type\": \"choropleth\"}], \"contour\": [{\"colorbar\": {\"outlinewidth\": 0, \"ticks\": \"\"}, \"colorscale\": [[0.0, \"#0d0887\"], [0.1111111111111111, \"#46039f\"], [0.2222222222222222, \"#7201a8\"], [0.3333333333333333, \"#9c179e\"], [0.4444444444444444, \"#bd3786\"], [0.5555555555555556, \"#d8576b\"], [0.6666666666666666, \"#ed7953\"], [0.7777777777777778, \"#fb9f3a\"], [0.8888888888888888, \"#fdca26\"], [1.0, \"#f0f921\"]], \"type\": \"contour\"}], \"contourcarpet\": [{\"colorbar\": {\"outlinewidth\": 0, \"ticks\": \"\"}, \"type\": \"contourcarpet\"}], \"heatmap\": [{\"colorbar\": {\"outlinewidth\": 0, \"ticks\": \"\"}, \"colorscale\": [[0.0, \"#0d0887\"], [0.1111111111111111, \"#46039f\"], [0.2222222222222222, \"#7201a8\"], [0.3333333333333333, \"#9c179e\"], [0.4444444444444444, \"#bd3786\"], [0.5555555555555556, \"#d8576b\"], [0.6666666666666666, \"#ed7953\"], [0.7777777777777778, \"#fb9f3a\"], [0.8888888888888888, \"#fdca26\"], [1.0, \"#f0f921\"]], \"type\": \"heatmap\"}], \"heatmapgl\": [{\"colorbar\": {\"outlinewidth\": 0, \"ticks\": \"\"}, \"colorscale\": [[0.0, \"#0d0887\"], [0.1111111111111111, \"#46039f\"], [0.2222222222222222, \"#7201a8\"], [0.3333333333333333, \"#9c179e\"], [0.4444444444444444, \"#bd3786\"], [0.5555555555555556, \"#d8576b\"], [0.6666666666666666, \"#ed7953\"], [0.7777777777777778, \"#fb9f3a\"], [0.8888888888888888, \"#fdca26\"], [1.0, \"#f0f921\"]], \"type\": \"heatmapgl\"}], \"histogram\": [{\"marker\": {\"colorbar\": {\"outlinewidth\": 0, \"ticks\": \"\"}}, \"type\": \"histogram\"}], \"histogram2d\": [{\"colorbar\": {\"outlinewidth\": 0, \"ticks\": \"\"}, \"colorscale\": [[0.0, \"#0d0887\"], [0.1111111111111111, \"#46039f\"], [0.2222222222222222, \"#7201a8\"], [0.3333333333333333, \"#9c179e\"], [0.4444444444444444, \"#bd3786\"], [0.5555555555555556, \"#d8576b\"], [0.6666666666666666, \"#ed7953\"], [0.7777777777777778, \"#fb9f3a\"], [0.8888888888888888, \"#fdca26\"], [1.0, \"#f0f921\"]], \"type\": \"histogram2d\"}], \"histogram2dcontour\": [{\"colorbar\": {\"outlinewidth\": 0, \"ticks\": \"\"}, \"colorscale\": [[0.0, \"#0d0887\"], [0.1111111111111111, \"#46039f\"], [0.2222222222222222, \"#7201a8\"], [0.3333333333333333, \"#9c179e\"], [0.4444444444444444, \"#bd3786\"], [0.5555555555555556, \"#d8576b\"], [0.6666666666666666, \"#ed7953\"], [0.7777777777777778, \"#fb9f3a\"], [0.8888888888888888, \"#fdca26\"], [1.0, \"#f0f921\"]], \"type\": \"histogram2dcontour\"}], \"mesh3d\": [{\"colorbar\": {\"outlinewidth\": 0, \"ticks\": \"\"}, \"type\": \"mesh3d\"}], \"parcoords\": [{\"line\": {\"colorbar\": {\"outlinewidth\": 0, \"ticks\": \"\"}}, \"type\": \"parcoords\"}], \"pie\": [{\"automargin\": true, \"type\": \"pie\"}], \"scatter\": [{\"marker\": {\"colorbar\": {\"outlinewidth\": 0, \"ticks\": \"\"}}, \"type\": \"scatter\"}], \"scatter3d\": [{\"line\": {\"colorbar\": {\"outlinewidth\": 0, \"ticks\": \"\"}}, \"marker\": {\"colorbar\": {\"outlinewidth\": 0, \"ticks\": \"\"}}, \"type\": \"scatter3d\"}], \"scattercarpet\": [{\"marker\": {\"colorbar\": {\"outlinewidth\": 0, \"ticks\": \"\"}}, \"type\": \"scattercarpet\"}], \"scattergeo\": [{\"marker\": {\"colorbar\": {\"outlinewidth\": 0, \"ticks\": \"\"}}, \"type\": \"scattergeo\"}], \"scattergl\": [{\"marker\": {\"colorbar\": {\"outlinewidth\": 0, \"ticks\": \"\"}}, \"type\": \"scattergl\"}], \"scattermapbox\": [{\"marker\": {\"colorbar\": {\"outlinewidth\": 0, \"ticks\": \"\"}}, \"type\": \"scattermapbox\"}], \"scatterpolar\": [{\"marker\": {\"colorbar\": {\"outlinewidth\": 0, \"ticks\": \"\"}}, \"type\": \"scatterpolar\"}], \"scatterpolargl\": [{\"marker\": {\"colorbar\": {\"outlinewidth\": 0, \"ticks\": \"\"}}, \"type\": \"scatterpolargl\"}], \"scatterternary\": [{\"marker\": {\"colorbar\": {\"outlinewidth\": 0, \"ticks\": \"\"}}, \"type\": \"scatterternary\"}], \"surface\": [{\"colorbar\": {\"outlinewidth\": 0, \"ticks\": \"\"}, \"colorscale\": [[0.0, \"#0d0887\"], [0.1111111111111111, \"#46039f\"], [0.2222222222222222, \"#7201a8\"], [0.3333333333333333, \"#9c179e\"], [0.4444444444444444, \"#bd3786\"], [0.5555555555555556, \"#d8576b\"], [0.6666666666666666, \"#ed7953\"], [0.7777777777777778, \"#fb9f3a\"], [0.8888888888888888, \"#fdca26\"], [1.0, \"#f0f921\"]], \"type\": \"surface\"}], \"table\": [{\"cells\": {\"fill\": {\"color\": \"#EBF0F8\"}, \"line\": {\"color\": \"white\"}}, \"header\": {\"fill\": {\"color\": \"#C8D4E3\"}, \"line\": {\"color\": \"white\"}}, \"type\": \"table\"}]}, \"layout\": {\"annotationdefaults\": {\"arrowcolor\": \"#2a3f5f\", \"arrowhead\": 0, \"arrowwidth\": 1}, \"coloraxis\": {\"colorbar\": {\"outlinewidth\": 0, \"ticks\": \"\"}}, \"colorscale\": {\"diverging\": [[0, \"#8e0152\"], [0.1, \"#c51b7d\"], [0.2, \"#de77ae\"], [0.3, \"#f1b6da\"], [0.4, \"#fde0ef\"], [0.5, \"#f7f7f7\"], [0.6, \"#e6f5d0\"], [0.7, \"#b8e186\"], [0.8, \"#7fbc41\"], [0.9, \"#4d9221\"], [1, \"#276419\"]], \"sequential\": [[0.0, \"#0d0887\"], [0.1111111111111111, \"#46039f\"], [0.2222222222222222, \"#7201a8\"], [0.3333333333333333, \"#9c179e\"], [0.4444444444444444, \"#bd3786\"], [0.5555555555555556, \"#d8576b\"], [0.6666666666666666, \"#ed7953\"], [0.7777777777777778, \"#fb9f3a\"], [0.8888888888888888, \"#fdca26\"], [1.0, \"#f0f921\"]], \"sequentialminus\": [[0.0, \"#0d0887\"], [0.1111111111111111, \"#46039f\"], [0.2222222222222222, \"#7201a8\"], [0.3333333333333333, \"#9c179e\"], [0.4444444444444444, \"#bd3786\"], [0.5555555555555556, \"#d8576b\"], [0.6666666666666666, \"#ed7953\"], [0.7777777777777778, \"#fb9f3a\"], [0.8888888888888888, \"#fdca26\"], [1.0, \"#f0f921\"]]}, \"colorway\": [\"#636efa\", \"#EF553B\", \"#00cc96\", \"#ab63fa\", \"#FFA15A\", \"#19d3f3\", \"#FF6692\", \"#B6E880\", \"#FF97FF\", \"#FECB52\"], \"font\": {\"color\": \"#2a3f5f\"}, \"geo\": {\"bgcolor\": \"white\", \"lakecolor\": \"white\", \"landcolor\": \"#E5ECF6\", \"showlakes\": true, \"showland\": true, \"subunitcolor\": \"white\"}, \"hoverlabel\": {\"align\": \"left\"}, \"hovermode\": \"closest\", \"mapbox\": {\"style\": \"light\"}, \"paper_bgcolor\": \"white\", \"plot_bgcolor\": \"#E5ECF6\", \"polar\": {\"angularaxis\": {\"gridcolor\": \"white\", \"linecolor\": \"white\", \"ticks\": \"\"}, \"bgcolor\": \"#E5ECF6\", \"radialaxis\": {\"gridcolor\": \"white\", \"linecolor\": \"white\", \"ticks\": \"\"}}, \"scene\": {\"xaxis\": {\"backgroundcolor\": \"#E5ECF6\", \"gridcolor\": \"white\", \"gridwidth\": 2, \"linecolor\": \"white\", \"showbackground\": true, \"ticks\": \"\", \"zerolinecolor\": \"white\"}, \"yaxis\": {\"backgroundcolor\": \"#E5ECF6\", \"gridcolor\": \"white\", \"gridwidth\": 2, \"linecolor\": \"white\", \"showbackground\": true, \"ticks\": \"\", \"zerolinecolor\": \"white\"}, \"zaxis\": {\"backgroundcolor\": \"#E5ECF6\", \"gridcolor\": \"white\", \"gridwidth\": 2, \"linecolor\": \"white\", \"showbackground\": true, \"ticks\": \"\", \"zerolinecolor\": \"white\"}}, \"shapedefaults\": {\"line\": {\"color\": \"#2a3f5f\"}}, \"ternary\": {\"aaxis\": {\"gridcolor\": \"white\", \"linecolor\": \"white\", \"ticks\": \"\"}, \"baxis\": {\"gridcolor\": \"white\", \"linecolor\": \"white\", \"ticks\": \"\"}, \"bgcolor\": \"#E5ECF6\", \"caxis\": {\"gridcolor\": \"white\", \"linecolor\": \"white\", \"ticks\": \"\"}}, \"title\": {\"x\": 0.05}, \"xaxis\": {\"automargin\": true, \"gridcolor\": \"white\", \"linecolor\": \"white\", \"ticks\": \"\", \"title\": {\"standoff\": 15}, \"zerolinecolor\": \"white\", \"zerolinewidth\": 2}, \"yaxis\": {\"automargin\": true, \"gridcolor\": \"white\", \"linecolor\": \"white\", \"ticks\": \"\", \"title\": {\"standoff\": 15}, \"zerolinecolor\": \"white\", \"zerolinewidth\": 2}}}, \"width\": 1000, \"xaxis\": {\"anchor\": \"y\", \"domain\": [0.0, 1.0], \"matches\": \"x3\", \"showticklabels\": false, \"title\": {\"text\": \"Date\"}}, \"xaxis2\": {\"anchor\": \"y2\", \"domain\": [0.0, 1.0], \"matches\": \"x3\", \"showticklabels\": false, \"title\": {\"text\": \"Date\"}}, \"xaxis3\": {\"anchor\": \"y3\", \"domain\": [0.0, 1.0]}, \"yaxis\": {\"anchor\": \"x\", \"domain\": [0.7333333333333333, 1.0], \"title\": {\"text\": \"share_doses_used\"}}, \"yaxis2\": {\"anchor\": \"x2\", \"domain\": [0.36666666666666664, 0.6333333333333333], \"title\": {\"text\": \"people_vaccinated_per_hundred\"}}, \"yaxis3\": {\"anchor\": \"x3\", \"domain\": [0.0, 0.26666666666666666]}},\n",
              "                        {\"responsive\": true}\n",
              "                    ).then(function(){\n",
              "                            \n",
              "var gd = document.getElementById('0c4b3e12-c1f2-4ded-bfb4-6c374d13f7e1');\n",
              "var x = new MutationObserver(function (mutations, observer) {{\n",
              "        var display = window.getComputedStyle(gd).display;\n",
              "        if (!display || display === 'none') {{\n",
              "            console.log([gd, 'removed!']);\n",
              "            Plotly.purge(gd);\n",
              "            observer.disconnect();\n",
              "        }}\n",
              "}});\n",
              "\n",
              "// Listen for the removal of the full notebook cells\n",
              "var notebookContainer = gd.closest('#notebook-container');\n",
              "if (notebookContainer) {{\n",
              "    x.observe(notebookContainer, {childList: true});\n",
              "}}\n",
              "\n",
              "// Listen for the clearing of the current output cell\n",
              "var outputEl = gd.closest('.output');\n",
              "if (outputEl) {{\n",
              "    x.observe(outputEl, {childList: true});\n",
              "}}\n",
              "\n",
              "                        })\n",
              "                };\n",
              "                \n",
              "            </script>\n",
              "        </div>\n",
              "</body>\n",
              "</html>"
            ]
          },
          "metadata": {
            "tags": []
          }
        }
      ]
    },
    {
      "cell_type": "code",
      "metadata": {
        "id": "tUnblYDXNOXA"
      },
      "source": [
        ""
      ],
      "id": "tUnblYDXNOXA",
      "execution_count": null,
      "outputs": []
    }
  ]
}