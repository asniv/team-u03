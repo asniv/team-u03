{
 "cells": [
  {
   "cell_type": "code",
   "execution_count": 9,
   "id": "144e18d5",
   "metadata": {},
   "outputs": [],
   "source": [
    "import pandas as pd             # to use Dataframes\n",
    "import matplotlib.pyplot as plt # to plot results\n",
    "import datetime                 # to work with dates\n",
    "import numpy as np              # to perform mathematical operations\n",
    "import plotly.express as px     # to make interactive plots"
   ]
  },
  {
   "cell_type": "code",
   "execution_count": 10,
   "id": "9cf00bdf",
   "metadata": {},
   "outputs": [],
   "source": [
    "df_owid_orig = pd.read_csv('https://raw.githubusercontent.com/owid/covid-19-data/master/public/data/vaccinations/us_state_vaccinations.csv')"
   ]
  },
  {
   "cell_type": "code",
   "execution_count": 11,
   "id": "9f726e81",
   "metadata": {},
   "outputs": [],
   "source": [
    "# Work with a copy, not the original dataset\n",
    "df_owid = df_owid_orig.copy()\n",
    "\n",
    "# Store the location and date as indices for the dataframe\n",
    "df_owid.sort_values(by=['location', 'date'])\n",
    "df_owid.loc[:, 'datetime'] = pd.to_datetime(df_owid.loc[:, 'date'])\n",
    "df_owid = df_owid.set_index(['location', 'datetime'], drop=False)\n",
    "df_owid.rename_axis(['location_index', 'datetime_index'], axis='index', inplace=True)\n",
    "\n",
    "# Count the number of days since beginning of recording - helps with regression model\n",
    "df_owid['days_since'] = (df_owid['datetime'] - df_owid['datetime'].iloc[0]).dt.days"
   ]
  },
  {
   "cell_type": "code",
   "execution_count": 42,
   "id": "7274fa19",
   "metadata": {},
   "outputs": [],
   "source": [
    "ListofStates = ['Alabama', 'Texas', 'New York State']\n",
    "train_date_limit = datetime.datetime.strptime('2021-03-15', '%Y-%m-%d')"
   ]
  },
  {
   "cell_type": "code",
   "execution_count": 62,
   "id": "fd1dea45",
   "metadata": {},
   "outputs": [],
   "source": [
    "df_states = df_owid.loc[ListofStates]"
   ]
  },
  {
   "cell_type": "code",
   "execution_count": 44,
   "id": "cc9c17dd",
   "metadata": {},
   "outputs": [
    {
     "data": {
      "text/plain": [
       "Index(['date', 'location', 'total_vaccinations', 'total_distributed',\n",
       "       'people_vaccinated', 'people_fully_vaccinated_per_hundred',\n",
       "       'total_vaccinations_per_hundred', 'people_fully_vaccinated',\n",
       "       'people_vaccinated_per_hundred', 'distributed_per_hundred',\n",
       "       'daily_vaccinations_raw', 'daily_vaccinations',\n",
       "       'daily_vaccinations_per_million', 'share_doses_used', 'datetime',\n",
       "       'days_since'],\n",
       "      dtype='object')"
      ]
     },
     "execution_count": 44,
     "metadata": {},
     "output_type": "execute_result"
    }
   ],
   "source": [
    "df_states.columns"
   ]
  },
  {
   "cell_type": "code",
   "execution_count": 246,
   "id": "e1f92d60",
   "metadata": {},
   "outputs": [],
   "source": [
    "# fig = plt.figure(num=None, figsize=(10, 8))\n",
    "# ax = df_owid.loc[state]['share_doses_used'].plot()\n",
    "# for state in ListofStates:\n",
    "#     if state == ListofStates[0]:\n",
    "#         pass\n",
    "#     else:\n",
    "#         df_owid.loc[state]['share_doses_used'].plot(ax=ax)"
   ]
  },
  {
   "cell_type": "code",
   "execution_count": 106,
   "id": "eac47b5f",
   "metadata": {},
   "outputs": [],
   "source": [
    "# import pandas as pd\n",
    "# import plotly.graph_objects as go\n",
    "# from plotly.subplots import make_subplots\n",
    "\n",
    "# ListofStates = ['Alabama', 'Texas', 'New York State']\n",
    "# ListofCols = ['share_doses_used', 'people_vaccinated_per_hundred']\n",
    "\n",
    "# fig = make_subplots(rows=len(ListofCols)+1,cols=1,shared_xaxes=True)\n",
    "\n",
    "# lines = []\n",
    "# for state in ListofStates:\n",
    "#     for col_idx, col in enumerate(ListofCols):\n",
    "#         data = go.Scatter(x=df_owid.loc[state]['datetime'], y=df_owid.loc[state][col], name=state+' '+col)   \n",
    "#         fig.add_trace(data, row=col_idx+1, col=1)\n",
    "\n",
    "# fig.show()"
   ]
  },
  {
   "cell_type": "code",
   "execution_count": 245,
   "id": "3db05ced",
   "metadata": {},
   "outputs": [],
   "source": [
    "# df_owid.loc[state][col]"
   ]
  },
  {
   "cell_type": "code",
   "execution_count": 70,
   "id": "1246bf4a",
   "metadata": {},
   "outputs": [],
   "source": [
    "# state_data1 = df_states.loc['Texas']\n",
    "# axes = state_data1.plot('datetime', 'share_doses_used')\n",
    "# state_data2 = df_states.loc['Alabama']\n",
    "# state_data2.plot('datetime', 'share_doses_used')"
   ]
  },
  {
   "cell_type": "code",
   "execution_count": 244,
   "id": "135ea44f",
   "metadata": {},
   "outputs": [],
   "source": [
    "# df_states"
   ]
  },
  {
   "cell_type": "code",
   "execution_count": 107,
   "id": "af8fca1e",
   "metadata": {},
   "outputs": [],
   "source": [
    "# for idx, state in enumerate(ListofStates):\n",
    "#     state_data = df_states.loc[state]\n",
    "#     if idx == 0:\n",
    "#         axes = state_data.plot('datetime', 'share_doses_used')\n",
    "#     else:\n",
    "#         state_data.plot('datetime', 'share_doses_used')\n",
    "#         df_states.plot(ax=axes)"
   ]
  },
  {
   "cell_type": "code",
   "execution_count": 108,
   "id": "3c83f2d8",
   "metadata": {},
   "outputs": [],
   "source": [
    "# fig_efficiency = plt.plot(figsize=[13,13])\n",
    "\n",
    "# for state in ListofStates:\n",
    "#     state_data = df_states.loc['share_doses_used']\n",
    "#     state_data.plot('datetime', 'share_doses_used')\n",
    "#     plt.show()"
   ]
  },
  {
   "cell_type": "code",
   "execution_count": 164,
   "id": "ab100ffd",
   "metadata": {},
   "outputs": [],
   "source": [
    "# def getLr(X_trn, X_tst, y_trn, y_tst):\n",
    "#     mdl = LinearRegression()\n",
    "#     mdl.fit(X_trn, y_trn)\n",
    "#     y_prd = mdl.predict(X_tst)\n",
    "#     y_prd = pd.Series(y_prd, index=y_tst.index)\n",
    "    \n",
    "#     return y_prd, mdl"
   ]
  },
  {
   "cell_type": "code",
   "execution_count": 165,
   "id": "80d61fd5",
   "metadata": {},
   "outputs": [],
   "source": [
    "train_date_end = datetime.datetime.strptime('2021-03-15', '%Y-%m-%d')\n",
    "train_date_start = train_date_limit - datetime.timedelta(5)"
   ]
  },
  {
   "cell_type": "code",
   "execution_count": 238,
   "id": "706a4895",
   "metadata": {},
   "outputs": [],
   "source": [
    "from sklearn.linear_model import LinearRegression\n",
    "\n",
    "def getLinreg(X_trn, y_trn):\n",
    "    mdl = LinearRegression()\n",
    "    mdl.fit(X_trn, y_trn)\n",
    "    \n",
    "    return mdl"
   ]
  },
  {
   "cell_type": "code",
   "execution_count": 239,
   "id": "97b8d0a1",
   "metadata": {},
   "outputs": [],
   "source": [
    "TrainData = df_owid.loc[state][train_date_start:train_date_end]\n",
    "X_train = TrainData['days_since']\n",
    "Y_train = TrainData[['share_doses_used', 'people_vaccinated_per_hundred']]"
   ]
  },
  {
   "cell_type": "code",
   "execution_count": 742,
   "id": "0b04af4b",
   "metadata": {},
   "outputs": [],
   "source": [
    "days_ahead = 100\n",
    "forecast_dates = pd.date_range(train_date_end, train_date_end+datetime.timedelta(days_ahead))\n",
    "\n",
    "Y_pred_state = []\n",
    "indices = [[ state for day in range(days_ahead+1) ], forecast_dates]\n",
    "for state in ListofStates:\n",
    "    Y_pred_state.append( pd.DataFrame(columns=ListofCols, index=indices) )\n",
    "Y_pred = pd.concat(Y_pred_state)\n",
    "\n",
    "y_pred_list = []\n",
    "y_p_state_list = []\n",
    "\n",
    "for state in ListofStates:\n",
    "    for idx, col in enumerate(Y_train.columns):\n",
    "        slope = getLinreg(np.array(X_train).reshape(-1, 1), Y_train[col]).coef_[0]\n",
    "        train_end_point = (Y_train.index[-1], Y_train[col][-1])\n",
    "        y_linreg = [ train_end_point[1] + slope*day for day in range(days_ahead+1) ]\n",
    "        y_forecast = pd.DataFrame(data=y_linreg, columns=[col], index=forecast_dates)\n",
    "        y_pred_list.append(y_forecast)\n",
    "    y_p_state_list.append(y_pred_list[-1].join(y_pred_list[-2]))\n",
    "\n",
    "Y_pred = pd.concat(y_p_state_list, keys=ListofStates)"
   ]
  },
  {
   "cell_type": "code",
   "execution_count": null,
   "id": "c13f6343",
   "metadata": {},
   "outputs": [],
   "source": []
  },
  {
   "cell_type": "code",
   "execution_count": null,
   "id": "d2914e0c",
   "metadata": {},
   "outputs": [],
   "source": []
  },
  {
   "cell_type": "code",
   "execution_count": null,
   "id": "e0e61a1b",
   "metadata": {},
   "outputs": [],
   "source": []
  },
  {
   "cell_type": "code",
   "execution_count": 434,
   "id": "766193d4",
   "metadata": {},
   "outputs": [
    {
     "name": "stdout",
     "output_type": "stream",
     "text": [
      "share_doses_used\n",
      "people_vaccinated_per_hundred\n"
     ]
    }
   ],
   "source": [
    "for idx, col in enumerate(Y_train.columns):\n",
    "    print(col)"
   ]
  },
  {
   "cell_type": "code",
   "execution_count": 312,
   "id": "652350b0",
   "metadata": {},
   "outputs": [
    {
     "data": {
      "text/plain": [
       "Float64Index([ 62.0,  63.0,  64.0,  65.0,  66.0,  67.0,  68.0,  69.0,  70.0,\n",
       "               71.0,\n",
       "              ...\n",
       "              153.0, 154.0, 155.0, 156.0, 157.0, 158.0, 159.0, 160.0, 161.0,\n",
       "              162.0],\n",
       "             dtype='float64', length=101)"
      ]
     },
     "execution_count": 312,
     "metadata": {},
     "output_type": "execute_result"
    }
   ],
   "source": [
    "# start = train_end_point[0]\n",
    "# end = start + datetime.timedelta(100)\n",
    "# forecast_time = np.linspace(start.value, end.value, 101)\n",
    "# forecast_time = pd.to_datetime(forecast_time)\n",
    "\n",
    "# forecast_days_since = (forecast_time - df_owid['datetime'].iloc[0]).astype(int)/10**9/60/60/24\n",
    "# forecast_days_since"
   ]
  },
  {
   "cell_type": "code",
   "execution_count": 319,
   "id": "f9426b75",
   "metadata": {},
   "outputs": [
    {
     "data": {
      "text/plain": [
       "[<matplotlib.lines.Line2D at 0x1968cc6a580>]"
      ]
     },
     "execution_count": 319,
     "metadata": {},
     "output_type": "execute_result"
    },
    {
     "data": {
      "image/png": "[encoded data removed]",
      "text/plain": [
       "<Figure size 432x288 with 1 Axes>"
      ]
     },
     "metadata": {
      "needs_background": "light"
     },
     "output_type": "display_data"
    }
   ],
   "source": [
    "x_la = (forecast_days_since-forecast_days_since[0])\n",
    "y_la = x_la * slope + train_end_point[1]\n",
    "plt.plot(forecast_days_since, y_la)"
   ]
  },
  {
   "cell_type": "code",
   "execution_count": 203,
   "id": "eea658d8",
   "metadata": {},
   "outputs": [
    {
     "data": {
      "text/plain": [
       "array([0.        , 0.33333333, 0.66666667, 1.        , 1.33333333,\n",
       "       1.66666667, 2.        , 2.33333333, 2.66666667, 3.        ])"
      ]
     },
     "execution_count": 203,
     "metadata": {},
     "output_type": "execute_result"
    }
   ],
   "source": [
    "np.linspace(0, 3, 10)"
   ]
  },
  {
   "cell_type": "code",
   "execution_count": null,
   "id": "8da07e16",
   "metadata": {},
   "outputs": [],
   "source": [
    " = getLr(X_train, X_test, y_train, y_test)"
   ]
  },
  {
   "cell_type": "code",
   "execution_count": null,
   "id": "8ccf76c5",
   "metadata": {},
   "outputs": [],
   "source": []
  },
  {
   "cell_type": "code",
   "execution_count": null,
   "id": "b6dec085",
   "metadata": {},
   "outputs": [],
   "source": []
  },
  {
   "cell_type": "code",
   "execution_count": null,
   "id": "206acdc8",
   "metadata": {},
   "outputs": [],
   "source": []
  }
 ],
 "metadata": {
  "kernelspec": {
   "display_name": "Python 3",
   "language": "python",
   "name": "python3"
  },
  "language_info": {
   "codemirror_mode": {
    "name": "ipython",
    "version": 3
   },
   "file_extension": ".py",
   "mimetype": "text/x-python",
   "name": "python",
   "nbconvert_exporter": "python",
   "pygments_lexer": "ipython3",
   "version": "3.8.3"
  }
 },
 "nbformat": 4,
 "nbformat_minor": 5
}
