{
 "cells": [
  {
   "cell_type": "markdown",
   "id": "c931b9e0",
   "metadata": {},
   "source": [
    "# US Cases --> US State Cases"
   ]
  },
  {
   "cell_type": "markdown",
   "id": "778d7f1d",
   "metadata": {},
   "source": [
    "## Initialize"
   ]
  },
  {
   "cell_type": "markdown",
   "id": "6fe93843",
   "metadata": {},
   "source": [
    "### Import Packages"
   ]
  },
  {
   "cell_type": "code",
   "execution_count": 1,
   "id": "eb946351",
   "metadata": {},
   "outputs": [],
   "source": [
    "import pandas as pd\n",
    "import datetime\n",
    "import matplotlib.pyplot as plt"
   ]
  },
  {
   "cell_type": "markdown",
   "id": "5847d982",
   "metadata": {},
   "source": [
    "### Collect Relevant Datasets"
   ]
  },
  {
   "cell_type": "code",
   "execution_count": 3,
   "id": "c69b0193",
   "metadata": {},
   "outputs": [],
   "source": [
    "# Select Date Range, Store as DataFrame of Strings\n",
    "# We use this to select all the relevant files, organized by date\n",
    "\n",
    "start_date = datetime.date(2021,1,1)\n",
    "end_date = datetime.date(2021,4,14)\n",
    "\n",
    "dates = pd.date_range(start_date,end_date-datetime.timedelta(days=1),freq='d')\n",
    "dates_str = dates.strftime(\"%m-%d-%Y\")"
   ]
  },
  {
   "cell_type": "code",
   "execution_count": 4,
   "id": "501fa233",
   "metadata": {},
   "outputs": [],
   "source": [
    "# Collect list of files for all the selected dates\n",
    "\n",
    "file_list = [ ('https://raw.githubusercontent.com/CSSEGISandData/COVID-19/master/csse_covid_19_data/csse_covid_19_daily_reports/'\n",
    "            + date\n",
    "            + '.csv') for date in dates_str ]"
   ]
  },
  {
   "cell_type": "code",
   "execution_count": 9,
   "id": "08e7a06b",
   "metadata": {},
   "outputs": [
    {
     "name": "stdout",
     "output_type": "stream",
     "text": [
      "Wall time: 48.7 s\n"
     ]
    }
   ],
   "source": [
    "%%time\n",
    "\n",
    "# List of DataFrames - each one covers one day of global data\n",
    "df_list = [ pd.read_csv(file) for file in file_list ]"
   ]
  },
  {
   "cell_type": "code",
   "execution_count": 6,
   "id": "b926cb7a",
   "metadata": {},
   "outputs": [],
   "source": [
    "# DataFrame that contains all the files' data \n",
    "\n",
    "super_cases = pd.concat(df_list)"
   ]
  },
  {
   "cell_type": "code",
   "execution_count": 6,
   "id": "7ef73ba8",
   "metadata": {},
   "outputs": [],
   "source": [
    "# len(super_cases)"
   ]
  },
  {
   "cell_type": "code",
   "execution_count": 7,
   "id": "540873e7",
   "metadata": {},
   "outputs": [],
   "source": [
    "# len(df_list[0])*len(dates_str)"
   ]
  },
  {
   "cell_type": "code",
   "execution_count": 8,
   "id": "cd37ee16",
   "metadata": {},
   "outputs": [],
   "source": [
    "# landa = list(super_cases.index)\n",
    "# for i in landa:\n",
    "#     if i == 100:\n",
    "#         print('yo')"
   ]
  },
  {
   "cell_type": "code",
   "execution_count": 9,
   "id": "e101d9c1",
   "metadata": {},
   "outputs": [],
   "source": [
    "# list(super_cases['Country_Region'])"
   ]
  },
  {
   "cell_type": "code",
   "execution_count": 10,
   "id": "e27c5416",
   "metadata": {},
   "outputs": [
    {
     "data": {
      "text/plain": [
       "Index(['FIPS', 'Admin2', 'Province_State', 'Country_Region', 'Last_Update',\n",
       "       'Lat', 'Long_', 'Confirmed', 'Deaths', 'Recovered', 'Active',\n",
       "       'Combined_Key', 'Incident_Rate', 'Case_Fatality_Ratio'],\n",
       "      dtype='object')"
      ]
     },
     "execution_count": 10,
     "metadata": {},
     "output_type": "execute_result"
    }
   ],
   "source": [
    "super_cases.columns"
   ]
  },
  {
   "cell_type": "code",
   "execution_count": 12,
   "id": "9bd6067b",
   "metadata": {},
   "outputs": [
    {
     "data": {
      "text/html": [
       "<div>\n",
       "<style scoped>\n",
       "    .dataframe tbody tr th:only-of-type {\n",
       "        vertical-align: middle;\n",
       "    }\n",
       "\n",
       "    .dataframe tbody tr th {\n",
       "        vertical-align: top;\n",
       "    }\n",
       "\n",
       "    .dataframe thead th {\n",
       "        text-align: right;\n",
       "    }\n",
       "</style>\n",
       "<table border=\"1\" class=\"dataframe\">\n",
       "  <thead>\n",
       "    <tr style=\"text-align: right;\">\n",
       "      <th></th>\n",
       "      <th>FIPS</th>\n",
       "      <th>Admin2</th>\n",
       "      <th>Province_State</th>\n",
       "      <th>Country_Region</th>\n",
       "      <th>Last_Update</th>\n",
       "      <th>Lat</th>\n",
       "      <th>Long_</th>\n",
       "      <th>Confirmed</th>\n",
       "      <th>Deaths</th>\n",
       "      <th>Recovered</th>\n",
       "      <th>Active</th>\n",
       "      <th>Combined_Key</th>\n",
       "      <th>Incident_Rate</th>\n",
       "      <th>Case_Fatality_Ratio</th>\n",
       "    </tr>\n",
       "  </thead>\n",
       "  <tbody>\n",
       "    <tr>\n",
       "      <th>649</th>\n",
       "      <td>1001.0</td>\n",
       "      <td>Autauga</td>\n",
       "      <td>Alabama</td>\n",
       "      <td>US</td>\n",
       "      <td>2021-01-02 05:22:33</td>\n",
       "      <td>32.539527</td>\n",
       "      <td>-86.644082</td>\n",
       "      <td>4239</td>\n",
       "      <td>50</td>\n",
       "      <td>0.0</td>\n",
       "      <td>4189.0</td>\n",
       "      <td>Autauga, Alabama, US</td>\n",
       "      <td>7587.391935</td>\n",
       "      <td>1.179523</td>\n",
       "    </tr>\n",
       "    <tr>\n",
       "      <th>650</th>\n",
       "      <td>1003.0</td>\n",
       "      <td>Baldwin</td>\n",
       "      <td>Alabama</td>\n",
       "      <td>US</td>\n",
       "      <td>2021-01-02 05:22:33</td>\n",
       "      <td>30.727750</td>\n",
       "      <td>-87.722071</td>\n",
       "      <td>13823</td>\n",
       "      <td>169</td>\n",
       "      <td>0.0</td>\n",
       "      <td>13654.0</td>\n",
       "      <td>Baldwin, Alabama, US</td>\n",
       "      <td>6192.157109</td>\n",
       "      <td>1.2226</td>\n",
       "    </tr>\n",
       "    <tr>\n",
       "      <th>651</th>\n",
       "      <td>1005.0</td>\n",
       "      <td>Barbour</td>\n",
       "      <td>Alabama</td>\n",
       "      <td>US</td>\n",
       "      <td>2021-01-02 05:22:33</td>\n",
       "      <td>31.868263</td>\n",
       "      <td>-85.387129</td>\n",
       "      <td>1517</td>\n",
       "      <td>33</td>\n",
       "      <td>0.0</td>\n",
       "      <td>1484.0</td>\n",
       "      <td>Barbour, Alabama, US</td>\n",
       "      <td>6145.183505</td>\n",
       "      <td>2.175346</td>\n",
       "    </tr>\n",
       "    <tr>\n",
       "      <th>652</th>\n",
       "      <td>1007.0</td>\n",
       "      <td>Bibb</td>\n",
       "      <td>Alabama</td>\n",
       "      <td>US</td>\n",
       "      <td>2021-01-02 05:22:33</td>\n",
       "      <td>32.996421</td>\n",
       "      <td>-87.125115</td>\n",
       "      <td>1854</td>\n",
       "      <td>46</td>\n",
       "      <td>0.0</td>\n",
       "      <td>1808.0</td>\n",
       "      <td>Bibb, Alabama, US</td>\n",
       "      <td>8279.003304</td>\n",
       "      <td>2.481122</td>\n",
       "    </tr>\n",
       "    <tr>\n",
       "      <th>653</th>\n",
       "      <td>1009.0</td>\n",
       "      <td>Blount</td>\n",
       "      <td>Alabama</td>\n",
       "      <td>US</td>\n",
       "      <td>2021-01-02 05:22:33</td>\n",
       "      <td>33.982109</td>\n",
       "      <td>-86.567906</td>\n",
       "      <td>4693</td>\n",
       "      <td>63</td>\n",
       "      <td>0.0</td>\n",
       "      <td>4630.0</td>\n",
       "      <td>Blount, Alabama, US</td>\n",
       "      <td>8115.726490</td>\n",
       "      <td>1.342425</td>\n",
       "    </tr>\n",
       "    <tr>\n",
       "      <th>...</th>\n",
       "      <td>...</td>\n",
       "      <td>...</td>\n",
       "      <td>...</td>\n",
       "      <td>...</td>\n",
       "      <td>...</td>\n",
       "      <td>...</td>\n",
       "      <td>...</td>\n",
       "      <td>...</td>\n",
       "      <td>...</td>\n",
       "      <td>...</td>\n",
       "      <td>...</td>\n",
       "      <td>...</td>\n",
       "      <td>...</td>\n",
       "      <td>...</td>\n",
       "    </tr>\n",
       "    <tr>\n",
       "      <th>3924</th>\n",
       "      <td>56039.0</td>\n",
       "      <td>Teton</td>\n",
       "      <td>Wyoming</td>\n",
       "      <td>US</td>\n",
       "      <td>2021-04-14 04:20:41</td>\n",
       "      <td>43.935225</td>\n",
       "      <td>-110.589080</td>\n",
       "      <td>3675</td>\n",
       "      <td>9</td>\n",
       "      <td>NaN</td>\n",
       "      <td>NaN</td>\n",
       "      <td>Teton, Wyoming, US</td>\n",
       "      <td>15662.291169</td>\n",
       "      <td>0.244898</td>\n",
       "    </tr>\n",
       "    <tr>\n",
       "      <th>3925</th>\n",
       "      <td>56041.0</td>\n",
       "      <td>Uinta</td>\n",
       "      <td>Wyoming</td>\n",
       "      <td>US</td>\n",
       "      <td>2021-04-14 04:20:41</td>\n",
       "      <td>41.287818</td>\n",
       "      <td>-110.547578</td>\n",
       "      <td>2153</td>\n",
       "      <td>12</td>\n",
       "      <td>NaN</td>\n",
       "      <td>NaN</td>\n",
       "      <td>Uinta, Wyoming, US</td>\n",
       "      <td>10644.714724</td>\n",
       "      <td>0.557362</td>\n",
       "    </tr>\n",
       "    <tr>\n",
       "      <th>3926</th>\n",
       "      <td>90056.0</td>\n",
       "      <td>Unassigned</td>\n",
       "      <td>Wyoming</td>\n",
       "      <td>US</td>\n",
       "      <td>2021-04-14 04:20:41</td>\n",
       "      <td>NaN</td>\n",
       "      <td>NaN</td>\n",
       "      <td>0</td>\n",
       "      <td>0</td>\n",
       "      <td>NaN</td>\n",
       "      <td>NaN</td>\n",
       "      <td>Unassigned, Wyoming, US</td>\n",
       "      <td>NaN</td>\n",
       "      <td>NaN</td>\n",
       "    </tr>\n",
       "    <tr>\n",
       "      <th>3927</th>\n",
       "      <td>56043.0</td>\n",
       "      <td>Washakie</td>\n",
       "      <td>Wyoming</td>\n",
       "      <td>US</td>\n",
       "      <td>2021-04-14 04:20:41</td>\n",
       "      <td>43.904516</td>\n",
       "      <td>-107.680187</td>\n",
       "      <td>898</td>\n",
       "      <td>26</td>\n",
       "      <td>NaN</td>\n",
       "      <td>NaN</td>\n",
       "      <td>Washakie, Wyoming, US</td>\n",
       "      <td>11505.445227</td>\n",
       "      <td>2.895323</td>\n",
       "    </tr>\n",
       "    <tr>\n",
       "      <th>3928</th>\n",
       "      <td>56045.0</td>\n",
       "      <td>Weston</td>\n",
       "      <td>Wyoming</td>\n",
       "      <td>US</td>\n",
       "      <td>2021-04-14 04:20:41</td>\n",
       "      <td>43.839612</td>\n",
       "      <td>-104.567488</td>\n",
       "      <td>642</td>\n",
       "      <td>5</td>\n",
       "      <td>NaN</td>\n",
       "      <td>NaN</td>\n",
       "      <td>Weston, Wyoming, US</td>\n",
       "      <td>9268.081421</td>\n",
       "      <td>0.778816</td>\n",
       "    </tr>\n",
       "  </tbody>\n",
       "</table>\n",
       "<p>337517 rows × 14 columns</p>\n",
       "</div>"
      ],
      "text/plain": [
       "         FIPS      Admin2 Province_State Country_Region          Last_Update  \\\n",
       "649    1001.0     Autauga        Alabama             US  2021-01-02 05:22:33   \n",
       "650    1003.0     Baldwin        Alabama             US  2021-01-02 05:22:33   \n",
       "651    1005.0     Barbour        Alabama             US  2021-01-02 05:22:33   \n",
       "652    1007.0        Bibb        Alabama             US  2021-01-02 05:22:33   \n",
       "653    1009.0      Blount        Alabama             US  2021-01-02 05:22:33   \n",
       "...       ...         ...            ...            ...                  ...   \n",
       "3924  56039.0       Teton        Wyoming             US  2021-04-14 04:20:41   \n",
       "3925  56041.0       Uinta        Wyoming             US  2021-04-14 04:20:41   \n",
       "3926  90056.0  Unassigned        Wyoming             US  2021-04-14 04:20:41   \n",
       "3927  56043.0    Washakie        Wyoming             US  2021-04-14 04:20:41   \n",
       "3928  56045.0      Weston        Wyoming             US  2021-04-14 04:20:41   \n",
       "\n",
       "            Lat       Long_  Confirmed  Deaths  Recovered   Active  \\\n",
       "649   32.539527  -86.644082       4239      50        0.0   4189.0   \n",
       "650   30.727750  -87.722071      13823     169        0.0  13654.0   \n",
       "651   31.868263  -85.387129       1517      33        0.0   1484.0   \n",
       "652   32.996421  -87.125115       1854      46        0.0   1808.0   \n",
       "653   33.982109  -86.567906       4693      63        0.0   4630.0   \n",
       "...         ...         ...        ...     ...        ...      ...   \n",
       "3924  43.935225 -110.589080       3675       9        NaN      NaN   \n",
       "3925  41.287818 -110.547578       2153      12        NaN      NaN   \n",
       "3926        NaN         NaN          0       0        NaN      NaN   \n",
       "3927  43.904516 -107.680187        898      26        NaN      NaN   \n",
       "3928  43.839612 -104.567488        642       5        NaN      NaN   \n",
       "\n",
       "                 Combined_Key  Incident_Rate Case_Fatality_Ratio  \n",
       "649      Autauga, Alabama, US    7587.391935            1.179523  \n",
       "650      Baldwin, Alabama, US    6192.157109              1.2226  \n",
       "651      Barbour, Alabama, US    6145.183505            2.175346  \n",
       "652         Bibb, Alabama, US    8279.003304            2.481122  \n",
       "653       Blount, Alabama, US    8115.726490            1.342425  \n",
       "...                       ...            ...                 ...  \n",
       "3924       Teton, Wyoming, US   15662.291169            0.244898  \n",
       "3925       Uinta, Wyoming, US   10644.714724            0.557362  \n",
       "3926  Unassigned, Wyoming, US            NaN                 NaN  \n",
       "3927    Washakie, Wyoming, US   11505.445227            2.895323  \n",
       "3928      Weston, Wyoming, US    9268.081421            0.778816  \n",
       "\n",
       "[337517 rows x 14 columns]"
      ]
     },
     "execution_count": 12,
     "metadata": {},
     "output_type": "execute_result"
    }
   ],
   "source": [
    "# Data from only US counties (counties stored in Admin2)\n",
    "\n",
    "US_cases = super_cases[super_cases['Country_Region'] == 'US']\n",
    "US_cases"
   ]
  },
  {
   "cell_type": "code",
   "execution_count": 13,
   "id": "a381fe8f",
   "metadata": {},
   "outputs": [
    {
     "data": {
      "text/plain": [
       "'2021-01-02 05:22:33'"
      ]
     },
     "execution_count": 13,
     "metadata": {},
     "output_type": "execute_result"
    }
   ],
   "source": [
    "# Latest Date for first cell's Last Update\n",
    "US_cases.iloc[0].loc['Last_Update']"
   ]
  },
  {
   "cell_type": "code",
   "execution_count": 17,
   "id": "2222acbb",
   "metadata": {},
   "outputs": [],
   "source": [
    "# US_cases.loc[:, 'Last_Update'].to_datetime()"
   ]
  },
  {
   "cell_type": "code",
   "execution_count": 18,
   "id": "536e49e8",
   "metadata": {},
   "outputs": [],
   "source": [
    "# hey = pd.to_datetime(US_cases.loc[:, 'Last_Update']) "
   ]
  },
  {
   "cell_type": "code",
   "execution_count": null,
   "id": "7c6d6ce7",
   "metadata": {},
   "outputs": [],
   "source": []
  },
  {
   "cell_type": "markdown",
   "id": "97f3584a",
   "metadata": {},
   "source": [
    "# Global Vaccination --> US Vaccination"
   ]
  },
  {
   "cell_type": "markdown",
   "id": "720df06c",
   "metadata": {},
   "source": [
    "## Initialize"
   ]
  },
  {
   "cell_type": "code",
   "execution_count": 42,
   "id": "92af807c",
   "metadata": {},
   "outputs": [],
   "source": [
    "import pandas as pd\n",
    "import numpy as np\n",
    "import datetime\n",
    "import matplotlib.pyplot as plt\n",
    "# import zipfile"
   ]
  },
  {
   "cell_type": "code",
   "execution_count": 20,
   "id": "9887a5d5",
   "metadata": {},
   "outputs": [],
   "source": [
    "# zf = zipfile.ZipFile('https://app.box.com/s/efgnwjbg2cx0j94i401qhgwy0pqbhcg6') \n",
    "# df = pd.read_csv(zf.open('intfile.csv'))"
   ]
  },
  {
   "cell_type": "markdown",
   "id": "23576697",
   "metadata": {},
   "source": []
  },
  {
   "cell_type": "code",
   "execution_count": 21,
   "id": "0f4b0a9e",
   "metadata": {},
   "outputs": [
    {
     "data": {
      "text/html": [
       "<div>\n",
       "<style scoped>\n",
       "    .dataframe tbody tr th:only-of-type {\n",
       "        vertical-align: middle;\n",
       "    }\n",
       "\n",
       "    .dataframe tbody tr th {\n",
       "        vertical-align: top;\n",
       "    }\n",
       "\n",
       "    .dataframe thead th {\n",
       "        text-align: right;\n",
       "    }\n",
       "</style>\n",
       "<table border=\"1\" class=\"dataframe\">\n",
       "  <thead>\n",
       "    <tr style=\"text-align: right;\">\n",
       "      <th></th>\n",
       "      <th>Country_Region</th>\n",
       "      <th>Date</th>\n",
       "      <th>Doses_admin</th>\n",
       "      <th>People_partially_vaccinated</th>\n",
       "      <th>People_fully_vaccinated</th>\n",
       "      <th>Report_Date_String</th>\n",
       "      <th>UID</th>\n",
       "    </tr>\n",
       "  </thead>\n",
       "  <tbody>\n",
       "    <tr>\n",
       "      <th>0</th>\n",
       "      <td>Afghanistan</td>\n",
       "      <td>2021-02-22</td>\n",
       "      <td>0.0</td>\n",
       "      <td>0.0</td>\n",
       "      <td>0.0</td>\n",
       "      <td>2021/02/22</td>\n",
       "      <td>4.0</td>\n",
       "    </tr>\n",
       "    <tr>\n",
       "      <th>1</th>\n",
       "      <td>Afghanistan</td>\n",
       "      <td>2021-02-23</td>\n",
       "      <td>0.0</td>\n",
       "      <td>0.0</td>\n",
       "      <td>0.0</td>\n",
       "      <td>2021/02/23</td>\n",
       "      <td>4.0</td>\n",
       "    </tr>\n",
       "    <tr>\n",
       "      <th>2</th>\n",
       "      <td>Afghanistan</td>\n",
       "      <td>2021-02-24</td>\n",
       "      <td>0.0</td>\n",
       "      <td>0.0</td>\n",
       "      <td>0.0</td>\n",
       "      <td>2021/02/24</td>\n",
       "      <td>4.0</td>\n",
       "    </tr>\n",
       "    <tr>\n",
       "      <th>3</th>\n",
       "      <td>Afghanistan</td>\n",
       "      <td>2021-02-25</td>\n",
       "      <td>0.0</td>\n",
       "      <td>0.0</td>\n",
       "      <td>0.0</td>\n",
       "      <td>2021/02/25</td>\n",
       "      <td>4.0</td>\n",
       "    </tr>\n",
       "    <tr>\n",
       "      <th>4</th>\n",
       "      <td>Afghanistan</td>\n",
       "      <td>2021-02-26</td>\n",
       "      <td>0.0</td>\n",
       "      <td>0.0</td>\n",
       "      <td>0.0</td>\n",
       "      <td>2021/02/26</td>\n",
       "      <td>4.0</td>\n",
       "    </tr>\n",
       "    <tr>\n",
       "      <th>...</th>\n",
       "      <td>...</td>\n",
       "      <td>...</td>\n",
       "      <td>...</td>\n",
       "      <td>...</td>\n",
       "      <td>...</td>\n",
       "      <td>...</td>\n",
       "      <td>...</td>\n",
       "    </tr>\n",
       "    <tr>\n",
       "      <th>14037</th>\n",
       "      <td>Zimbabwe</td>\n",
       "      <td>2021-04-17</td>\n",
       "      <td>311901.0</td>\n",
       "      <td>276095.0</td>\n",
       "      <td>35806.0</td>\n",
       "      <td>2021/04/17</td>\n",
       "      <td>716.0</td>\n",
       "    </tr>\n",
       "    <tr>\n",
       "      <th>14038</th>\n",
       "      <td>Zimbabwe</td>\n",
       "      <td>2021-04-18</td>\n",
       "      <td>314446.0</td>\n",
       "      <td>278583.0</td>\n",
       "      <td>35863.0</td>\n",
       "      <td>2021/04/18</td>\n",
       "      <td>716.0</td>\n",
       "    </tr>\n",
       "    <tr>\n",
       "      <th>14039</th>\n",
       "      <td>Zimbabwe</td>\n",
       "      <td>2021-04-19</td>\n",
       "      <td>316991.0</td>\n",
       "      <td>280568.0</td>\n",
       "      <td>36423.0</td>\n",
       "      <td>2021/04/19</td>\n",
       "      <td>716.0</td>\n",
       "    </tr>\n",
       "    <tr>\n",
       "      <th>14040</th>\n",
       "      <td>Zimbabwe</td>\n",
       "      <td>2021-04-20</td>\n",
       "      <td>325007.0</td>\n",
       "      <td>288229.0</td>\n",
       "      <td>36778.0</td>\n",
       "      <td>2021/04/20</td>\n",
       "      <td>716.0</td>\n",
       "    </tr>\n",
       "    <tr>\n",
       "      <th>14041</th>\n",
       "      <td>Zimbabwe</td>\n",
       "      <td>2021-04-21</td>\n",
       "      <td>332996.0</td>\n",
       "      <td>295631.0</td>\n",
       "      <td>37365.0</td>\n",
       "      <td>2021/04/21</td>\n",
       "      <td>716.0</td>\n",
       "    </tr>\n",
       "  </tbody>\n",
       "</table>\n",
       "<p>14042 rows × 7 columns</p>\n",
       "</div>"
      ],
      "text/plain": [
       "      Country_Region        Date  Doses_admin  People_partially_vaccinated  \\\n",
       "0        Afghanistan  2021-02-22          0.0                          0.0   \n",
       "1        Afghanistan  2021-02-23          0.0                          0.0   \n",
       "2        Afghanistan  2021-02-24          0.0                          0.0   \n",
       "3        Afghanistan  2021-02-25          0.0                          0.0   \n",
       "4        Afghanistan  2021-02-26          0.0                          0.0   \n",
       "...              ...         ...          ...                          ...   \n",
       "14037       Zimbabwe  2021-04-17     311901.0                     276095.0   \n",
       "14038       Zimbabwe  2021-04-18     314446.0                     278583.0   \n",
       "14039       Zimbabwe  2021-04-19     316991.0                     280568.0   \n",
       "14040       Zimbabwe  2021-04-20     325007.0                     288229.0   \n",
       "14041       Zimbabwe  2021-04-21     332996.0                     295631.0   \n",
       "\n",
       "       People_fully_vaccinated Report_Date_String    UID  \n",
       "0                          0.0         2021/02/22    4.0  \n",
       "1                          0.0         2021/02/23    4.0  \n",
       "2                          0.0         2021/02/24    4.0  \n",
       "3                          0.0         2021/02/25    4.0  \n",
       "4                          0.0         2021/02/26    4.0  \n",
       "...                        ...                ...    ...  \n",
       "14037                  35806.0         2021/04/17  716.0  \n",
       "14038                  35863.0         2021/04/18  716.0  \n",
       "14039                  36423.0         2021/04/19  716.0  \n",
       "14040                  36778.0         2021/04/20  716.0  \n",
       "14041                  37365.0         2021/04/21  716.0  \n",
       "\n",
       "[14042 rows x 7 columns]"
      ]
     },
     "execution_count": 21,
     "metadata": {},
     "output_type": "execute_result"
    }
   ],
   "source": [
    "# Global Cases\n",
    "vax_GLO = pd.read_csv('https://raw.githubusercontent.com/govex/COVID-19/master/data_tables/vaccine_data/global_data/time_series_covid19_vaccine_global.csv')\n",
    "vax_GLO"
   ]
  },
  {
   "cell_type": "code",
   "execution_count": 26,
   "id": "ea7a061c",
   "metadata": {},
   "outputs": [
    {
     "data": {
      "text/html": [
       "<div>\n",
       "<style scoped>\n",
       "    .dataframe tbody tr th:only-of-type {\n",
       "        vertical-align: middle;\n",
       "    }\n",
       "\n",
       "    .dataframe tbody tr th {\n",
       "        vertical-align: top;\n",
       "    }\n",
       "\n",
       "    .dataframe thead th {\n",
       "        text-align: right;\n",
       "    }\n",
       "</style>\n",
       "<table border=\"1\" class=\"dataframe\">\n",
       "  <thead>\n",
       "    <tr style=\"text-align: right;\">\n",
       "      <th></th>\n",
       "      <th>Country_Region</th>\n",
       "      <th>Date</th>\n",
       "      <th>Doses_admin</th>\n",
       "      <th>People_partially_vaccinated</th>\n",
       "      <th>People_fully_vaccinated</th>\n",
       "      <th>Report_Date_String</th>\n",
       "      <th>UID</th>\n",
       "    </tr>\n",
       "  </thead>\n",
       "  <tbody>\n",
       "    <tr>\n",
       "      <th>13440</th>\n",
       "      <td>United States</td>\n",
       "      <td>2020-12-20</td>\n",
       "      <td>556208.0</td>\n",
       "      <td>556208.0</td>\n",
       "      <td>0.0</td>\n",
       "      <td>2020/12/20</td>\n",
       "      <td>840.0</td>\n",
       "    </tr>\n",
       "    <tr>\n",
       "      <th>13441</th>\n",
       "      <td>United States</td>\n",
       "      <td>2020-12-21</td>\n",
       "      <td>614117.0</td>\n",
       "      <td>614117.0</td>\n",
       "      <td>0.0</td>\n",
       "      <td>2020/12/21</td>\n",
       "      <td>840.0</td>\n",
       "    </tr>\n",
       "    <tr>\n",
       "      <th>13442</th>\n",
       "      <td>United States</td>\n",
       "      <td>2020-12-22</td>\n",
       "      <td>614117.0</td>\n",
       "      <td>614117.0</td>\n",
       "      <td>0.0</td>\n",
       "      <td>2020/12/22</td>\n",
       "      <td>840.0</td>\n",
       "    </tr>\n",
       "    <tr>\n",
       "      <th>13443</th>\n",
       "      <td>United States</td>\n",
       "      <td>2020-12-23</td>\n",
       "      <td>1008025.0</td>\n",
       "      <td>1008025.0</td>\n",
       "      <td>0.0</td>\n",
       "      <td>2020/12/23</td>\n",
       "      <td>840.0</td>\n",
       "    </tr>\n",
       "    <tr>\n",
       "      <th>13444</th>\n",
       "      <td>United States</td>\n",
       "      <td>2020-12-24</td>\n",
       "      <td>1008025.0</td>\n",
       "      <td>1008025.0</td>\n",
       "      <td>0.0</td>\n",
       "      <td>2020/12/24</td>\n",
       "      <td>840.0</td>\n",
       "    </tr>\n",
       "  </tbody>\n",
       "</table>\n",
       "</div>"
      ],
      "text/plain": [
       "      Country_Region        Date  Doses_admin  People_partially_vaccinated  \\\n",
       "13440  United States  2020-12-20     556208.0                     556208.0   \n",
       "13441  United States  2020-12-21     614117.0                     614117.0   \n",
       "13442  United States  2020-12-22     614117.0                     614117.0   \n",
       "13443  United States  2020-12-23    1008025.0                    1008025.0   \n",
       "13444  United States  2020-12-24    1008025.0                    1008025.0   \n",
       "\n",
       "       People_fully_vaccinated Report_Date_String    UID  \n",
       "13440                      0.0         2020/12/20  840.0  \n",
       "13441                      0.0         2020/12/21  840.0  \n",
       "13442                      0.0         2020/12/22  840.0  \n",
       "13443                      0.0         2020/12/23  840.0  \n",
       "13444                      0.0         2020/12/24  840.0  "
      ]
     },
     "execution_count": 26,
     "metadata": {},
     "output_type": "execute_result"
    }
   ],
   "source": [
    "# US daily vaccination data from Global dataset\n",
    "vax_GLO_USA = vax_GLO[vax_GLO.loc[:, 'Country_Region']=='United States']\n",
    "vax_GLO_USA.head()"
   ]
  },
  {
   "cell_type": "code",
   "execution_count": 29,
   "id": "64ed3179",
   "metadata": {},
   "outputs": [
    {
     "data": {
      "text/plain": [
       "13440   2020-12-20\n",
       "13441   2020-12-21\n",
       "13442   2020-12-22\n",
       "13443   2020-12-23\n",
       "13444   2020-12-24\n",
       "           ...    \n",
       "13559   2021-04-18\n",
       "13560   2021-04-19\n",
       "13561   2021-04-20\n",
       "13562   2021-04-21\n",
       "13563   2021-04-22\n",
       "Name: DateTime, Length: 124, dtype: datetime64[ns]"
      ]
     },
     "execution_count": 29,
     "metadata": {},
     "output_type": "execute_result"
    }
   ],
   "source": [
    "# Storing Dates as DateTime\n",
    "vax_GLO_USA.loc[:, 'DateTime'] = pd.to_datetime(vax_GLO_USA.loc[:, 'Date'], format='%Y-%m-%d')\n",
    "vax_GLO_USA.loc[:, 'DateTime']"
   ]
  },
  {
   "cell_type": "code",
   "execution_count": 30,
   "id": "81e156c3",
   "metadata": {},
   "outputs": [],
   "source": [
    "# vax_GLO_USA.loc[:, 'Doses_shipped']"
   ]
  },
  {
   "cell_type": "code",
   "execution_count": 31,
   "id": "9b43f06d",
   "metadata": {},
   "outputs": [],
   "source": [
    "# vax_GLO_USA[vax_GLO_USA.loc[:, 'Date'].duplicated()]"
   ]
  },
  {
   "cell_type": "code",
   "execution_count": 48,
   "id": "10c16813",
   "metadata": {},
   "outputs": [
    {
     "data": {
      "text/plain": [
       "Text(0.5, 1.0, 'Total Vaccinations Administered over Time (United States)')"
      ]
     },
     "execution_count": 48,
     "metadata": {},
     "output_type": "execute_result"
    },
    {
     "data": {
      "image/png": "[encoded data removed]",
      "text/plain": [
       "<Figure size 432x432 with 1 Axes>"
      ]
     },
     "metadata": {
      "needs_background": "light"
     },
     "output_type": "display_data"
    }
   ],
   "source": [
    "# US Vaccinations over Time\n",
    "plt.figure(figsize=(6,6))\n",
    "plt.plot(vax_GLO_USA.loc[:, 'DateTime'], vax_GLO_USA.loc[:, 'Doses_admin'])\n",
    "# plt.xticks(np.arange(min(x), max(x)+1, 1.0))\n",
    "plt.xlabel('Date')\n",
    "plt.ylabel('Total Vaccinations Administered')\n",
    "plt.title('Total Vaccinations Administered over Time (United States)')"
   ]
  },
  {
   "cell_type": "code",
   "execution_count": 49,
   "id": "61e95211",
   "metadata": {},
   "outputs": [],
   "source": [
    "# vax_GLO_USA.iloc[0:1].loc[:, 'Date']\n",
    "# vax_GLO_USA.iloc\n",
    "\n",
    "# vax_GLO_USA.loc[:, 'Doses_admin_sum'] = vax_GLO_USA.Doses_admin.cumsum()\n",
    "# vax_GLO_USA['Doses_shipped_sum'] = vax_GLO_USA.Doses_shipped.cumsum()"
   ]
  },
  {
   "cell_type": "markdown",
   "id": "b530c276",
   "metadata": {},
   "source": [
    "# US Cases --> US State Cases"
   ]
  },
  {
   "cell_type": "code",
   "execution_count": 50,
   "id": "aa19210e",
   "metadata": {},
   "outputs": [
    {
     "data": {
      "text/html": [
       "<div>\n",
       "<style scoped>\n",
       "    .dataframe tbody tr th:only-of-type {\n",
       "        vertical-align: middle;\n",
       "    }\n",
       "\n",
       "    .dataframe tbody tr th {\n",
       "        vertical-align: top;\n",
       "    }\n",
       "\n",
       "    .dataframe thead th {\n",
       "        text-align: right;\n",
       "    }\n",
       "</style>\n",
       "<table border=\"1\" class=\"dataframe\">\n",
       "  <thead>\n",
       "    <tr style=\"text-align: right;\">\n",
       "      <th></th>\n",
       "      <th>Province_State</th>\n",
       "      <th>Date</th>\n",
       "      <th>Vaccine_Type</th>\n",
       "      <th>FIPS</th>\n",
       "      <th>Country_Region</th>\n",
       "      <th>Lat</th>\n",
       "      <th>Long_</th>\n",
       "      <th>Doses_alloc</th>\n",
       "      <th>Doses_shipped</th>\n",
       "      <th>Doses_admin</th>\n",
       "      <th>Stage_One_Doses</th>\n",
       "      <th>Stage_Two_Doses</th>\n",
       "      <th>Combined_Key</th>\n",
       "    </tr>\n",
       "  </thead>\n",
       "  <tbody>\n",
       "    <tr>\n",
       "      <th>0</th>\n",
       "      <td>Alabama</td>\n",
       "      <td>2020-12-10</td>\n",
       "      <td>All</td>\n",
       "      <td>1.0</td>\n",
       "      <td>US</td>\n",
       "      <td>32.3182</td>\n",
       "      <td>-86.9023</td>\n",
       "      <td>NaN</td>\n",
       "      <td>NaN</td>\n",
       "      <td>NaN</td>\n",
       "      <td>NaN</td>\n",
       "      <td>NaN</td>\n",
       "      <td>Alabama, US</td>\n",
       "    </tr>\n",
       "    <tr>\n",
       "      <th>3</th>\n",
       "      <td>Alabama</td>\n",
       "      <td>2020-12-11</td>\n",
       "      <td>All</td>\n",
       "      <td>1.0</td>\n",
       "      <td>US</td>\n",
       "      <td>32.3182</td>\n",
       "      <td>-86.9023</td>\n",
       "      <td>NaN</td>\n",
       "      <td>NaN</td>\n",
       "      <td>NaN</td>\n",
       "      <td>NaN</td>\n",
       "      <td>NaN</td>\n",
       "      <td>Alabama, US</td>\n",
       "    </tr>\n",
       "    <tr>\n",
       "      <th>6</th>\n",
       "      <td>Alabama</td>\n",
       "      <td>2020-12-12</td>\n",
       "      <td>All</td>\n",
       "      <td>1.0</td>\n",
       "      <td>US</td>\n",
       "      <td>32.3182</td>\n",
       "      <td>-86.9023</td>\n",
       "      <td>NaN</td>\n",
       "      <td>NaN</td>\n",
       "      <td>NaN</td>\n",
       "      <td>NaN</td>\n",
       "      <td>NaN</td>\n",
       "      <td>Alabama, US</td>\n",
       "    </tr>\n",
       "    <tr>\n",
       "      <th>9</th>\n",
       "      <td>Alabama</td>\n",
       "      <td>2020-12-13</td>\n",
       "      <td>All</td>\n",
       "      <td>1.0</td>\n",
       "      <td>US</td>\n",
       "      <td>32.3182</td>\n",
       "      <td>-86.9023</td>\n",
       "      <td>NaN</td>\n",
       "      <td>NaN</td>\n",
       "      <td>NaN</td>\n",
       "      <td>NaN</td>\n",
       "      <td>NaN</td>\n",
       "      <td>Alabama, US</td>\n",
       "    </tr>\n",
       "    <tr>\n",
       "      <th>12</th>\n",
       "      <td>Alabama</td>\n",
       "      <td>2020-12-14</td>\n",
       "      <td>All</td>\n",
       "      <td>1.0</td>\n",
       "      <td>US</td>\n",
       "      <td>32.3182</td>\n",
       "      <td>-86.9023</td>\n",
       "      <td>40950.0</td>\n",
       "      <td>NaN</td>\n",
       "      <td>NaN</td>\n",
       "      <td>NaN</td>\n",
       "      <td>NaN</td>\n",
       "      <td>Alabama, US</td>\n",
       "    </tr>\n",
       "    <tr>\n",
       "      <th>...</th>\n",
       "      <td>...</td>\n",
       "      <td>...</td>\n",
       "      <td>...</td>\n",
       "      <td>...</td>\n",
       "      <td>...</td>\n",
       "      <td>...</td>\n",
       "      <td>...</td>\n",
       "      <td>...</td>\n",
       "      <td>...</td>\n",
       "      <td>...</td>\n",
       "      <td>...</td>\n",
       "      <td>...</td>\n",
       "      <td>...</td>\n",
       "    </tr>\n",
       "    <tr>\n",
       "      <th>28746</th>\n",
       "      <td>Department of Defense</td>\n",
       "      <td>2021-04-22</td>\n",
       "      <td>All</td>\n",
       "      <td>NaN</td>\n",
       "      <td>US</td>\n",
       "      <td>NaN</td>\n",
       "      <td>NaN</td>\n",
       "      <td>NaN</td>\n",
       "      <td>3436910.0</td>\n",
       "      <td>2613336.0</td>\n",
       "      <td>1640776.0</td>\n",
       "      <td>897226.0</td>\n",
       "      <td>Department of Defense, US</td>\n",
       "    </tr>\n",
       "    <tr>\n",
       "      <th>28751</th>\n",
       "      <td>Federal Bureau of Prisons</td>\n",
       "      <td>2021-04-22</td>\n",
       "      <td>All</td>\n",
       "      <td>NaN</td>\n",
       "      <td>US</td>\n",
       "      <td>NaN</td>\n",
       "      <td>NaN</td>\n",
       "      <td>NaN</td>\n",
       "      <td>147940.0</td>\n",
       "      <td>134268.0</td>\n",
       "      <td>78922.0</td>\n",
       "      <td>54680.0</td>\n",
       "      <td>Federal Bureau of Prisons, US</td>\n",
       "    </tr>\n",
       "    <tr>\n",
       "      <th>28756</th>\n",
       "      <td>Indian Health Services</td>\n",
       "      <td>2021-04-22</td>\n",
       "      <td>All</td>\n",
       "      <td>NaN</td>\n",
       "      <td>US</td>\n",
       "      <td>NaN</td>\n",
       "      <td>NaN</td>\n",
       "      <td>NaN</td>\n",
       "      <td>1666225.0</td>\n",
       "      <td>1174252.0</td>\n",
       "      <td>690624.0</td>\n",
       "      <td>476312.0</td>\n",
       "      <td>Indian Health Services, US</td>\n",
       "    </tr>\n",
       "    <tr>\n",
       "      <th>28761</th>\n",
       "      <td>Long Term Care (LTC) Program</td>\n",
       "      <td>2021-04-22</td>\n",
       "      <td>All</td>\n",
       "      <td>NaN</td>\n",
       "      <td>US</td>\n",
       "      <td>NaN</td>\n",
       "      <td>NaN</td>\n",
       "      <td>NaN</td>\n",
       "      <td>NaN</td>\n",
       "      <td>7782215.0</td>\n",
       "      <td>NaN</td>\n",
       "      <td>NaN</td>\n",
       "      <td>Long Term Care (LTC) Program, US</td>\n",
       "    </tr>\n",
       "    <tr>\n",
       "      <th>28766</th>\n",
       "      <td>Veterans Health Administration</td>\n",
       "      <td>2021-04-22</td>\n",
       "      <td>All</td>\n",
       "      <td>NaN</td>\n",
       "      <td>US</td>\n",
       "      <td>NaN</td>\n",
       "      <td>NaN</td>\n",
       "      <td>NaN</td>\n",
       "      <td>6131045.0</td>\n",
       "      <td>4709800.0</td>\n",
       "      <td>2619046.0</td>\n",
       "      <td>2088759.0</td>\n",
       "      <td>Veterans Health Administration, US</td>\n",
       "    </tr>\n",
       "  </tbody>\n",
       "</table>\n",
       "<p>8411 rows × 13 columns</p>\n",
       "</div>"
      ],
      "text/plain": [
       "                       Province_State        Date Vaccine_Type  FIPS  \\\n",
       "0                             Alabama  2020-12-10          All   1.0   \n",
       "3                             Alabama  2020-12-11          All   1.0   \n",
       "6                             Alabama  2020-12-12          All   1.0   \n",
       "9                             Alabama  2020-12-13          All   1.0   \n",
       "12                            Alabama  2020-12-14          All   1.0   \n",
       "...                               ...         ...          ...   ...   \n",
       "28746           Department of Defense  2021-04-22          All   NaN   \n",
       "28751       Federal Bureau of Prisons  2021-04-22          All   NaN   \n",
       "28756          Indian Health Services  2021-04-22          All   NaN   \n",
       "28761    Long Term Care (LTC) Program  2021-04-22          All   NaN   \n",
       "28766  Veterans Health Administration  2021-04-22          All   NaN   \n",
       "\n",
       "      Country_Region      Lat    Long_  Doses_alloc  Doses_shipped  \\\n",
       "0                 US  32.3182 -86.9023          NaN            NaN   \n",
       "3                 US  32.3182 -86.9023          NaN            NaN   \n",
       "6                 US  32.3182 -86.9023          NaN            NaN   \n",
       "9                 US  32.3182 -86.9023          NaN            NaN   \n",
       "12                US  32.3182 -86.9023      40950.0            NaN   \n",
       "...              ...      ...      ...          ...            ...   \n",
       "28746             US      NaN      NaN          NaN      3436910.0   \n",
       "28751             US      NaN      NaN          NaN       147940.0   \n",
       "28756             US      NaN      NaN          NaN      1666225.0   \n",
       "28761             US      NaN      NaN          NaN            NaN   \n",
       "28766             US      NaN      NaN          NaN      6131045.0   \n",
       "\n",
       "       Doses_admin  Stage_One_Doses  Stage_Two_Doses  \\\n",
       "0              NaN              NaN              NaN   \n",
       "3              NaN              NaN              NaN   \n",
       "6              NaN              NaN              NaN   \n",
       "9              NaN              NaN              NaN   \n",
       "12             NaN              NaN              NaN   \n",
       "...            ...              ...              ...   \n",
       "28746    2613336.0        1640776.0         897226.0   \n",
       "28751     134268.0          78922.0          54680.0   \n",
       "28756    1174252.0         690624.0         476312.0   \n",
       "28761    7782215.0              NaN              NaN   \n",
       "28766    4709800.0        2619046.0        2088759.0   \n",
       "\n",
       "                             Combined_Key  \n",
       "0                             Alabama, US  \n",
       "3                             Alabama, US  \n",
       "6                             Alabama, US  \n",
       "9                             Alabama, US  \n",
       "12                            Alabama, US  \n",
       "...                                   ...  \n",
       "28746           Department of Defense, US  \n",
       "28751       Federal Bureau of Prisons, US  \n",
       "28756          Indian Health Services, US  \n",
       "28761    Long Term Care (LTC) Program, US  \n",
       "28766  Veterans Health Administration, US  \n",
       "\n",
       "[8411 rows x 13 columns]"
      ]
     },
     "execution_count": 50,
     "metadata": {},
     "output_type": "execute_result"
    }
   ],
   "source": [
    "# Only USA data for All types of vaccines\n",
    "\n",
    "vax_USA = pd.read_csv('https://raw.githubusercontent.com/govex/COVID-19/master/data_tables/vaccine_data/us_data/time_series/vaccine_data_us_timeline.csv')\n",
    "vax_USA_All = vax_USA[vax_USA.loc[:, 'Vaccine_Type'] == 'All']\n",
    "vax_USA_All"
   ]
  },
  {
   "cell_type": "code",
   "execution_count": 52,
   "id": "83d5515b",
   "metadata": {},
   "outputs": [],
   "source": [
    "# Adding column for dates as DateTime\n",
    "\n",
    "vax_USA_All.loc[:, 'DateTime'] = pd.to_datetime(vax_USA_All.loc[:, 'Date'], format='%Y-%m-%d')"
   ]
  },
  {
   "cell_type": "code",
   "execution_count": 51,
   "id": "346fb52a",
   "metadata": {},
   "outputs": [
    {
     "name": "stderr",
     "output_type": "stream",
     "text": [
      "C:\\Users\\Akash Nivarthi\\anaconda3\\lib\\site-packages\\pandas\\core\\indexing.py:1597: SettingWithCopyWarning: \n",
      "A value is trying to be set on a copy of a slice from a DataFrame.\n",
      "Try using .loc[row_indexer,col_indexer] = value instead\n",
      "\n",
      "See the caveats in the documentation: https://pandas.pydata.org/pandas-docs/stable/user_guide/indexing.html#returning-a-view-versus-a-copy\n",
      "  self.obj[key] = value\n",
      "C:\\Users\\Akash Nivarthi\\anaconda3\\lib\\site-packages\\pandas\\core\\indexing.py:1676: SettingWithCopyWarning: \n",
      "A value is trying to be set on a copy of a slice from a DataFrame.\n",
      "Try using .loc[row_indexer,col_indexer] = value instead\n",
      "\n",
      "See the caveats in the documentation: https://pandas.pydata.org/pandas-docs/stable/user_guide/indexing.html#returning-a-view-versus-a-copy\n",
      "  self._setitem_single_column(ilocs[0], value, pi)\n"
     ]
    }
   ],
   "source": [
    "# Cumulative efficiency = (Total doses administered so far)/(Total doses shipped so far)\n",
    "\n",
    "vax_USA_All.loc[:, 'Cumulative_efficiency'] = vax_USA_All.loc[:, 'Doses_admin'] / vax_USA_All.loc[:, 'Doses_shipped']"
   ]
  },
  {
   "cell_type": "code",
   "execution_count": 53,
   "id": "f4d94ecf",
   "metadata": {},
   "outputs": [],
   "source": [
    "# vax_USA_All"
   ]
  },
  {
   "cell_type": "code",
   "execution_count": 54,
   "id": "51820ef4",
   "metadata": {},
   "outputs": [],
   "source": [
    "# vax_USA_AL = vax_USA_All[vax_USA_All.loc[:, 'Province_State']=='Alabama']\n",
    "# vax_USA_AL"
   ]
  },
  {
   "cell_type": "code",
   "execution_count": 55,
   "id": "a9d0fc46",
   "metadata": {},
   "outputs": [],
   "source": [
    "# vax_USA_AL_ri = vax_USA_AL.reset_index(drop=True)\n",
    "# vax_USA_AL_ri"
   ]
  },
  {
   "cell_type": "code",
   "execution_count": 56,
   "id": "c7728868",
   "metadata": {},
   "outputs": [],
   "source": [
    "# plt.plot( vax_USA_AL_ri.index,\n",
    "#           vax_USA_AL_ri.loc[:, 'Cumulative_efficiency'] )"
   ]
  },
  {
   "cell_type": "code",
   "execution_count": 18,
   "id": "86ebe564",
   "metadata": {},
   "outputs": [],
   "source": [
    "# vax_USA_AL_ri.loc[120:130]"
   ]
  },
  {
   "cell_type": "markdown",
   "id": "c815af72",
   "metadata": {},
   "source": [
    "### US Vaccinations, Collected by State"
   ]
  },
  {
   "cell_type": "code",
   "execution_count": 57,
   "id": "903ffd7c",
   "metadata": {},
   "outputs": [
    {
     "data": {
      "text/html": [
       "<div>\n",
       "<style scoped>\n",
       "    .dataframe tbody tr th:only-of-type {\n",
       "        vertical-align: middle;\n",
       "    }\n",
       "\n",
       "    .dataframe tbody tr th {\n",
       "        vertical-align: top;\n",
       "    }\n",
       "\n",
       "    .dataframe thead th {\n",
       "        text-align: right;\n",
       "    }\n",
       "</style>\n",
       "<table border=\"1\" class=\"dataframe\">\n",
       "  <thead>\n",
       "    <tr style=\"text-align: right;\">\n",
       "      <th></th>\n",
       "      <th>1</th>\n",
       "    </tr>\n",
       "    <tr>\n",
       "      <th>0</th>\n",
       "      <th></th>\n",
       "    </tr>\n",
       "  </thead>\n",
       "  <tbody>\n",
       "    <tr>\n",
       "      <th>Alabama</th>\n",
       "      <td>Province_State        Date Vaccine_Type ...</td>\n",
       "    </tr>\n",
       "    <tr>\n",
       "      <th>Alaska</th>\n",
       "      <td>Province_State        Date Vaccine_Type ...</td>\n",
       "    </tr>\n",
       "    <tr>\n",
       "      <th>American Samoa</th>\n",
       "      <td>Province_State        Date Vaccine_Type...</td>\n",
       "    </tr>\n",
       "    <tr>\n",
       "      <th>Arizona</th>\n",
       "      <td>Province_State        Date Vaccine_Type ...</td>\n",
       "    </tr>\n",
       "    <tr>\n",
       "      <th>Arkansas</th>\n",
       "      <td>Province_State        Date Vaccine_Type ...</td>\n",
       "    </tr>\n",
       "    <tr>\n",
       "      <th>...</th>\n",
       "      <td>...</td>\n",
       "    </tr>\n",
       "    <tr>\n",
       "      <th>Virginia</th>\n",
       "      <td>Province_State        Date Vaccine_Type ...</td>\n",
       "    </tr>\n",
       "    <tr>\n",
       "      <th>Washington</th>\n",
       "      <td>Province_State        Date Vaccine_Type ...</td>\n",
       "    </tr>\n",
       "    <tr>\n",
       "      <th>West Virginia</th>\n",
       "      <td>Province_State        Date Vaccine_Type ...</td>\n",
       "    </tr>\n",
       "    <tr>\n",
       "      <th>Wisconsin</th>\n",
       "      <td>Province_State        Date Vaccine_Type ...</td>\n",
       "    </tr>\n",
       "    <tr>\n",
       "      <th>Wyoming</th>\n",
       "      <td>Province_State        Date Vaccine_Type ...</td>\n",
       "    </tr>\n",
       "  </tbody>\n",
       "</table>\n",
       "<p>65 rows × 1 columns</p>\n",
       "</div>"
      ],
      "text/plain": [
       "                                                                1\n",
       "0                                                                \n",
       "Alabama               Province_State        Date Vaccine_Type ...\n",
       "Alaska                Province_State        Date Vaccine_Type ...\n",
       "American Samoa         Province_State        Date Vaccine_Type...\n",
       "Arizona               Province_State        Date Vaccine_Type ...\n",
       "Arkansas              Province_State        Date Vaccine_Type ...\n",
       "...                                                           ...\n",
       "Virginia              Province_State        Date Vaccine_Type ...\n",
       "Washington            Province_State        Date Vaccine_Type ...\n",
       "West Virginia         Province_State        Date Vaccine_Type ...\n",
       "Wisconsin             Province_State        Date Vaccine_Type ...\n",
       "Wyoming               Province_State        Date Vaccine_Type ...\n",
       "\n",
       "[65 rows x 1 columns]"
      ]
     },
     "execution_count": 57,
     "metadata": {},
     "output_type": "execute_result"
    }
   ],
   "source": [
    "# This dataset stores the collection of each state's vaccination data for All vaccines in each row, indexed by state name\n",
    "\n",
    "byState = pd.DataFrame(vax_USA_All.groupby('Province_State'))\n",
    "byState.set_index(0, inplace=True)\n",
    "byState"
   ]
  },
  {
   "cell_type": "code",
   "execution_count": 80,
   "id": "e2711021",
   "metadata": {},
   "outputs": [],
   "source": [
    "# vax_USA_AL_ri.loc[:, 'DateTime']"
   ]
  },
  {
   "cell_type": "code",
   "execution_count": 119,
   "id": "7b050a53",
   "metadata": {},
   "outputs": [],
   "source": [
    "# Analyze one state\n",
    "StateName = 'Wyoming'"
   ]
  },
  {
   "cell_type": "code",
   "execution_count": 120,
   "id": "c3db4937",
   "metadata": {},
   "outputs": [],
   "source": [
    "# byState.loc['Alabama', 1]"
   ]
  },
  {
   "cell_type": "code",
   "execution_count": 129,
   "id": "d87f7157",
   "metadata": {},
   "outputs": [
    {
     "data": {
      "text/html": [
       "<div>\n",
       "<style scoped>\n",
       "    .dataframe tbody tr th:only-of-type {\n",
       "        vertical-align: middle;\n",
       "    }\n",
       "\n",
       "    .dataframe tbody tr th {\n",
       "        vertical-align: top;\n",
       "    }\n",
       "\n",
       "    .dataframe thead th {\n",
       "        text-align: right;\n",
       "    }\n",
       "</style>\n",
       "<table border=\"1\" class=\"dataframe\">\n",
       "  <thead>\n",
       "    <tr style=\"text-align: right;\">\n",
       "      <th></th>\n",
       "      <th>Province_State</th>\n",
       "      <th>Date</th>\n",
       "      <th>Vaccine_Type</th>\n",
       "      <th>FIPS</th>\n",
       "      <th>Country_Region</th>\n",
       "      <th>Lat</th>\n",
       "      <th>Long_</th>\n",
       "      <th>Doses_alloc</th>\n",
       "      <th>Doses_shipped</th>\n",
       "      <th>Doses_admin</th>\n",
       "      <th>Stage_One_Doses</th>\n",
       "      <th>Stage_Two_Doses</th>\n",
       "      <th>Combined_Key</th>\n",
       "      <th>Cumulative_efficiency</th>\n",
       "      <th>DateTime</th>\n",
       "      <th>Doses_admin_today</th>\n",
       "    </tr>\n",
       "  </thead>\n",
       "  <tbody>\n",
       "    <tr>\n",
       "      <th>17175</th>\n",
       "      <td>Wyoming</td>\n",
       "      <td>2020-12-10</td>\n",
       "      <td>All</td>\n",
       "      <td>56.0</td>\n",
       "      <td>US</td>\n",
       "      <td>42.756</td>\n",
       "      <td>-107.3025</td>\n",
       "      <td>NaN</td>\n",
       "      <td>NaN</td>\n",
       "      <td>NaN</td>\n",
       "      <td>NaN</td>\n",
       "      <td>NaN</td>\n",
       "      <td>Wyoming, US</td>\n",
       "      <td>NaN</td>\n",
       "      <td>2020-12-10</td>\n",
       "      <td>NaN</td>\n",
       "    </tr>\n",
       "    <tr>\n",
       "      <th>17178</th>\n",
       "      <td>Wyoming</td>\n",
       "      <td>2020-12-11</td>\n",
       "      <td>All</td>\n",
       "      <td>56.0</td>\n",
       "      <td>US</td>\n",
       "      <td>42.756</td>\n",
       "      <td>-107.3025</td>\n",
       "      <td>NaN</td>\n",
       "      <td>NaN</td>\n",
       "      <td>NaN</td>\n",
       "      <td>NaN</td>\n",
       "      <td>NaN</td>\n",
       "      <td>Wyoming, US</td>\n",
       "      <td>NaN</td>\n",
       "      <td>2020-12-11</td>\n",
       "      <td>NaN</td>\n",
       "    </tr>\n",
       "    <tr>\n",
       "      <th>17181</th>\n",
       "      <td>Wyoming</td>\n",
       "      <td>2020-12-12</td>\n",
       "      <td>All</td>\n",
       "      <td>56.0</td>\n",
       "      <td>US</td>\n",
       "      <td>42.756</td>\n",
       "      <td>-107.3025</td>\n",
       "      <td>NaN</td>\n",
       "      <td>NaN</td>\n",
       "      <td>NaN</td>\n",
       "      <td>NaN</td>\n",
       "      <td>NaN</td>\n",
       "      <td>Wyoming, US</td>\n",
       "      <td>NaN</td>\n",
       "      <td>2020-12-12</td>\n",
       "      <td>NaN</td>\n",
       "    </tr>\n",
       "    <tr>\n",
       "      <th>17184</th>\n",
       "      <td>Wyoming</td>\n",
       "      <td>2020-12-13</td>\n",
       "      <td>All</td>\n",
       "      <td>56.0</td>\n",
       "      <td>US</td>\n",
       "      <td>42.756</td>\n",
       "      <td>-107.3025</td>\n",
       "      <td>NaN</td>\n",
       "      <td>NaN</td>\n",
       "      <td>NaN</td>\n",
       "      <td>NaN</td>\n",
       "      <td>NaN</td>\n",
       "      <td>Wyoming, US</td>\n",
       "      <td>NaN</td>\n",
       "      <td>2020-12-13</td>\n",
       "      <td>NaN</td>\n",
       "    </tr>\n",
       "    <tr>\n",
       "      <th>17187</th>\n",
       "      <td>Wyoming</td>\n",
       "      <td>2020-12-14</td>\n",
       "      <td>All</td>\n",
       "      <td>56.0</td>\n",
       "      <td>US</td>\n",
       "      <td>42.756</td>\n",
       "      <td>-107.3025</td>\n",
       "      <td>27075.0</td>\n",
       "      <td>4875.0</td>\n",
       "      <td>NaN</td>\n",
       "      <td>NaN</td>\n",
       "      <td>NaN</td>\n",
       "      <td>Wyoming, US</td>\n",
       "      <td>NaN</td>\n",
       "      <td>2020-12-14</td>\n",
       "      <td>NaN</td>\n",
       "    </tr>\n",
       "    <tr>\n",
       "      <th>...</th>\n",
       "      <td>...</td>\n",
       "      <td>...</td>\n",
       "      <td>...</td>\n",
       "      <td>...</td>\n",
       "      <td>...</td>\n",
       "      <td>...</td>\n",
       "      <td>...</td>\n",
       "      <td>...</td>\n",
       "      <td>...</td>\n",
       "      <td>...</td>\n",
       "      <td>...</td>\n",
       "      <td>...</td>\n",
       "      <td>...</td>\n",
       "      <td>...</td>\n",
       "      <td>...</td>\n",
       "      <td>...</td>\n",
       "    </tr>\n",
       "    <tr>\n",
       "      <th>27496</th>\n",
       "      <td>Wyoming</td>\n",
       "      <td>2021-04-18</td>\n",
       "      <td>All</td>\n",
       "      <td>56.0</td>\n",
       "      <td>US</td>\n",
       "      <td>42.756</td>\n",
       "      <td>-107.3025</td>\n",
       "      <td>NaN</td>\n",
       "      <td>468615.0</td>\n",
       "      <td>323593.0</td>\n",
       "      <td>186241.0</td>\n",
       "      <td>129184.0</td>\n",
       "      <td>Wyoming, US</td>\n",
       "      <td>0.690531</td>\n",
       "      <td>2021-04-18</td>\n",
       "      <td>196.0</td>\n",
       "    </tr>\n",
       "    <tr>\n",
       "      <th>27801</th>\n",
       "      <td>Wyoming</td>\n",
       "      <td>2021-04-19</td>\n",
       "      <td>All</td>\n",
       "      <td>56.0</td>\n",
       "      <td>US</td>\n",
       "      <td>42.756</td>\n",
       "      <td>-107.3025</td>\n",
       "      <td>NaN</td>\n",
       "      <td>468615.0</td>\n",
       "      <td>323699.0</td>\n",
       "      <td>186359.0</td>\n",
       "      <td>129238.0</td>\n",
       "      <td>Wyoming, US</td>\n",
       "      <td>0.690757</td>\n",
       "      <td>2021-04-19</td>\n",
       "      <td>106.0</td>\n",
       "    </tr>\n",
       "    <tr>\n",
       "      <th>28106</th>\n",
       "      <td>Wyoming</td>\n",
       "      <td>2021-04-20</td>\n",
       "      <td>All</td>\n",
       "      <td>56.0</td>\n",
       "      <td>US</td>\n",
       "      <td>42.756</td>\n",
       "      <td>-107.3025</td>\n",
       "      <td>NaN</td>\n",
       "      <td>468615.0</td>\n",
       "      <td>323956.0</td>\n",
       "      <td>186518.0</td>\n",
       "      <td>129368.0</td>\n",
       "      <td>Wyoming, US</td>\n",
       "      <td>0.691305</td>\n",
       "      <td>2021-04-20</td>\n",
       "      <td>257.0</td>\n",
       "    </tr>\n",
       "    <tr>\n",
       "      <th>28411</th>\n",
       "      <td>Wyoming</td>\n",
       "      <td>2021-04-21</td>\n",
       "      <td>All</td>\n",
       "      <td>56.0</td>\n",
       "      <td>US</td>\n",
       "      <td>42.756</td>\n",
       "      <td>-107.3025</td>\n",
       "      <td>NaN</td>\n",
       "      <td>469615.0</td>\n",
       "      <td>332765.0</td>\n",
       "      <td>189818.0</td>\n",
       "      <td>134311.0</td>\n",
       "      <td>Wyoming, US</td>\n",
       "      <td>0.708591</td>\n",
       "      <td>2021-04-21</td>\n",
       "      <td>8809.0</td>\n",
       "    </tr>\n",
       "    <tr>\n",
       "      <th>28716</th>\n",
       "      <td>Wyoming</td>\n",
       "      <td>2021-04-22</td>\n",
       "      <td>All</td>\n",
       "      <td>56.0</td>\n",
       "      <td>US</td>\n",
       "      <td>42.756</td>\n",
       "      <td>-107.3025</td>\n",
       "      <td>NaN</td>\n",
       "      <td>472315.0</td>\n",
       "      <td>332929.0</td>\n",
       "      <td>189930.0</td>\n",
       "      <td>134428.0</td>\n",
       "      <td>Wyoming, US</td>\n",
       "      <td>0.704888</td>\n",
       "      <td>2021-04-22</td>\n",
       "      <td>164.0</td>\n",
       "    </tr>\n",
       "  </tbody>\n",
       "</table>\n",
       "<p>134 rows × 16 columns</p>\n",
       "</div>"
      ],
      "text/plain": [
       "      Province_State        Date Vaccine_Type  FIPS Country_Region     Lat  \\\n",
       "17175        Wyoming  2020-12-10          All  56.0             US  42.756   \n",
       "17178        Wyoming  2020-12-11          All  56.0             US  42.756   \n",
       "17181        Wyoming  2020-12-12          All  56.0             US  42.756   \n",
       "17184        Wyoming  2020-12-13          All  56.0             US  42.756   \n",
       "17187        Wyoming  2020-12-14          All  56.0             US  42.756   \n",
       "...              ...         ...          ...   ...            ...     ...   \n",
       "27496        Wyoming  2021-04-18          All  56.0             US  42.756   \n",
       "27801        Wyoming  2021-04-19          All  56.0             US  42.756   \n",
       "28106        Wyoming  2021-04-20          All  56.0             US  42.756   \n",
       "28411        Wyoming  2021-04-21          All  56.0             US  42.756   \n",
       "28716        Wyoming  2021-04-22          All  56.0             US  42.756   \n",
       "\n",
       "          Long_  Doses_alloc  Doses_shipped  Doses_admin  Stage_One_Doses  \\\n",
       "17175 -107.3025          NaN            NaN          NaN              NaN   \n",
       "17178 -107.3025          NaN            NaN          NaN              NaN   \n",
       "17181 -107.3025          NaN            NaN          NaN              NaN   \n",
       "17184 -107.3025          NaN            NaN          NaN              NaN   \n",
       "17187 -107.3025      27075.0         4875.0          NaN              NaN   \n",
       "...         ...          ...            ...          ...              ...   \n",
       "27496 -107.3025          NaN       468615.0     323593.0         186241.0   \n",
       "27801 -107.3025          NaN       468615.0     323699.0         186359.0   \n",
       "28106 -107.3025          NaN       468615.0     323956.0         186518.0   \n",
       "28411 -107.3025          NaN       469615.0     332765.0         189818.0   \n",
       "28716 -107.3025          NaN       472315.0     332929.0         189930.0   \n",
       "\n",
       "       Stage_Two_Doses Combined_Key  Cumulative_efficiency   DateTime  \\\n",
       "17175              NaN  Wyoming, US                    NaN 2020-12-10   \n",
       "17178              NaN  Wyoming, US                    NaN 2020-12-11   \n",
       "17181              NaN  Wyoming, US                    NaN 2020-12-12   \n",
       "17184              NaN  Wyoming, US                    NaN 2020-12-13   \n",
       "17187              NaN  Wyoming, US                    NaN 2020-12-14   \n",
       "...                ...          ...                    ...        ...   \n",
       "27496         129184.0  Wyoming, US               0.690531 2021-04-18   \n",
       "27801         129238.0  Wyoming, US               0.690757 2021-04-19   \n",
       "28106         129368.0  Wyoming, US               0.691305 2021-04-20   \n",
       "28411         134311.0  Wyoming, US               0.708591 2021-04-21   \n",
       "28716         134428.0  Wyoming, US               0.704888 2021-04-22   \n",
       "\n",
       "       Doses_admin_today  \n",
       "17175                NaN  \n",
       "17178                NaN  \n",
       "17181                NaN  \n",
       "17184                NaN  \n",
       "17187                NaN  \n",
       "...                  ...  \n",
       "27496              196.0  \n",
       "27801              106.0  \n",
       "28106              257.0  \n",
       "28411             8809.0  \n",
       "28716              164.0  \n",
       "\n",
       "[134 rows x 16 columns]"
      ]
     },
     "execution_count": 129,
     "metadata": {},
     "output_type": "execute_result"
    }
   ],
   "source": [
    "# Number of doses administered each day: difference in day-to-day total dose count\n",
    "\n",
    "for State in byState.index:\n",
    "    byState.loc[State, 1].loc[:, 'Doses_admin_today'] = byState.loc[State, 1].loc[:, 'Doses_admin'].diff()\n",
    "\n",
    "StateData = byState.loc[StateName, 1]\n",
    "StateData"
   ]
  },
  {
   "cell_type": "code",
   "execution_count": 122,
   "id": "7166224f",
   "metadata": {},
   "outputs": [
    {
     "data": {
      "text/plain": [
       "Text(0, 0.5, 'Cumulative Efficiency')"
      ]
     },
     "execution_count": 122,
     "metadata": {},
     "output_type": "execute_result"
    },
    {
     "data": {
      "image/png": "[encoded data removed]",
      "text/plain": [
       "<Figure size 432x288 with 1 Axes>"
      ]
     },
     "metadata": {
      "needs_background": "light"
     },
     "output_type": "display_data"
    }
   ],
   "source": [
    "# Plotting Washington Cumulative Efficiency over Time\n",
    "\n",
    "plt.plot(StateData.loc[:, 'DateTime'], StateData.loc[:, 'Cumulative_efficiency'])\n",
    "plt.title('Cumulative Efficiency of Vaccine Administration in ' + StateName)\n",
    "plt.xlabel('Date')\n",
    "plt.ylabel('Cumulative Efficiency')"
   ]
  },
  {
   "cell_type": "code",
   "execution_count": 123,
   "id": "e80135fa",
   "metadata": {},
   "outputs": [
    {
     "data": {
      "text/plain": [
       "Text(0, 0.5, 'Cumulative Doses Administered')"
      ]
     },
     "execution_count": 123,
     "metadata": {},
     "output_type": "execute_result"
    },
    {
     "data": {
      "image/png": "[encoded data removed]",
      "text/plain": [
       "<Figure size 432x288 with 1 Axes>"
      ]
     },
     "metadata": {
      "needs_background": "light"
     },
     "output_type": "display_data"
    }
   ],
   "source": [
    "# Plotting Washington Total Doses Admin over Time\n",
    "\n",
    "plt.plot(StateData.loc[:, 'DateTime'], StateData.loc[:, 'Doses_admin'])\n",
    "plt.title('Cumulative Doses Administered in ' + StateName)\n",
    "plt.xlabel('Date')\n",
    "plt.ylabel('Cumulative Doses Administered')"
   ]
  },
  {
   "cell_type": "code",
   "execution_count": 124,
   "id": "075550a0",
   "metadata": {},
   "outputs": [
    {
     "data": {
      "text/plain": [
       "Text(0, 0.5, 'Doses Administered on the Day')"
      ]
     },
     "execution_count": 124,
     "metadata": {},
     "output_type": "execute_result"
    },
    {
     "data": {
      "image/png": "[encoded data removed]",
      "text/plain": [
       "<Figure size 432x288 with 1 Axes>"
      ]
     },
     "metadata": {
      "needs_background": "light"
     },
     "output_type": "display_data"
    }
   ],
   "source": [
    "# Plotting Washington Doses Admin Each Day over Time\n",
    "\n",
    "plt.plot(StateData.loc[:, 'DateTime'], StateData.loc[:, 'Doses_admin_today'])\n",
    "plt.title('Doses Administered per Day in ' + StateName)\n",
    "plt.xlabel('Date')\n",
    "plt.ylabel('Doses Administered on the Day')"
   ]
  },
  {
   "cell_type": "code",
   "execution_count": 125,
   "id": "074fec33",
   "metadata": {},
   "outputs": [
    {
     "data": {
      "text/plain": [
       "134"
      ]
     },
     "execution_count": 125,
     "metadata": {},
     "output_type": "execute_result"
    }
   ],
   "source": [
    "len(StateData)"
   ]
  },
  {
   "cell_type": "code",
   "execution_count": 149,
   "id": "703572bb",
   "metadata": {},
   "outputs": [
    {
     "data": {
      "text/plain": [
       "DateTime\n",
       "2020-12-13       0.0\n",
       "2020-12-20       0.0\n",
       "2020-12-27     997.0\n",
       "2021-01-03    4964.0\n",
       "2021-01-10    5407.0\n",
       "Freq: W-SUN, Name: Doses_admin_today, dtype: float64"
      ]
     },
     "execution_count": 149,
     "metadata": {},
     "output_type": "execute_result"
    }
   ],
   "source": [
    "StateData_weekly = StateData.groupby(pd.Grouper(key=\"DateTime\", freq=\"1W\")).sum().loc[:, 'Doses_admin_today']\n",
    "StateData_weekly.head()"
   ]
  },
  {
   "cell_type": "code",
   "execution_count": 152,
   "id": "1fb3c657",
   "metadata": {},
   "outputs": [
    {
     "data": {
      "text/plain": [
       "Text(0, 0.5, 'Doses Administered During the Week')"
      ]
     },
     "execution_count": 152,
     "metadata": {},
     "output_type": "execute_result"
    },
    {
     "data": {
      "image/png": "[encoded data removed]",
      "text/plain": [
       "<Figure size 432x288 with 1 Axes>"
      ]
     },
     "metadata": {
      "needs_background": "light"
     },
     "output_type": "display_data"
    }
   ],
   "source": [
    "# Plotting Washington Doses Admin Each Week over Time\n",
    "\n",
    "plt.plot(StateData_weekly.index, StateData_weekly)\n",
    "plt.title('Doses Administered per Week in ' + StateName)\n",
    "plt.xlabel('Date')\n",
    "plt.ylabel('Doses Administered During the Week')"
   ]
  },
  {
   "cell_type": "code",
   "execution_count": 140,
   "id": "79be8e61",
   "metadata": {},
   "outputs": [
    {
     "data": {
      "text/plain": [
       "Timestamp('2021-04-21 00:00:00', freq='4D')"
      ]
     },
     "execution_count": 140,
     "metadata": {},
     "output_type": "execute_result"
    }
   ],
   "source": [
    "StateData_weekly.index[len(StateData_weekly)-1]"
   ]
  },
  {
   "cell_type": "code",
   "execution_count": null,
   "id": "c49c87fa",
   "metadata": {},
   "outputs": [],
   "source": []
  },
  {
   "cell_type": "code",
   "execution_count": null,
   "id": "5400407c",
   "metadata": {},
   "outputs": [],
   "source": [
    "# WY_Data = byState.loc['Wyoming', 1]"
   ]
  }
 ],
 "metadata": {
  "kernelspec": {
   "display_name": "Python 3",
   "language": "python",
   "name": "python3"
  },
  "language_info": {
   "codemirror_mode": {
    "name": "ipython",
    "version": 3
   },
   "file_extension": ".py",
   "mimetype": "text/x-python",
   "name": "python",
   "nbconvert_exporter": "python",
   "pygments_lexer": "ipython3",
   "version": "3.8.3"
  }
 },
 "nbformat": 4,
 "nbformat_minor": 5
}
